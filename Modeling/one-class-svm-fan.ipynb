{
 "cells": [
  {
   "cell_type": "code",
   "execution_count": 1,
   "id": "5bff5c64",
   "metadata": {},
   "outputs": [],
   "source": [
    "# Import necessary libraries\n",
    "import sys\n",
    "sys.path.insert(0, '..')  # add the parent directory to path\n",
    "import os\n",
    "import numpy as np\n",
    "import pandas as pd\n",
    "import random\n",
    "import matplotlib.pyplot as plt\n",
    "import seaborn as sn\n",
    "import plotly.express as px\n",
    "from plotly.subplots import make_subplots\n",
    "import plotly.graph_objects as go\n",
    "from get_mel_spectrogram import get_mel_spectrogram\n",
    "import librosa\n",
    "import librosa.display\n",
    "from sklearn.svm import OneClassSVM\n",
    "from sklearn import metrics\n",
    "import plotly.express as px\n",
    "import pickle"
   ]
  },
  {
   "cell_type": "code",
   "execution_count": 2,
   "id": "e9f320dc",
   "metadata": {},
   "outputs": [],
   "source": [
    "# Directories\n",
    "parent_dir = os.path.abspath('..')  # parent directory\n",
    "# Audio data directory\n",
    "data_dir = os.path.join(parent_dir, 'data', 'source')  # audio data directory\n",
    "# Metada directory\n",
    "metadata_dir = os.path.join(parent_dir, 'data', 'metadata')  # metadata directory"
   ]
  },
  {
   "cell_type": "code",
   "execution_count": 3,
   "id": "b334d6b5",
   "metadata": {},
   "outputs": [
    {
     "data": {
      "text/html": [
       "<div>\n",
       "<style scoped>\n",
       "    .dataframe tbody tr th:only-of-type {\n",
       "        vertical-align: middle;\n",
       "    }\n",
       "\n",
       "    .dataframe tbody tr th {\n",
       "        vertical-align: top;\n",
       "    }\n",
       "\n",
       "    .dataframe thead th {\n",
       "        text-align: right;\n",
       "    }\n",
       "</style>\n",
       "<table border=\"1\" class=\"dataframe\">\n",
       "  <thead>\n",
       "    <tr style=\"text-align: right;\">\n",
       "      <th></th>\n",
       "      <th>machine</th>\n",
       "      <th>model</th>\n",
       "      <th>anomaly</th>\n",
       "      <th>file_name</th>\n",
       "      <th>file_rel_path</th>\n",
       "      <th>duration_s</th>\n",
       "      <th>fs_Hz</th>\n",
       "      <th>SNR_dB</th>\n",
       "    </tr>\n",
       "    <tr>\n",
       "      <th>file_no</th>\n",
       "      <th></th>\n",
       "      <th></th>\n",
       "      <th></th>\n",
       "      <th></th>\n",
       "      <th></th>\n",
       "      <th></th>\n",
       "      <th></th>\n",
       "      <th></th>\n",
       "    </tr>\n",
       "  </thead>\n",
       "  <tbody>\n",
       "    <tr>\n",
       "      <th>0</th>\n",
       "      <td>fan</td>\n",
       "      <td>0</td>\n",
       "      <td>1</td>\n",
       "      <td>00000000.wav</td>\n",
       "      <td>6_dB_fan\\fan\\id_00\\abnormal\\00000000.wav</td>\n",
       "      <td>10.0</td>\n",
       "      <td>16000</td>\n",
       "      <td>6</td>\n",
       "    </tr>\n",
       "    <tr>\n",
       "      <th>1</th>\n",
       "      <td>fan</td>\n",
       "      <td>0</td>\n",
       "      <td>1</td>\n",
       "      <td>00000001.wav</td>\n",
       "      <td>6_dB_fan\\fan\\id_00\\abnormal\\00000001.wav</td>\n",
       "      <td>10.0</td>\n",
       "      <td>16000</td>\n",
       "      <td>6</td>\n",
       "    </tr>\n",
       "    <tr>\n",
       "      <th>2</th>\n",
       "      <td>fan</td>\n",
       "      <td>0</td>\n",
       "      <td>1</td>\n",
       "      <td>00000002.wav</td>\n",
       "      <td>6_dB_fan\\fan\\id_00\\abnormal\\00000002.wav</td>\n",
       "      <td>10.0</td>\n",
       "      <td>16000</td>\n",
       "      <td>6</td>\n",
       "    </tr>\n",
       "    <tr>\n",
       "      <th>3</th>\n",
       "      <td>fan</td>\n",
       "      <td>0</td>\n",
       "      <td>1</td>\n",
       "      <td>00000003.wav</td>\n",
       "      <td>6_dB_fan\\fan\\id_00\\abnormal\\00000003.wav</td>\n",
       "      <td>10.0</td>\n",
       "      <td>16000</td>\n",
       "      <td>6</td>\n",
       "    </tr>\n",
       "    <tr>\n",
       "      <th>4</th>\n",
       "      <td>fan</td>\n",
       "      <td>0</td>\n",
       "      <td>1</td>\n",
       "      <td>00000004.wav</td>\n",
       "      <td>6_dB_fan\\fan\\id_00\\abnormal\\00000004.wav</td>\n",
       "      <td>10.0</td>\n",
       "      <td>16000</td>\n",
       "      <td>6</td>\n",
       "    </tr>\n",
       "    <tr>\n",
       "      <th>...</th>\n",
       "      <td>...</td>\n",
       "      <td>...</td>\n",
       "      <td>...</td>\n",
       "      <td>...</td>\n",
       "      <td>...</td>\n",
       "      <td>...</td>\n",
       "      <td>...</td>\n",
       "      <td>...</td>\n",
       "    </tr>\n",
       "    <tr>\n",
       "      <th>18014</th>\n",
       "      <td>valve</td>\n",
       "      <td>6</td>\n",
       "      <td>0</td>\n",
       "      <td>00000987.wav</td>\n",
       "      <td>6_dB_valve\\valve\\id_06\\normal\\00000987.wav</td>\n",
       "      <td>10.0</td>\n",
       "      <td>16000</td>\n",
       "      <td>6</td>\n",
       "    </tr>\n",
       "    <tr>\n",
       "      <th>18015</th>\n",
       "      <td>valve</td>\n",
       "      <td>6</td>\n",
       "      <td>0</td>\n",
       "      <td>00000988.wav</td>\n",
       "      <td>6_dB_valve\\valve\\id_06\\normal\\00000988.wav</td>\n",
       "      <td>10.0</td>\n",
       "      <td>16000</td>\n",
       "      <td>6</td>\n",
       "    </tr>\n",
       "    <tr>\n",
       "      <th>18016</th>\n",
       "      <td>valve</td>\n",
       "      <td>6</td>\n",
       "      <td>0</td>\n",
       "      <td>00000989.wav</td>\n",
       "      <td>6_dB_valve\\valve\\id_06\\normal\\00000989.wav</td>\n",
       "      <td>10.0</td>\n",
       "      <td>16000</td>\n",
       "      <td>6</td>\n",
       "    </tr>\n",
       "    <tr>\n",
       "      <th>18017</th>\n",
       "      <td>valve</td>\n",
       "      <td>6</td>\n",
       "      <td>0</td>\n",
       "      <td>00000990.wav</td>\n",
       "      <td>6_dB_valve\\valve\\id_06\\normal\\00000990.wav</td>\n",
       "      <td>10.0</td>\n",
       "      <td>16000</td>\n",
       "      <td>6</td>\n",
       "    </tr>\n",
       "    <tr>\n",
       "      <th>18018</th>\n",
       "      <td>valve</td>\n",
       "      <td>6</td>\n",
       "      <td>0</td>\n",
       "      <td>00000991.wav</td>\n",
       "      <td>6_dB_valve\\valve\\id_06\\normal\\00000991.wav</td>\n",
       "      <td>10.0</td>\n",
       "      <td>16000</td>\n",
       "      <td>6</td>\n",
       "    </tr>\n",
       "  </tbody>\n",
       "</table>\n",
       "<p>18019 rows × 8 columns</p>\n",
       "</div>"
      ],
      "text/plain": [
       "        machine  model  anomaly     file_name  \\\n",
       "file_no                                         \n",
       "0           fan      0        1  00000000.wav   \n",
       "1           fan      0        1  00000001.wav   \n",
       "2           fan      0        1  00000002.wav   \n",
       "3           fan      0        1  00000003.wav   \n",
       "4           fan      0        1  00000004.wav   \n",
       "...         ...    ...      ...           ...   \n",
       "18014     valve      6        0  00000987.wav   \n",
       "18015     valve      6        0  00000988.wav   \n",
       "18016     valve      6        0  00000989.wav   \n",
       "18017     valve      6        0  00000990.wav   \n",
       "18018     valve      6        0  00000991.wav   \n",
       "\n",
       "                                      file_rel_path  duration_s  fs_Hz  SNR_dB  \n",
       "file_no                                                                         \n",
       "0          6_dB_fan\\fan\\id_00\\abnormal\\00000000.wav        10.0  16000       6  \n",
       "1          6_dB_fan\\fan\\id_00\\abnormal\\00000001.wav        10.0  16000       6  \n",
       "2          6_dB_fan\\fan\\id_00\\abnormal\\00000002.wav        10.0  16000       6  \n",
       "3          6_dB_fan\\fan\\id_00\\abnormal\\00000003.wav        10.0  16000       6  \n",
       "4          6_dB_fan\\fan\\id_00\\abnormal\\00000004.wav        10.0  16000       6  \n",
       "...                                             ...         ...    ...     ...  \n",
       "18014    6_dB_valve\\valve\\id_06\\normal\\00000987.wav        10.0  16000       6  \n",
       "18015    6_dB_valve\\valve\\id_06\\normal\\00000988.wav        10.0  16000       6  \n",
       "18016    6_dB_valve\\valve\\id_06\\normal\\00000989.wav        10.0  16000       6  \n",
       "18017    6_dB_valve\\valve\\id_06\\normal\\00000990.wav        10.0  16000       6  \n",
       "18018    6_dB_valve\\valve\\id_06\\normal\\00000991.wav        10.0  16000       6  \n",
       "\n",
       "[18019 rows x 8 columns]"
      ]
     },
     "execution_count": 3,
     "metadata": {},
     "output_type": "execute_result"
    }
   ],
   "source": [
    "# Read the metadata file\n",
    "df = pd.read_csv(os.path.join(metadata_dir, 'metadata.csv'), header=0, index_col=0)\n",
    "df"
   ]
  },
  {
   "cell_type": "code",
   "execution_count": 4,
   "id": "a848232f",
   "metadata": {},
   "outputs": [
    {
     "data": {
      "text/html": [
       "<div>\n",
       "<style scoped>\n",
       "    .dataframe tbody tr th:only-of-type {\n",
       "        vertical-align: middle;\n",
       "    }\n",
       "\n",
       "    .dataframe tbody tr th {\n",
       "        vertical-align: top;\n",
       "    }\n",
       "\n",
       "    .dataframe thead th {\n",
       "        text-align: right;\n",
       "    }\n",
       "</style>\n",
       "<table border=\"1\" class=\"dataframe\">\n",
       "  <thead>\n",
       "    <tr style=\"text-align: right;\">\n",
       "      <th></th>\n",
       "      <th>model</th>\n",
       "      <th>anomaly</th>\n",
       "      <th>count</th>\n",
       "    </tr>\n",
       "  </thead>\n",
       "  <tbody>\n",
       "    <tr>\n",
       "      <th>0</th>\n",
       "      <td>0</td>\n",
       "      <td>0</td>\n",
       "      <td>607</td>\n",
       "    </tr>\n",
       "    <tr>\n",
       "      <th>1</th>\n",
       "      <td>0</td>\n",
       "      <td>1</td>\n",
       "      <td>244</td>\n",
       "    </tr>\n",
       "    <tr>\n",
       "      <th>2</th>\n",
       "      <td>2</td>\n",
       "      <td>0</td>\n",
       "      <td>610</td>\n",
       "    </tr>\n",
       "    <tr>\n",
       "      <th>3</th>\n",
       "      <td>2</td>\n",
       "      <td>1</td>\n",
       "      <td>215</td>\n",
       "    </tr>\n",
       "    <tr>\n",
       "      <th>4</th>\n",
       "      <td>4</td>\n",
       "      <td>0</td>\n",
       "      <td>620</td>\n",
       "    </tr>\n",
       "    <tr>\n",
       "      <th>5</th>\n",
       "      <td>4</td>\n",
       "      <td>1</td>\n",
       "      <td>209</td>\n",
       "    </tr>\n",
       "    <tr>\n",
       "      <th>6</th>\n",
       "      <td>6</td>\n",
       "      <td>0</td>\n",
       "      <td>609</td>\n",
       "    </tr>\n",
       "    <tr>\n",
       "      <th>7</th>\n",
       "      <td>6</td>\n",
       "      <td>1</td>\n",
       "      <td>217</td>\n",
       "    </tr>\n",
       "  </tbody>\n",
       "</table>\n",
       "</div>"
      ],
      "text/plain": [
       "   model  anomaly  count\n",
       "0      0        0    607\n",
       "1      0        1    244\n",
       "2      2        0    610\n",
       "3      2        1    215\n",
       "4      4        0    620\n",
       "5      4        1    209\n",
       "6      6        0    609\n",
       "7      6        1    217"
      ]
     },
     "execution_count": 4,
     "metadata": {},
     "output_type": "execute_result"
    }
   ],
   "source": [
    "# Randomly select a subset of samples for a single machine\n",
    "machine = 'fan'\n",
    "df_machine = df[df.machine=='fan']\n",
    "\n",
    "df_machine = df_machine.groupby([\"model\", \"anomaly\"]).sample(frac=0.6, random_state=13)\n",
    "df_machine.groupby([\"model\", \"anomaly\"])['file_name'].count().reset_index(name='count')"
   ]
  },
  {
   "cell_type": "code",
   "execution_count": 5,
   "id": "7809c6a0",
   "metadata": {},
   "outputs": [
    {
     "data": {
      "text/html": [
       "<div>\n",
       "<style scoped>\n",
       "    .dataframe tbody tr th:only-of-type {\n",
       "        vertical-align: middle;\n",
       "    }\n",
       "\n",
       "    .dataframe tbody tr th {\n",
       "        vertical-align: top;\n",
       "    }\n",
       "\n",
       "    .dataframe thead th {\n",
       "        text-align: right;\n",
       "    }\n",
       "</style>\n",
       "<table border=\"1\" class=\"dataframe\">\n",
       "  <thead>\n",
       "    <tr style=\"text-align: right;\">\n",
       "      <th></th>\n",
       "      <th>machine</th>\n",
       "      <th>model</th>\n",
       "      <th>anomaly</th>\n",
       "      <th>file_name</th>\n",
       "      <th>file_rel_path</th>\n",
       "      <th>duration_s</th>\n",
       "      <th>fs_Hz</th>\n",
       "      <th>SNR_dB</th>\n",
       "    </tr>\n",
       "    <tr>\n",
       "      <th>file_no</th>\n",
       "      <th></th>\n",
       "      <th></th>\n",
       "      <th></th>\n",
       "      <th></th>\n",
       "      <th></th>\n",
       "      <th></th>\n",
       "      <th></th>\n",
       "      <th></th>\n",
       "    </tr>\n",
       "  </thead>\n",
       "  <tbody>\n",
       "    <tr>\n",
       "      <th>1112</th>\n",
       "      <td>fan</td>\n",
       "      <td>0</td>\n",
       "      <td>0</td>\n",
       "      <td>00000705.wav</td>\n",
       "      <td>6_dB_fan\\fan\\id_00\\normal\\00000705.wav</td>\n",
       "      <td>10.0</td>\n",
       "      <td>16000</td>\n",
       "      <td>6</td>\n",
       "    </tr>\n",
       "    <tr>\n",
       "      <th>407</th>\n",
       "      <td>fan</td>\n",
       "      <td>0</td>\n",
       "      <td>0</td>\n",
       "      <td>00000000.wav</td>\n",
       "      <td>6_dB_fan\\fan\\id_00\\normal\\00000000.wav</td>\n",
       "      <td>10.0</td>\n",
       "      <td>16000</td>\n",
       "      <td>6</td>\n",
       "    </tr>\n",
       "    <tr>\n",
       "      <th>477</th>\n",
       "      <td>fan</td>\n",
       "      <td>0</td>\n",
       "      <td>0</td>\n",
       "      <td>00000070.wav</td>\n",
       "      <td>6_dB_fan\\fan\\id_00\\normal\\00000070.wav</td>\n",
       "      <td>10.0</td>\n",
       "      <td>16000</td>\n",
       "      <td>6</td>\n",
       "    </tr>\n",
       "    <tr>\n",
       "      <th>1266</th>\n",
       "      <td>fan</td>\n",
       "      <td>0</td>\n",
       "      <td>0</td>\n",
       "      <td>00000859.wav</td>\n",
       "      <td>6_dB_fan\\fan\\id_00\\normal\\00000859.wav</td>\n",
       "      <td>10.0</td>\n",
       "      <td>16000</td>\n",
       "      <td>6</td>\n",
       "    </tr>\n",
       "    <tr>\n",
       "      <th>1059</th>\n",
       "      <td>fan</td>\n",
       "      <td>0</td>\n",
       "      <td>0</td>\n",
       "      <td>00000652.wav</td>\n",
       "      <td>6_dB_fan\\fan\\id_00\\normal\\00000652.wav</td>\n",
       "      <td>10.0</td>\n",
       "      <td>16000</td>\n",
       "      <td>6</td>\n",
       "    </tr>\n",
       "    <tr>\n",
       "      <th>...</th>\n",
       "      <td>...</td>\n",
       "      <td>...</td>\n",
       "      <td>...</td>\n",
       "      <td>...</td>\n",
       "      <td>...</td>\n",
       "      <td>...</td>\n",
       "      <td>...</td>\n",
       "      <td>...</td>\n",
       "    </tr>\n",
       "    <tr>\n",
       "      <th>4403</th>\n",
       "      <td>fan</td>\n",
       "      <td>6</td>\n",
       "      <td>1</td>\n",
       "      <td>00000229.wav</td>\n",
       "      <td>6_dB_fan\\fan\\id_06\\abnormal\\00000229.wav</td>\n",
       "      <td>10.0</td>\n",
       "      <td>16000</td>\n",
       "      <td>6</td>\n",
       "    </tr>\n",
       "    <tr>\n",
       "      <th>4415</th>\n",
       "      <td>fan</td>\n",
       "      <td>6</td>\n",
       "      <td>1</td>\n",
       "      <td>00000241.wav</td>\n",
       "      <td>6_dB_fan\\fan\\id_06\\abnormal\\00000241.wav</td>\n",
       "      <td>10.0</td>\n",
       "      <td>16000</td>\n",
       "      <td>6</td>\n",
       "    </tr>\n",
       "    <tr>\n",
       "      <th>4175</th>\n",
       "      <td>fan</td>\n",
       "      <td>6</td>\n",
       "      <td>1</td>\n",
       "      <td>00000001.wav</td>\n",
       "      <td>6_dB_fan\\fan\\id_06\\abnormal\\00000001.wav</td>\n",
       "      <td>10.0</td>\n",
       "      <td>16000</td>\n",
       "      <td>6</td>\n",
       "    </tr>\n",
       "    <tr>\n",
       "      <th>4291</th>\n",
       "      <td>fan</td>\n",
       "      <td>6</td>\n",
       "      <td>1</td>\n",
       "      <td>00000117.wav</td>\n",
       "      <td>6_dB_fan\\fan\\id_06\\abnormal\\00000117.wav</td>\n",
       "      <td>10.0</td>\n",
       "      <td>16000</td>\n",
       "      <td>6</td>\n",
       "    </tr>\n",
       "    <tr>\n",
       "      <th>4445</th>\n",
       "      <td>fan</td>\n",
       "      <td>6</td>\n",
       "      <td>1</td>\n",
       "      <td>00000271.wav</td>\n",
       "      <td>6_dB_fan\\fan\\id_06\\abnormal\\00000271.wav</td>\n",
       "      <td>10.0</td>\n",
       "      <td>16000</td>\n",
       "      <td>6</td>\n",
       "    </tr>\n",
       "  </tbody>\n",
       "</table>\n",
       "<p>3331 rows × 8 columns</p>\n",
       "</div>"
      ],
      "text/plain": [
       "        machine  model  anomaly     file_name  \\\n",
       "file_no                                         \n",
       "1112        fan      0        0  00000705.wav   \n",
       "407         fan      0        0  00000000.wav   \n",
       "477         fan      0        0  00000070.wav   \n",
       "1266        fan      0        0  00000859.wav   \n",
       "1059        fan      0        0  00000652.wav   \n",
       "...         ...    ...      ...           ...   \n",
       "4403        fan      6        1  00000229.wav   \n",
       "4415        fan      6        1  00000241.wav   \n",
       "4175        fan      6        1  00000001.wav   \n",
       "4291        fan      6        1  00000117.wav   \n",
       "4445        fan      6        1  00000271.wav   \n",
       "\n",
       "                                    file_rel_path  duration_s  fs_Hz  SNR_dB  \n",
       "file_no                                                                       \n",
       "1112       6_dB_fan\\fan\\id_00\\normal\\00000705.wav        10.0  16000       6  \n",
       "407        6_dB_fan\\fan\\id_00\\normal\\00000000.wav        10.0  16000       6  \n",
       "477        6_dB_fan\\fan\\id_00\\normal\\00000070.wav        10.0  16000       6  \n",
       "1266       6_dB_fan\\fan\\id_00\\normal\\00000859.wav        10.0  16000       6  \n",
       "1059       6_dB_fan\\fan\\id_00\\normal\\00000652.wav        10.0  16000       6  \n",
       "...                                           ...         ...    ...     ...  \n",
       "4403     6_dB_fan\\fan\\id_06\\abnormal\\00000229.wav        10.0  16000       6  \n",
       "4415     6_dB_fan\\fan\\id_06\\abnormal\\00000241.wav        10.0  16000       6  \n",
       "4175     6_dB_fan\\fan\\id_06\\abnormal\\00000001.wav        10.0  16000       6  \n",
       "4291     6_dB_fan\\fan\\id_06\\abnormal\\00000117.wav        10.0  16000       6  \n",
       "4445     6_dB_fan\\fan\\id_06\\abnormal\\00000271.wav        10.0  16000       6  \n",
       "\n",
       "[3331 rows x 8 columns]"
      ]
     },
     "execution_count": 5,
     "metadata": {},
     "output_type": "execute_result"
    }
   ],
   "source": [
    "df_machine"
   ]
  },
  {
   "cell_type": "code",
   "execution_count": 6,
   "id": "9f828ce4",
   "metadata": {},
   "outputs": [
    {
     "name": "stdout",
     "output_type": "stream",
     "text": [
      "{'window': 0.5, 'window_length': 8000, 'overlap': 0.25, 'overlap_length': 2000, 'hop_length': 6000, 'n_fft': 8192, 'n_mels': 64, 'fmin': 0, 'fmax': 8000.0, 'mel_center_freq': array([  46.875   ,   93.75    ,  138.671875,  185.546875,  232.421875,\n",
      "        279.296875,  324.21875 ,  371.09375 ,  417.96875 ,  464.84375 ,\n",
      "        509.765625,  556.640625,  603.515625,  650.390625,  695.3125  ,\n",
      "        742.1875  ,  789.0625  ,  835.9375  ,  880.859375,  927.734375,\n",
      "        974.609375, 1021.484375, 1072.265625, 1125.      , 1179.6875  ,\n",
      "       1238.28125 , 1298.828125, 1361.328125, 1427.734375, 1498.046875,\n",
      "       1572.265625, 1648.4375  , 1730.46875 , 1814.453125, 1904.296875,\n",
      "       1996.09375 , 2095.703125, 2197.265625, 2304.6875  , 2417.96875 ,\n",
      "       2537.109375, 2660.15625 , 2791.015625, 2927.734375, 3072.265625,\n",
      "       3222.65625 , 3380.859375, 3546.875   , 3720.703125, 3902.34375 ,\n",
      "       4093.75    , 4294.921875, 4503.90625 , 4726.5625  , 4957.03125 ,\n",
      "       5201.171875, 5455.078125, 5722.65625 , 6003.90625 , 6296.875   ,\n",
      "       6605.46875 , 6929.6875  , 7269.53125 , 7626.953125])}\n",
      "Size of mel_spect: (64, 27), total number of points: 1728\n"
     ]
    },
    {
     "data": {
      "image/png": "[encoded data removed]",
      "text/plain": [
       "<Figure size 432x288 with 2 Axes>"
      ]
     },
     "metadata": {
      "needs_background": "light"
     },
     "output_type": "display_data"
    }
   ],
   "source": [
    "# Compute and plot mel spectrogram\n",
    "no_file = 600\n",
    "file_path = os.path.join(data_dir, df_machine.iloc[no_file].file_rel_path)\n",
    "fs = df_machine.iloc[no_file].fs_Hz\n",
    "window = 0.5 # 2\n",
    "n_mels = 64\n",
    "mel_spect, mel_spect_db, mfcc, params = get_mel_spectrogram(file_path, window=window, overlap=0.25, n_mels=n_mels, machine='pump') \n",
    "\n",
    "print(params)\n",
    "\n",
    "print(f\"Size of mel_spect: {mel_spect.shape}, total number of points: {mel_spect.size}\")\n",
    "librosa.display.specshow(mel_spect_db, sr=fs, hop_length=params['overlap_length'], x_axis='time', y_axis='mel');\n",
    "\n",
    "plt.title(f\"Mel Spectrogram, window size {params['window']} s, anomaly {df_machine.iloc[no_file].anomaly}\");\n",
    "plt.colorbar(format='%+2.0f dB');"
   ]
  },
  {
   "cell_type": "code",
   "execution_count": 7,
   "id": "0addec10",
   "metadata": {},
   "outputs": [
    {
     "data": {
      "text/plain": [
       "array([  46.875   ,   93.75    ,  138.671875,  185.546875,  232.421875,\n",
       "        279.296875,  324.21875 ,  371.09375 ,  417.96875 ,  464.84375 ,\n",
       "        509.765625,  556.640625,  603.515625,  650.390625,  695.3125  ,\n",
       "        742.1875  ,  789.0625  ,  835.9375  ,  880.859375,  927.734375,\n",
       "        974.609375, 1021.484375, 1072.265625, 1125.      , 1179.6875  ,\n",
       "       1238.28125 , 1298.828125, 1361.328125, 1427.734375, 1498.046875,\n",
       "       1572.265625, 1648.4375  , 1730.46875 , 1814.453125, 1904.296875,\n",
       "       1996.09375 , 2095.703125, 2197.265625, 2304.6875  , 2417.96875 ,\n",
       "       2537.109375, 2660.15625 , 2791.015625, 2927.734375, 3072.265625,\n",
       "       3222.65625 , 3380.859375, 3546.875   , 3720.703125, 3902.34375 ,\n",
       "       4093.75    , 4294.921875, 4503.90625 , 4726.5625  , 4957.03125 ,\n",
       "       5201.171875, 5455.078125, 5722.65625 , 6003.90625 , 6296.875   ,\n",
       "       6605.46875 , 6929.6875  , 7269.53125 , 7626.953125])"
      ]
     },
     "execution_count": 7,
     "metadata": {},
     "output_type": "execute_result"
    },
    {
     "data": {
      "image/png": "[encoded data removed]",
      "text/plain": [
       "<Figure size 432x288 with 1 Axes>"
      ]
     },
     "metadata": {
      "needs_background": "light"
     },
     "output_type": "display_data"
    }
   ],
   "source": [
    "plt.scatter(range(len(params['mel_center_freq'])), params['mel_center_freq'])\n",
    "params['mel_center_freq']"
   ]
  },
  {
   "cell_type": "code",
   "execution_count": 48,
   "id": "38daf8ab",
   "metadata": {},
   "outputs": [],
   "source": [
    "def get_melspec_features_from_files(df_input, window, n_mels, overlap=0.5):\n",
    "    \n",
    "    X = []\n",
    "    y = []\n",
    "\n",
    "    for idx, row in df_input.iterrows():\n",
    "        file_path = os.path.join(data_dir, row.file_rel_path)\n",
    "        fs = row.fs_Hz\n",
    "\n",
    "        mel_spect, mel_spect_db, mfcc, params = get_mel_spectrogram(file_path, \n",
    "                                                                    window=window, \n",
    "                                                                    overlap=overlap,\n",
    "                                                                    n_mels=n_mels, \n",
    "                                                                    machine=row.machine)\n",
    "        \n",
    "        sample_features = mel_spect_db.flatten().reshape(-1, 1)    \n",
    "        sample_target = row.anomaly\n",
    "        X.append(sample_features)\n",
    "        y.append(sample_target)\n",
    "        \n",
    "    X = np.array(X)\n",
    "    X = X[:,:,0]\n",
    "    y = np.array(y).reshape(-1, 1)\n",
    "        \n",
    "    return X, y, params"
   ]
  },
  {
   "cell_type": "code",
   "execution_count": 49,
   "id": "8293d641",
   "metadata": {},
   "outputs": [
    {
     "name": "stdout",
     "output_type": "stream",
     "text": [
      "(3331, 1728)\n",
      "(3331, 1)\n"
     ]
    }
   ],
   "source": [
    "window = 0.5\n",
    "n_mels = 64\n",
    "overlap = 0.25\n",
    "\n",
    "X, y, params = get_melspec_features_from_files(df_machine, window, n_mels, overlap)\n",
    "print(X.shape)\n",
    "print(y.shape)"
   ]
  },
  {
   "cell_type": "code",
   "execution_count": 51,
   "id": "6a619dee",
   "metadata": {},
   "outputs": [
    {
     "data": {
      "text/html": [
       "<div>\n",
       "<style scoped>\n",
       "    .dataframe tbody tr th:only-of-type {\n",
       "        vertical-align: middle;\n",
       "    }\n",
       "\n",
       "    .dataframe tbody tr th {\n",
       "        vertical-align: top;\n",
       "    }\n",
       "\n",
       "    .dataframe thead th {\n",
       "        text-align: right;\n",
       "    }\n",
       "</style>\n",
       "<table border=\"1\" class=\"dataframe\">\n",
       "  <thead>\n",
       "    <tr style=\"text-align: right;\">\n",
       "      <th></th>\n",
       "      <th></th>\n",
       "      <th>machine</th>\n",
       "      <th>model</th>\n",
       "      <th>file_name</th>\n",
       "      <th>file_rel_path</th>\n",
       "      <th>duration_s</th>\n",
       "      <th>fs_Hz</th>\n",
       "      <th>SNR_dB</th>\n",
       "    </tr>\n",
       "    <tr>\n",
       "      <th>anomaly</th>\n",
       "      <th>test_train</th>\n",
       "      <th></th>\n",
       "      <th></th>\n",
       "      <th></th>\n",
       "      <th></th>\n",
       "      <th></th>\n",
       "      <th></th>\n",
       "      <th></th>\n",
       "    </tr>\n",
       "  </thead>\n",
       "  <tbody>\n",
       "    <tr>\n",
       "      <th rowspan=\"2\" valign=\"top\">0</th>\n",
       "      <th>0</th>\n",
       "      <td>1561</td>\n",
       "      <td>1561</td>\n",
       "      <td>1561</td>\n",
       "      <td>1561</td>\n",
       "      <td>1561</td>\n",
       "      <td>1561</td>\n",
       "      <td>1561</td>\n",
       "    </tr>\n",
       "    <tr>\n",
       "      <th>1</th>\n",
       "      <td>885</td>\n",
       "      <td>885</td>\n",
       "      <td>885</td>\n",
       "      <td>885</td>\n",
       "      <td>885</td>\n",
       "      <td>885</td>\n",
       "      <td>885</td>\n",
       "    </tr>\n",
       "    <tr>\n",
       "      <th>1</th>\n",
       "      <th>1</th>\n",
       "      <td>885</td>\n",
       "      <td>885</td>\n",
       "      <td>885</td>\n",
       "      <td>885</td>\n",
       "      <td>885</td>\n",
       "      <td>885</td>\n",
       "      <td>885</td>\n",
       "    </tr>\n",
       "  </tbody>\n",
       "</table>\n",
       "</div>"
      ],
      "text/plain": [
       "                    machine  model  file_name  file_rel_path  duration_s  \\\n",
       "anomaly test_train                                                         \n",
       "0       0              1561   1561       1561           1561        1561   \n",
       "        1               885    885        885            885         885   \n",
       "1       1               885    885        885            885         885   \n",
       "\n",
       "                    fs_Hz  SNR_dB  \n",
       "anomaly test_train                 \n",
       "0       0            1561    1561  \n",
       "        1             885     885  \n",
       "1       1             885     885  "
      ]
     },
     "execution_count": 51,
     "metadata": {},
     "output_type": "execute_result"
    }
   ],
   "source": [
    "# Separate data into training and test sets\n",
    "# All abnormal samples are in the test set\n",
    "# Equal number of normal samples in the test set\n",
    "# Remaining in the training set\n",
    "no_abnormal_test = sum(df_machine.anomaly==1)\n",
    "no_normal_test = no_abnormal_test\n",
    "no_normal_training = df_machine.shape[0]-no_normal_test-no_abnormal_test\n",
    "\n",
    "df_machine['test_train'] = 0\n",
    "df_machine.loc[df_machine.anomaly==1, 'test_train'] = 1\n",
    "random.seed(12)\n",
    "ind_normal_test = random.sample(list(df_machine[df_machine.anomaly==0].index), no_normal_test)\n",
    "df_machine.loc[ind_normal_test, 'test_train'] = 1\n",
    "\n",
    "df_machine.groupby(['anomaly','test_train']).count()"
   ]
  },
  {
   "cell_type": "code",
   "execution_count": 52,
   "id": "7bb4b772",
   "metadata": {},
   "outputs": [],
   "source": [
    "X_train = X[(df_machine.test_train==0).squeeze(), :]  \n",
    "X_test = X[(df_machine.test_train==1).squeeze(), :]\n",
    "y_train = y[(df_machine.test_train==0).squeeze(), :]  \n",
    "y_test = y[(df_machine.test_train==1).squeeze(), :]"
   ]
  },
  {
   "cell_type": "code",
   "execution_count": 54,
   "id": "523a92c6",
   "metadata": {},
   "outputs": [],
   "source": [
    "# Standardizing each feature using the train mean and standard deviation\n",
    "for no_feat in range(X_train.shape[1]):\n",
    "    minval = np.min(X_train[:,no_feat])\n",
    "    maxval = np.max(X_train[:,no_feat])\n",
    "    \n",
    "    X_train[:,no_feat] = (X_train[:,no_feat]-minval)/(maxval-minval)\n",
    "    X_test[:,no_feat] = (X_test[:,no_feat]-minval)/(maxval-minval)"
   ]
  },
  {
   "cell_type": "code",
   "execution_count": 55,
   "id": "6706ccc5",
   "metadata": {},
   "outputs": [
    {
     "data": {
      "image/png": "[encoded data removed]",
      "text/plain": [
       "<Figure size 432x288 with 1 Axes>"
      ]
     },
     "metadata": {},
     "output_type": "display_data"
    }
   ],
   "source": [
    "plt.plot(y_train_pred)\n",
    "plt.plot(scores_training)\n",
    "plt.show()"
   ]
  },
  {
   "cell_type": "code",
   "execution_count": 112,
   "id": "00f319c3",
   "metadata": {},
   "outputs": [
    {
     "name": "stdout",
     "output_type": "stream",
     "text": [
      "0.0006406149903907751\n"
     ]
    },
    {
     "data": {
      "text/plain": [
       "0.011893273909719566"
      ]
     },
     "execution_count": 112,
     "metadata": {},
     "output_type": "execute_result"
    }
   ],
   "source": [
    "print(1/X_train.shape[0])\n",
    "1/X_train.shape[0]/X_train.var()"
   ]
  },
  {
   "cell_type": "code",
   "execution_count": 107,
   "id": "4c490a01",
   "metadata": {},
   "outputs": [
    {
     "data": {
      "text/plain": [
       "(array([  8.,  30.,  93., 137., 250., 375., 293., 225., 129.,  21.]),\n",
       " array([0. , 0.1, 0.2, 0.3, 0.4, 0.5, 0.6, 0.7, 0.8, 0.9, 1. ],\n",
       "       dtype=float32),\n",
       " <BarContainer object of 10 artists>)"
      ]
     },
     "execution_count": 107,
     "metadata": {},
     "output_type": "execute_result"
    },
    {
     "data": {
      "image/png": "[encoded data removed]",
      "text/plain": [
       "<Figure size 432x288 with 1 Axes>"
      ]
     },
     "metadata": {},
     "output_type": "display_data"
    }
   ],
   "source": [
    "# Histogram of features\n",
    "plt.hist(X_train[:,10])"
   ]
  },
  {
   "cell_type": "code",
   "execution_count": 214,
   "id": "f9119320",
   "metadata": {},
   "outputs": [
    {
     "data": {
      "text/plain": [
       "[<matplotlib.lines.Line2D at 0x1f70b215f40>]"
      ]
     },
     "execution_count": 214,
     "metadata": {},
     "output_type": "execute_result"
    },
    {
     "data": {
      "image/png": "[encoded data removed]",
      "text/plain": [
       "<Figure size 432x288 with 1 Axes>"
      ]
     },
     "metadata": {},
     "output_type": "display_data"
    }
   ],
   "source": [
    "plt.plot(scores_training)"
   ]
  },
  {
   "cell_type": "code",
   "execution_count": 149,
   "id": "1717ca0a",
   "metadata": {},
   "outputs": [
    {
     "name": "stdout",
     "output_type": "stream",
     "text": [
      "              precision    recall  f1-score   support\n",
      "\n",
      "           0       0.72      0.97      0.83       885\n",
      "           1       0.96      0.62      0.76       885\n",
      "\n",
      "    accuracy                           0.80      1770\n",
      "   macro avg       0.84      0.80      0.79      1770\n",
      "weighted avg       0.84      0.80      0.79      1770\n",
      "\n",
      "[[862  23]\n",
      " [334 551]]\n"
     ]
    },
    {
     "data": {
      "image/png": "[encoded data removed]",
      "text/plain": [
       "<Figure size 432x288 with 2 Axes>"
      ]
     },
     "metadata": {},
     "output_type": "display_data"
    }
   ],
   "source": [
    "# Classifying with classifier output\n",
    "# We should decide the values of gamma, nu and prctle\n",
    "gamma = 0.01\n",
    "nu = 0.01\n",
    "svm = OneClassSVM(kernel='rbf', gamma=gamma, nu=nu)  # create classifier\n",
    "\n",
    "svm.fit(X_train)  # fit training data\n",
    "y_train_pred = svm.predict(X_train)  # predict training targets\n",
    "y_train_pred = np.array([1 if elem==-1 else 0 for elem in y_train_pred]).reshape(-1, 1)\n",
    "scores_training = svm.score_samples(X_train)  # scores for training data\n",
    "\n",
    "# Threshold from scores of training set\n",
    "prctle = 2\n",
    "thresh = np.percentile(scores_training, prctle)\n",
    "\n",
    "y_train_pred_score = np.array([1 if elem<thresh else 0 for elem in scores_training]).reshape(-1, 1)\n",
    "\n",
    "# Test set\n",
    "y_test_pred = svm.predict(X_test)\n",
    "y_test_pred = np.array([1 if elem==-1 else 0 for elem in y_test_pred]).reshape(-1, 1)\n",
    "scores_test = svm.score_samples(X_test)\n",
    "y_test_pred_score = np.array([1 if elem<thresh else 0 for elem in scores_test]).reshape(-1, 1)\n",
    "\n",
    "# plt.scatter(X_train[(y_train_pred==0).squeeze(),0], X_train[(y_train_pred==0).squeeze(),100], color='b')\n",
    "# plt.scatter(X_train[(y_train_pred==1).squeeze(),0], X_train[(y_train_pred==1).squeeze(),300], color='g')\n",
    "# plt.scatter(X_test[(y_test_pred==0).squeeze(),0], X_test[(y_test_pred==0).squeeze(),300], color='k')\n",
    "# plt.scatter(X_test[(y_test_pred==1).squeeze(),0], X_test[(y_test_pred==1).squeeze(),300], color='r')\n",
    "# plt.show()\n",
    "\n",
    "report = metrics.classification_report(y_test, y_test_pred_score)\n",
    "print(report)\n",
    "\n",
    "cm = metrics.confusion_matrix(y_test, y_test_pred_score)\n",
    "print(cm)\n",
    "plt.imshow(cm)\n",
    "\n",
    "df_cm = pd.DataFrame(cm, range(cm.shape[0]), range(cm.shape[1]))\n",
    "sn.set(font_scale=1.4) # for label size\n",
    "sn.heatmap(df_cm, annot=True, annot_kws={\"size\": 16}) # font size\n",
    "\n",
    "plt.show()"
   ]
  },
  {
   "cell_type": "code",
   "execution_count": 251,
   "id": "4877272d",
   "metadata": {},
   "outputs": [
    {
     "data": {
      "text/plain": [
       "[<matplotlib.lines.Line2D at 0x1f7095f9790>]"
      ]
     },
     "execution_count": 251,
     "metadata": {},
     "output_type": "execute_result"
    },
    {
     "data": {
      "image/png": "[encoded data removed]",
      "text/plain": [
       "<Figure size 432x288 with 1 Axes>"
      ]
     },
     "metadata": {},
     "output_type": "display_data"
    }
   ],
   "source": [
    "plt.plot(scores_test)"
   ]
  },
  {
   "cell_type": "code",
   "execution_count": null,
   "id": "5d6f93c6",
   "metadata": {},
   "outputs": [],
   "source": [
    "def train_test_one_class_svm(X_train, X_test, kernel='rbf', gamma=0.001, nu=0.5, prctle)\n",
    "    \n",
    "    OneClassSVM(kernel='rbf', gamma=gamma, nu=nu)  # create classifier\n",
    "\n",
    "    svm.fit(X_train)  # fit training data\n",
    "    y_train_pred = svm.predict(X_train)  # predict training targets\n",
    "    y_train_pred = np.array([1 if elem==-1 else 0 for elem in y_train_pred]).reshape(-1, 1)\n",
    "    scores_training = svm.score_samples(X_train)  # scores for training data\n",
    "\n",
    "    # Threshold from scores of training set\n",
    "    thresh = np.percentile(scores_training, prctle)\n",
    "\n",
    "    y_train_pred_score = np.array([1 if elem<thresh else 0 for elem in scores_training]).reshape(-1, 1)\n",
    "\n",
    "    # Test set\n",
    "    y_test_pred = svm.predict(X_test)\n",
    "    y_test_pred = np.array([1 if elem==-1 else 0 for elem in y_test_pred]).reshape(-1, 1)\n",
    "    scores_test = svm.score_samples(X_test)\n",
    "    y_test_pred_score = np.array([1 if elem<thresh else 0 for elem in scores_test]).reshape(-1, 1)\n",
    "\n",
    "    report = metrics.classification_report(y_test, y_test_pred_score)\n",
    "\n",
    "    cm = metrics.confusion_matrix(y_test, y_test_pred_score)\n",
    "\n",
    "    out_metrics = confusion_metrics(cm)\n",
    "    "
   ]
  },
  {
   "cell_type": "code",
   "execution_count": 335,
   "id": "e47c72c1",
   "metadata": {
    "scrolled": true
   },
   "outputs": [
    {
     "ename": "KeyboardInterrupt",
     "evalue": "",
     "output_type": "error",
     "traceback": [
      "\u001b[1;31m---------------------------------------------------------------------------\u001b[0m",
      "\u001b[1;31mKeyboardInterrupt\u001b[0m                         Traceback (most recent call last)",
      "\u001b[1;32m~\\AppData\\Local\\Temp/ipykernel_18944/3883804718.py\u001b[0m in \u001b[0;36m<module>\u001b[1;34m\u001b[0m\n\u001b[0;32m     13\u001b[0m \u001b[1;33m\u001b[0m\u001b[0m\n\u001b[0;32m     14\u001b[0m         \u001b[0msvm\u001b[0m\u001b[1;33m.\u001b[0m\u001b[0mfit\u001b[0m\u001b[1;33m(\u001b[0m\u001b[0mX_train\u001b[0m\u001b[1;33m)\u001b[0m  \u001b[1;31m# fit training data\u001b[0m\u001b[1;33m\u001b[0m\u001b[1;33m\u001b[0m\u001b[0m\n\u001b[1;32m---> 15\u001b[1;33m         \u001b[0my_train_pred\u001b[0m \u001b[1;33m=\u001b[0m \u001b[0msvm\u001b[0m\u001b[1;33m.\u001b[0m\u001b[0mpredict\u001b[0m\u001b[1;33m(\u001b[0m\u001b[0mX_train\u001b[0m\u001b[1;33m)\u001b[0m  \u001b[1;31m# predict training targets\u001b[0m\u001b[1;33m\u001b[0m\u001b[1;33m\u001b[0m\u001b[0m\n\u001b[0m\u001b[0;32m     16\u001b[0m         \u001b[0my_train_pred\u001b[0m \u001b[1;33m=\u001b[0m \u001b[0mnp\u001b[0m\u001b[1;33m.\u001b[0m\u001b[0marray\u001b[0m\u001b[1;33m(\u001b[0m\u001b[1;33m[\u001b[0m\u001b[1;36m1\u001b[0m \u001b[1;32mif\u001b[0m \u001b[0melem\u001b[0m\u001b[1;33m==\u001b[0m\u001b[1;33m-\u001b[0m\u001b[1;36m1\u001b[0m \u001b[1;32melse\u001b[0m \u001b[1;36m0\u001b[0m \u001b[1;32mfor\u001b[0m \u001b[0melem\u001b[0m \u001b[1;32min\u001b[0m \u001b[0my_train_pred\u001b[0m\u001b[1;33m]\u001b[0m\u001b[1;33m)\u001b[0m\u001b[1;33m.\u001b[0m\u001b[0mreshape\u001b[0m\u001b[1;33m(\u001b[0m\u001b[1;33m-\u001b[0m\u001b[1;36m1\u001b[0m\u001b[1;33m,\u001b[0m \u001b[1;36m1\u001b[0m\u001b[1;33m)\u001b[0m\u001b[1;33m\u001b[0m\u001b[1;33m\u001b[0m\u001b[0m\n\u001b[0;32m     17\u001b[0m         \u001b[0mscores_training\u001b[0m \u001b[1;33m=\u001b[0m \u001b[0msvm\u001b[0m\u001b[1;33m.\u001b[0m\u001b[0mscore_samples\u001b[0m\u001b[1;33m(\u001b[0m\u001b[0mX_train\u001b[0m\u001b[1;33m)\u001b[0m  \u001b[1;31m# scores for training data\u001b[0m\u001b[1;33m\u001b[0m\u001b[1;33m\u001b[0m\u001b[0m\n",
      "\u001b[1;32m~\\anaconda3\\envs\\audio_malfunction_detection\\lib\\site-packages\\sklearn\\svm\\_classes.py\u001b[0m in \u001b[0;36mpredict\u001b[1;34m(self, X)\u001b[0m\n\u001b[0;32m   1354\u001b[0m             \u001b[0mClass\u001b[0m \u001b[0mlabels\u001b[0m \u001b[1;32mfor\u001b[0m \u001b[0msamples\u001b[0m \u001b[1;32min\u001b[0m \u001b[0mX\u001b[0m\u001b[1;33m.\u001b[0m\u001b[1;33m\u001b[0m\u001b[1;33m\u001b[0m\u001b[0m\n\u001b[0;32m   1355\u001b[0m         \"\"\"\n\u001b[1;32m-> 1356\u001b[1;33m         \u001b[0my\u001b[0m \u001b[1;33m=\u001b[0m \u001b[0msuper\u001b[0m\u001b[1;33m(\u001b[0m\u001b[1;33m)\u001b[0m\u001b[1;33m.\u001b[0m\u001b[0mpredict\u001b[0m\u001b[1;33m(\u001b[0m\u001b[0mX\u001b[0m\u001b[1;33m)\u001b[0m\u001b[1;33m\u001b[0m\u001b[1;33m\u001b[0m\u001b[0m\n\u001b[0m\u001b[0;32m   1357\u001b[0m         \u001b[1;32mreturn\u001b[0m \u001b[0mnp\u001b[0m\u001b[1;33m.\u001b[0m\u001b[0masarray\u001b[0m\u001b[1;33m(\u001b[0m\u001b[0my\u001b[0m\u001b[1;33m,\u001b[0m \u001b[0mdtype\u001b[0m\u001b[1;33m=\u001b[0m\u001b[0mnp\u001b[0m\u001b[1;33m.\u001b[0m\u001b[0mintp\u001b[0m\u001b[1;33m)\u001b[0m\u001b[1;33m\u001b[0m\u001b[1;33m\u001b[0m\u001b[0m\n\u001b[0;32m   1358\u001b[0m \u001b[1;33m\u001b[0m\u001b[0m\n",
      "\u001b[1;32m~\\anaconda3\\envs\\audio_malfunction_detection\\lib\\site-packages\\sklearn\\svm\\_base.py\u001b[0m in \u001b[0;36mpredict\u001b[1;34m(self, X)\u001b[0m\n\u001b[0;32m    333\u001b[0m         \u001b[0mX\u001b[0m \u001b[1;33m=\u001b[0m \u001b[0mself\u001b[0m\u001b[1;33m.\u001b[0m\u001b[0m_validate_for_predict\u001b[0m\u001b[1;33m(\u001b[0m\u001b[0mX\u001b[0m\u001b[1;33m)\u001b[0m\u001b[1;33m\u001b[0m\u001b[1;33m\u001b[0m\u001b[0m\n\u001b[0;32m    334\u001b[0m         \u001b[0mpredict\u001b[0m \u001b[1;33m=\u001b[0m \u001b[0mself\u001b[0m\u001b[1;33m.\u001b[0m\u001b[0m_sparse_predict\u001b[0m \u001b[1;32mif\u001b[0m \u001b[0mself\u001b[0m\u001b[1;33m.\u001b[0m\u001b[0m_sparse\u001b[0m \u001b[1;32melse\u001b[0m \u001b[0mself\u001b[0m\u001b[1;33m.\u001b[0m\u001b[0m_dense_predict\u001b[0m\u001b[1;33m\u001b[0m\u001b[1;33m\u001b[0m\u001b[0m\n\u001b[1;32m--> 335\u001b[1;33m         \u001b[1;32mreturn\u001b[0m \u001b[0mpredict\u001b[0m\u001b[1;33m(\u001b[0m\u001b[0mX\u001b[0m\u001b[1;33m)\u001b[0m\u001b[1;33m\u001b[0m\u001b[1;33m\u001b[0m\u001b[0m\n\u001b[0m\u001b[0;32m    336\u001b[0m \u001b[1;33m\u001b[0m\u001b[0m\n\u001b[0;32m    337\u001b[0m     \u001b[1;32mdef\u001b[0m \u001b[0m_dense_predict\u001b[0m\u001b[1;33m(\u001b[0m\u001b[0mself\u001b[0m\u001b[1;33m,\u001b[0m \u001b[0mX\u001b[0m\u001b[1;33m)\u001b[0m\u001b[1;33m:\u001b[0m\u001b[1;33m\u001b[0m\u001b[1;33m\u001b[0m\u001b[0m\n",
      "\u001b[1;32m~\\anaconda3\\envs\\audio_malfunction_detection\\lib\\site-packages\\sklearn\\svm\\_base.py\u001b[0m in \u001b[0;36m_dense_predict\u001b[1;34m(self, X)\u001b[0m\n\u001b[0;32m    350\u001b[0m         \u001b[0msvm_type\u001b[0m \u001b[1;33m=\u001b[0m \u001b[0mLIBSVM_IMPL\u001b[0m\u001b[1;33m.\u001b[0m\u001b[0mindex\u001b[0m\u001b[1;33m(\u001b[0m\u001b[0mself\u001b[0m\u001b[1;33m.\u001b[0m\u001b[0m_impl\u001b[0m\u001b[1;33m)\u001b[0m\u001b[1;33m\u001b[0m\u001b[1;33m\u001b[0m\u001b[0m\n\u001b[0;32m    351\u001b[0m \u001b[1;33m\u001b[0m\u001b[0m\n\u001b[1;32m--> 352\u001b[1;33m         return libsvm.predict(\n\u001b[0m\u001b[0;32m    353\u001b[0m             \u001b[0mX\u001b[0m\u001b[1;33m,\u001b[0m \u001b[0mself\u001b[0m\u001b[1;33m.\u001b[0m\u001b[0msupport_\u001b[0m\u001b[1;33m,\u001b[0m \u001b[0mself\u001b[0m\u001b[1;33m.\u001b[0m\u001b[0msupport_vectors_\u001b[0m\u001b[1;33m,\u001b[0m \u001b[0mself\u001b[0m\u001b[1;33m.\u001b[0m\u001b[0m_n_support\u001b[0m\u001b[1;33m,\u001b[0m\u001b[1;33m\u001b[0m\u001b[1;33m\u001b[0m\u001b[0m\n\u001b[0;32m    354\u001b[0m             \u001b[0mself\u001b[0m\u001b[1;33m.\u001b[0m\u001b[0m_dual_coef_\u001b[0m\u001b[1;33m,\u001b[0m \u001b[0mself\u001b[0m\u001b[1;33m.\u001b[0m\u001b[0m_intercept_\u001b[0m\u001b[1;33m,\u001b[0m\u001b[1;33m\u001b[0m\u001b[1;33m\u001b[0m\u001b[0m\n",
      "\u001b[1;31mKeyboardInterrupt\u001b[0m: "
     ]
    }
   ],
   "source": [
    "ran_gamma = [0.0001, 0.0005, 0.001, 0.005, 0.01, 0.05, 0.1, 0.5]\n",
    "ran_prctl = range(0,15)\n",
    "nu = 0.5\n",
    "acc_gn = np.zeros((len(ran_prctl), len(ran_gamma)))\n",
    "precision_gn = np.zeros((len(ran_prctl), len(ran_gamma)))\n",
    "recall_gn = np.zeros((len(ran_prctl), len(ran_gamma)))\n",
    "TPR_gn = np.zeros((len(ran_prctl), len(ran_gamma)))\n",
    "FPR_gn = np.zeros((len(ran_prctl), len(ran_gamma)))\n",
    "for id_g, gamma in enumerate(ran_gamma):\n",
    "    for id_p, prctle in enumerate(ran_prctl):\n",
    "        \n",
    "        \n",
    "        acc_gn[id_p, id_g] = out_metrics['acc']\n",
    "        precision_gn[id_p, id_g] = out_metrics['precision']\n",
    "        recall_gn[id_p, id_g] = out_metrics['recall']\n",
    "        TPR_gn[id_p, id_g] = out_metrics['TPR']\n",
    "        FPR_gn[id_p, id_g] = out_metrics['FPR']"
   ]
  },
  {
   "cell_type": "code",
   "execution_count": 176,
   "id": "9c0c2f27",
   "metadata": {},
   "outputs": [
    {
     "data": {
      "text/plain": [
       "range(0, 10)"
      ]
     },
     "execution_count": 176,
     "metadata": {},
     "output_type": "execute_result"
    }
   ],
   "source": [
    "ran_prctl"
   ]
  },
  {
   "cell_type": "code",
   "execution_count": 245,
   "id": "243c6e94",
   "metadata": {},
   "outputs": [
    {
     "name": "stdout",
     "output_type": "stream",
     "text": [
      "0.01\n"
     ]
    },
    {
     "data": {
      "image/png": "[encoded data removed]",
      "text/plain": [
       "<Figure size 432x288 with 1 Axes>"
      ]
     },
     "metadata": {},
     "output_type": "display_data"
    }
   ],
   "source": [
    "for id_g, gamma in enumerate(ran_gamma):\n",
    "    if(id_g==4):\n",
    "        print(gamma)\n",
    "        plt.plot(recall_gn[:, id_g], precision_gn[:, id_g])\n",
    "        plt.xlim([0, 1])\n",
    "        plt.ylim([0, 1])\n",
    "plt.show()"
   ]
  },
  {
   "cell_type": "code",
   "execution_count": 249,
   "id": "4b8c3c30",
   "metadata": {
    "scrolled": false
   },
   "outputs": [
    {
     "data": {
      "image/png": "[encoded data removed]",
      "text/plain": [
       "<Figure size 432x288 with 1 Axes>"
      ]
     },
     "metadata": {},
     "output_type": "display_data"
    }
   ],
   "source": [
    "for id_p, prctl in enumerate(ran_prctl):\n",
    "    if(id_p==4):\n",
    "        plt.plot(recall_gn[id_p, :], precision_gn[id_p, :])\n",
    "        plt.xlim([0, 1])\n",
    "        plt.ylim([0, 1])\n",
    "plt.show()"
   ]
  },
  {
   "cell_type": "code",
   "execution_count": 253,
   "id": "23723011",
   "metadata": {},
   "outputs": [
    {
     "name": "stdout",
     "output_type": "stream",
     "text": [
      "0.01\n"
     ]
    },
    {
     "data": {
      "image/png": "[encoded data removed]",
      "text/plain": [
       "<Figure size 432x288 with 1 Axes>"
      ]
     },
     "metadata": {},
     "output_type": "display_data"
    }
   ],
   "source": [
    "for id_g, gamma in enumerate(ran_gamma):\n",
    "    if(id_g==4):\n",
    "        print(gamma)\n",
    "        plt.plot(FPR_gn[:, id_g], TPR_gn[:, id_g])\n",
    "        plt.xlim([0, 1])\n",
    "        plt.ylim([0, 1])\n",
    "plt.show()"
   ]
  },
  {
   "cell_type": "code",
   "execution_count": 255,
   "id": "9baaa20e",
   "metadata": {},
   "outputs": [
    {
     "name": "stdout",
     "output_type": "stream",
     "text": [
      "precision:  0.8918918918918919\n",
      "recall:  0.7084745762711865\n"
     ]
    }
   ],
   "source": [
    "id_p = 9\n",
    "id_g = 4\n",
    "print(\"precision: \", precision_gn[id_p, id_g])\n",
    "print(\"recall: \", recall_gn[id_p, id_g])"
   ]
  },
  {
   "cell_type": "code",
   "execution_count": 302,
   "id": "48f0a65f",
   "metadata": {},
   "outputs": [],
   "source": [
    "# Creating a function to report confusion metrics\n",
    "def confusion_metrics (conf_matrix):\n",
    "    \n",
    "    TP = conf_matrix[1][1]\n",
    "    TN = conf_matrix[0][0]\n",
    "    FP = conf_matrix[0][1]\n",
    "    FN = conf_matrix[1][0]\n",
    "    if(FP==0):\n",
    "        FP = 0.000001\n",
    "    if(FN==0):\n",
    "        FN = 0.000001\n",
    "        \n",
    "    # Accuracy\n",
    "    accuracy = (float (TP+TN) / float(TP + TN + FP + FN))\n",
    "    \n",
    "    # Precision and recall\n",
    "    precision = TP / float(TP + FP)\n",
    "    recall = TP / float(TP + FN)\n",
    "    \n",
    "    # Sensitivity and specificity\n",
    "    sensitivity = recall\n",
    "    specificity = (TN / float(TN + FP))\n",
    "    \n",
    "    # TPR and FPR\n",
    "    TPR = recall\n",
    "    FPR = 1-specificity\n",
    "    \n",
    "    # F_1 score\n",
    "    f1 = 2 * ((precision * sensitivity) / (precision + sensitivity))\n",
    "    \n",
    "    out_metrics = {'acc': accuracy,\n",
    "                  'precision': precision,\n",
    "                  'recall': recall,\n",
    "                  'sensitivity': sensitivity,\n",
    "                  'specificity': specificity,\n",
    "                  'TPR': TPR,\n",
    "                  'FPR': FPR,\n",
    "                  'f1': f1}\n",
    "    \n",
    "    return out_metrics"
   ]
  },
  {
   "cell_type": "code",
   "execution_count": 257,
   "id": "e3a1ff42",
   "metadata": {},
   "outputs": [
    {
     "name": "stdout",
     "output_type": "stream",
     "text": [
      "(5550, 1728)\n",
      "(5550, 1)\n"
     ]
    },
    {
     "name": "stderr",
     "output_type": "stream",
     "text": [
      "C:\\Users\\ecebo\\AppData\\Local\\Temp/ipykernel_18944/3619645009.py:21: SettingWithCopyWarning: \n",
      "A value is trying to be set on a copy of a slice from a DataFrame.\n",
      "Try using .loc[row_indexer,col_indexer] = value instead\n",
      "\n",
      "See the caveats in the documentation: https://pandas.pydata.org/pandas-docs/stable/user_guide/indexing.html#returning-a-view-versus-a-copy\n",
      "  df_machine_all['test_train'] = 0\n",
      "C:\\Users\\ecebo\\anaconda3\\envs\\audio_malfunction_detection\\lib\\site-packages\\pandas\\core\\indexing.py:1765: SettingWithCopyWarning: \n",
      "A value is trying to be set on a copy of a slice from a DataFrame.\n",
      "Try using .loc[row_indexer,col_indexer] = value instead\n",
      "\n",
      "See the caveats in the documentation: https://pandas.pydata.org/pandas-docs/stable/user_guide/indexing.html#returning-a-view-versus-a-copy\n",
      "  isetter(loc, value)\n",
      "C:\\Users\\ecebo\\anaconda3\\envs\\audio_malfunction_detection\\lib\\site-packages\\pandas\\core\\indexing.py:1765: SettingWithCopyWarning: \n",
      "A value is trying to be set on a copy of a slice from a DataFrame.\n",
      "Try using .loc[row_indexer,col_indexer] = value instead\n",
      "\n",
      "See the caveats in the documentation: https://pandas.pydata.org/pandas-docs/stable/user_guide/indexing.html#returning-a-view-versus-a-copy\n",
      "  isetter(loc, value)\n"
     ]
    },
    {
     "data": {
      "text/html": [
       "<div>\n",
       "<style scoped>\n",
       "    .dataframe tbody tr th:only-of-type {\n",
       "        vertical-align: middle;\n",
       "    }\n",
       "\n",
       "    .dataframe tbody tr th {\n",
       "        vertical-align: top;\n",
       "    }\n",
       "\n",
       "    .dataframe thead th {\n",
       "        text-align: right;\n",
       "    }\n",
       "</style>\n",
       "<table border=\"1\" class=\"dataframe\">\n",
       "  <thead>\n",
       "    <tr style=\"text-align: right;\">\n",
       "      <th></th>\n",
       "      <th></th>\n",
       "      <th>machine</th>\n",
       "      <th>model</th>\n",
       "      <th>file_name</th>\n",
       "      <th>file_rel_path</th>\n",
       "      <th>duration_s</th>\n",
       "      <th>fs_Hz</th>\n",
       "      <th>SNR_dB</th>\n",
       "    </tr>\n",
       "    <tr>\n",
       "      <th>anomaly</th>\n",
       "      <th>test_train</th>\n",
       "      <th></th>\n",
       "      <th></th>\n",
       "      <th></th>\n",
       "      <th></th>\n",
       "      <th></th>\n",
       "      <th></th>\n",
       "      <th></th>\n",
       "    </tr>\n",
       "  </thead>\n",
       "  <tbody>\n",
       "    <tr>\n",
       "      <th rowspan=\"2\" valign=\"top\">0</th>\n",
       "      <th>0</th>\n",
       "      <td>2600</td>\n",
       "      <td>2600</td>\n",
       "      <td>2600</td>\n",
       "      <td>2600</td>\n",
       "      <td>2600</td>\n",
       "      <td>2600</td>\n",
       "      <td>2600</td>\n",
       "    </tr>\n",
       "    <tr>\n",
       "      <th>1</th>\n",
       "      <td>1475</td>\n",
       "      <td>1475</td>\n",
       "      <td>1475</td>\n",
       "      <td>1475</td>\n",
       "      <td>1475</td>\n",
       "      <td>1475</td>\n",
       "      <td>1475</td>\n",
       "    </tr>\n",
       "    <tr>\n",
       "      <th>1</th>\n",
       "      <th>1</th>\n",
       "      <td>1475</td>\n",
       "      <td>1475</td>\n",
       "      <td>1475</td>\n",
       "      <td>1475</td>\n",
       "      <td>1475</td>\n",
       "      <td>1475</td>\n",
       "      <td>1475</td>\n",
       "    </tr>\n",
       "  </tbody>\n",
       "</table>\n",
       "</div>"
      ],
      "text/plain": [
       "                    machine  model  file_name  file_rel_path  duration_s  \\\n",
       "anomaly test_train                                                         \n",
       "0       0              2600   2600       2600           2600        2600   \n",
       "        1              1475   1475       1475           1475        1475   \n",
       "1       1              1475   1475       1475           1475        1475   \n",
       "\n",
       "                    fs_Hz  SNR_dB  \n",
       "anomaly test_train                 \n",
       "0       0            2600    2600  \n",
       "        1            1475    1475  \n",
       "1       1            1475    1475  "
      ]
     },
     "execution_count": 257,
     "metadata": {},
     "output_type": "execute_result"
    }
   ],
   "source": [
    "# Select all abnormal samples as test, equal number of normal also in test, rest in training\n",
    "machine = 'fan'\n",
    "df_machine_all = df[df.machine=='fan']\n",
    "  \n",
    "window = 0.5\n",
    "n_mels = 64\n",
    "overlap = 0.25\n",
    "\n",
    "X_all, y_all, params_all = get_melspec_features_from_files(df_machine_all, window, n_mels, overlap)\n",
    "print(X_all.shape)\n",
    "print(y_all.shape)\n",
    "\n",
    "# Separate data into training and test sets\n",
    "# All abnormal samples are in the test set\n",
    "# Equal number of normal samples in the test set\n",
    "# Remaining in the training set\n",
    "no_abnormal_test = sum(df_machine_all.anomaly==1)\n",
    "no_normal_test = no_abnormal_test\n",
    "no_normal_training = df_machine_all.shape[0]-no_normal_test-no_abnormal_test\n",
    "\n"
   ]
  },
  {
   "cell_type": "code",
   "execution_count": 303,
   "id": "19992e51",
   "metadata": {},
   "outputs": [
    {
     "name": "stdout",
     "output_type": "stream",
     "text": [
      "0.0001\n"
     ]
    },
    {
     "name": "stderr",
     "output_type": "stream",
     "text": [
      "C:\\Users\\ecebo\\AppData\\Local\\Temp/ipykernel_18944/1800338114.py:29: RuntimeWarning: invalid value encountered in double_scalars\n",
      "  f1 = 2 * ((precision * sensitivity) / (precision + sensitivity))\n"
     ]
    },
    {
     "name": "stdout",
     "output_type": "stream",
     "text": [
      "0.0005\n"
     ]
    },
    {
     "name": "stderr",
     "output_type": "stream",
     "text": [
      "C:\\Users\\ecebo\\AppData\\Local\\Temp/ipykernel_18944/1800338114.py:29: RuntimeWarning: invalid value encountered in double_scalars\n",
      "  f1 = 2 * ((precision * sensitivity) / (precision + sensitivity))\n"
     ]
    },
    {
     "name": "stdout",
     "output_type": "stream",
     "text": [
      "0.001\n"
     ]
    },
    {
     "name": "stderr",
     "output_type": "stream",
     "text": [
      "C:\\Users\\ecebo\\AppData\\Local\\Temp/ipykernel_18944/1800338114.py:29: RuntimeWarning: invalid value encountered in double_scalars\n",
      "  f1 = 2 * ((precision * sensitivity) / (precision + sensitivity))\n"
     ]
    },
    {
     "name": "stdout",
     "output_type": "stream",
     "text": [
      "0.005\n"
     ]
    },
    {
     "name": "stderr",
     "output_type": "stream",
     "text": [
      "C:\\Users\\ecebo\\AppData\\Local\\Temp/ipykernel_18944/1800338114.py:29: RuntimeWarning: invalid value encountered in double_scalars\n",
      "  f1 = 2 * ((precision * sensitivity) / (precision + sensitivity))\n"
     ]
    },
    {
     "name": "stdout",
     "output_type": "stream",
     "text": [
      "0.01\n"
     ]
    },
    {
     "name": "stderr",
     "output_type": "stream",
     "text": [
      "C:\\Users\\ecebo\\AppData\\Local\\Temp/ipykernel_18944/1800338114.py:29: RuntimeWarning: invalid value encountered in double_scalars\n",
      "  f1 = 2 * ((precision * sensitivity) / (precision + sensitivity))\n"
     ]
    },
    {
     "name": "stdout",
     "output_type": "stream",
     "text": [
      "0.05\n"
     ]
    },
    {
     "name": "stderr",
     "output_type": "stream",
     "text": [
      "C:\\Users\\ecebo\\AppData\\Local\\Temp/ipykernel_18944/1800338114.py:29: RuntimeWarning: invalid value encountered in double_scalars\n",
      "  f1 = 2 * ((precision * sensitivity) / (precision + sensitivity))\n"
     ]
    },
    {
     "name": "stdout",
     "output_type": "stream",
     "text": [
      "0.1\n"
     ]
    },
    {
     "name": "stderr",
     "output_type": "stream",
     "text": [
      "C:\\Users\\ecebo\\AppData\\Local\\Temp/ipykernel_18944/1800338114.py:29: RuntimeWarning: invalid value encountered in double_scalars\n",
      "  f1 = 2 * ((precision * sensitivity) / (precision + sensitivity))\n"
     ]
    },
    {
     "name": "stdout",
     "output_type": "stream",
     "text": [
      "0.5\n"
     ]
    },
    {
     "name": "stderr",
     "output_type": "stream",
     "text": [
      "C:\\Users\\ecebo\\AppData\\Local\\Temp/ipykernel_18944/1800338114.py:29: RuntimeWarning: invalid value encountered in double_scalars\n",
      "  f1 = 2 * ((precision * sensitivity) / (precision + sensitivity))\n"
     ]
    }
   ],
   "source": [
    "X_train_all = X_all[(df_machine_all.test_train==0).squeeze(), :]  \n",
    "X_test_all = X_all[(df_machine_all.test_train==1).squeeze(), :]\n",
    "y_train_all = y_all[(df_machine_all.test_train==0).squeeze(), :]  \n",
    "y_test_all = y_all[(df_machine_all.test_train==1).squeeze(), :]\n",
    "\n",
    "# Standardizing each feature using the train mean and standard deviation\n",
    "for no_feat in range(X_train_all.shape[1]):\n",
    "    minval = np.min(X_train_all[:,no_feat])\n",
    "    maxval = np.max(X_train_all[:,no_feat])\n",
    "    \n",
    "    X_train_all[:,no_feat] = (X_train_all[:,no_feat]-minval)/(maxval-minval)\n",
    "    X_test_all[:,no_feat] = (X_test_all[:,no_feat]-minval)/(maxval-minval)\n",
    "    \n",
    "id_p = 9\n",
    "# id_g = 4\n",
    "prctl = ran_prctl[id_p]\n",
    "# gamma = ran_gamma[id_g]\n",
    "nu = 0.5\n",
    "\n",
    "acc_gamma_all = np.zeros(len(ran_gamma))\n",
    "precision_gamma_all = np.zeros(len(ran_gamma))\n",
    "recall_gamma_all = np.zeros(len(ran_gamma))\n",
    "TPR_gamma_all = np.zeros(len(ran_gamma))\n",
    "FPR_gamma_all = np.zeros(len(ran_gamma))\n",
    "acc_gamma_train_all = np.zeros(len(ran_gamma))\n",
    "precision_gamma_train_all = np.zeros(len(ran_gamma))\n",
    "recall_gamma_train_all = np.zeros(len(ran_gamma))\n",
    "TPR_gamma_train_all = np.zeros(len(ran_gamma))\n",
    "FPR_gamma_train_all = np.zeros(len(ran_gamma))\n",
    "for id_g, gamma in enumerate(ran_gamma):\n",
    "    print(gamma)\n",
    "    svm = OneClassSVM(kernel='rbf', gamma=gamma, nu=nu)  # create classifier\n",
    "\n",
    "    svm.fit(X_train_all)  # fit training data\n",
    "    y_train_pred = svm.predict(X_train_all)  # predict training targets\n",
    "    y_train_pred = np.array([1 if elem==-1 else 0 for elem in y_train_pred]).reshape(-1, 1)\n",
    "    scores_training = svm.score_samples(X_train_all)  # scores for training data\n",
    "\n",
    "    # Threshold from scores of training set\n",
    "    thresh = np.percentile(scores_training, prctle)\n",
    "\n",
    "    y_train_pred_score = np.array([1 if elem<thresh else 0 for elem in scores_training]).reshape(-1, 1)\n",
    "\n",
    "    # Test set\n",
    "    y_test_pred = svm.predict(X_test_all)\n",
    "    y_test_pred = np.array([1 if elem==-1 else 0 for elem in y_test_pred]).reshape(-1, 1)\n",
    "    scores_test = svm.score_samples(X_test_all)\n",
    "    y_test_pred_score = np.array([1 if elem<thresh else 0 for elem in scores_test]).reshape(-1, 1)\n",
    "\n",
    "    report = metrics.classification_report(y_test_all, y_test_pred_score)\n",
    "\n",
    "    cm = metrics.confusion_matrix(y_test_all, y_test_pred_score)\n",
    "\n",
    "    out_metrics_all = confusion_metrics(cm)\n",
    "    acc_gamma_all[id_g] = out_metrics_all['acc']\n",
    "    precision_gamma_all[id_g] = out_metrics_all['precision']\n",
    "    recall_gamma_all[id_g] = out_metrics_all['recall']\n",
    "    TPR_gamma_all[id_g] = out_metrics_all['TPR']\n",
    "    FPR_gamma_all[id_g] = out_metrics_all['FPR']\n",
    "    \n",
    "    \n",
    "    cm = metrics.confusion_matrix(y_train_all, y_train_pred_score)\n",
    "\n",
    "    out_metrics = confusion_metrics(cm)\n",
    "    acc_gamma_train_all[id_g] = out_metrics['acc']\n",
    "    precision_gamma_train_all[id_g] = out_metrics['precision']\n",
    "    recall_gamma_train_all[id_g] = out_metrics['recall']\n",
    "    TPR_gamma_train_all[id_g] = out_metrics['TPR']\n",
    "    FPR_gamma_train_all[id_g] = out_metrics['FPR']"
   ]
  },
  {
   "cell_type": "code",
   "execution_count": 307,
   "id": "564dd3ae",
   "metadata": {},
   "outputs": [
    {
     "data": {
      "text/plain": [
       "array([0.80706922, 0.80797637, 0.80973451, 0.85670103, 0.87126246,\n",
       "       0.8936    , 0.88770865, 0.52120141])"
      ]
     },
     "execution_count": 307,
     "metadata": {},
     "output_type": "execute_result"
    }
   ],
   "source": [
    "precision_gamma_all"
   ]
  },
  {
   "cell_type": "code",
   "execution_count": 310,
   "id": "93014c6f",
   "metadata": {},
   "outputs": [
    {
     "data": {
      "text/plain": [
       "array([0.37152542, 0.37084746, 0.37220339, 0.56338983, 0.71118644,\n",
       "       0.75728814, 0.79322034, 1.        ])"
      ]
     },
     "execution_count": 310,
     "metadata": {},
     "output_type": "execute_result"
    }
   ],
   "source": [
    "recall_gamma_all"
   ]
  },
  {
   "cell_type": "code",
   "execution_count": 313,
   "id": "c942c337",
   "metadata": {},
   "outputs": [
    {
     "data": {
      "image/png": "[encoded data removed]",
      "text/plain": [
       "<Figure size 432x288 with 1 Axes>"
      ]
     },
     "metadata": {},
     "output_type": "display_data"
    }
   ],
   "source": [
    "plt.plot(recall_gamma_all, precision_gamma_all)\n",
    "plt.xlim([0, 1])\n",
    "plt.ylim([0, 1])\n",
    "plt.show()"
   ]
  },
  {
   "cell_type": "code",
   "execution_count": 315,
   "id": "fd02f148",
   "metadata": {},
   "outputs": [
    {
     "data": {
      "text/plain": [
       "array([0.64135593, 0.64135593, 0.64237288, 0.73457627, 0.80305085,\n",
       "       0.83355932, 0.84644068, 0.54067797])"
      ]
     },
     "execution_count": 315,
     "metadata": {},
     "output_type": "execute_result"
    }
   ],
   "source": [
    "acc_gamma_all"
   ]
  },
  {
   "cell_type": "code",
   "execution_count": 316,
   "id": "e0d757f9",
   "metadata": {},
   "outputs": [
    {
     "data": {
      "image/png": "[encoded data removed]",
      "text/plain": [
       "<Figure size 432x288 with 1 Axes>"
      ]
     },
     "metadata": {},
     "output_type": "display_data"
    }
   ],
   "source": [
    "plt.plot(acc_gamma_all)\n",
    "plt.ylim([0, 1])\n",
    "plt.show()"
   ]
  },
  {
   "cell_type": "code",
   "execution_count": null,
   "id": "0c8b2e1f",
   "metadata": {},
   "outputs": [],
   "source": []
  },
  {
   "cell_type": "code",
   "execution_count": 320,
   "id": "36bbd698",
   "metadata": {},
   "outputs": [],
   "source": [
    "# Metrics for the previously chosen gamma and prctle\n",
    "id_p = 9\n",
    "id_g = 4\n",
    "prctl = ran_prctl[id_p]\n",
    "gamma = ran_gamma[id_g]\n",
    "nu = 0.5\n",
    "\n",
    "svm = OneClassSVM(kernel='rbf', gamma=gamma, nu=nu)  # create classifier\n",
    "\n",
    "svm.fit(X_train_all)  # fit training data\n",
    "y_train_pred = svm.predict(X_train_all)  # predict training targets\n",
    "y_train_pred = np.array([1 if elem==-1 else 0 for elem in y_train_pred]).reshape(-1, 1)\n",
    "scores_training = svm.score_samples(X_train_all)  # scores for training data\n",
    "\n",
    "# Threshold from scores of training set\n",
    "thresh = np.percentile(scores_training, prctle)\n",
    "\n",
    "y_train_pred_score = np.array([1 if elem<thresh else 0 for elem in scores_training]).reshape(-1, 1)\n",
    "\n",
    "# Test set\n",
    "y_test_pred = svm.predict(X_test_all)\n",
    "y_test_pred = np.array([1 if elem==-1 else 0 for elem in y_test_pred]).reshape(-1, 1)\n",
    "scores_test = svm.score_samples(X_test_all)\n",
    "y_test_pred_score = np.array([1 if elem<thresh else 0 for elem in scores_test]).reshape(-1, 1)\n",
    "\n",
    "report = metrics.classification_report(y_test_all, y_test_pred_score)\n",
    "cm_test = metrics.confusion_matrix(y_test_all, y_test_pred_score)\n",
    "out_metrics_test_all = confusion_metrics(cm_test)\n",
    "\n",
    "cm_train = metrics.confusion_matrix(y_train_all, y_train_pred_score)\n",
    "out_metrics_train_all = confusion_metrics(cm_train)"
   ]
  },
  {
   "cell_type": "code",
   "execution_count": 331,
   "id": "2b53851a",
   "metadata": {},
   "outputs": [
    {
     "data": {
      "text/plain": [
       "array([[1320,  155],\n",
       "       [ 426, 1049]], dtype=int64)"
      ]
     },
     "execution_count": 331,
     "metadata": {},
     "output_type": "execute_result"
    }
   ],
   "source": [
    "cm_test"
   ]
  },
  {
   "cell_type": "code",
   "execution_count": 332,
   "id": "fed96d17",
   "metadata": {},
   "outputs": [
    {
     "data": {
      "text/plain": [
       "{'acc': 0.8030508474576271,\n",
       " 'precision': 0.8712624584717608,\n",
       " 'recall': 0.7111864406779661,\n",
       " 'sensitivity': 0.7111864406779661,\n",
       " 'specificity': 0.8949152542372881,\n",
       " 'TPR': 0.7111864406779661,\n",
       " 'FPR': 0.10508474576271187,\n",
       " 'f1': 0.7831280328480776}"
      ]
     },
     "execution_count": 332,
     "metadata": {},
     "output_type": "execute_result"
    }
   ],
   "source": [
    "out_metrics_test_all"
   ]
  },
  {
   "cell_type": "code",
   "execution_count": 333,
   "id": "6d831393",
   "metadata": {},
   "outputs": [
    {
     "data": {
      "text/plain": [
       "array([[2366,  234],\n",
       "       [   0,    0]], dtype=int64)"
      ]
     },
     "execution_count": 333,
     "metadata": {},
     "output_type": "execute_result"
    }
   ],
   "source": [
    "cm_train"
   ]
  },
  {
   "cell_type": "code",
   "execution_count": 334,
   "id": "eb26d2c0",
   "metadata": {},
   "outputs": [
    {
     "data": {
      "text/plain": [
       "{'acc': 0.90999999965,\n",
       " 'precision': 0.0,\n",
       " 'recall': 0.0,\n",
       " 'sensitivity': 0.0,\n",
       " 'specificity': 0.91,\n",
       " 'TPR': 0.0,\n",
       " 'FPR': 0.08999999999999997,\n",
       " 'f1': nan}"
      ]
     },
     "execution_count": 334,
     "metadata": {},
     "output_type": "execute_result"
    }
   ],
   "source": [
    "out_metrics_train_all"
   ]
  }
 ],
 "metadata": {
  "kernelspec": {
   "display_name": "Python 3 (ipykernel)",
   "language": "python",
   "name": "python3"
  },
  "language_info": {
   "codemirror_mode": {
    "name": "ipython",
    "version": 3
   },
   "file_extension": ".py",
   "mimetype": "text/x-python",
   "name": "python",
   "nbconvert_exporter": "python",
   "pygments_lexer": "ipython3",
   "version": "3.8.12"
  }
 },
 "nbformat": 4,
 "nbformat_minor": 5
}
