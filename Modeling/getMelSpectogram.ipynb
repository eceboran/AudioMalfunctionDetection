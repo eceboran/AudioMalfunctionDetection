{
 "cells": [
  {
   "cell_type": "code",
   "execution_count": 1,
   "id": "434170b2",
   "metadata": {},
   "outputs": [],
   "source": [
    "import os\n",
    "import librosa\n",
    "import sys\n",
    "import pandas as pd\n",
    "import numpy as np\n",
    "from matplotlib import pyplot as plt\n",
    "import librosa.display\n",
    "\n",
    "from sklearn.model_selection import train_test_split\n",
    "from sklearn.neighbors import KNeighborsClassifier\n",
    "from sklearn import metrics"
   ]
  },
  {
   "cell_type": "code",
   "execution_count": 2,
   "id": "7c0059ca",
   "metadata": {},
   "outputs": [],
   "source": [
    "# get the parent directory\n",
    "parent_dir = os.path.abspath('..')\n",
    "test_dir = os.path.join(parent_dir, 'Testing')\n",
    "data_dir = os.path.join(parent_dir, 'Data')\n",
    "meta_dir = os.path.join(data_dir, 'metadata')\n",
    "sour_dir = os.path.join(data_dir, 'source')\n",
    "data_dir = os.path.join(parent_dir, 'EDA')"
   ]
  },
  {
   "cell_type": "code",
   "execution_count": 3,
   "id": "761fd947",
   "metadata": {},
   "outputs": [
    {
     "data": {
      "text/plain": [
       "'C:\\\\Users\\\\aubin\\\\beCode\\\\anomaly\\\\AudioMalfunctionDetection\\\\Data\\\\source'"
      ]
     },
     "execution_count": 3,
     "metadata": {},
     "output_type": "execute_result"
    }
   ],
   "source": [
    "sour_dir"
   ]
  },
  {
   "cell_type": "code",
   "execution_count": 12,
   "id": "45191118",
   "metadata": {},
   "outputs": [],
   "source": [
    "def get_melspectogram(file_path, window, no_channel=None, overlap=None, n_fft=None, n_mels=32, machine=None):\n",
    "    \n",
    "    # Load the signal\n",
    "    signal, fs = librosa.load(file_path, sr=None, mono=False)\n",
    "    \n",
    "    # Default channel no selected based on machine\n",
    "    channel_dict = {'pump': 3, 'valve': 1, 'slider': 7, 'fan': 5}\n",
    "    if no_channel:\n",
    "        signal = signal[no_channel, :]\n",
    "    else:\n",
    "        signal = signal.mean(axis=0)\n",
    "    \n",
    "    # Window length in samples\n",
    "    window_length = int(window*fs)\n",
    "    \n",
    "    # Default overlap is 50% of the window size\n",
    "    if overlap==None:\n",
    "        overlap = 0.5\n",
    "    \n",
    "    # Overlap in samples\n",
    "    overlap_length = int(window_length*overlap)\n",
    "    \n",
    "    # Hop length in samples\n",
    "    hop_length = window_length-overlap_length\n",
    "    \n",
    "    # Default n_fft is the smallest power of 2 larger than win_length\n",
    "    if n_fft==None:\n",
    "        n_fft = int(2**np.ceil(np.log2(window_length)))\n",
    "   \n",
    "    # Compute mel spectogram\n",
    "    mel_spect = librosa.feature.melspectrogram(y=signal, sr=fs, \n",
    "                                               win_length=window_length, \n",
    "                                               hop_length=hop_length,\n",
    "                                               n_fft=n_fft,\n",
    "                                               n_mels=n_mels)\n",
    "    # Mel spectogram in decibels\n",
    "    mel_spect_db = librosa.power_to_db(mel_spect, ref=1.0, amin=sys.float_info.epsilon, top_db=np.inf)\n",
    "\n",
    "    params = {}\n",
    "    params['window'] = window\n",
    "    params['window_length'] = window_length\n",
    "    params['overlap'] = overlap\n",
    "    params['overlap_length'] = overlap_length\n",
    "    params['hop_length'] = hop_length\n",
    "    params['n_fft'] = n_fft\n",
    "    \n",
    "    return mel_spect, mel_spect_db, params"
   ]
  },
  {
   "cell_type": "code",
   "execution_count": 5,
   "id": "92f2112f",
   "metadata": {},
   "outputs": [],
   "source": [
    "fan_test_set = pd.read_csv(os.path.join(test_dir, 'fan_subset.csv'))"
   ]
  },
  {
   "cell_type": "code",
   "execution_count": 6,
   "id": "44e75baf",
   "metadata": {},
   "outputs": [
    {
     "data": {
      "text/plain": [
       "'6_dB_fan\\\\fan\\\\id_00\\\\abnormal\\\\00000020.wav'"
      ]
     },
     "execution_count": 6,
     "metadata": {},
     "output_type": "execute_result"
    }
   ],
   "source": [
    "fan_test_set.iloc[0]['file_rel_path']"
   ]
  },
  {
   "cell_type": "code",
   "execution_count": 7,
   "id": "dda2683e",
   "metadata": {},
   "outputs": [],
   "source": [
    "mel_spect, mel_spect_db, params = get_melspectogram(os.path.join(sour_dir, fan_test_set.iloc[0]['file_rel_path']), window = 1)"
   ]
  },
  {
   "cell_type": "code",
   "execution_count": null,
   "id": "5b198a6f",
   "metadata": {},
   "outputs": [],
   "source": []
  },
  {
   "cell_type": "code",
   "execution_count": 35,
   "id": "b992d53b",
   "metadata": {},
   "outputs": [],
   "source": [
    "all_mel_spect = []\n",
    "all_mel_spect_db = []\n",
    "all_params = []\n",
    "\n",
    "for idx, row in fan_test_set.iterrows():\n",
    "    mel_spect, mel_spect_db, params = get_melspectogram(os.path.join(sour_dir, row['file_rel_path']), window = 1)\n",
    "    all_mel_spect.append(mel_spect)\n",
    "    all_mel_spect_db.append(mel_spect_db)\n",
    "    all_params.append(params)"
   ]
  },
  {
   "cell_type": "code",
   "execution_count": 36,
   "id": "3f9d77fc",
   "metadata": {},
   "outputs": [],
   "source": [
    "fan_test_set['mel_spect'] = all_mel_spect\n",
    "fan_test_set['mel_spect_db'] = all_mel_spect_db\n",
    "fan_test_set['all_params'] = all_params"
   ]
  },
  {
   "cell_type": "code",
   "execution_count": 37,
   "id": "bb13dd78",
   "metadata": {},
   "outputs": [
    {
     "data": {
      "text/html": [
       "<div>\n",
       "<style scoped>\n",
       "    .dataframe tbody tr th:only-of-type {\n",
       "        vertical-align: middle;\n",
       "    }\n",
       "\n",
       "    .dataframe tbody tr th {\n",
       "        vertical-align: top;\n",
       "    }\n",
       "\n",
       "    .dataframe thead th {\n",
       "        text-align: right;\n",
       "    }\n",
       "</style>\n",
       "<table border=\"1\" class=\"dataframe\">\n",
       "  <thead>\n",
       "    <tr style=\"text-align: right;\">\n",
       "      <th></th>\n",
       "      <th>file_no</th>\n",
       "      <th>machine</th>\n",
       "      <th>model</th>\n",
       "      <th>anomaly</th>\n",
       "      <th>file_name</th>\n",
       "      <th>file_rel_path</th>\n",
       "      <th>duration_s</th>\n",
       "      <th>fs_Hz</th>\n",
       "      <th>SNR_dB</th>\n",
       "      <th>mel_spect</th>\n",
       "      <th>mel_spect_db</th>\n",
       "      <th>all_params</th>\n",
       "    </tr>\n",
       "  </thead>\n",
       "  <tbody>\n",
       "    <tr>\n",
       "      <th>0</th>\n",
       "      <td>20</td>\n",
       "      <td>fan</td>\n",
       "      <td>0</td>\n",
       "      <td>1</td>\n",
       "      <td>00000020.wav</td>\n",
       "      <td>6_dB_fan\\fan\\id_00\\abnormal\\00000020.wav</td>\n",
       "      <td>10.0</td>\n",
       "      <td>16000</td>\n",
       "      <td>6</td>\n",
       "      <td>[[24.14678, 25.470774, 33.14535, 32.042454, 34...</td>\n",
       "      <td>[[13.828592, 14.060421, 15.204226, 15.057258, ...</td>\n",
       "      <td>{'window': 1, 'window_length': 16000, 'overlap...</td>\n",
       "    </tr>\n",
       "    <tr>\n",
       "      <th>1</th>\n",
       "      <td>194</td>\n",
       "      <td>fan</td>\n",
       "      <td>0</td>\n",
       "      <td>1</td>\n",
       "      <td>00000194.wav</td>\n",
       "      <td>6_dB_fan\\fan\\id_00\\abnormal\\00000194.wav</td>\n",
       "      <td>10.0</td>\n",
       "      <td>16000</td>\n",
       "      <td>6</td>\n",
       "      <td>[[2.2732325, 4.6159825, 5.5582514, 4.1978726, ...</td>\n",
       "      <td>[[3.5664387, 6.6426415, 7.449382, 6.2302923, 6...</td>\n",
       "      <td>{'window': 1, 'window_length': 16000, 'overlap...</td>\n",
       "    </tr>\n",
       "    <tr>\n",
       "      <th>2</th>\n",
       "      <td>55</td>\n",
       "      <td>fan</td>\n",
       "      <td>0</td>\n",
       "      <td>1</td>\n",
       "      <td>00000055.wav</td>\n",
       "      <td>6_dB_fan\\fan\\id_00\\abnormal\\00000055.wav</td>\n",
       "      <td>10.0</td>\n",
       "      <td>16000</td>\n",
       "      <td>6</td>\n",
       "      <td>[[24.730875, 30.767958, 38.945984, 25.486095, ...</td>\n",
       "      <td>[[13.932395, 14.880986, 15.904627, 14.063033, ...</td>\n",
       "      <td>{'window': 1, 'window_length': 16000, 'overlap...</td>\n",
       "    </tr>\n",
       "    <tr>\n",
       "      <th>3</th>\n",
       "      <td>204</td>\n",
       "      <td>fan</td>\n",
       "      <td>0</td>\n",
       "      <td>1</td>\n",
       "      <td>00000204.wav</td>\n",
       "      <td>6_dB_fan\\fan\\id_00\\abnormal\\00000204.wav</td>\n",
       "      <td>10.0</td>\n",
       "      <td>16000</td>\n",
       "      <td>6</td>\n",
       "      <td>[[6.9695573, 3.3872268, 3.9149032, 3.9909353, ...</td>\n",
       "      <td>[[8.432053, 5.298443, 5.9272103, 6.010747, 4.8...</td>\n",
       "      <td>{'window': 1, 'window_length': 16000, 'overlap...</td>\n",
       "    </tr>\n",
       "    <tr>\n",
       "      <th>4</th>\n",
       "      <td>173</td>\n",
       "      <td>fan</td>\n",
       "      <td>0</td>\n",
       "      <td>1</td>\n",
       "      <td>00000173.wav</td>\n",
       "      <td>6_dB_fan\\fan\\id_00\\abnormal\\00000173.wav</td>\n",
       "      <td>10.0</td>\n",
       "      <td>16000</td>\n",
       "      <td>6</td>\n",
       "      <td>[[2.6273892, 2.0992374, 2.7908661, 2.8017392, ...</td>\n",
       "      <td>[[4.195244, 3.2206156, 4.45739, 4.474277, 6.71...</td>\n",
       "      <td>{'window': 1, 'window_length': 16000, 'overlap...</td>\n",
       "    </tr>\n",
       "    <tr>\n",
       "      <th>...</th>\n",
       "      <td>...</td>\n",
       "      <td>...</td>\n",
       "      <td>...</td>\n",
       "      <td>...</td>\n",
       "      <td>...</td>\n",
       "      <td>...</td>\n",
       "      <td>...</td>\n",
       "      <td>...</td>\n",
       "      <td>...</td>\n",
       "      <td>...</td>\n",
       "      <td>...</td>\n",
       "      <td>...</td>\n",
       "    </tr>\n",
       "    <tr>\n",
       "      <th>1595</th>\n",
       "      <td>4712</td>\n",
       "      <td>fan</td>\n",
       "      <td>6</td>\n",
       "      <td>0</td>\n",
       "      <td>00000177.wav</td>\n",
       "      <td>6_dB_fan\\fan\\id_06\\normal\\00000177.wav</td>\n",
       "      <td>10.0</td>\n",
       "      <td>16000</td>\n",
       "      <td>6</td>\n",
       "      <td>[[0.3284199, 0.4780445, 0.5127091, 0.37700543,...</td>\n",
       "      <td>[[-4.8357053, -3.2053165, -2.9012897, -4.23652...</td>\n",
       "      <td>{'window': 1, 'window_length': 16000, 'overlap...</td>\n",
       "    </tr>\n",
       "    <tr>\n",
       "      <th>1596</th>\n",
       "      <td>4810</td>\n",
       "      <td>fan</td>\n",
       "      <td>6</td>\n",
       "      <td>0</td>\n",
       "      <td>00000275.wav</td>\n",
       "      <td>6_dB_fan\\fan\\id_06\\normal\\00000275.wav</td>\n",
       "      <td>10.0</td>\n",
       "      <td>16000</td>\n",
       "      <td>6</td>\n",
       "      <td>[[0.19321513, 0.23406115, 0.16147715, 0.138021...</td>\n",
       "      <td>[[-7.1395884, -6.3067064, -7.9188895, -8.60052...</td>\n",
       "      <td>{'window': 1, 'window_length': 16000, 'overlap...</td>\n",
       "    </tr>\n",
       "    <tr>\n",
       "      <th>1597</th>\n",
       "      <td>5100</td>\n",
       "      <td>fan</td>\n",
       "      <td>6</td>\n",
       "      <td>0</td>\n",
       "      <td>00000565.wav</td>\n",
       "      <td>6_dB_fan\\fan\\id_06\\normal\\00000565.wav</td>\n",
       "      <td>10.0</td>\n",
       "      <td>16000</td>\n",
       "      <td>6</td>\n",
       "      <td>[[1.4041063, 2.2102797, 3.0896509, 1.9302347, ...</td>\n",
       "      <td>[[1.4739997, 3.4444723, 4.899094, 2.856101, -0...</td>\n",
       "      <td>{'window': 1, 'window_length': 16000, 'overlap...</td>\n",
       "    </tr>\n",
       "    <tr>\n",
       "      <th>1598</th>\n",
       "      <td>4548</td>\n",
       "      <td>fan</td>\n",
       "      <td>6</td>\n",
       "      <td>0</td>\n",
       "      <td>00000013.wav</td>\n",
       "      <td>6_dB_fan\\fan\\id_06\\normal\\00000013.wav</td>\n",
       "      <td>10.0</td>\n",
       "      <td>16000</td>\n",
       "      <td>6</td>\n",
       "      <td>[[0.7297915, 0.9056003, 1.2177532, 1.0107999, ...</td>\n",
       "      <td>[[-1.3680118, -0.43063438, 0.8555927, 0.046651...</td>\n",
       "      <td>{'window': 1, 'window_length': 16000, 'overlap...</td>\n",
       "    </tr>\n",
       "    <tr>\n",
       "      <th>1599</th>\n",
       "      <td>4783</td>\n",
       "      <td>fan</td>\n",
       "      <td>6</td>\n",
       "      <td>0</td>\n",
       "      <td>00000248.wav</td>\n",
       "      <td>6_dB_fan\\fan\\id_06\\normal\\00000248.wav</td>\n",
       "      <td>10.0</td>\n",
       "      <td>16000</td>\n",
       "      <td>6</td>\n",
       "      <td>[[0.8323759, 0.8629981, 0.9292051, 0.8098497, ...</td>\n",
       "      <td>[[-0.7968051, -0.63990146, -0.31888407, -0.915...</td>\n",
       "      <td>{'window': 1, 'window_length': 16000, 'overlap...</td>\n",
       "    </tr>\n",
       "  </tbody>\n",
       "</table>\n",
       "<p>1600 rows × 12 columns</p>\n",
       "</div>"
      ],
      "text/plain": [
       "      file_no machine  model  anomaly     file_name  \\\n",
       "0          20     fan      0        1  00000020.wav   \n",
       "1         194     fan      0        1  00000194.wav   \n",
       "2          55     fan      0        1  00000055.wav   \n",
       "3         204     fan      0        1  00000204.wav   \n",
       "4         173     fan      0        1  00000173.wav   \n",
       "...       ...     ...    ...      ...           ...   \n",
       "1595     4712     fan      6        0  00000177.wav   \n",
       "1596     4810     fan      6        0  00000275.wav   \n",
       "1597     5100     fan      6        0  00000565.wav   \n",
       "1598     4548     fan      6        0  00000013.wav   \n",
       "1599     4783     fan      6        0  00000248.wav   \n",
       "\n",
       "                                 file_rel_path  duration_s  fs_Hz  SNR_dB  \\\n",
       "0     6_dB_fan\\fan\\id_00\\abnormal\\00000020.wav        10.0  16000       6   \n",
       "1     6_dB_fan\\fan\\id_00\\abnormal\\00000194.wav        10.0  16000       6   \n",
       "2     6_dB_fan\\fan\\id_00\\abnormal\\00000055.wav        10.0  16000       6   \n",
       "3     6_dB_fan\\fan\\id_00\\abnormal\\00000204.wav        10.0  16000       6   \n",
       "4     6_dB_fan\\fan\\id_00\\abnormal\\00000173.wav        10.0  16000       6   \n",
       "...                                        ...         ...    ...     ...   \n",
       "1595    6_dB_fan\\fan\\id_06\\normal\\00000177.wav        10.0  16000       6   \n",
       "1596    6_dB_fan\\fan\\id_06\\normal\\00000275.wav        10.0  16000       6   \n",
       "1597    6_dB_fan\\fan\\id_06\\normal\\00000565.wav        10.0  16000       6   \n",
       "1598    6_dB_fan\\fan\\id_06\\normal\\00000013.wav        10.0  16000       6   \n",
       "1599    6_dB_fan\\fan\\id_06\\normal\\00000248.wav        10.0  16000       6   \n",
       "\n",
       "                                              mel_spect  \\\n",
       "0     [[24.14678, 25.470774, 33.14535, 32.042454, 34...   \n",
       "1     [[2.2732325, 4.6159825, 5.5582514, 4.1978726, ...   \n",
       "2     [[24.730875, 30.767958, 38.945984, 25.486095, ...   \n",
       "3     [[6.9695573, 3.3872268, 3.9149032, 3.9909353, ...   \n",
       "4     [[2.6273892, 2.0992374, 2.7908661, 2.8017392, ...   \n",
       "...                                                 ...   \n",
       "1595  [[0.3284199, 0.4780445, 0.5127091, 0.37700543,...   \n",
       "1596  [[0.19321513, 0.23406115, 0.16147715, 0.138021...   \n",
       "1597  [[1.4041063, 2.2102797, 3.0896509, 1.9302347, ...   \n",
       "1598  [[0.7297915, 0.9056003, 1.2177532, 1.0107999, ...   \n",
       "1599  [[0.8323759, 0.8629981, 0.9292051, 0.8098497, ...   \n",
       "\n",
       "                                           mel_spect_db  \\\n",
       "0     [[13.828592, 14.060421, 15.204226, 15.057258, ...   \n",
       "1     [[3.5664387, 6.6426415, 7.449382, 6.2302923, 6...   \n",
       "2     [[13.932395, 14.880986, 15.904627, 14.063033, ...   \n",
       "3     [[8.432053, 5.298443, 5.9272103, 6.010747, 4.8...   \n",
       "4     [[4.195244, 3.2206156, 4.45739, 4.474277, 6.71...   \n",
       "...                                                 ...   \n",
       "1595  [[-4.8357053, -3.2053165, -2.9012897, -4.23652...   \n",
       "1596  [[-7.1395884, -6.3067064, -7.9188895, -8.60052...   \n",
       "1597  [[1.4739997, 3.4444723, 4.899094, 2.856101, -0...   \n",
       "1598  [[-1.3680118, -0.43063438, 0.8555927, 0.046651...   \n",
       "1599  [[-0.7968051, -0.63990146, -0.31888407, -0.915...   \n",
       "\n",
       "                                             all_params  \n",
       "0     {'window': 1, 'window_length': 16000, 'overlap...  \n",
       "1     {'window': 1, 'window_length': 16000, 'overlap...  \n",
       "2     {'window': 1, 'window_length': 16000, 'overlap...  \n",
       "3     {'window': 1, 'window_length': 16000, 'overlap...  \n",
       "4     {'window': 1, 'window_length': 16000, 'overlap...  \n",
       "...                                                 ...  \n",
       "1595  {'window': 1, 'window_length': 16000, 'overlap...  \n",
       "1596  {'window': 1, 'window_length': 16000, 'overlap...  \n",
       "1597  {'window': 1, 'window_length': 16000, 'overlap...  \n",
       "1598  {'window': 1, 'window_length': 16000, 'overlap...  \n",
       "1599  {'window': 1, 'window_length': 16000, 'overlap...  \n",
       "\n",
       "[1600 rows x 12 columns]"
      ]
     },
     "execution_count": 37,
     "metadata": {},
     "output_type": "execute_result"
    }
   ],
   "source": [
    "fan_test_set"
   ]
  },
  {
   "cell_type": "code",
   "execution_count": null,
   "id": "617984de",
   "metadata": {},
   "outputs": [],
   "source": []
  },
  {
   "cell_type": "code",
   "execution_count": 39,
   "id": "f533616f",
   "metadata": {},
   "outputs": [],
   "source": [
    "X = []\n",
    "\n",
    "for idx, row in fan_test_set.iterrows():\n",
    "    #X.append(row['mel_spect_db'].reshape(1, total_size))\n",
    "    X.append(np.array(row['mel_spect_db']).flatten())"
   ]
  },
  {
   "cell_type": "code",
   "execution_count": 43,
   "id": "becfcd5d",
   "metadata": {},
   "outputs": [
    {
     "data": {
      "text/plain": [
       "1280"
      ]
     },
     "execution_count": 43,
     "metadata": {},
     "output_type": "execute_result"
    }
   ],
   "source": [
    "len(y_train)"
   ]
  },
  {
   "cell_type": "code",
   "execution_count": 8,
   "id": "f6c602f0",
   "metadata": {},
   "outputs": [],
   "source": [
    "y = fan_test_set['anomaly']"
   ]
  },
  {
   "cell_type": "code",
   "execution_count": 42,
   "id": "591d1de5",
   "metadata": {},
   "outputs": [],
   "source": [
    "from sklearn.model_selection import train_test_split\n",
    "\n",
    "X_train, X_test, y_train, y_test = train_test_split(X, y, test_size = 0.2, random_state = 2)"
   ]
  },
  {
   "cell_type": "code",
   "execution_count": 44,
   "id": "4b54daf3",
   "metadata": {},
   "outputs": [],
   "source": [
    "from sklearn.neighbors import KNeighborsClassifier\n",
    "\n",
    "model = KNeighborsClassifier(n_neighbors=3)\n",
    "model.fit(X_train,y_train)\n",
    "\n",
    "predicted= model.predict(X_test) \n"
   ]
  },
  {
   "cell_type": "code",
   "execution_count": 45,
   "id": "847f21c1",
   "metadata": {},
   "outputs": [
    {
     "name": "stdout",
     "output_type": "stream",
     "text": [
      "Accuracy: 0.953125\n"
     ]
    }
   ],
   "source": [
    "from sklearn import metrics\n",
    "# Model Accuracy, how often is the classifier correct?\n",
    "print(\"Accuracy:\",metrics.accuracy_score(y_test, predicted))"
   ]
  },
  {
   "cell_type": "code",
   "execution_count": 133,
   "id": "3df3a2ae",
   "metadata": {},
   "outputs": [],
   "source": [
    "# optimizing by channel : "
   ]
  },
  {
   "cell_type": "code",
   "execution_count": 23,
   "id": "4ebed65d",
   "metadata": {},
   "outputs": [],
   "source": [
    "\n"
   ]
  },
  {
   "cell_type": "code",
   "execution_count": 13,
   "id": "814d45d6",
   "metadata": {},
   "outputs": [
    {
     "name": "stdout",
     "output_type": "stream",
     "text": [
      "channel :  0\n",
      "Accuracy: 0.965625\n",
      "channel :  1\n",
      "Accuracy: 0.953125\n",
      "channel :  2\n",
      "Accuracy: 0.975\n",
      "channel :  3\n",
      "Accuracy: 0.9875\n",
      "channel :  4\n",
      "Accuracy: 0.98125\n",
      "channel :  5\n",
      "Accuracy: 0.978125\n",
      "channel :  6\n",
      "Accuracy: 0.9625\n",
      "channel :  7\n",
      "Accuracy: 0.94375\n"
     ]
    }
   ],
   "source": [
    "for x in range(8):\n",
    "    all_mel_spect = []\n",
    "    all_mel_spect_db = []\n",
    "    all_params = []\n",
    "\n",
    "    for idx, row in fan_test_set.iterrows():\n",
    "        mel_spect, mel_spect_db, params = get_melspectogram(os.path.join(sour_dir, row['file_rel_path']), no_channel = x, window = 1)\n",
    "        all_mel_spect.append(mel_spect)\n",
    "        all_mel_spect_db.append(mel_spect_db)\n",
    "        all_params.append(params)\n",
    "        \n",
    "    fan_test_set['mel_spect'] = all_mel_spect\n",
    "    fan_test_set['mel_spect_db'] = all_mel_spect_db\n",
    "    fan_test_set['all_params'] = all_params\n",
    "        \n",
    "    y = fan_test_set['anomaly']\n",
    "    X = []\n",
    "    for idx, row in fan_test_set.iterrows():\n",
    "        #X.append(row['mel_spect_db'].reshape(1, total_size))\n",
    "        X.append(np.array(row['mel_spect_db']).flatten())\n",
    "\n",
    "    X_train, X_test, y_train, y_test = train_test_split(X, y, test_size = 0.2, random_state = 2)\n",
    "        \n",
    "    model = KNeighborsClassifier(n_neighbors=3)\n",
    "    model.fit(X_train,y_train)\n",
    "\n",
    "    predicted= model.predict(X_test) \n",
    "\n",
    "    print('channel : ', str(x+1))\n",
    "    print(\"Accuracy:\",metrics.accuracy_score(y_test, predicted))\n",
    "        "
   ]
  },
  {
   "cell_type": "code",
   "execution_count": 19,
   "id": "a9965856",
   "metadata": {},
   "outputs": [
    {
     "name": "stdout",
     "output_type": "stream",
     "text": [
      "recall: 0.9502821412231204\n",
      "precision: 0.9143859649122807\n",
      "f1: 0.9299576827666716\n"
     ]
    }
   ],
   "source": [
    "from sklearn.metrics import recall_score\n",
    "from sklearn.metrics import precision_score\n",
    "from sklearn.metrics import f1_score\n",
    "print(\"recall:\",metrics.recall_score(predicted, y_test, average='macro'))\n",
    "print(\"precision:\",metrics.precision_score(predicted, y_test, average='macro'))\n",
    "print(\"f1:\",metrics.f1_score(predicted, y_test, average='macro'))"
   ]
  },
  {
   "cell_type": "code",
   "execution_count": null,
   "id": "30a55c4e",
   "metadata": {},
   "outputs": [],
   "source": []
  }
 ],
 "metadata": {
  "kernelspec": {
   "display_name": "Python 3 (ipykernel)",
   "language": "python",
   "name": "python3"
  },
  "language_info": {
   "codemirror_mode": {
    "name": "ipython",
    "version": 3
   },
   "file_extension": ".py",
   "mimetype": "text/x-python",
   "name": "python",
   "nbconvert_exporter": "python",
   "pygments_lexer": "ipython3",
   "version": "3.8.12"
  }
 },
 "nbformat": 4,
 "nbformat_minor": 5
}
