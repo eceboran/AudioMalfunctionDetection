{
 "cells": [
  {
   "cell_type": "code",
   "execution_count": 9,
   "id": "2518ce88",
   "metadata": {},
   "outputs": [],
   "source": [
    "import os\n",
    "import librosa\n",
    "import sys\n",
    "import pandas as pd\n",
    "import numpy as np\n",
    "from matplotlib import pyplot as plt\n",
    "import librosa.display\n",
    "\n",
    "from sklearn.model_selection import train_test_split\n",
    "from sklearn.neighbors import KNeighborsClassifier\n",
    "from sklearn import metrics\n",
    "from sklearn.neighbors import KNeighborsClassifier\n",
    "from sklearn.model_selection import train_test_split\n",
    "from sklearn import metrics\n",
    "from sklearn.model_selection import cross_val_score\n",
    "\n",
    "from get_mel_spectrogram import get_mel_spectrogram"
   ]
  },
  {
   "cell_type": "code",
   "execution_count": 3,
   "id": "e04daeab",
   "metadata": {},
   "outputs": [],
   "source": [
    "# get the parent directory\n",
    "parent_dir = os.path.abspath('..')\n",
    "test_dir = os.path.join(parent_dir, 'Testing')\n",
    "data_dir = os.path.join(parent_dir, 'Data')\n",
    "meta_dir = os.path.join(data_dir, 'metadata')\n",
    "sour_dir = os.path.join(data_dir, 'source')\n",
    "data_dir = os.path.join(parent_dir, 'EDA')"
   ]
  },
  {
   "cell_type": "code",
   "execution_count": 7,
   "id": "0257eae1",
   "metadata": {},
   "outputs": [],
   "source": [
    "fan_data = pd.read_csv(os.path.join(test_dir, 'all_fan_subset.csv'))\n",
    "pump_data = pd.read_csv(os.path.join(test_dir, 'all_pump_subset.csv'))\n",
    "slider_data = pd.read_csv(os.path.join(test_dir, 'all_slider_subset.csv'))\n",
    "valve_data = pd.read_csv(os.path.join(test_dir, 'all_valve_subset.csv'))"
   ]
  },
  {
   "cell_type": "code",
   "execution_count": 33,
   "id": "c7515eef",
   "metadata": {},
   "outputs": [],
   "source": [
    "\n",
    "#best number of mels 64, best window size, 1.0, best channel = 3, best number of neighbours = 5"
   ]
  },
  {
   "cell_type": "code",
   "execution_count": 34,
   "id": "46e0529c",
   "metadata": {},
   "outputs": [],
   "source": [
    "def modeler(machine):\n",
    "    \"\"\"\n",
    "    Function that does the actual training of the models, using the parameters that have come up\n",
    "    as optimal from the testing process. \n",
    "    :machine: string that represents which machine type we are currently training on\n",
    "    :return: both the model and a dict containing all params used and results are returned.\n",
    "    \"\"\"\n",
    "\n",
    "    # select the correct dataset\n",
    "    if machine == 'fan':\n",
    "        data = fan_data\n",
    "    elif machine == 'pump':\n",
    "        data = pump_data\n",
    "    elif machine == 'slider':\n",
    "        data = slider_data\n",
    "    elif machine == 'valve':\n",
    "        data = valve_data\n",
    "        \n",
    "    # setting a dict for storing all parameters and results\n",
    "    results_knn = {\n",
    "        'window' :  [],\n",
    "        'window_length' :  [],\n",
    "        'overlap' :  [],\n",
    "        'overlap_length' :  [],\n",
    "        'hop_length' :  [],\n",
    "        'n_fft' :  [],\n",
    "        'n_mels' :  [],\n",
    "        'n_neighbor' :  [],\n",
    "        'channel' :  [],\n",
    "        'accuracy' :  [],\n",
    "        'recall' :  [],\n",
    "        'precision' :  [],\n",
    "        'f1' :  [],\n",
    "        'cross_val_scores' :  [],\n",
    "        'cross_val_mean' :  [],\n",
    "        'cross_val_stdev' :  []\n",
    "    }\n",
    "\n",
    "    \n",
    "    # storing the results of the data preprocessing for all the files\n",
    "    all_mel_spect = []\n",
    "    all_mel_spect_db = []\n",
    "    all_mfcc = []\n",
    "    all_params = []\n",
    "\n",
    "    # setting the classifiers parameters here    \n",
    "    window_p = 1\n",
    "    overlap_p = None\n",
    "    n_fft_p = None\n",
    "    \n",
    "    if machine == 'fan':\n",
    "        n_mels_p = 32\n",
    "        n_neighbors_p = 5\n",
    "        channel_p = 3\n",
    "    elif machine == 'pump':\n",
    "        n_mels_p = 512\n",
    "        n_neighbors_p = 3\n",
    "        channel_p = 1\n",
    "    elif machine == 'slider':\n",
    "        n_mels_p = 512\n",
    "        n_neighbors_p = 3\n",
    "        channel_p = 6\n",
    "    elif machine == 'valve':\n",
    "        # not yet optimized\n",
    "        n_mels_p = 512\n",
    "        n_neighbors_p = 3\n",
    "        channel_p = 7\n",
    "\n",
    "    # loop through all files in the data set to apply preprocessing\n",
    "    for idx, row in data.iterrows():\n",
    "        mel_spect, mel_spect_db, mfcc, params = get_mel_spectrogram(\n",
    "            os.path.join(sour_dir, row['file_rel_path']), \n",
    "            no_channel = channel_p, \n",
    "            window = window_p,\n",
    "            overlap = overlap_p, \n",
    "            n_fft = n_fft_p, \n",
    "            n_mels = n_mels_p\n",
    "        )\n",
    "\n",
    "        # storing the results\n",
    "        all_mel_spect.append(mel_spect)\n",
    "        all_mel_spect_db.append(mel_spect_db)\n",
    "        all_mfcc.append(mfcc)\n",
    "        # store the parameters\n",
    "        params['n_neighbor'] = n_neighbors_p\n",
    "        params['channel'] = channel_p\n",
    "        all_params.append(params)\n",
    "\n",
    "    # write the results to the dataframe\n",
    "    data['mel_spect'] = all_mel_spect\n",
    "    data['mel_spect_db'] = all_mel_spect_db\n",
    "    data['all_params'] = all_params\n",
    "\n",
    "    # define target\n",
    "    y = data['anomaly']\n",
    "    \n",
    "    # define features\n",
    "    X = []\n",
    "    for idx, row in data.iterrows():\n",
    "        #X.append(row['mel_spect_db'].reshape(1, total_size))\n",
    "        X.append(np.array(row['mel_spect_db']).flatten())\n",
    "\n",
    "    # split the data in 2 groups, 1 for training, 1 for testing\n",
    "    X_train, X_test, y_train, y_test = train_test_split(X, y, test_size = 0.2, random_state = 2)\n",
    "\n",
    "    # initialize the knn classifier\n",
    "    model = KNeighborsClassifier(n_neighbors=n_neighbors_p)\n",
    "    \n",
    "    # train the classifier\n",
    "    model.fit(X_train,y_train)\n",
    "\n",
    "    # get predictions\n",
    "    predicted = model.predict(X_test) \n",
    "\n",
    "    # calculate results\n",
    "    accuracy = metrics.accuracy_score(y_test, predicted)\n",
    "    recall = metrics.recall_score(predicted, y_test, average='macro')\n",
    "    precision = metrics.precision_score(predicted, y_test, average='macro')\n",
    "    f1 = metrics.f1_score(predicted, y_test, average='macro')\n",
    "\n",
    "    # cross-validate\n",
    "    cross_val_scores = cross_val_score(model, X_test, y_test, cv=5) # cv is the number of folds (k)\n",
    "    cross_val_mean = cross_val_scores.mean() * 100 \n",
    "    cross_val_stdev = cross_val_scores.std() * 100\n",
    "\n",
    "    # store results\n",
    "    for key, val in params.items():\n",
    "        results_knn[key].append(val)\n",
    "    results_knn['accuracy'].append(accuracy)\n",
    "    results_knn['recall'].append(recall)\n",
    "    results_knn['precision'].append(precision)\n",
    "    results_knn['f1'].append(f1)\n",
    "    results_knn['cross_val_scores'].append(cross_val_scores)\n",
    "    results_knn['cross_val_mean'].append(cross_val_mean)\n",
    "    results_knn['cross_val_stdev'].append(cross_val_stdev)\n",
    "\n",
    "    print(f\"params: {params}\")\n",
    "    print(f\"Accuracy: {accuracy}\")\n",
    "    print(f\"recall: {recall}\")\n",
    "    print(f\"precision: {precision}\")\n",
    "    print(f\"f1: {f1}\")\n",
    "    print(\"cross_val mean and acc: {:.2f}% (+/- {:.2f})\".format(cross_val_mean, cross_val_stdev))\n",
    "    \n",
    "    return model, results_knn\n"
   ]
  },
  {
   "cell_type": "code",
   "execution_count": 35,
   "id": "971584d5",
   "metadata": {},
   "outputs": [
    {
     "ename": "KeyboardInterrupt",
     "evalue": "",
     "output_type": "error",
     "traceback": [
      "\u001b[1;31m---------------------------------------------------------------------------\u001b[0m",
      "\u001b[1;31mKeyboardInterrupt\u001b[0m                         Traceback (most recent call last)",
      "\u001b[1;32m~\\AppData\\Local\\Temp/ipykernel_21000/1944787912.py\u001b[0m in \u001b[0;36m<module>\u001b[1;34m\u001b[0m\n\u001b[1;32m----> 1\u001b[1;33m \u001b[0mfan_model\u001b[0m\u001b[1;33m,\u001b[0m \u001b[0mfan_results\u001b[0m \u001b[1;33m=\u001b[0m \u001b[0mmodeler\u001b[0m\u001b[1;33m(\u001b[0m\u001b[1;34m'fan'\u001b[0m\u001b[1;33m)\u001b[0m\u001b[1;33m\u001b[0m\u001b[1;33m\u001b[0m\u001b[0m\n\u001b[0m",
      "\u001b[1;32m~\\AppData\\Local\\Temp/ipykernel_21000/268489600.py\u001b[0m in \u001b[0;36mmodeler\u001b[1;34m(machine)\u001b[0m\n\u001b[0;32m     69\u001b[0m     \u001b[1;31m# loop through all files in the data set to apply preprocessing\u001b[0m\u001b[1;33m\u001b[0m\u001b[1;33m\u001b[0m\u001b[1;33m\u001b[0m\u001b[0m\n\u001b[0;32m     70\u001b[0m     \u001b[1;32mfor\u001b[0m \u001b[0midx\u001b[0m\u001b[1;33m,\u001b[0m \u001b[0mrow\u001b[0m \u001b[1;32min\u001b[0m \u001b[0mdata\u001b[0m\u001b[1;33m.\u001b[0m\u001b[0miterrows\u001b[0m\u001b[1;33m(\u001b[0m\u001b[1;33m)\u001b[0m\u001b[1;33m:\u001b[0m\u001b[1;33m\u001b[0m\u001b[1;33m\u001b[0m\u001b[0m\n\u001b[1;32m---> 71\u001b[1;33m         mel_spect, mel_spect_db, mfcc, params = get_mel_spectrogram(\n\u001b[0m\u001b[0;32m     72\u001b[0m             \u001b[0mos\u001b[0m\u001b[1;33m.\u001b[0m\u001b[0mpath\u001b[0m\u001b[1;33m.\u001b[0m\u001b[0mjoin\u001b[0m\u001b[1;33m(\u001b[0m\u001b[0msour_dir\u001b[0m\u001b[1;33m,\u001b[0m \u001b[0mrow\u001b[0m\u001b[1;33m[\u001b[0m\u001b[1;34m'file_rel_path'\u001b[0m\u001b[1;33m]\u001b[0m\u001b[1;33m)\u001b[0m\u001b[1;33m,\u001b[0m\u001b[1;33m\u001b[0m\u001b[1;33m\u001b[0m\u001b[0m\n\u001b[0;32m     73\u001b[0m             \u001b[0mno_channel\u001b[0m \u001b[1;33m=\u001b[0m \u001b[0mchannel_p\u001b[0m\u001b[1;33m,\u001b[0m\u001b[1;33m\u001b[0m\u001b[1;33m\u001b[0m\u001b[0m\n",
      "\u001b[1;32m~\\beCode\\anomaly\\AudioMalfunctionDetection\\Modeling\\get_mel_spectrogram.py\u001b[0m in \u001b[0;36mget_mel_spectrogram\u001b[1;34m(file_path, window, overlap, n_fft, n_mels, no_channel, machine)\u001b[0m\n\u001b[0;32m     47\u001b[0m \u001b[1;33m\u001b[0m\u001b[0m\n\u001b[0;32m     48\u001b[0m     \u001b[1;31m# MFCC\u001b[0m\u001b[1;33m\u001b[0m\u001b[1;33m\u001b[0m\u001b[1;33m\u001b[0m\u001b[0m\n\u001b[1;32m---> 49\u001b[1;33m     mfcc = librosa.feature.mfcc(y=signal, sr=fs, n_mfcc=n_mels,\n\u001b[0m\u001b[0;32m     50\u001b[0m                                 \u001b[0mwin_length\u001b[0m\u001b[1;33m=\u001b[0m\u001b[0mwindow_length\u001b[0m\u001b[1;33m,\u001b[0m\u001b[1;33m\u001b[0m\u001b[1;33m\u001b[0m\u001b[0m\n\u001b[0;32m     51\u001b[0m                                 \u001b[0mhop_length\u001b[0m\u001b[1;33m=\u001b[0m\u001b[0mhop_length\u001b[0m\u001b[1;33m,\u001b[0m\u001b[1;33m\u001b[0m\u001b[1;33m\u001b[0m\u001b[0m\n",
      "\u001b[1;32m~\\anaconda3\\envs\\anom\\lib\\site-packages\\librosa\\feature\\spectral.py\u001b[0m in \u001b[0;36mmfcc\u001b[1;34m(y, sr, S, n_mfcc, dct_type, norm, lifter, **kwargs)\u001b[0m\n\u001b[0;32m   1849\u001b[0m \u001b[1;33m\u001b[0m\u001b[0m\n\u001b[0;32m   1850\u001b[0m     \u001b[1;32mif\u001b[0m \u001b[0mS\u001b[0m \u001b[1;32mis\u001b[0m \u001b[1;32mNone\u001b[0m\u001b[1;33m:\u001b[0m\u001b[1;33m\u001b[0m\u001b[1;33m\u001b[0m\u001b[0m\n\u001b[1;32m-> 1851\u001b[1;33m         \u001b[0mS\u001b[0m \u001b[1;33m=\u001b[0m \u001b[0mpower_to_db\u001b[0m\u001b[1;33m(\u001b[0m\u001b[0mmelspectrogram\u001b[0m\u001b[1;33m(\u001b[0m\u001b[0my\u001b[0m\u001b[1;33m=\u001b[0m\u001b[0my\u001b[0m\u001b[1;33m,\u001b[0m \u001b[0msr\u001b[0m\u001b[1;33m=\u001b[0m\u001b[0msr\u001b[0m\u001b[1;33m,\u001b[0m \u001b[1;33m**\u001b[0m\u001b[0mkwargs\u001b[0m\u001b[1;33m)\u001b[0m\u001b[1;33m)\u001b[0m\u001b[1;33m\u001b[0m\u001b[1;33m\u001b[0m\u001b[0m\n\u001b[0m\u001b[0;32m   1852\u001b[0m \u001b[1;33m\u001b[0m\u001b[0m\n\u001b[0;32m   1853\u001b[0m     \u001b[0mM\u001b[0m \u001b[1;33m=\u001b[0m \u001b[0mscipy\u001b[0m\u001b[1;33m.\u001b[0m\u001b[0mfftpack\u001b[0m\u001b[1;33m.\u001b[0m\u001b[0mdct\u001b[0m\u001b[1;33m(\u001b[0m\u001b[0mS\u001b[0m\u001b[1;33m,\u001b[0m \u001b[0maxis\u001b[0m\u001b[1;33m=\u001b[0m\u001b[1;36m0\u001b[0m\u001b[1;33m,\u001b[0m \u001b[0mtype\u001b[0m\u001b[1;33m=\u001b[0m\u001b[0mdct_type\u001b[0m\u001b[1;33m,\u001b[0m \u001b[0mnorm\u001b[0m\u001b[1;33m=\u001b[0m\u001b[0mnorm\u001b[0m\u001b[1;33m)\u001b[0m\u001b[1;33m[\u001b[0m\u001b[1;33m:\u001b[0m\u001b[0mn_mfcc\u001b[0m\u001b[1;33m]\u001b[0m\u001b[1;33m\u001b[0m\u001b[1;33m\u001b[0m\u001b[0m\n",
      "\u001b[1;32m~\\anaconda3\\envs\\anom\\lib\\site-packages\\librosa\\feature\\spectral.py\u001b[0m in \u001b[0;36mmelspectrogram\u001b[1;34m(y, sr, S, n_fft, hop_length, win_length, window, center, pad_mode, power, **kwargs)\u001b[0m\n\u001b[0;32m   2006\u001b[0m \u001b[1;33m\u001b[0m\u001b[0m\n\u001b[0;32m   2007\u001b[0m     \u001b[1;31m# Build a Mel filter\u001b[0m\u001b[1;33m\u001b[0m\u001b[1;33m\u001b[0m\u001b[1;33m\u001b[0m\u001b[0m\n\u001b[1;32m-> 2008\u001b[1;33m     \u001b[0mmel_basis\u001b[0m \u001b[1;33m=\u001b[0m \u001b[0mfilters\u001b[0m\u001b[1;33m.\u001b[0m\u001b[0mmel\u001b[0m\u001b[1;33m(\u001b[0m\u001b[0msr\u001b[0m\u001b[1;33m,\u001b[0m \u001b[0mn_fft\u001b[0m\u001b[1;33m,\u001b[0m \u001b[1;33m**\u001b[0m\u001b[0mkwargs\u001b[0m\u001b[1;33m)\u001b[0m\u001b[1;33m\u001b[0m\u001b[1;33m\u001b[0m\u001b[0m\n\u001b[0m\u001b[0;32m   2009\u001b[0m \u001b[1;33m\u001b[0m\u001b[0m\n\u001b[0;32m   2010\u001b[0m     \u001b[1;32mreturn\u001b[0m \u001b[0mnp\u001b[0m\u001b[1;33m.\u001b[0m\u001b[0mdot\u001b[0m\u001b[1;33m(\u001b[0m\u001b[0mmel_basis\u001b[0m\u001b[1;33m,\u001b[0m \u001b[0mS\u001b[0m\u001b[1;33m)\u001b[0m\u001b[1;33m\u001b[0m\u001b[1;33m\u001b[0m\u001b[0m\n",
      "\u001b[1;32m~\\anaconda3\\envs\\anom\\lib\\site-packages\\librosa\\filters.py\u001b[0m in \u001b[0;36mmel\u001b[1;34m(sr, n_fft, n_mels, fmin, fmax, htk, norm, dtype)\u001b[0m\n\u001b[0;32m    229\u001b[0m         \u001b[1;31m# Slaney-style mel is scaled to be approx constant energy per channel\u001b[0m\u001b[1;33m\u001b[0m\u001b[1;33m\u001b[0m\u001b[1;33m\u001b[0m\u001b[0m\n\u001b[0;32m    230\u001b[0m         \u001b[0menorm\u001b[0m \u001b[1;33m=\u001b[0m \u001b[1;36m2.0\u001b[0m \u001b[1;33m/\u001b[0m \u001b[1;33m(\u001b[0m\u001b[0mmel_f\u001b[0m\u001b[1;33m[\u001b[0m\u001b[1;36m2\u001b[0m \u001b[1;33m:\u001b[0m \u001b[0mn_mels\u001b[0m \u001b[1;33m+\u001b[0m \u001b[1;36m2\u001b[0m\u001b[1;33m]\u001b[0m \u001b[1;33m-\u001b[0m \u001b[0mmel_f\u001b[0m\u001b[1;33m[\u001b[0m\u001b[1;33m:\u001b[0m\u001b[0mn_mels\u001b[0m\u001b[1;33m]\u001b[0m\u001b[1;33m)\u001b[0m\u001b[1;33m\u001b[0m\u001b[1;33m\u001b[0m\u001b[0m\n\u001b[1;32m--> 231\u001b[1;33m         \u001b[0mweights\u001b[0m \u001b[1;33m*=\u001b[0m \u001b[0menorm\u001b[0m\u001b[1;33m[\u001b[0m\u001b[1;33m:\u001b[0m\u001b[1;33m,\u001b[0m \u001b[0mnp\u001b[0m\u001b[1;33m.\u001b[0m\u001b[0mnewaxis\u001b[0m\u001b[1;33m]\u001b[0m\u001b[1;33m\u001b[0m\u001b[1;33m\u001b[0m\u001b[0m\n\u001b[0m\u001b[0;32m    232\u001b[0m     \u001b[1;32melse\u001b[0m\u001b[1;33m:\u001b[0m\u001b[1;33m\u001b[0m\u001b[1;33m\u001b[0m\u001b[0m\n\u001b[0;32m    233\u001b[0m         \u001b[0mweights\u001b[0m \u001b[1;33m=\u001b[0m \u001b[0mutil\u001b[0m\u001b[1;33m.\u001b[0m\u001b[0mnormalize\u001b[0m\u001b[1;33m(\u001b[0m\u001b[0mweights\u001b[0m\u001b[1;33m,\u001b[0m \u001b[0mnorm\u001b[0m\u001b[1;33m=\u001b[0m\u001b[0mnorm\u001b[0m\u001b[1;33m,\u001b[0m \u001b[0maxis\u001b[0m\u001b[1;33m=\u001b[0m\u001b[1;33m-\u001b[0m\u001b[1;36m1\u001b[0m\u001b[1;33m)\u001b[0m\u001b[1;33m\u001b[0m\u001b[1;33m\u001b[0m\u001b[0m\n",
      "\u001b[1;31mKeyboardInterrupt\u001b[0m: "
     ]
    }
   ],
   "source": [
    "fan_model, fan_results = modeler('fan')"
   ]
  },
  {
   "cell_type": "code",
   "execution_count": null,
   "id": "d930dbb9",
   "metadata": {},
   "outputs": [],
   "source": [
    "pump_model, pump_results = modeler('pump')"
   ]
  },
  {
   "cell_type": "code",
   "execution_count": null,
   "id": "5cf9a837",
   "metadata": {},
   "outputs": [],
   "source": [
    "slider_model, slider_results = modeler('slider')"
   ]
  },
  {
   "cell_type": "code",
   "execution_count": null,
   "id": "cdd80788",
   "metadata": {},
   "outputs": [],
   "source": [
    "valve_model, valve_results = modeler('valve')"
   ]
  },
  {
   "cell_type": "code",
   "execution_count": null,
   "id": "1072f215",
   "metadata": {},
   "outputs": [],
   "source": [
    "results_knn"
   ]
  },
  {
   "cell_type": "code",
   "execution_count": 24,
   "id": "918abd4d",
   "metadata": {},
   "outputs": [
    {
     "data": {
      "text/plain": [
       "['Models/valve_model.pkl']"
      ]
     },
     "execution_count": 24,
     "metadata": {},
     "output_type": "execute_result"
    }
   ],
   "source": [
    "# storing the results\n",
    "import joblib\n",
    "joblib.dump(fan_model, 'Models/fan_model.pkl')\n",
    "joblib.dump(pump_model, 'Models/pump_model.pkl')\n",
    "joblib.dump(slider_model, 'Models/slider_model.pkl')\n",
    "joblib.dump(valve_model, 'Models/valve_model.pkl')"
   ]
  },
  {
   "cell_type": "code",
   "execution_count": 32,
   "id": "f8908dc8",
   "metadata": {},
   "outputs": [],
   "source": [
    "pd.DataFrame(fan_results).to_csv('Models/fan_results.csv')\n",
    "pd.DataFrame(pump_results).to_csv('Models/pump_results.csv')\n",
    "pd.DataFrame(slider_results).to_csv('Models/slider_results.csv')\n",
    "pd.DataFrame(valve_results).to_csv('Models/valve_results.csv')"
   ]
  },
  {
   "cell_type": "code",
   "execution_count": null,
   "id": "77cc67f2",
   "metadata": {},
   "outputs": [],
   "source": []
  },
  {
   "cell_type": "code",
   "execution_count": 30,
   "id": "a3c717e3",
   "metadata": {},
   "outputs": [
    {
     "name": "stdout",
     "output_type": "stream",
     "text": [
      "params: {'window': 1, 'window_length': 16000, 'overlap': 0.5, 'overlap_length': 8000, 'hop_length': 8000, 'n_fft': 16384, 'n_mels': 32, 'n_neighbor': 5, 'channel': 3}\n",
      "Accuracy: 0.990990990990991\n",
      "recall: 0.994061757719715\n",
      "precision: 0.9820143884892086\n",
      "f1: 0.9878556330169233\n",
      "cross_val mean and acc: 97.75% (+/- 1.07)\n"
     ]
    }
   ],
   "source": [
    "fan_model_cv_test, fan_results_cv_test = modeler('fan')"
   ]
  },
  {
   "cell_type": "code",
   "execution_count": null,
   "id": "00ff7715",
   "metadata": {},
   "outputs": [],
   "source": [
    "fan_model_cv_test, fan_results_cv_test = modeler('fan')"
   ]
  }
 ],
 "metadata": {
  "kernelspec": {
   "display_name": "Python 3 (ipykernel)",
   "language": "python",
   "name": "python3"
  },
  "language_info": {
   "codemirror_mode": {
    "name": "ipython",
    "version": 3
   },
   "file_extension": ".py",
   "mimetype": "text/x-python",
   "name": "python",
   "nbconvert_exporter": "python",
   "pygments_lexer": "ipython3",
   "version": "3.8.12"
  }
 },
 "nbformat": 4,
 "nbformat_minor": 5
}
