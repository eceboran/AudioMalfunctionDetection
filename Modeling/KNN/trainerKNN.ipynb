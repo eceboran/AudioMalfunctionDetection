{
 "cells": [
  {
   "cell_type": "code",
   "execution_count": 9,
   "id": "91bc1043",
   "metadata": {},
   "outputs": [],
   "source": [
    "import os\n",
    "import librosa\n",
    "import sys\n",
    "import pandas as pd\n",
    "import numpy as np\n",
    "from matplotlib import pyplot as plt\n",
    "import librosa.display\n",
    "\n",
    "from sklearn.model_selection import train_test_split\n",
    "from sklearn.neighbors import KNeighborsClassifier\n",
    "from sklearn import metrics\n",
    "from sklearn.neighbors import KNeighborsClassifier\n",
    "from sklearn.model_selection import train_test_split\n",
    "from sklearn import metrics\n",
    "from sklearn.model_selection import cross_val_score\n",
    "\n",
    "from get_mel_spectrogram import get_mel_spectrogram"
   ]
  },
  {
   "cell_type": "code",
   "execution_count": 3,
   "id": "2aae1a2f",
   "metadata": {},
   "outputs": [],
   "source": [
    "# get the parent directory\n",
    "parent_dir = os.path.abspath('..')\n",
    "test_dir = os.path.join(parent_dir, 'Testing', 'dataSubsets')\n",
    "data_dir = os.path.join(parent_dir, 'Data')\n",
    "meta_dir = os.path.join(data_dir, 'metadata')\n",
    "sour_dir = os.path.join(data_dir, 'source')\n",
    "data_dir = os.path.join(parent_dir, 'EDA')"
   ]
  },
  {
   "cell_type": "code",
   "execution_count": 7,
   "id": "3cb7f981",
   "metadata": {},
   "outputs": [],
   "source": [
    "fan_data = pd.read_csv(os.path.join(test_dir, 'all_fan_subset.csv'))\n",
    "pump_data = pd.read_csv(os.path.join(test_dir, 'all_pump_subset.csv'))\n",
    "slider_data = pd.read_csv(os.path.join(test_dir, 'all_slider_subset.csv'))\n",
    "valve_data = pd.read_csv(os.path.join(test_dir, 'all_valve_subset.csv'))"
   ]
  },
  {
   "cell_type": "code",
   "execution_count": 33,
   "id": "0cfd63a0",
   "metadata": {},
   "outputs": [],
   "source": [
    "\n",
    "#best number of mels 64, best window size, 1.0, best channel = 3, best number of neighbours = 5"
   ]
  },
  {
   "cell_type": "code",
   "execution_count": 34,
   "id": "f32247d0",
   "metadata": {},
   "outputs": [],
   "source": [
    "def modeler(machine):\n",
    "    \"\"\"\n",
    "    Function that does the actual training of the models, using the parameters that have come up\n",
    "    as optimal from the testing process. \n",
    "    :machine: string that represents which machine type we are currently training on\n",
    "    :return: both the model and a dict containing all params used and results are returned.\n",
    "    \"\"\"\n",
    "\n",
    "    # select the correct dataset\n",
    "    if machine == 'fan':\n",
    "        data = fan_data\n",
    "    elif machine == 'pump':\n",
    "        data = pump_data\n",
    "    elif machine == 'slider':\n",
    "        data = slider_data\n",
    "    elif machine == 'valve':\n",
    "        data = valve_data\n",
    "        \n",
    "    # setting a dict for storing all parameters and results\n",
    "    results_knn = {\n",
    "        'window' :  [],\n",
    "        'window_length' :  [],\n",
    "        'overlap' :  [],\n",
    "        'overlap_length' :  [],\n",
    "        'hop_length' :  [],\n",
    "        'n_fft' :  [],\n",
    "        'n_mels' :  [],\n",
    "        'n_neighbor' :  [],\n",
    "        'channel' :  [],\n",
    "        'accuracy' :  [],\n",
    "        'recall' :  [],\n",
    "        'precision' :  [],\n",
    "        'f1' :  [],\n",
    "        'cross_val_scores' :  [],\n",
    "        'cross_val_mean' :  [],\n",
    "        'cross_val_stdev' :  []\n",
    "    }\n",
    "\n",
    "    \n",
    "    # storing the results of the data preprocessing for all the files\n",
    "    all_mel_spect = []\n",
    "    all_mel_spect_db = []\n",
    "    all_mfcc = []\n",
    "    all_params = []\n",
    "\n",
    "    # setting the classifiers parameters here    \n",
    "    window_p = 1\n",
    "    overlap_p = None\n",
    "    n_fft_p = None\n",
    "    \n",
    "    if machine == 'fan':\n",
    "        n_mels_p = 32\n",
    "        n_neighbors_p = 5\n",
    "        channel_p = 3\n",
    "    elif machine == 'pump':\n",
    "        n_mels_p = 512\n",
    "        n_neighbors_p = 3\n",
    "        channel_p = 1\n",
    "    elif machine == 'slider':\n",
    "        n_mels_p = 512\n",
    "        n_neighbors_p = 3\n",
    "        channel_p = 6\n",
    "    elif machine == 'valve':\n",
    "        # not yet optimized\n",
    "        n_mels_p = 512\n",
    "        n_neighbors_p = 3\n",
    "        channel_p = 7\n",
    "\n",
    "    # loop through all files in the data set to apply preprocessing\n",
    "    for idx, row in data.iterrows():\n",
    "        mel_spect, mel_spect_db, mfcc, params = get_mel_spectrogram(\n",
    "            os.path.join(sour_dir, row['file_rel_path']), \n",
    "            no_channel = channel_p, \n",
    "            window = window_p,\n",
    "            overlap = overlap_p, \n",
    "            n_fft = n_fft_p, \n",
    "            n_mels = n_mels_p\n",
    "        )\n",
    "\n",
    "        # storing the results\n",
    "        all_mel_spect.append(mel_spect)\n",
    "        all_mel_spect_db.append(mel_spect_db)\n",
    "        all_mfcc.append(mfcc)\n",
    "        # store the parameters\n",
    "        params['n_neighbor'] = n_neighbors_p\n",
    "        params['channel'] = channel_p\n",
    "        all_params.append(params)\n",
    "\n",
    "    # write the results to the dataframe\n",
    "    data['mel_spect'] = all_mel_spect\n",
    "    data['mel_spect_db'] = all_mel_spect_db\n",
    "    data['all_params'] = all_params\n",
    "\n",
    "    # define target\n",
    "    y = data['anomaly']\n",
    "    \n",
    "    # define features\n",
    "    X = []\n",
    "    for idx, row in data.iterrows():\n",
    "        #X.append(row['mel_spect_db'].reshape(1, total_size))\n",
    "        X.append(np.array(row['mel_spect_db']).flatten())\n",
    "\n",
    "    # split the data in 2 groups, 1 for training, 1 for testing\n",
    "    X_train, X_test, y_train, y_test = train_test_split(X, y, test_size = 0.2, random_state = 2)\n",
    "\n",
    "    # initialize the knn classifier\n",
    "    model = KNeighborsClassifier(n_neighbors=n_neighbors_p)\n",
    "    \n",
    "    # train the classifier\n",
    "    model.fit(X_train,y_train)\n",
    "\n",
    "    # get predictions\n",
    "    predicted = model.predict(X_test) \n",
    "\n",
    "    # calculate results\n",
    "    accuracy = metrics.accuracy_score(y_test, predicted)\n",
    "    recall = metrics.recall_score(predicted, y_test, average='macro')\n",
    "    precision = metrics.precision_score(predicted, y_test, average='macro')\n",
    "    f1 = metrics.f1_score(predicted, y_test, average='macro')\n",
    "\n",
    "    # cross-validate\n",
    "    cross_val_scores = cross_val_score(model, X_test, y_test, cv=5) # cv is the number of folds (k)\n",
    "    cross_val_mean = cross_val_scores.mean() * 100 \n",
    "    cross_val_stdev = cross_val_scores.std() * 100\n",
    "\n",
    "    # store results\n",
    "    for key, val in params.items():\n",
    "        results_knn[key].append(val)\n",
    "    results_knn['accuracy'].append(accuracy)\n",
    "    results_knn['recall'].append(recall)\n",
    "    results_knn['precision'].append(precision)\n",
    "    results_knn['f1'].append(f1)\n",
    "    results_knn['cross_val_scores'].append(cross_val_scores)\n",
    "    results_knn['cross_val_mean'].append(cross_val_mean)\n",
    "    results_knn['cross_val_stdev'].append(cross_val_stdev)\n",
    "\n",
    "    print(f\"params: {params}\")\n",
    "    print(f\"Accuracy: {accuracy}\")\n",
    "    print(f\"recall: {recall}\")\n",
    "    print(f\"precision: {precision}\")\n",
    "    print(f\"f1: {f1}\")\n",
    "    print(\"cross_val mean and acc: {:.2f}% (+/- {:.2f})\".format(cross_val_mean, cross_val_stdev))\n",
    "    \n",
    "    return model, results_knn\n"
   ]
  },
  {
   "cell_type": "code",
   "execution_count": 36,
   "id": "8327b7ab",
   "metadata": {},
   "outputs": [
    {
     "name": "stdout",
     "output_type": "stream",
     "text": [
      "params: {'window': 1, 'window_length': 16000, 'overlap': 0.5, 'overlap_length': 8000, 'hop_length': 8000, 'n_fft': 16384, 'n_mels': 32, 'n_neighbor': 5, 'channel': 3}\n",
      "Accuracy: 0.990990990990991\n",
      "recall: 0.994061757719715\n",
      "precision: 0.9820143884892086\n",
      "f1: 0.9878556330169233\n",
      "cross_val mean and acc: 97.75% (+/- 1.07)\n"
     ]
    }
   ],
   "source": [
    "fan_model, fan_results = modeler('fan')"
   ]
  },
  {
   "cell_type": "code",
   "execution_count": 37,
   "id": "b5f62eb5",
   "metadata": {},
   "outputs": [
    {
     "name": "stdout",
     "output_type": "stream",
     "text": [
      "params: {'window': 1, 'window_length': 16000, 'overlap': 0.5, 'overlap_length': 8000, 'hop_length': 8000, 'n_fft': 16384, 'n_mels': 512, 'n_neighbor': 3, 'channel': 1}\n",
      "Accuracy: 0.995243757431629\n",
      "recall: 0.9973579920739762\n",
      "precision: 0.9772727272727273\n",
      "f1: 0.9870475897119976\n",
      "cross_val mean and acc: 98.45% (+/- 0.81)\n"
     ]
    }
   ],
   "source": [
    "pump_model, pump_results = modeler('pump')"
   ]
  },
  {
   "cell_type": "code",
   "execution_count": 38,
   "id": "3f5dc074",
   "metadata": {},
   "outputs": [
    {
     "name": "stdout",
     "output_type": "stream",
     "text": [
      "params: {'window': 1, 'window_length': 16000, 'overlap': 0.5, 'overlap_length': 8000, 'hop_length': 8000, 'n_fft': 16384, 'n_mels': 512, 'n_neighbor': 3, 'channel': 6}\n",
      "Accuracy: 0.9731379731379731\n",
      "recall: 0.9835820895522388\n",
      "precision: 0.935672514619883\n",
      "f1: 0.9572790212443096\n",
      "cross_val mean and acc: 95.24% (+/- 1.56)\n"
     ]
    }
   ],
   "source": [
    "slider_model, slider_results = modeler('slider')"
   ]
  },
  {
   "cell_type": "code",
   "execution_count": 39,
   "id": "4e3bcefc",
   "metadata": {},
   "outputs": [
    {
     "name": "stdout",
     "output_type": "stream",
     "text": [
      "params: {'window': 1, 'window_length': 16000, 'overlap': 0.5, 'overlap_length': 8000, 'hop_length': 8000, 'n_fft': 16384, 'n_mels': 512, 'n_neighbor': 3, 'channel': 7}\n",
      "Accuracy: 0.9688249400479616\n",
      "recall: 0.9830729166666667\n",
      "precision: 0.8586956521739131\n",
      "f1: 0.9091122474641629\n",
      "cross_val mean and acc: 92.45% (+/- 0.61)\n"
     ]
    }
   ],
   "source": [
    "valve_model, valve_results = modeler('valve')"
   ]
  },
  {
   "cell_type": "code",
   "execution_count": 40,
   "id": "1a484cd3",
   "metadata": {},
   "outputs": [
    {
     "data": {
      "text/plain": [
       "{'window': [],\n",
       " 'window_length': [],\n",
       " 'overlap': [],\n",
       " 'overlap_length': [],\n",
       " 'hop_length': [],\n",
       " 'n_fft': [],\n",
       " 'n_mels': [],\n",
       " 'n_neighbor': [],\n",
       " 'channel': [],\n",
       " 'accuracy': [],\n",
       " 'recall': [],\n",
       " 'precision': [],\n",
       " 'f1': [],\n",
       " 'cross_val_scores': [],\n",
       " 'cross_val_mean': [],\n",
       " 'cross_val_stdev': []}"
      ]
     },
     "execution_count": 40,
     "metadata": {},
     "output_type": "execute_result"
    }
   ],
   "source": [
    "results_knn"
   ]
  },
  {
   "cell_type": "code",
   "execution_count": 43,
   "id": "f3831720",
   "metadata": {},
   "outputs": [
    {
     "data": {
      "text/plain": [
       "['Models/valve_model.pkl']"
      ]
     },
     "execution_count": 43,
     "metadata": {},
     "output_type": "execute_result"
    }
   ],
   "source": [
    "# storing the results\n",
    "import joblib\n",
    "joblib.dump(fan_model, 'Models/fan_model.pkl')\n",
    "joblib.dump(pump_model, 'Models/pump_model.pkl')\n",
    "joblib.dump(slider_model, 'Models/slider_model.pkl')\n",
    "joblib.dump(valve_model, 'Models/valve_model.pkl')"
   ]
  },
  {
   "cell_type": "code",
   "execution_count": 42,
   "id": "18eb54e7",
   "metadata": {},
   "outputs": [],
   "source": [
    "pd.DataFrame(fan_results).to_csv('Models/fan_results.csv')\n",
    "pd.DataFrame(pump_results).to_csv('Models/pump_results.csv')\n",
    "pd.DataFrame(slider_results).to_csv('Models/slider_results.csv')\n",
    "pd.DataFrame(valve_results).to_csv('Models/valve_results.csv')"
   ]
  },
  {
   "cell_type": "code",
   "execution_count": null,
   "id": "fba77505",
   "metadata": {},
   "outputs": [],
   "source": []
  },
  {
   "cell_type": "code",
   "execution_count": 2,
   "id": "d39bd5f8",
   "metadata": {},
   "outputs": [],
   "source": [
    "import pandas as pd"
   ]
  },
  {
   "cell_type": "code",
   "execution_count": 7,
   "id": "656f6185",
   "metadata": {},
   "outputs": [],
   "source": [
    "fan = pd.read_csv('Models/fan_results.csv')\n",
    "pump = pd.read_csv('Models/pump_results.csv')\n",
    "valve = pd.read_csv('Models/valve_results.csv')\n",
    "slider = pd.read_csv('Models/slider_results.csv')"
   ]
  },
  {
   "cell_type": "code",
   "execution_count": 9,
   "id": "bb07afb0",
   "metadata": {},
   "outputs": [],
   "source": [
    "import pandas as pd\n",
    "import numpy as np\n",
    "import os\n",
    "import plotly.graph_objects as go\n",
    "from plotly.subplots import make_subplots"
   ]
  },
  {
   "cell_type": "code",
   "execution_count": 22,
   "id": "d2a8e778",
   "metadata": {},
   "outputs": [
    {
     "data": {
      "application/vnd.plotly.v1+json": {
       "config": {
        "plotlyServerURL": "https://plot.ly"
       },
       "data": [
        {
         "marker": {
          "size": [
           49.549549549549546
          ]
         },
         "name": "fan",
         "type": "scatter",
         "x": [
          0.990990990990991
         ],
         "y": [
          0.9820143884892086
         ]
        },
        {
         "marker": {
          "size": [
           49.549549549549546
          ]
         },
         "name": "pump",
         "type": "scatter",
         "x": [
          0.995243757431629
         ],
         "y": [
          0.9772727272727272
         ]
        },
        {
         "marker": {
          "size": [
           49.549549549549546
          ]
         },
         "name": "valve",
         "type": "scatter",
         "x": [
          0.9688249400479616
         ],
         "y": [
          0.8586956521739131
         ]
        },
        {
         "marker": {
          "size": [
           49.549549549549546
          ]
         },
         "name": "slider",
         "type": "scatter",
         "x": [
          0.9731379731379732
         ],
         "y": [
          0.935672514619883
         ]
        }
       ],
       "layout": {
        "template": {
         "data": {
          "bar": [
           {
            "error_x": {
             "color": "#2a3f5f"
            },
            "error_y": {
             "color": "#2a3f5f"
            },
            "marker": {
             "line": {
              "color": "#E5ECF6",
              "width": 0.5
             },
             "pattern": {
              "fillmode": "overlay",
              "size": 10,
              "solidity": 0.2
             }
            },
            "type": "bar"
           }
          ],
          "barpolar": [
           {
            "marker": {
             "line": {
              "color": "#E5ECF6",
              "width": 0.5
             },
             "pattern": {
              "fillmode": "overlay",
              "size": 10,
              "solidity": 0.2
             }
            },
            "type": "barpolar"
           }
          ],
          "carpet": [
           {
            "aaxis": {
             "endlinecolor": "#2a3f5f",
             "gridcolor": "white",
             "linecolor": "white",
             "minorgridcolor": "white",
             "startlinecolor": "#2a3f5f"
            },
            "baxis": {
             "endlinecolor": "#2a3f5f",
             "gridcolor": "white",
             "linecolor": "white",
             "minorgridcolor": "white",
             "startlinecolor": "#2a3f5f"
            },
            "type": "carpet"
           }
          ],
          "choropleth": [
           {
            "colorbar": {
             "outlinewidth": 0,
             "ticks": ""
            },
            "type": "choropleth"
           }
          ],
          "contour": [
           {
            "colorbar": {
             "outlinewidth": 0,
             "ticks": ""
            },
            "colorscale": [
             [
              0,
              "#0d0887"
             ],
             [
              0.1111111111111111,
              "#46039f"
             ],
             [
              0.2222222222222222,
              "#7201a8"
             ],
             [
              0.3333333333333333,
              "#9c179e"
             ],
             [
              0.4444444444444444,
              "#bd3786"
             ],
             [
              0.5555555555555556,
              "#d8576b"
             ],
             [
              0.6666666666666666,
              "#ed7953"
             ],
             [
              0.7777777777777778,
              "#fb9f3a"
             ],
             [
              0.8888888888888888,
              "#fdca26"
             ],
             [
              1,
              "#f0f921"
             ]
            ],
            "type": "contour"
           }
          ],
          "contourcarpet": [
           {
            "colorbar": {
             "outlinewidth": 0,
             "ticks": ""
            },
            "type": "contourcarpet"
           }
          ],
          "heatmap": [
           {
            "colorbar": {
             "outlinewidth": 0,
             "ticks": ""
            },
            "colorscale": [
             [
              0,
              "#0d0887"
             ],
             [
              0.1111111111111111,
              "#46039f"
             ],
             [
              0.2222222222222222,
              "#7201a8"
             ],
             [
              0.3333333333333333,
              "#9c179e"
             ],
             [
              0.4444444444444444,
              "#bd3786"
             ],
             [
              0.5555555555555556,
              "#d8576b"
             ],
             [
              0.6666666666666666,
              "#ed7953"
             ],
             [
              0.7777777777777778,
              "#fb9f3a"
             ],
             [
              0.8888888888888888,
              "#fdca26"
             ],
             [
              1,
              "#f0f921"
             ]
            ],
            "type": "heatmap"
           }
          ],
          "heatmapgl": [
           {
            "colorbar": {
             "outlinewidth": 0,
             "ticks": ""
            },
            "colorscale": [
             [
              0,
              "#0d0887"
             ],
             [
              0.1111111111111111,
              "#46039f"
             ],
             [
              0.2222222222222222,
              "#7201a8"
             ],
             [
              0.3333333333333333,
              "#9c179e"
             ],
             [
              0.4444444444444444,
              "#bd3786"
             ],
             [
              0.5555555555555556,
              "#d8576b"
             ],
             [
              0.6666666666666666,
              "#ed7953"
             ],
             [
              0.7777777777777778,
              "#fb9f3a"
             ],
             [
              0.8888888888888888,
              "#fdca26"
             ],
             [
              1,
              "#f0f921"
             ]
            ],
            "type": "heatmapgl"
           }
          ],
          "histogram": [
           {
            "marker": {
             "pattern": {
              "fillmode": "overlay",
              "size": 10,
              "solidity": 0.2
             }
            },
            "type": "histogram"
           }
          ],
          "histogram2d": [
           {
            "colorbar": {
             "outlinewidth": 0,
             "ticks": ""
            },
            "colorscale": [
             [
              0,
              "#0d0887"
             ],
             [
              0.1111111111111111,
              "#46039f"
             ],
             [
              0.2222222222222222,
              "#7201a8"
             ],
             [
              0.3333333333333333,
              "#9c179e"
             ],
             [
              0.4444444444444444,
              "#bd3786"
             ],
             [
              0.5555555555555556,
              "#d8576b"
             ],
             [
              0.6666666666666666,
              "#ed7953"
             ],
             [
              0.7777777777777778,
              "#fb9f3a"
             ],
             [
              0.8888888888888888,
              "#fdca26"
             ],
             [
              1,
              "#f0f921"
             ]
            ],
            "type": "histogram2d"
           }
          ],
          "histogram2dcontour": [
           {
            "colorbar": {
             "outlinewidth": 0,
             "ticks": ""
            },
            "colorscale": [
             [
              0,
              "#0d0887"
             ],
             [
              0.1111111111111111,
              "#46039f"
             ],
             [
              0.2222222222222222,
              "#7201a8"
             ],
             [
              0.3333333333333333,
              "#9c179e"
             ],
             [
              0.4444444444444444,
              "#bd3786"
             ],
             [
              0.5555555555555556,
              "#d8576b"
             ],
             [
              0.6666666666666666,
              "#ed7953"
             ],
             [
              0.7777777777777778,
              "#fb9f3a"
             ],
             [
              0.8888888888888888,
              "#fdca26"
             ],
             [
              1,
              "#f0f921"
             ]
            ],
            "type": "histogram2dcontour"
           }
          ],
          "mesh3d": [
           {
            "colorbar": {
             "outlinewidth": 0,
             "ticks": ""
            },
            "type": "mesh3d"
           }
          ],
          "parcoords": [
           {
            "line": {
             "colorbar": {
              "outlinewidth": 0,
              "ticks": ""
             }
            },
            "type": "parcoords"
           }
          ],
          "pie": [
           {
            "automargin": true,
            "type": "pie"
           }
          ],
          "scatter": [
           {
            "marker": {
             "colorbar": {
              "outlinewidth": 0,
              "ticks": ""
             }
            },
            "type": "scatter"
           }
          ],
          "scatter3d": [
           {
            "line": {
             "colorbar": {
              "outlinewidth": 0,
              "ticks": ""
             }
            },
            "marker": {
             "colorbar": {
              "outlinewidth": 0,
              "ticks": ""
             }
            },
            "type": "scatter3d"
           }
          ],
          "scattercarpet": [
           {
            "marker": {
             "colorbar": {
              "outlinewidth": 0,
              "ticks": ""
             }
            },
            "type": "scattercarpet"
           }
          ],
          "scattergeo": [
           {
            "marker": {
             "colorbar": {
              "outlinewidth": 0,
              "ticks": ""
             }
            },
            "type": "scattergeo"
           }
          ],
          "scattergl": [
           {
            "marker": {
             "colorbar": {
              "outlinewidth": 0,
              "ticks": ""
             }
            },
            "type": "scattergl"
           }
          ],
          "scattermapbox": [
           {
            "marker": {
             "colorbar": {
              "outlinewidth": 0,
              "ticks": ""
             }
            },
            "type": "scattermapbox"
           }
          ],
          "scatterpolar": [
           {
            "marker": {
             "colorbar": {
              "outlinewidth": 0,
              "ticks": ""
             }
            },
            "type": "scatterpolar"
           }
          ],
          "scatterpolargl": [
           {
            "marker": {
             "colorbar": {
              "outlinewidth": 0,
              "ticks": ""
             }
            },
            "type": "scatterpolargl"
           }
          ],
          "scatterternary": [
           {
            "marker": {
             "colorbar": {
              "outlinewidth": 0,
              "ticks": ""
             }
            },
            "type": "scatterternary"
           }
          ],
          "surface": [
           {
            "colorbar": {
             "outlinewidth": 0,
             "ticks": ""
            },
            "colorscale": [
             [
              0,
              "#0d0887"
             ],
             [
              0.1111111111111111,
              "#46039f"
             ],
             [
              0.2222222222222222,
              "#7201a8"
             ],
             [
              0.3333333333333333,
              "#9c179e"
             ],
             [
              0.4444444444444444,
              "#bd3786"
             ],
             [
              0.5555555555555556,
              "#d8576b"
             ],
             [
              0.6666666666666666,
              "#ed7953"
             ],
             [
              0.7777777777777778,
              "#fb9f3a"
             ],
             [
              0.8888888888888888,
              "#fdca26"
             ],
             [
              1,
              "#f0f921"
             ]
            ],
            "type": "surface"
           }
          ],
          "table": [
           {
            "cells": {
             "fill": {
              "color": "#EBF0F8"
             },
             "line": {
              "color": "white"
             }
            },
            "header": {
             "fill": {
              "color": "#C8D4E3"
             },
             "line": {
              "color": "white"
             }
            },
            "type": "table"
           }
          ]
         },
         "layout": {
          "annotationdefaults": {
           "arrowcolor": "#2a3f5f",
           "arrowhead": 0,
           "arrowwidth": 1
          },
          "autotypenumbers": "strict",
          "coloraxis": {
           "colorbar": {
            "outlinewidth": 0,
            "ticks": ""
           }
          },
          "colorscale": {
           "diverging": [
            [
             0,
             "#8e0152"
            ],
            [
             0.1,
             "#c51b7d"
            ],
            [
             0.2,
             "#de77ae"
            ],
            [
             0.3,
             "#f1b6da"
            ],
            [
             0.4,
             "#fde0ef"
            ],
            [
             0.5,
             "#f7f7f7"
            ],
            [
             0.6,
             "#e6f5d0"
            ],
            [
             0.7,
             "#b8e186"
            ],
            [
             0.8,
             "#7fbc41"
            ],
            [
             0.9,
             "#4d9221"
            ],
            [
             1,
             "#276419"
            ]
           ],
           "sequential": [
            [
             0,
             "#0d0887"
            ],
            [
             0.1111111111111111,
             "#46039f"
            ],
            [
             0.2222222222222222,
             "#7201a8"
            ],
            [
             0.3333333333333333,
             "#9c179e"
            ],
            [
             0.4444444444444444,
             "#bd3786"
            ],
            [
             0.5555555555555556,
             "#d8576b"
            ],
            [
             0.6666666666666666,
             "#ed7953"
            ],
            [
             0.7777777777777778,
             "#fb9f3a"
            ],
            [
             0.8888888888888888,
             "#fdca26"
            ],
            [
             1,
             "#f0f921"
            ]
           ],
           "sequentialminus": [
            [
             0,
             "#0d0887"
            ],
            [
             0.1111111111111111,
             "#46039f"
            ],
            [
             0.2222222222222222,
             "#7201a8"
            ],
            [
             0.3333333333333333,
             "#9c179e"
            ],
            [
             0.4444444444444444,
             "#bd3786"
            ],
            [
             0.5555555555555556,
             "#d8576b"
            ],
            [
             0.6666666666666666,
             "#ed7953"
            ],
            [
             0.7777777777777778,
             "#fb9f3a"
            ],
            [
             0.8888888888888888,
             "#fdca26"
            ],
            [
             1,
             "#f0f921"
            ]
           ]
          },
          "colorway": [
           "#636efa",
           "#EF553B",
           "#00cc96",
           "#ab63fa",
           "#FFA15A",
           "#19d3f3",
           "#FF6692",
           "#B6E880",
           "#FF97FF",
           "#FECB52"
          ],
          "font": {
           "color": "#2a3f5f"
          },
          "geo": {
           "bgcolor": "white",
           "lakecolor": "white",
           "landcolor": "#E5ECF6",
           "showlakes": true,
           "showland": true,
           "subunitcolor": "white"
          },
          "hoverlabel": {
           "align": "left"
          },
          "hovermode": "closest",
          "mapbox": {
           "style": "light"
          },
          "paper_bgcolor": "white",
          "plot_bgcolor": "#E5ECF6",
          "polar": {
           "angularaxis": {
            "gridcolor": "white",
            "linecolor": "white",
            "ticks": ""
           },
           "bgcolor": "#E5ECF6",
           "radialaxis": {
            "gridcolor": "white",
            "linecolor": "white",
            "ticks": ""
           }
          },
          "scene": {
           "xaxis": {
            "backgroundcolor": "#E5ECF6",
            "gridcolor": "white",
            "gridwidth": 2,
            "linecolor": "white",
            "showbackground": true,
            "ticks": "",
            "zerolinecolor": "white"
           },
           "yaxis": {
            "backgroundcolor": "#E5ECF6",
            "gridcolor": "white",
            "gridwidth": 2,
            "linecolor": "white",
            "showbackground": true,
            "ticks": "",
            "zerolinecolor": "white"
           },
           "zaxis": {
            "backgroundcolor": "#E5ECF6",
            "gridcolor": "white",
            "gridwidth": 2,
            "linecolor": "white",
            "showbackground": true,
            "ticks": "",
            "zerolinecolor": "white"
           }
          },
          "shapedefaults": {
           "line": {
            "color": "#2a3f5f"
           }
          },
          "ternary": {
           "aaxis": {
            "gridcolor": "white",
            "linecolor": "white",
            "ticks": ""
           },
           "baxis": {
            "gridcolor": "white",
            "linecolor": "white",
            "ticks": ""
           },
           "bgcolor": "#E5ECF6",
           "caxis": {
            "gridcolor": "white",
            "linecolor": "white",
            "ticks": ""
           }
          },
          "title": {
           "x": 0.05
          },
          "xaxis": {
           "automargin": true,
           "gridcolor": "white",
           "linecolor": "white",
           "ticks": "",
           "title": {
            "standoff": 15
           },
           "zerolinecolor": "white",
           "zerolinewidth": 2
          },
          "yaxis": {
           "automargin": true,
           "gridcolor": "white",
           "linecolor": "white",
           "ticks": "",
           "title": {
            "standoff": 15
           },
           "zerolinecolor": "white",
           "zerolinewidth": 2
          }
         }
        },
        "title": {
         "text": "KNN accuracy per machine"
        }
       }
      },
      "text/html": [
       "<div>                            <div id=\"d7dd2572-db60-4623-a658-de1b70a91b07\" class=\"plotly-graph-div\" style=\"height:525px; width:100%;\"></div>            <script type=\"text/javascript\">                require([\"plotly\"], function(Plotly) {                    window.PLOTLYENV=window.PLOTLYENV || {};                                    if (document.getElementById(\"d7dd2572-db60-4623-a658-de1b70a91b07\")) {                    Plotly.newPlot(                        \"d7dd2572-db60-4623-a658-de1b70a91b07\",                        [{\"marker\":{\"size\":[49.549549549549546]},\"name\":\"fan\",\"x\":[0.990990990990991],\"y\":[0.9820143884892086],\"type\":\"scatter\"},{\"marker\":{\"size\":[49.549549549549546]},\"name\":\"pump\",\"x\":[0.995243757431629],\"y\":[0.9772727272727272],\"type\":\"scatter\"},{\"marker\":{\"size\":[49.549549549549546]},\"name\":\"valve\",\"x\":[0.9688249400479616],\"y\":[0.8586956521739131],\"type\":\"scatter\"},{\"marker\":{\"size\":[49.549549549549546]},\"name\":\"slider\",\"x\":[0.9731379731379732],\"y\":[0.935672514619883],\"type\":\"scatter\"}],                        {\"template\":{\"data\":{\"bar\":[{\"error_x\":{\"color\":\"#2a3f5f\"},\"error_y\":{\"color\":\"#2a3f5f\"},\"marker\":{\"line\":{\"color\":\"#E5ECF6\",\"width\":0.5},\"pattern\":{\"fillmode\":\"overlay\",\"size\":10,\"solidity\":0.2}},\"type\":\"bar\"}],\"barpolar\":[{\"marker\":{\"line\":{\"color\":\"#E5ECF6\",\"width\":0.5},\"pattern\":{\"fillmode\":\"overlay\",\"size\":10,\"solidity\":0.2}},\"type\":\"barpolar\"}],\"carpet\":[{\"aaxis\":{\"endlinecolor\":\"#2a3f5f\",\"gridcolor\":\"white\",\"linecolor\":\"white\",\"minorgridcolor\":\"white\",\"startlinecolor\":\"#2a3f5f\"},\"baxis\":{\"endlinecolor\":\"#2a3f5f\",\"gridcolor\":\"white\",\"linecolor\":\"white\",\"minorgridcolor\":\"white\",\"startlinecolor\":\"#2a3f5f\"},\"type\":\"carpet\"}],\"choropleth\":[{\"colorbar\":{\"outlinewidth\":0,\"ticks\":\"\"},\"type\":\"choropleth\"}],\"contour\":[{\"colorbar\":{\"outlinewidth\":0,\"ticks\":\"\"},\"colorscale\":[[0.0,\"#0d0887\"],[0.1111111111111111,\"#46039f\"],[0.2222222222222222,\"#7201a8\"],[0.3333333333333333,\"#9c179e\"],[0.4444444444444444,\"#bd3786\"],[0.5555555555555556,\"#d8576b\"],[0.6666666666666666,\"#ed7953\"],[0.7777777777777778,\"#fb9f3a\"],[0.8888888888888888,\"#fdca26\"],[1.0,\"#f0f921\"]],\"type\":\"contour\"}],\"contourcarpet\":[{\"colorbar\":{\"outlinewidth\":0,\"ticks\":\"\"},\"type\":\"contourcarpet\"}],\"heatmap\":[{\"colorbar\":{\"outlinewidth\":0,\"ticks\":\"\"},\"colorscale\":[[0.0,\"#0d0887\"],[0.1111111111111111,\"#46039f\"],[0.2222222222222222,\"#7201a8\"],[0.3333333333333333,\"#9c179e\"],[0.4444444444444444,\"#bd3786\"],[0.5555555555555556,\"#d8576b\"],[0.6666666666666666,\"#ed7953\"],[0.7777777777777778,\"#fb9f3a\"],[0.8888888888888888,\"#fdca26\"],[1.0,\"#f0f921\"]],\"type\":\"heatmap\"}],\"heatmapgl\":[{\"colorbar\":{\"outlinewidth\":0,\"ticks\":\"\"},\"colorscale\":[[0.0,\"#0d0887\"],[0.1111111111111111,\"#46039f\"],[0.2222222222222222,\"#7201a8\"],[0.3333333333333333,\"#9c179e\"],[0.4444444444444444,\"#bd3786\"],[0.5555555555555556,\"#d8576b\"],[0.6666666666666666,\"#ed7953\"],[0.7777777777777778,\"#fb9f3a\"],[0.8888888888888888,\"#fdca26\"],[1.0,\"#f0f921\"]],\"type\":\"heatmapgl\"}],\"histogram\":[{\"marker\":{\"pattern\":{\"fillmode\":\"overlay\",\"size\":10,\"solidity\":0.2}},\"type\":\"histogram\"}],\"histogram2d\":[{\"colorbar\":{\"outlinewidth\":0,\"ticks\":\"\"},\"colorscale\":[[0.0,\"#0d0887\"],[0.1111111111111111,\"#46039f\"],[0.2222222222222222,\"#7201a8\"],[0.3333333333333333,\"#9c179e\"],[0.4444444444444444,\"#bd3786\"],[0.5555555555555556,\"#d8576b\"],[0.6666666666666666,\"#ed7953\"],[0.7777777777777778,\"#fb9f3a\"],[0.8888888888888888,\"#fdca26\"],[1.0,\"#f0f921\"]],\"type\":\"histogram2d\"}],\"histogram2dcontour\":[{\"colorbar\":{\"outlinewidth\":0,\"ticks\":\"\"},\"colorscale\":[[0.0,\"#0d0887\"],[0.1111111111111111,\"#46039f\"],[0.2222222222222222,\"#7201a8\"],[0.3333333333333333,\"#9c179e\"],[0.4444444444444444,\"#bd3786\"],[0.5555555555555556,\"#d8576b\"],[0.6666666666666666,\"#ed7953\"],[0.7777777777777778,\"#fb9f3a\"],[0.8888888888888888,\"#fdca26\"],[1.0,\"#f0f921\"]],\"type\":\"histogram2dcontour\"}],\"mesh3d\":[{\"colorbar\":{\"outlinewidth\":0,\"ticks\":\"\"},\"type\":\"mesh3d\"}],\"parcoords\":[{\"line\":{\"colorbar\":{\"outlinewidth\":0,\"ticks\":\"\"}},\"type\":\"parcoords\"}],\"pie\":[{\"automargin\":true,\"type\":\"pie\"}],\"scatter\":[{\"marker\":{\"colorbar\":{\"outlinewidth\":0,\"ticks\":\"\"}},\"type\":\"scatter\"}],\"scatter3d\":[{\"line\":{\"colorbar\":{\"outlinewidth\":0,\"ticks\":\"\"}},\"marker\":{\"colorbar\":{\"outlinewidth\":0,\"ticks\":\"\"}},\"type\":\"scatter3d\"}],\"scattercarpet\":[{\"marker\":{\"colorbar\":{\"outlinewidth\":0,\"ticks\":\"\"}},\"type\":\"scattercarpet\"}],\"scattergeo\":[{\"marker\":{\"colorbar\":{\"outlinewidth\":0,\"ticks\":\"\"}},\"type\":\"scattergeo\"}],\"scattergl\":[{\"marker\":{\"colorbar\":{\"outlinewidth\":0,\"ticks\":\"\"}},\"type\":\"scattergl\"}],\"scattermapbox\":[{\"marker\":{\"colorbar\":{\"outlinewidth\":0,\"ticks\":\"\"}},\"type\":\"scattermapbox\"}],\"scatterpolar\":[{\"marker\":{\"colorbar\":{\"outlinewidth\":0,\"ticks\":\"\"}},\"type\":\"scatterpolar\"}],\"scatterpolargl\":[{\"marker\":{\"colorbar\":{\"outlinewidth\":0,\"ticks\":\"\"}},\"type\":\"scatterpolargl\"}],\"scatterternary\":[{\"marker\":{\"colorbar\":{\"outlinewidth\":0,\"ticks\":\"\"}},\"type\":\"scatterternary\"}],\"surface\":[{\"colorbar\":{\"outlinewidth\":0,\"ticks\":\"\"},\"colorscale\":[[0.0,\"#0d0887\"],[0.1111111111111111,\"#46039f\"],[0.2222222222222222,\"#7201a8\"],[0.3333333333333333,\"#9c179e\"],[0.4444444444444444,\"#bd3786\"],[0.5555555555555556,\"#d8576b\"],[0.6666666666666666,\"#ed7953\"],[0.7777777777777778,\"#fb9f3a\"],[0.8888888888888888,\"#fdca26\"],[1.0,\"#f0f921\"]],\"type\":\"surface\"}],\"table\":[{\"cells\":{\"fill\":{\"color\":\"#EBF0F8\"},\"line\":{\"color\":\"white\"}},\"header\":{\"fill\":{\"color\":\"#C8D4E3\"},\"line\":{\"color\":\"white\"}},\"type\":\"table\"}]},\"layout\":{\"annotationdefaults\":{\"arrowcolor\":\"#2a3f5f\",\"arrowhead\":0,\"arrowwidth\":1},\"autotypenumbers\":\"strict\",\"coloraxis\":{\"colorbar\":{\"outlinewidth\":0,\"ticks\":\"\"}},\"colorscale\":{\"diverging\":[[0,\"#8e0152\"],[0.1,\"#c51b7d\"],[0.2,\"#de77ae\"],[0.3,\"#f1b6da\"],[0.4,\"#fde0ef\"],[0.5,\"#f7f7f7\"],[0.6,\"#e6f5d0\"],[0.7,\"#b8e186\"],[0.8,\"#7fbc41\"],[0.9,\"#4d9221\"],[1,\"#276419\"]],\"sequential\":[[0.0,\"#0d0887\"],[0.1111111111111111,\"#46039f\"],[0.2222222222222222,\"#7201a8\"],[0.3333333333333333,\"#9c179e\"],[0.4444444444444444,\"#bd3786\"],[0.5555555555555556,\"#d8576b\"],[0.6666666666666666,\"#ed7953\"],[0.7777777777777778,\"#fb9f3a\"],[0.8888888888888888,\"#fdca26\"],[1.0,\"#f0f921\"]],\"sequentialminus\":[[0.0,\"#0d0887\"],[0.1111111111111111,\"#46039f\"],[0.2222222222222222,\"#7201a8\"],[0.3333333333333333,\"#9c179e\"],[0.4444444444444444,\"#bd3786\"],[0.5555555555555556,\"#d8576b\"],[0.6666666666666666,\"#ed7953\"],[0.7777777777777778,\"#fb9f3a\"],[0.8888888888888888,\"#fdca26\"],[1.0,\"#f0f921\"]]},\"colorway\":[\"#636efa\",\"#EF553B\",\"#00cc96\",\"#ab63fa\",\"#FFA15A\",\"#19d3f3\",\"#FF6692\",\"#B6E880\",\"#FF97FF\",\"#FECB52\"],\"font\":{\"color\":\"#2a3f5f\"},\"geo\":{\"bgcolor\":\"white\",\"lakecolor\":\"white\",\"landcolor\":\"#E5ECF6\",\"showlakes\":true,\"showland\":true,\"subunitcolor\":\"white\"},\"hoverlabel\":{\"align\":\"left\"},\"hovermode\":\"closest\",\"mapbox\":{\"style\":\"light\"},\"paper_bgcolor\":\"white\",\"plot_bgcolor\":\"#E5ECF6\",\"polar\":{\"angularaxis\":{\"gridcolor\":\"white\",\"linecolor\":\"white\",\"ticks\":\"\"},\"bgcolor\":\"#E5ECF6\",\"radialaxis\":{\"gridcolor\":\"white\",\"linecolor\":\"white\",\"ticks\":\"\"}},\"scene\":{\"xaxis\":{\"backgroundcolor\":\"#E5ECF6\",\"gridcolor\":\"white\",\"gridwidth\":2,\"linecolor\":\"white\",\"showbackground\":true,\"ticks\":\"\",\"zerolinecolor\":\"white\"},\"yaxis\":{\"backgroundcolor\":\"#E5ECF6\",\"gridcolor\":\"white\",\"gridwidth\":2,\"linecolor\":\"white\",\"showbackground\":true,\"ticks\":\"\",\"zerolinecolor\":\"white\"},\"zaxis\":{\"backgroundcolor\":\"#E5ECF6\",\"gridcolor\":\"white\",\"gridwidth\":2,\"linecolor\":\"white\",\"showbackground\":true,\"ticks\":\"\",\"zerolinecolor\":\"white\"}},\"shapedefaults\":{\"line\":{\"color\":\"#2a3f5f\"}},\"ternary\":{\"aaxis\":{\"gridcolor\":\"white\",\"linecolor\":\"white\",\"ticks\":\"\"},\"baxis\":{\"gridcolor\":\"white\",\"linecolor\":\"white\",\"ticks\":\"\"},\"bgcolor\":\"#E5ECF6\",\"caxis\":{\"gridcolor\":\"white\",\"linecolor\":\"white\",\"ticks\":\"\"}},\"title\":{\"x\":0.05},\"xaxis\":{\"automargin\":true,\"gridcolor\":\"white\",\"linecolor\":\"white\",\"ticks\":\"\",\"title\":{\"standoff\":15},\"zerolinecolor\":\"white\",\"zerolinewidth\":2},\"yaxis\":{\"automargin\":true,\"gridcolor\":\"white\",\"linecolor\":\"white\",\"ticks\":\"\",\"title\":{\"standoff\":15},\"zerolinecolor\":\"white\",\"zerolinewidth\":2}}},\"title\":{\"text\":\"KNN accuracy per machine\"}},                        {\"responsive\": true}                    ).then(function(){\n",
       "                            \n",
       "var gd = document.getElementById('d7dd2572-db60-4623-a658-de1b70a91b07');\n",
       "var x = new MutationObserver(function (mutations, observer) {{\n",
       "        var display = window.getComputedStyle(gd).display;\n",
       "        if (!display || display === 'none') {{\n",
       "            console.log([gd, 'removed!']);\n",
       "            Plotly.purge(gd);\n",
       "            observer.disconnect();\n",
       "        }}\n",
       "}});\n",
       "\n",
       "// Listen for the removal of the full notebook cells\n",
       "var notebookContainer = gd.closest('#notebook-container');\n",
       "if (notebookContainer) {{\n",
       "    x.observe(notebookContainer, {childList: true});\n",
       "}}\n",
       "\n",
       "// Listen for the clearing of the current output cell\n",
       "var outputEl = gd.closest('.output');\n",
       "if (outputEl) {{\n",
       "    x.observe(outputEl, {childList: true});\n",
       "}}\n",
       "\n",
       "                        })                };                });            </script>        </div>"
      ]
     },
     "metadata": {},
     "output_type": "display_data"
    }
   ],
   "source": [
    "fig = go.Figure()\n",
    "\n",
    "fig.add_trace(go.Scatter(\n",
    "    x=fan['accuracy'],\n",
    "    y=fan['precision'],\n",
    "    name='fan',\n",
    "    marker_size=fan['accuracy']*50\n",
    "))\n",
    "fig.add_trace(go.Scatter(\n",
    "    x=pump['accuracy'],\n",
    "    y=pump['precision'],\n",
    "    name='pump',\n",
    "    marker_size=fan['accuracy']*50\n",
    "))\n",
    "fig.add_trace(go.Scatter(\n",
    "    x=valve['accuracy'],\n",
    "    y=valve['precision'],\n",
    "    name='valve',\n",
    "    marker_size=fan['accuracy']*50\n",
    "))\n",
    "fig.add_trace(go.Scatter(\n",
    "    x=slider['accuracy'],\n",
    "    y=slider['precision'],\n",
    "    name='slider',\n",
    "    marker_size=fan['accuracy']*50\n",
    "))\n",
    "fig.update_layout(\n",
    "    title = 'KNN accuracy per machine'\n",
    ")\n",
    "fig.write_image(\"acc_per_machine.png\")\n",
    "\n",
    "fig.show()\n"
   ]
  },
  {
   "cell_type": "code",
   "execution_count": null,
   "id": "130377e7",
   "metadata": {},
   "outputs": [],
   "source": []
  }
 ],
 "metadata": {
  "kernelspec": {
   "display_name": "Python 3 (ipykernel)",
   "language": "python",
   "name": "python3"
  },
  "language_info": {
   "codemirror_mode": {
    "name": "ipython",
    "version": 3
   },
   "file_extension": ".py",
   "mimetype": "text/x-python",
   "name": "python",
   "nbconvert_exporter": "python",
   "pygments_lexer": "ipython3",
   "version": "3.8.12"
  }
 },
 "nbformat": 4,
 "nbformat_minor": 5
}
