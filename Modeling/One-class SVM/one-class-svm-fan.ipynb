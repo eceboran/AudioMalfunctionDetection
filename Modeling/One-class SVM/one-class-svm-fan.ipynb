{
 "cells": [
  {
   "cell_type": "code",
   "execution_count": 1,
   "id": "5bff5c64",
   "metadata": {},
   "outputs": [],
   "source": [
    "# Import necessary libraries\n",
    "import sys\n",
    "sys.path.insert(0, \"..\\\\..\\\\\")  # add the parent directory to path\n",
    "import os\n",
    "import numpy as np\n",
    "import pandas as pd\n",
    "import random\n",
    "import matplotlib.pyplot as plt\n",
    "import seaborn as sn\n",
    "import plotly.express as px\n",
    "from plotly.subplots import make_subplots\n",
    "import plotly.graph_objects as go\n",
    "import librosa\n",
    "import librosa.display\n",
    "from sklearn.svm import OneClassSVM\n",
    "from sklearn import metrics\n",
    "import plotly.express as px\n",
    "import pickle\n",
    "\n",
    "from utils.get_mel_spectrogram import get_mel_spectrogram\n",
    "from utils.get_melspec_features_from_files import get_melspec_features_from_files\n",
    "from utils.confusion_metrics import confusion_metrics\n",
    "from utils.train_test_one_class_svm import train_test_one_class_svm\n",
    "from utils.get_train_test_data import get_train_test_data\n",
    "from utils.add_train_test_labels_to_dataframe import add_train_test_labels_to_dataframe"
   ]
  },
  {
   "cell_type": "code",
   "execution_count": 2,
   "id": "e9f320dc",
   "metadata": {},
   "outputs": [],
   "source": [
    "# Directories\n",
    "parent_dir = os.path.abspath('..\\\\..\\\\')  # main directory\n",
    "# Audio data directory\n",
    "data_dir = os.path.join(parent_dir, 'data', 'source')  # audio data directory\n",
    "# Metada directory\n",
    "metadata_dir = os.path.join(parent_dir, 'data', 'metadata')  # metadata directory"
   ]
  },
  {
   "cell_type": "code",
   "execution_count": 3,
   "id": "b334d6b5",
   "metadata": {},
   "outputs": [
    {
     "data": {
      "text/html": [
       "<div>\n",
       "<style scoped>\n",
       "    .dataframe tbody tr th:only-of-type {\n",
       "        vertical-align: middle;\n",
       "    }\n",
       "\n",
       "    .dataframe tbody tr th {\n",
       "        vertical-align: top;\n",
       "    }\n",
       "\n",
       "    .dataframe thead th {\n",
       "        text-align: right;\n",
       "    }\n",
       "</style>\n",
       "<table border=\"1\" class=\"dataframe\">\n",
       "  <thead>\n",
       "    <tr style=\"text-align: right;\">\n",
       "      <th></th>\n",
       "      <th>machine</th>\n",
       "      <th>model</th>\n",
       "      <th>anomaly</th>\n",
       "      <th>file_name</th>\n",
       "      <th>file_rel_path</th>\n",
       "      <th>duration_s</th>\n",
       "      <th>fs_Hz</th>\n",
       "      <th>SNR_dB</th>\n",
       "    </tr>\n",
       "    <tr>\n",
       "      <th>file_no</th>\n",
       "      <th></th>\n",
       "      <th></th>\n",
       "      <th></th>\n",
       "      <th></th>\n",
       "      <th></th>\n",
       "      <th></th>\n",
       "      <th></th>\n",
       "      <th></th>\n",
       "    </tr>\n",
       "  </thead>\n",
       "  <tbody>\n",
       "    <tr>\n",
       "      <th>0</th>\n",
       "      <td>fan</td>\n",
       "      <td>0</td>\n",
       "      <td>1</td>\n",
       "      <td>00000000.wav</td>\n",
       "      <td>6_dB_fan\\fan\\id_00\\abnormal\\00000000.wav</td>\n",
       "      <td>10.0</td>\n",
       "      <td>16000</td>\n",
       "      <td>6</td>\n",
       "    </tr>\n",
       "    <tr>\n",
       "      <th>1</th>\n",
       "      <td>fan</td>\n",
       "      <td>0</td>\n",
       "      <td>1</td>\n",
       "      <td>00000001.wav</td>\n",
       "      <td>6_dB_fan\\fan\\id_00\\abnormal\\00000001.wav</td>\n",
       "      <td>10.0</td>\n",
       "      <td>16000</td>\n",
       "      <td>6</td>\n",
       "    </tr>\n",
       "    <tr>\n",
       "      <th>2</th>\n",
       "      <td>fan</td>\n",
       "      <td>0</td>\n",
       "      <td>1</td>\n",
       "      <td>00000002.wav</td>\n",
       "      <td>6_dB_fan\\fan\\id_00\\abnormal\\00000002.wav</td>\n",
       "      <td>10.0</td>\n",
       "      <td>16000</td>\n",
       "      <td>6</td>\n",
       "    </tr>\n",
       "    <tr>\n",
       "      <th>3</th>\n",
       "      <td>fan</td>\n",
       "      <td>0</td>\n",
       "      <td>1</td>\n",
       "      <td>00000003.wav</td>\n",
       "      <td>6_dB_fan\\fan\\id_00\\abnormal\\00000003.wav</td>\n",
       "      <td>10.0</td>\n",
       "      <td>16000</td>\n",
       "      <td>6</td>\n",
       "    </tr>\n",
       "    <tr>\n",
       "      <th>4</th>\n",
       "      <td>fan</td>\n",
       "      <td>0</td>\n",
       "      <td>1</td>\n",
       "      <td>00000004.wav</td>\n",
       "      <td>6_dB_fan\\fan\\id_00\\abnormal\\00000004.wav</td>\n",
       "      <td>10.0</td>\n",
       "      <td>16000</td>\n",
       "      <td>6</td>\n",
       "    </tr>\n",
       "    <tr>\n",
       "      <th>...</th>\n",
       "      <td>...</td>\n",
       "      <td>...</td>\n",
       "      <td>...</td>\n",
       "      <td>...</td>\n",
       "      <td>...</td>\n",
       "      <td>...</td>\n",
       "      <td>...</td>\n",
       "      <td>...</td>\n",
       "    </tr>\n",
       "    <tr>\n",
       "      <th>18014</th>\n",
       "      <td>valve</td>\n",
       "      <td>6</td>\n",
       "      <td>0</td>\n",
       "      <td>00000987.wav</td>\n",
       "      <td>6_dB_valve\\valve\\id_06\\normal\\00000987.wav</td>\n",
       "      <td>10.0</td>\n",
       "      <td>16000</td>\n",
       "      <td>6</td>\n",
       "    </tr>\n",
       "    <tr>\n",
       "      <th>18015</th>\n",
       "      <td>valve</td>\n",
       "      <td>6</td>\n",
       "      <td>0</td>\n",
       "      <td>00000988.wav</td>\n",
       "      <td>6_dB_valve\\valve\\id_06\\normal\\00000988.wav</td>\n",
       "      <td>10.0</td>\n",
       "      <td>16000</td>\n",
       "      <td>6</td>\n",
       "    </tr>\n",
       "    <tr>\n",
       "      <th>18016</th>\n",
       "      <td>valve</td>\n",
       "      <td>6</td>\n",
       "      <td>0</td>\n",
       "      <td>00000989.wav</td>\n",
       "      <td>6_dB_valve\\valve\\id_06\\normal\\00000989.wav</td>\n",
       "      <td>10.0</td>\n",
       "      <td>16000</td>\n",
       "      <td>6</td>\n",
       "    </tr>\n",
       "    <tr>\n",
       "      <th>18017</th>\n",
       "      <td>valve</td>\n",
       "      <td>6</td>\n",
       "      <td>0</td>\n",
       "      <td>00000990.wav</td>\n",
       "      <td>6_dB_valve\\valve\\id_06\\normal\\00000990.wav</td>\n",
       "      <td>10.0</td>\n",
       "      <td>16000</td>\n",
       "      <td>6</td>\n",
       "    </tr>\n",
       "    <tr>\n",
       "      <th>18018</th>\n",
       "      <td>valve</td>\n",
       "      <td>6</td>\n",
       "      <td>0</td>\n",
       "      <td>00000991.wav</td>\n",
       "      <td>6_dB_valve\\valve\\id_06\\normal\\00000991.wav</td>\n",
       "      <td>10.0</td>\n",
       "      <td>16000</td>\n",
       "      <td>6</td>\n",
       "    </tr>\n",
       "  </tbody>\n",
       "</table>\n",
       "<p>18019 rows × 8 columns</p>\n",
       "</div>"
      ],
      "text/plain": [
       "        machine  model  anomaly     file_name  \\\n",
       "file_no                                         \n",
       "0           fan      0        1  00000000.wav   \n",
       "1           fan      0        1  00000001.wav   \n",
       "2           fan      0        1  00000002.wav   \n",
       "3           fan      0        1  00000003.wav   \n",
       "4           fan      0        1  00000004.wav   \n",
       "...         ...    ...      ...           ...   \n",
       "18014     valve      6        0  00000987.wav   \n",
       "18015     valve      6        0  00000988.wav   \n",
       "18016     valve      6        0  00000989.wav   \n",
       "18017     valve      6        0  00000990.wav   \n",
       "18018     valve      6        0  00000991.wav   \n",
       "\n",
       "                                      file_rel_path  duration_s  fs_Hz  SNR_dB  \n",
       "file_no                                                                         \n",
       "0          6_dB_fan\\fan\\id_00\\abnormal\\00000000.wav        10.0  16000       6  \n",
       "1          6_dB_fan\\fan\\id_00\\abnormal\\00000001.wav        10.0  16000       6  \n",
       "2          6_dB_fan\\fan\\id_00\\abnormal\\00000002.wav        10.0  16000       6  \n",
       "3          6_dB_fan\\fan\\id_00\\abnormal\\00000003.wav        10.0  16000       6  \n",
       "4          6_dB_fan\\fan\\id_00\\abnormal\\00000004.wav        10.0  16000       6  \n",
       "...                                             ...         ...    ...     ...  \n",
       "18014    6_dB_valve\\valve\\id_06\\normal\\00000987.wav        10.0  16000       6  \n",
       "18015    6_dB_valve\\valve\\id_06\\normal\\00000988.wav        10.0  16000       6  \n",
       "18016    6_dB_valve\\valve\\id_06\\normal\\00000989.wav        10.0  16000       6  \n",
       "18017    6_dB_valve\\valve\\id_06\\normal\\00000990.wav        10.0  16000       6  \n",
       "18018    6_dB_valve\\valve\\id_06\\normal\\00000991.wav        10.0  16000       6  \n",
       "\n",
       "[18019 rows x 8 columns]"
      ]
     },
     "execution_count": 3,
     "metadata": {},
     "output_type": "execute_result"
    }
   ],
   "source": [
    "# Read the metadata file\n",
    "df = pd.read_csv(os.path.join(metadata_dir, 'metadata.csv'), header=0, index_col=0)\n",
    "df"
   ]
  },
  {
   "cell_type": "code",
   "execution_count": 4,
   "id": "a848232f",
   "metadata": {},
   "outputs": [
    {
     "data": {
      "text/html": [
       "<div>\n",
       "<style scoped>\n",
       "    .dataframe tbody tr th:only-of-type {\n",
       "        vertical-align: middle;\n",
       "    }\n",
       "\n",
       "    .dataframe tbody tr th {\n",
       "        vertical-align: top;\n",
       "    }\n",
       "\n",
       "    .dataframe thead th {\n",
       "        text-align: right;\n",
       "    }\n",
       "</style>\n",
       "<table border=\"1\" class=\"dataframe\">\n",
       "  <thead>\n",
       "    <tr style=\"text-align: right;\">\n",
       "      <th></th>\n",
       "      <th>model</th>\n",
       "      <th>anomaly</th>\n",
       "      <th>count</th>\n",
       "    </tr>\n",
       "  </thead>\n",
       "  <tbody>\n",
       "    <tr>\n",
       "      <th>0</th>\n",
       "      <td>0</td>\n",
       "      <td>0</td>\n",
       "      <td>607</td>\n",
       "    </tr>\n",
       "    <tr>\n",
       "      <th>1</th>\n",
       "      <td>0</td>\n",
       "      <td>1</td>\n",
       "      <td>244</td>\n",
       "    </tr>\n",
       "    <tr>\n",
       "      <th>2</th>\n",
       "      <td>2</td>\n",
       "      <td>0</td>\n",
       "      <td>610</td>\n",
       "    </tr>\n",
       "    <tr>\n",
       "      <th>3</th>\n",
       "      <td>2</td>\n",
       "      <td>1</td>\n",
       "      <td>215</td>\n",
       "    </tr>\n",
       "    <tr>\n",
       "      <th>4</th>\n",
       "      <td>4</td>\n",
       "      <td>0</td>\n",
       "      <td>620</td>\n",
       "    </tr>\n",
       "    <tr>\n",
       "      <th>5</th>\n",
       "      <td>4</td>\n",
       "      <td>1</td>\n",
       "      <td>209</td>\n",
       "    </tr>\n",
       "    <tr>\n",
       "      <th>6</th>\n",
       "      <td>6</td>\n",
       "      <td>0</td>\n",
       "      <td>609</td>\n",
       "    </tr>\n",
       "    <tr>\n",
       "      <th>7</th>\n",
       "      <td>6</td>\n",
       "      <td>1</td>\n",
       "      <td>217</td>\n",
       "    </tr>\n",
       "  </tbody>\n",
       "</table>\n",
       "</div>"
      ],
      "text/plain": [
       "   model  anomaly  count\n",
       "0      0        0    607\n",
       "1      0        1    244\n",
       "2      2        0    610\n",
       "3      2        1    215\n",
       "4      4        0    620\n",
       "5      4        1    209\n",
       "6      6        0    609\n",
       "7      6        1    217"
      ]
     },
     "execution_count": 4,
     "metadata": {},
     "output_type": "execute_result"
    }
   ],
   "source": [
    "# Randomly select a subset of samples for a single machine\n",
    "machine = 'fan'\n",
    "df_machine = df[df.machine=='fan']\n",
    "\n",
    "df_machine = df_machine.groupby([\"model\", \"anomaly\"]).sample(frac=0.6, random_state=13)\n",
    "df_machine.groupby([\"model\", \"anomaly\"])['file_name'].count().reset_index(name='count')"
   ]
  },
  {
   "cell_type": "code",
   "execution_count": 5,
   "id": "9f828ce4",
   "metadata": {},
   "outputs": [
    {
     "name": "stdout",
     "output_type": "stream",
     "text": [
      "{'window': 0.5, 'window_length': 8000, 'overlap': 0.25, 'overlap_length': 2000, 'hop_length': 6000, 'n_fft': 8192, 'n_mels': 64, 'fmin': 0, 'fmax': 8000.0, 'mel_center_freq': array([  46.875   ,   93.75    ,  138.671875,  185.546875,  232.421875,\n",
      "        279.296875,  324.21875 ,  371.09375 ,  417.96875 ,  464.84375 ,\n",
      "        509.765625,  556.640625,  603.515625,  650.390625,  695.3125  ,\n",
      "        742.1875  ,  789.0625  ,  835.9375  ,  880.859375,  927.734375,\n",
      "        974.609375, 1021.484375, 1072.265625, 1125.      , 1179.6875  ,\n",
      "       1238.28125 , 1298.828125, 1361.328125, 1427.734375, 1498.046875,\n",
      "       1572.265625, 1648.4375  , 1730.46875 , 1814.453125, 1904.296875,\n",
      "       1996.09375 , 2095.703125, 2197.265625, 2304.6875  , 2417.96875 ,\n",
      "       2537.109375, 2660.15625 , 2791.015625, 2927.734375, 3072.265625,\n",
      "       3222.65625 , 3380.859375, 3546.875   , 3720.703125, 3902.34375 ,\n",
      "       4093.75    , 4294.921875, 4503.90625 , 4726.5625  , 4957.03125 ,\n",
      "       5201.171875, 5455.078125, 5722.65625 , 6003.90625 , 6296.875   ,\n",
      "       6605.46875 , 6929.6875  , 7269.53125 , 7626.953125])}\n",
      "Size of mel_spect: (64, 27), total number of points: 1728\n"
     ]
    },
    {
     "data": {
      "image/png": "[encoded data removed]",
      "text/plain": [
       "<Figure size 432x288 with 2 Axes>"
      ]
     },
     "metadata": {
      "needs_background": "light"
     },
     "output_type": "display_data"
    }
   ],
   "source": [
    "# Compute and plot mel spectrogram\n",
    "no_file = 2\n",
    "file_path = os.path.join(data_dir, df_machine.iloc[no_file].file_rel_path)\n",
    "fs = df_machine.iloc[no_file].fs_Hz\n",
    "window = 0.5 # 2\n",
    "n_mels = 64\n",
    "mel_spect, mel_spect_db, mfcc, params = get_mel_spectrogram(file_path, window=window, overlap=0.25, n_mels=n_mels, machine='pump') \n",
    "\n",
    "print(params)\n",
    "\n",
    "print(f\"Size of mel_spect: {mel_spect.shape}, total number of points: {mel_spect.size}\")\n",
    "librosa.display.specshow(mel_spect_db, sr=fs, hop_length=params['overlap_length'], x_axis='time', y_axis='mel');\n",
    "\n",
    "plt.title(f\"Mel Spectrogram, window size {params['window']} s, anomaly {df_machine.iloc[no_file].anomaly}\");\n",
    "plt.colorbar(format='%+2.0f dB');"
   ]
  },
  {
   "cell_type": "code",
   "execution_count": 6,
   "id": "0addec10",
   "metadata": {},
   "outputs": [
    {
     "data": {
      "text/plain": [
       "array([  46.875   ,   93.75    ,  138.671875,  185.546875,  232.421875,\n",
       "        279.296875,  324.21875 ,  371.09375 ,  417.96875 ,  464.84375 ,\n",
       "        509.765625,  556.640625,  603.515625,  650.390625,  695.3125  ,\n",
       "        742.1875  ,  789.0625  ,  835.9375  ,  880.859375,  927.734375,\n",
       "        974.609375, 1021.484375, 1072.265625, 1125.      , 1179.6875  ,\n",
       "       1238.28125 , 1298.828125, 1361.328125, 1427.734375, 1498.046875,\n",
       "       1572.265625, 1648.4375  , 1730.46875 , 1814.453125, 1904.296875,\n",
       "       1996.09375 , 2095.703125, 2197.265625, 2304.6875  , 2417.96875 ,\n",
       "       2537.109375, 2660.15625 , 2791.015625, 2927.734375, 3072.265625,\n",
       "       3222.65625 , 3380.859375, 3546.875   , 3720.703125, 3902.34375 ,\n",
       "       4093.75    , 4294.921875, 4503.90625 , 4726.5625  , 4957.03125 ,\n",
       "       5201.171875, 5455.078125, 5722.65625 , 6003.90625 , 6296.875   ,\n",
       "       6605.46875 , 6929.6875  , 7269.53125 , 7626.953125])"
      ]
     },
     "execution_count": 6,
     "metadata": {},
     "output_type": "execute_result"
    },
    {
     "data": {
      "image/png": "[encoded data removed]",
      "text/plain": [
       "<Figure size 432x288 with 1 Axes>"
      ]
     },
     "metadata": {
      "needs_background": "light"
     },
     "output_type": "display_data"
    }
   ],
   "source": [
    "# Centers of mel frequency bands\n",
    "plt.scatter(range(len(params['mel_center_freq'])), params['mel_center_freq'])\n",
    "params['mel_center_freq']"
   ]
  },
  {
   "cell_type": "code",
   "execution_count": 7,
   "id": "8293d641",
   "metadata": {},
   "outputs": [
    {
     "name": "stdout",
     "output_type": "stream",
     "text": [
      "(3331, 1728)\n",
      "(3331, 1)\n"
     ]
    }
   ],
   "source": [
    "window = 0.5\n",
    "n_mels = 64\n",
    "overlap = 0.25\n",
    "\n",
    "X, y, params = get_melspec_features_from_files(data_dir, df_machine, window, n_mels, overlap)\n",
    "print(X.shape)\n",
    "print(y.shape)"
   ]
  },
  {
   "cell_type": "code",
   "execution_count": 8,
   "id": "6a619dee",
   "metadata": {},
   "outputs": [],
   "source": [
    "# Add labels for training and test\n",
    "df_machine = add_train_test_labels_to_dataframe(df_machine, no_seed=12)"
   ]
  },
  {
   "cell_type": "code",
   "execution_count": 9,
   "id": "7bb4b772",
   "metadata": {},
   "outputs": [],
   "source": [
    "# Get training and test samples\n",
    "X_train, X_test, y_train, y_test = get_train_test_data(X, y, df_machine)"
   ]
  },
  {
   "cell_type": "code",
   "execution_count": 10,
   "id": "4c490a01",
   "metadata": {},
   "outputs": [
    {
     "data": {
      "text/plain": [
       "(array([  8.,  30.,  93., 137., 250., 375., 293., 225., 129.,  21.]),\n",
       " array([-17.61065   , -15.133265  , -12.65588   , -10.178495  ,\n",
       "         -7.701111  ,  -5.2237263 ,  -2.7463417 ,  -0.26895714,\n",
       "          2.2084274 ,   4.685812  ,   7.1631966 ], dtype=float32),\n",
       " <BarContainer object of 10 artists>)"
      ]
     },
     "execution_count": 10,
     "metadata": {},
     "output_type": "execute_result"
    },
    {
     "data": {
      "image/png": "[encoded data removed]",
      "text/plain": [
       "<Figure size 432x288 with 1 Axes>"
      ]
     },
     "metadata": {
      "needs_background": "light"
     },
     "output_type": "display_data"
    }
   ],
   "source": [
    "# Histogram of features\n",
    "plt.hist(X_train[:,10])"
   ]
  },
  {
   "cell_type": "code",
   "execution_count": 11,
   "id": "a52f2958",
   "metadata": {},
   "outputs": [
    {
     "name": "stderr",
     "output_type": "stream",
     "text": [
      "C:\\Users\\ecebo\\MyRepos\\AudioMalfunctionDetection\\Modeling\\One-class SVM\\..\\..\\utils\\confusion_metrics.py:30: RuntimeWarning: invalid value encountered in double_scalars\n",
      "  f1 = 2 * ((precision * sensitivity) / (precision + sensitivity))\n"
     ]
    }
   ],
   "source": [
    "# One class svm \n",
    "gamma = 0.01\n",
    "nu = 0.01\n",
    "prctle = 2\n",
    "out_class = train_test_one_class_svm(X_train, X_test, y_train, y_test, \n",
    "                                     kernel='rbf', gamma=gamma, nu=nu, prctle=prctle, normalize=\"min-max\")\n",
    "# return OneClassSVM, report, cm_train, cm_test, out_metrics_train, out_metrics_test, params"
   ]
  },
  {
   "cell_type": "code",
   "execution_count": 13,
   "id": "e8e9749a",
   "metadata": {},
   "outputs": [
    {
     "data": {
      "image/png": "[encoded data removed]",
      "text/plain": [
       "<Figure size 432x288 with 2 Axes>"
      ]
     },
     "metadata": {},
     "output_type": "display_data"
    },
    {
     "name": "stdout",
     "output_type": "stream",
     "text": [
      "              precision    recall  f1-score   support\n",
      "\n",
      "           0       0.72      0.97      0.83       885\n",
      "           1       0.96      0.62      0.76       885\n",
      "\n",
      "    accuracy                           0.80      1770\n",
      "   macro avg       0.84      0.80      0.79      1770\n",
      "weighted avg       0.84      0.80      0.79      1770\n",
      "\n"
     ]
    }
   ],
   "source": [
    "cm_plot = out_class[3]\n",
    "df_cm = pd.DataFrame(cm_plot, range(cm_plot.shape[0]), range(cm_plot.shape[1]))\n",
    "sn.set(font_scale=1.4) # for label size\n",
    "sn.heatmap(df_cm, annot=True, annot_kws={\"size\": 16}) # font size\n",
    "\n",
    "plt.show()\n",
    "\n",
    "print(out_class[1])"
   ]
  },
  {
   "cell_type": "code",
   "execution_count": null,
   "id": "4df47eea",
   "metadata": {},
   "outputs": [],
   "source": []
  },
  {
   "cell_type": "code",
   "execution_count": null,
   "id": "e47c72c1",
   "metadata": {
    "scrolled": true
   },
   "outputs": [
    {
     "name": "stdout",
     "output_type": "stream",
     "text": [
      "0.0001 1\n"
     ]
    },
    {
     "name": "stderr",
     "output_type": "stream",
     "text": [
      "C:\\Users\\ecebo\\MyRepos\\AudioMalfunctionDetection\\Modeling\\One-class SVM\\..\\..\\utils\\confusion_metrics.py:30: RuntimeWarning: invalid value encountered in double_scalars\n",
      "  f1 = 2 * ((precision * sensitivity) / (precision + sensitivity))\n"
     ]
    },
    {
     "name": "stdout",
     "output_type": "stream",
     "text": [
      "0.0001 2\n"
     ]
    },
    {
     "name": "stderr",
     "output_type": "stream",
     "text": [
      "C:\\Users\\ecebo\\MyRepos\\AudioMalfunctionDetection\\Modeling\\One-class SVM\\..\\..\\utils\\confusion_metrics.py:30: RuntimeWarning: invalid value encountered in double_scalars\n",
      "  f1 = 2 * ((precision * sensitivity) / (precision + sensitivity))\n"
     ]
    },
    {
     "name": "stdout",
     "output_type": "stream",
     "text": [
      "0.0001 3\n"
     ]
    },
    {
     "name": "stderr",
     "output_type": "stream",
     "text": [
      "C:\\Users\\ecebo\\MyRepos\\AudioMalfunctionDetection\\Modeling\\One-class SVM\\..\\..\\utils\\confusion_metrics.py:30: RuntimeWarning: invalid value encountered in double_scalars\n",
      "  f1 = 2 * ((precision * sensitivity) / (precision + sensitivity))\n"
     ]
    },
    {
     "name": "stdout",
     "output_type": "stream",
     "text": [
      "0.0001 4\n"
     ]
    },
    {
     "name": "stderr",
     "output_type": "stream",
     "text": [
      "C:\\Users\\ecebo\\MyRepos\\AudioMalfunctionDetection\\Modeling\\One-class SVM\\..\\..\\utils\\confusion_metrics.py:30: RuntimeWarning: invalid value encountered in double_scalars\n",
      "  f1 = 2 * ((precision * sensitivity) / (precision + sensitivity))\n"
     ]
    },
    {
     "name": "stdout",
     "output_type": "stream",
     "text": [
      "0.0001 5\n"
     ]
    },
    {
     "name": "stderr",
     "output_type": "stream",
     "text": [
      "C:\\Users\\ecebo\\MyRepos\\AudioMalfunctionDetection\\Modeling\\One-class SVM\\..\\..\\utils\\confusion_metrics.py:30: RuntimeWarning: invalid value encountered in double_scalars\n",
      "  f1 = 2 * ((precision * sensitivity) / (precision + sensitivity))\n"
     ]
    },
    {
     "name": "stdout",
     "output_type": "stream",
     "text": [
      "0.0001 6\n"
     ]
    },
    {
     "name": "stderr",
     "output_type": "stream",
     "text": [
      "C:\\Users\\ecebo\\MyRepos\\AudioMalfunctionDetection\\Modeling\\One-class SVM\\..\\..\\utils\\confusion_metrics.py:30: RuntimeWarning: invalid value encountered in double_scalars\n",
      "  f1 = 2 * ((precision * sensitivity) / (precision + sensitivity))\n"
     ]
    },
    {
     "name": "stdout",
     "output_type": "stream",
     "text": [
      "0.0001 7\n"
     ]
    },
    {
     "name": "stderr",
     "output_type": "stream",
     "text": [
      "C:\\Users\\ecebo\\MyRepos\\AudioMalfunctionDetection\\Modeling\\One-class SVM\\..\\..\\utils\\confusion_metrics.py:30: RuntimeWarning: invalid value encountered in double_scalars\n",
      "  f1 = 2 * ((precision * sensitivity) / (precision + sensitivity))\n"
     ]
    },
    {
     "name": "stdout",
     "output_type": "stream",
     "text": [
      "0.0001 8\n"
     ]
    },
    {
     "name": "stderr",
     "output_type": "stream",
     "text": [
      "C:\\Users\\ecebo\\MyRepos\\AudioMalfunctionDetection\\Modeling\\One-class SVM\\..\\..\\utils\\confusion_metrics.py:30: RuntimeWarning: invalid value encountered in double_scalars\n",
      "  f1 = 2 * ((precision * sensitivity) / (precision + sensitivity))\n"
     ]
    },
    {
     "name": "stdout",
     "output_type": "stream",
     "text": [
      "0.0001 9\n"
     ]
    },
    {
     "name": "stderr",
     "output_type": "stream",
     "text": [
      "C:\\Users\\ecebo\\MyRepos\\AudioMalfunctionDetection\\Modeling\\One-class SVM\\..\\..\\utils\\confusion_metrics.py:30: RuntimeWarning: invalid value encountered in double_scalars\n",
      "  f1 = 2 * ((precision * sensitivity) / (precision + sensitivity))\n"
     ]
    },
    {
     "name": "stdout",
     "output_type": "stream",
     "text": [
      "0.0001 10\n"
     ]
    },
    {
     "name": "stderr",
     "output_type": "stream",
     "text": [
      "C:\\Users\\ecebo\\MyRepos\\AudioMalfunctionDetection\\Modeling\\One-class SVM\\..\\..\\utils\\confusion_metrics.py:30: RuntimeWarning: invalid value encountered in double_scalars\n",
      "  f1 = 2 * ((precision * sensitivity) / (precision + sensitivity))\n"
     ]
    },
    {
     "name": "stdout",
     "output_type": "stream",
     "text": [
      "0.0001 11\n"
     ]
    },
    {
     "name": "stderr",
     "output_type": "stream",
     "text": [
      "C:\\Users\\ecebo\\MyRepos\\AudioMalfunctionDetection\\Modeling\\One-class SVM\\..\\..\\utils\\confusion_metrics.py:30: RuntimeWarning: invalid value encountered in double_scalars\n",
      "  f1 = 2 * ((precision * sensitivity) / (precision + sensitivity))\n"
     ]
    },
    {
     "name": "stdout",
     "output_type": "stream",
     "text": [
      "0.0001 12\n"
     ]
    },
    {
     "name": "stderr",
     "output_type": "stream",
     "text": [
      "C:\\Users\\ecebo\\MyRepos\\AudioMalfunctionDetection\\Modeling\\One-class SVM\\..\\..\\utils\\confusion_metrics.py:30: RuntimeWarning: invalid value encountered in double_scalars\n",
      "  f1 = 2 * ((precision * sensitivity) / (precision + sensitivity))\n"
     ]
    },
    {
     "name": "stdout",
     "output_type": "stream",
     "text": [
      "0.0001 13\n"
     ]
    },
    {
     "name": "stderr",
     "output_type": "stream",
     "text": [
      "C:\\Users\\ecebo\\MyRepos\\AudioMalfunctionDetection\\Modeling\\One-class SVM\\..\\..\\utils\\confusion_metrics.py:30: RuntimeWarning: invalid value encountered in double_scalars\n",
      "  f1 = 2 * ((precision * sensitivity) / (precision + sensitivity))\n"
     ]
    },
    {
     "name": "stdout",
     "output_type": "stream",
     "text": [
      "0.0001 14\n"
     ]
    },
    {
     "name": "stderr",
     "output_type": "stream",
     "text": [
      "C:\\Users\\ecebo\\MyRepos\\AudioMalfunctionDetection\\Modeling\\One-class SVM\\..\\..\\utils\\confusion_metrics.py:30: RuntimeWarning: invalid value encountered in double_scalars\n",
      "  f1 = 2 * ((precision * sensitivity) / (precision + sensitivity))\n"
     ]
    },
    {
     "name": "stdout",
     "output_type": "stream",
     "text": [
      "0.0005 1\n"
     ]
    },
    {
     "name": "stderr",
     "output_type": "stream",
     "text": [
      "C:\\Users\\ecebo\\MyRepos\\AudioMalfunctionDetection\\Modeling\\One-class SVM\\..\\..\\utils\\confusion_metrics.py:30: RuntimeWarning: invalid value encountered in double_scalars\n",
      "  f1 = 2 * ((precision * sensitivity) / (precision + sensitivity))\n"
     ]
    },
    {
     "name": "stdout",
     "output_type": "stream",
     "text": [
      "0.0005 2\n"
     ]
    },
    {
     "name": "stderr",
     "output_type": "stream",
     "text": [
      "C:\\Users\\ecebo\\MyRepos\\AudioMalfunctionDetection\\Modeling\\One-class SVM\\..\\..\\utils\\confusion_metrics.py:30: RuntimeWarning: invalid value encountered in double_scalars\n",
      "  f1 = 2 * ((precision * sensitivity) / (precision + sensitivity))\n"
     ]
    },
    {
     "name": "stdout",
     "output_type": "stream",
     "text": [
      "0.0005 3\n"
     ]
    },
    {
     "name": "stderr",
     "output_type": "stream",
     "text": [
      "C:\\Users\\ecebo\\MyRepos\\AudioMalfunctionDetection\\Modeling\\One-class SVM\\..\\..\\utils\\confusion_metrics.py:30: RuntimeWarning: invalid value encountered in double_scalars\n",
      "  f1 = 2 * ((precision * sensitivity) / (precision + sensitivity))\n"
     ]
    },
    {
     "name": "stdout",
     "output_type": "stream",
     "text": [
      "0.0005 4\n"
     ]
    },
    {
     "name": "stderr",
     "output_type": "stream",
     "text": [
      "C:\\Users\\ecebo\\MyRepos\\AudioMalfunctionDetection\\Modeling\\One-class SVM\\..\\..\\utils\\confusion_metrics.py:30: RuntimeWarning: invalid value encountered in double_scalars\n",
      "  f1 = 2 * ((precision * sensitivity) / (precision + sensitivity))\n"
     ]
    },
    {
     "name": "stdout",
     "output_type": "stream",
     "text": [
      "0.0005 5\n"
     ]
    },
    {
     "name": "stderr",
     "output_type": "stream",
     "text": [
      "C:\\Users\\ecebo\\MyRepos\\AudioMalfunctionDetection\\Modeling\\One-class SVM\\..\\..\\utils\\confusion_metrics.py:30: RuntimeWarning: invalid value encountered in double_scalars\n",
      "  f1 = 2 * ((precision * sensitivity) / (precision + sensitivity))\n"
     ]
    },
    {
     "name": "stdout",
     "output_type": "stream",
     "text": [
      "0.0005 6\n"
     ]
    },
    {
     "name": "stderr",
     "output_type": "stream",
     "text": [
      "C:\\Users\\ecebo\\MyRepos\\AudioMalfunctionDetection\\Modeling\\One-class SVM\\..\\..\\utils\\confusion_metrics.py:30: RuntimeWarning: invalid value encountered in double_scalars\n",
      "  f1 = 2 * ((precision * sensitivity) / (precision + sensitivity))\n"
     ]
    },
    {
     "name": "stdout",
     "output_type": "stream",
     "text": [
      "0.0005 7\n"
     ]
    },
    {
     "name": "stderr",
     "output_type": "stream",
     "text": [
      "C:\\Users\\ecebo\\MyRepos\\AudioMalfunctionDetection\\Modeling\\One-class SVM\\..\\..\\utils\\confusion_metrics.py:30: RuntimeWarning: invalid value encountered in double_scalars\n",
      "  f1 = 2 * ((precision * sensitivity) / (precision + sensitivity))\n"
     ]
    },
    {
     "name": "stdout",
     "output_type": "stream",
     "text": [
      "0.0005 8\n"
     ]
    },
    {
     "name": "stderr",
     "output_type": "stream",
     "text": [
      "C:\\Users\\ecebo\\MyRepos\\AudioMalfunctionDetection\\Modeling\\One-class SVM\\..\\..\\utils\\confusion_metrics.py:30: RuntimeWarning: invalid value encountered in double_scalars\n",
      "  f1 = 2 * ((precision * sensitivity) / (precision + sensitivity))\n"
     ]
    },
    {
     "name": "stdout",
     "output_type": "stream",
     "text": [
      "0.0005 9\n"
     ]
    },
    {
     "name": "stderr",
     "output_type": "stream",
     "text": [
      "C:\\Users\\ecebo\\MyRepos\\AudioMalfunctionDetection\\Modeling\\One-class SVM\\..\\..\\utils\\confusion_metrics.py:30: RuntimeWarning: invalid value encountered in double_scalars\n",
      "  f1 = 2 * ((precision * sensitivity) / (precision + sensitivity))\n"
     ]
    },
    {
     "name": "stdout",
     "output_type": "stream",
     "text": [
      "0.0005 10\n"
     ]
    },
    {
     "name": "stderr",
     "output_type": "stream",
     "text": [
      "C:\\Users\\ecebo\\MyRepos\\AudioMalfunctionDetection\\Modeling\\One-class SVM\\..\\..\\utils\\confusion_metrics.py:30: RuntimeWarning: invalid value encountered in double_scalars\n",
      "  f1 = 2 * ((precision * sensitivity) / (precision + sensitivity))\n"
     ]
    },
    {
     "name": "stdout",
     "output_type": "stream",
     "text": [
      "0.0005 11\n"
     ]
    },
    {
     "name": "stderr",
     "output_type": "stream",
     "text": [
      "C:\\Users\\ecebo\\MyRepos\\AudioMalfunctionDetection\\Modeling\\One-class SVM\\..\\..\\utils\\confusion_metrics.py:30: RuntimeWarning: invalid value encountered in double_scalars\n",
      "  f1 = 2 * ((precision * sensitivity) / (precision + sensitivity))\n"
     ]
    },
    {
     "name": "stdout",
     "output_type": "stream",
     "text": [
      "0.0005 12\n"
     ]
    },
    {
     "name": "stderr",
     "output_type": "stream",
     "text": [
      "C:\\Users\\ecebo\\MyRepos\\AudioMalfunctionDetection\\Modeling\\One-class SVM\\..\\..\\utils\\confusion_metrics.py:30: RuntimeWarning: invalid value encountered in double_scalars\n",
      "  f1 = 2 * ((precision * sensitivity) / (precision + sensitivity))\n"
     ]
    },
    {
     "name": "stdout",
     "output_type": "stream",
     "text": [
      "0.0005 13\n"
     ]
    },
    {
     "name": "stderr",
     "output_type": "stream",
     "text": [
      "C:\\Users\\ecebo\\MyRepos\\AudioMalfunctionDetection\\Modeling\\One-class SVM\\..\\..\\utils\\confusion_metrics.py:30: RuntimeWarning: invalid value encountered in double_scalars\n",
      "  f1 = 2 * ((precision * sensitivity) / (precision + sensitivity))\n"
     ]
    },
    {
     "name": "stdout",
     "output_type": "stream",
     "text": [
      "0.0005 14\n"
     ]
    },
    {
     "name": "stderr",
     "output_type": "stream",
     "text": [
      "C:\\Users\\ecebo\\MyRepos\\AudioMalfunctionDetection\\Modeling\\One-class SVM\\..\\..\\utils\\confusion_metrics.py:30: RuntimeWarning: invalid value encountered in double_scalars\n",
      "  f1 = 2 * ((precision * sensitivity) / (precision + sensitivity))\n"
     ]
    },
    {
     "name": "stdout",
     "output_type": "stream",
     "text": [
      "0.001 1\n"
     ]
    },
    {
     "name": "stderr",
     "output_type": "stream",
     "text": [
      "C:\\Users\\ecebo\\MyRepos\\AudioMalfunctionDetection\\Modeling\\One-class SVM\\..\\..\\utils\\confusion_metrics.py:30: RuntimeWarning: invalid value encountered in double_scalars\n",
      "  f1 = 2 * ((precision * sensitivity) / (precision + sensitivity))\n"
     ]
    },
    {
     "name": "stdout",
     "output_type": "stream",
     "text": [
      "0.001 2\n"
     ]
    },
    {
     "name": "stderr",
     "output_type": "stream",
     "text": [
      "C:\\Users\\ecebo\\MyRepos\\AudioMalfunctionDetection\\Modeling\\One-class SVM\\..\\..\\utils\\confusion_metrics.py:30: RuntimeWarning: invalid value encountered in double_scalars\n",
      "  f1 = 2 * ((precision * sensitivity) / (precision + sensitivity))\n"
     ]
    },
    {
     "name": "stdout",
     "output_type": "stream",
     "text": [
      "0.001 3\n"
     ]
    },
    {
     "name": "stderr",
     "output_type": "stream",
     "text": [
      "C:\\Users\\ecebo\\MyRepos\\AudioMalfunctionDetection\\Modeling\\One-class SVM\\..\\..\\utils\\confusion_metrics.py:30: RuntimeWarning: invalid value encountered in double_scalars\n",
      "  f1 = 2 * ((precision * sensitivity) / (precision + sensitivity))\n"
     ]
    },
    {
     "name": "stdout",
     "output_type": "stream",
     "text": [
      "0.001 4\n"
     ]
    },
    {
     "name": "stderr",
     "output_type": "stream",
     "text": [
      "C:\\Users\\ecebo\\MyRepos\\AudioMalfunctionDetection\\Modeling\\One-class SVM\\..\\..\\utils\\confusion_metrics.py:30: RuntimeWarning: invalid value encountered in double_scalars\n",
      "  f1 = 2 * ((precision * sensitivity) / (precision + sensitivity))\n"
     ]
    },
    {
     "name": "stdout",
     "output_type": "stream",
     "text": [
      "0.001 5\n"
     ]
    },
    {
     "name": "stderr",
     "output_type": "stream",
     "text": [
      "C:\\Users\\ecebo\\MyRepos\\AudioMalfunctionDetection\\Modeling\\One-class SVM\\..\\..\\utils\\confusion_metrics.py:30: RuntimeWarning: invalid value encountered in double_scalars\n",
      "  f1 = 2 * ((precision * sensitivity) / (precision + sensitivity))\n"
     ]
    },
    {
     "name": "stdout",
     "output_type": "stream",
     "text": [
      "0.001 6\n"
     ]
    },
    {
     "name": "stderr",
     "output_type": "stream",
     "text": [
      "C:\\Users\\ecebo\\MyRepos\\AudioMalfunctionDetection\\Modeling\\One-class SVM\\..\\..\\utils\\confusion_metrics.py:30: RuntimeWarning: invalid value encountered in double_scalars\n",
      "  f1 = 2 * ((precision * sensitivity) / (precision + sensitivity))\n"
     ]
    },
    {
     "name": "stdout",
     "output_type": "stream",
     "text": [
      "0.001 7\n"
     ]
    },
    {
     "name": "stderr",
     "output_type": "stream",
     "text": [
      "C:\\Users\\ecebo\\MyRepos\\AudioMalfunctionDetection\\Modeling\\One-class SVM\\..\\..\\utils\\confusion_metrics.py:30: RuntimeWarning: invalid value encountered in double_scalars\n",
      "  f1 = 2 * ((precision * sensitivity) / (precision + sensitivity))\n"
     ]
    },
    {
     "name": "stdout",
     "output_type": "stream",
     "text": [
      "0.001 8\n"
     ]
    },
    {
     "name": "stderr",
     "output_type": "stream",
     "text": [
      "C:\\Users\\ecebo\\MyRepos\\AudioMalfunctionDetection\\Modeling\\One-class SVM\\..\\..\\utils\\confusion_metrics.py:30: RuntimeWarning: invalid value encountered in double_scalars\n",
      "  f1 = 2 * ((precision * sensitivity) / (precision + sensitivity))\n"
     ]
    },
    {
     "name": "stdout",
     "output_type": "stream",
     "text": [
      "0.001 9\n"
     ]
    },
    {
     "name": "stderr",
     "output_type": "stream",
     "text": [
      "C:\\Users\\ecebo\\MyRepos\\AudioMalfunctionDetection\\Modeling\\One-class SVM\\..\\..\\utils\\confusion_metrics.py:30: RuntimeWarning: invalid value encountered in double_scalars\n",
      "  f1 = 2 * ((precision * sensitivity) / (precision + sensitivity))\n"
     ]
    },
    {
     "name": "stdout",
     "output_type": "stream",
     "text": [
      "0.001 10\n"
     ]
    },
    {
     "name": "stderr",
     "output_type": "stream",
     "text": [
      "C:\\Users\\ecebo\\MyRepos\\AudioMalfunctionDetection\\Modeling\\One-class SVM\\..\\..\\utils\\confusion_metrics.py:30: RuntimeWarning: invalid value encountered in double_scalars\n",
      "  f1 = 2 * ((precision * sensitivity) / (precision + sensitivity))\n"
     ]
    },
    {
     "name": "stdout",
     "output_type": "stream",
     "text": [
      "0.001 11\n"
     ]
    },
    {
     "name": "stderr",
     "output_type": "stream",
     "text": [
      "C:\\Users\\ecebo\\MyRepos\\AudioMalfunctionDetection\\Modeling\\One-class SVM\\..\\..\\utils\\confusion_metrics.py:30: RuntimeWarning: invalid value encountered in double_scalars\n",
      "  f1 = 2 * ((precision * sensitivity) / (precision + sensitivity))\n"
     ]
    },
    {
     "name": "stdout",
     "output_type": "stream",
     "text": [
      "0.001 12\n"
     ]
    },
    {
     "name": "stderr",
     "output_type": "stream",
     "text": [
      "C:\\Users\\ecebo\\MyRepos\\AudioMalfunctionDetection\\Modeling\\One-class SVM\\..\\..\\utils\\confusion_metrics.py:30: RuntimeWarning: invalid value encountered in double_scalars\n",
      "  f1 = 2 * ((precision * sensitivity) / (precision + sensitivity))\n"
     ]
    },
    {
     "name": "stdout",
     "output_type": "stream",
     "text": [
      "0.001 13\n"
     ]
    },
    {
     "name": "stderr",
     "output_type": "stream",
     "text": [
      "C:\\Users\\ecebo\\MyRepos\\AudioMalfunctionDetection\\Modeling\\One-class SVM\\..\\..\\utils\\confusion_metrics.py:30: RuntimeWarning: invalid value encountered in double_scalars\n",
      "  f1 = 2 * ((precision * sensitivity) / (precision + sensitivity))\n"
     ]
    },
    {
     "name": "stdout",
     "output_type": "stream",
     "text": [
      "0.001 14\n"
     ]
    },
    {
     "name": "stderr",
     "output_type": "stream",
     "text": [
      "C:\\Users\\ecebo\\MyRepos\\AudioMalfunctionDetection\\Modeling\\One-class SVM\\..\\..\\utils\\confusion_metrics.py:30: RuntimeWarning: invalid value encountered in double_scalars\n",
      "  f1 = 2 * ((precision * sensitivity) / (precision + sensitivity))\n"
     ]
    },
    {
     "name": "stdout",
     "output_type": "stream",
     "text": [
      "0.005 1\n"
     ]
    },
    {
     "name": "stderr",
     "output_type": "stream",
     "text": [
      "C:\\Users\\ecebo\\MyRepos\\AudioMalfunctionDetection\\Modeling\\One-class SVM\\..\\..\\utils\\confusion_metrics.py:30: RuntimeWarning: invalid value encountered in double_scalars\n",
      "  f1 = 2 * ((precision * sensitivity) / (precision + sensitivity))\n"
     ]
    },
    {
     "name": "stdout",
     "output_type": "stream",
     "text": [
      "0.005 2\n"
     ]
    },
    {
     "name": "stderr",
     "output_type": "stream",
     "text": [
      "C:\\Users\\ecebo\\MyRepos\\AudioMalfunctionDetection\\Modeling\\One-class SVM\\..\\..\\utils\\confusion_metrics.py:30: RuntimeWarning: invalid value encountered in double_scalars\n",
      "  f1 = 2 * ((precision * sensitivity) / (precision + sensitivity))\n"
     ]
    },
    {
     "name": "stdout",
     "output_type": "stream",
     "text": [
      "0.005 3\n"
     ]
    },
    {
     "name": "stderr",
     "output_type": "stream",
     "text": [
      "C:\\Users\\ecebo\\MyRepos\\AudioMalfunctionDetection\\Modeling\\One-class SVM\\..\\..\\utils\\confusion_metrics.py:30: RuntimeWarning: invalid value encountered in double_scalars\n",
      "  f1 = 2 * ((precision * sensitivity) / (precision + sensitivity))\n"
     ]
    },
    {
     "name": "stdout",
     "output_type": "stream",
     "text": [
      "0.005 4\n"
     ]
    },
    {
     "name": "stderr",
     "output_type": "stream",
     "text": [
      "C:\\Users\\ecebo\\MyRepos\\AudioMalfunctionDetection\\Modeling\\One-class SVM\\..\\..\\utils\\confusion_metrics.py:30: RuntimeWarning: invalid value encountered in double_scalars\n",
      "  f1 = 2 * ((precision * sensitivity) / (precision + sensitivity))\n"
     ]
    },
    {
     "name": "stdout",
     "output_type": "stream",
     "text": [
      "0.005 5\n"
     ]
    },
    {
     "name": "stderr",
     "output_type": "stream",
     "text": [
      "C:\\Users\\ecebo\\MyRepos\\AudioMalfunctionDetection\\Modeling\\One-class SVM\\..\\..\\utils\\confusion_metrics.py:30: RuntimeWarning: invalid value encountered in double_scalars\n",
      "  f1 = 2 * ((precision * sensitivity) / (precision + sensitivity))\n"
     ]
    },
    {
     "name": "stdout",
     "output_type": "stream",
     "text": [
      "0.005 6\n"
     ]
    },
    {
     "name": "stderr",
     "output_type": "stream",
     "text": [
      "C:\\Users\\ecebo\\MyRepos\\AudioMalfunctionDetection\\Modeling\\One-class SVM\\..\\..\\utils\\confusion_metrics.py:30: RuntimeWarning: invalid value encountered in double_scalars\n",
      "  f1 = 2 * ((precision * sensitivity) / (precision + sensitivity))\n"
     ]
    },
    {
     "name": "stdout",
     "output_type": "stream",
     "text": [
      "0.005 7\n"
     ]
    },
    {
     "name": "stderr",
     "output_type": "stream",
     "text": [
      "C:\\Users\\ecebo\\MyRepos\\AudioMalfunctionDetection\\Modeling\\One-class SVM\\..\\..\\utils\\confusion_metrics.py:30: RuntimeWarning: invalid value encountered in double_scalars\n",
      "  f1 = 2 * ((precision * sensitivity) / (precision + sensitivity))\n"
     ]
    },
    {
     "name": "stdout",
     "output_type": "stream",
     "text": [
      "0.005 8\n"
     ]
    },
    {
     "name": "stderr",
     "output_type": "stream",
     "text": [
      "C:\\Users\\ecebo\\MyRepos\\AudioMalfunctionDetection\\Modeling\\One-class SVM\\..\\..\\utils\\confusion_metrics.py:30: RuntimeWarning: invalid value encountered in double_scalars\n",
      "  f1 = 2 * ((precision * sensitivity) / (precision + sensitivity))\n"
     ]
    },
    {
     "name": "stdout",
     "output_type": "stream",
     "text": [
      "0.005 9\n"
     ]
    },
    {
     "name": "stderr",
     "output_type": "stream",
     "text": [
      "C:\\Users\\ecebo\\MyRepos\\AudioMalfunctionDetection\\Modeling\\One-class SVM\\..\\..\\utils\\confusion_metrics.py:30: RuntimeWarning: invalid value encountered in double_scalars\n",
      "  f1 = 2 * ((precision * sensitivity) / (precision + sensitivity))\n"
     ]
    },
    {
     "name": "stdout",
     "output_type": "stream",
     "text": [
      "0.005 10\n"
     ]
    },
    {
     "name": "stderr",
     "output_type": "stream",
     "text": [
      "C:\\Users\\ecebo\\MyRepos\\AudioMalfunctionDetection\\Modeling\\One-class SVM\\..\\..\\utils\\confusion_metrics.py:30: RuntimeWarning: invalid value encountered in double_scalars\n",
      "  f1 = 2 * ((precision * sensitivity) / (precision + sensitivity))\n"
     ]
    },
    {
     "name": "stdout",
     "output_type": "stream",
     "text": [
      "0.005 11\n"
     ]
    },
    {
     "name": "stderr",
     "output_type": "stream",
     "text": [
      "C:\\Users\\ecebo\\MyRepos\\AudioMalfunctionDetection\\Modeling\\One-class SVM\\..\\..\\utils\\confusion_metrics.py:30: RuntimeWarning: invalid value encountered in double_scalars\n",
      "  f1 = 2 * ((precision * sensitivity) / (precision + sensitivity))\n"
     ]
    },
    {
     "name": "stdout",
     "output_type": "stream",
     "text": [
      "0.005 12\n"
     ]
    },
    {
     "name": "stderr",
     "output_type": "stream",
     "text": [
      "C:\\Users\\ecebo\\MyRepos\\AudioMalfunctionDetection\\Modeling\\One-class SVM\\..\\..\\utils\\confusion_metrics.py:30: RuntimeWarning: invalid value encountered in double_scalars\n",
      "  f1 = 2 * ((precision * sensitivity) / (precision + sensitivity))\n"
     ]
    },
    {
     "name": "stdout",
     "output_type": "stream",
     "text": [
      "0.005 13\n"
     ]
    },
    {
     "name": "stderr",
     "output_type": "stream",
     "text": [
      "C:\\Users\\ecebo\\MyRepos\\AudioMalfunctionDetection\\Modeling\\One-class SVM\\..\\..\\utils\\confusion_metrics.py:30: RuntimeWarning: invalid value encountered in double_scalars\n",
      "  f1 = 2 * ((precision * sensitivity) / (precision + sensitivity))\n"
     ]
    },
    {
     "name": "stdout",
     "output_type": "stream",
     "text": [
      "0.005 14\n"
     ]
    },
    {
     "name": "stderr",
     "output_type": "stream",
     "text": [
      "C:\\Users\\ecebo\\MyRepos\\AudioMalfunctionDetection\\Modeling\\One-class SVM\\..\\..\\utils\\confusion_metrics.py:30: RuntimeWarning: invalid value encountered in double_scalars\n",
      "  f1 = 2 * ((precision * sensitivity) / (precision + sensitivity))\n"
     ]
    },
    {
     "name": "stdout",
     "output_type": "stream",
     "text": [
      "0.01 1\n"
     ]
    },
    {
     "name": "stderr",
     "output_type": "stream",
     "text": [
      "C:\\Users\\ecebo\\MyRepos\\AudioMalfunctionDetection\\Modeling\\One-class SVM\\..\\..\\utils\\confusion_metrics.py:30: RuntimeWarning: invalid value encountered in double_scalars\n",
      "  f1 = 2 * ((precision * sensitivity) / (precision + sensitivity))\n"
     ]
    },
    {
     "name": "stdout",
     "output_type": "stream",
     "text": [
      "0.01 2\n"
     ]
    },
    {
     "name": "stderr",
     "output_type": "stream",
     "text": [
      "C:\\Users\\ecebo\\MyRepos\\AudioMalfunctionDetection\\Modeling\\One-class SVM\\..\\..\\utils\\confusion_metrics.py:30: RuntimeWarning: invalid value encountered in double_scalars\n",
      "  f1 = 2 * ((precision * sensitivity) / (precision + sensitivity))\n"
     ]
    },
    {
     "name": "stdout",
     "output_type": "stream",
     "text": [
      "0.01 3\n"
     ]
    },
    {
     "name": "stderr",
     "output_type": "stream",
     "text": [
      "C:\\Users\\ecebo\\MyRepos\\AudioMalfunctionDetection\\Modeling\\One-class SVM\\..\\..\\utils\\confusion_metrics.py:30: RuntimeWarning: invalid value encountered in double_scalars\n",
      "  f1 = 2 * ((precision * sensitivity) / (precision + sensitivity))\n"
     ]
    },
    {
     "name": "stdout",
     "output_type": "stream",
     "text": [
      "0.01 4\n"
     ]
    },
    {
     "name": "stderr",
     "output_type": "stream",
     "text": [
      "C:\\Users\\ecebo\\MyRepos\\AudioMalfunctionDetection\\Modeling\\One-class SVM\\..\\..\\utils\\confusion_metrics.py:30: RuntimeWarning: invalid value encountered in double_scalars\n",
      "  f1 = 2 * ((precision * sensitivity) / (precision + sensitivity))\n"
     ]
    },
    {
     "name": "stdout",
     "output_type": "stream",
     "text": [
      "0.01 5\n"
     ]
    },
    {
     "name": "stderr",
     "output_type": "stream",
     "text": [
      "C:\\Users\\ecebo\\MyRepos\\AudioMalfunctionDetection\\Modeling\\One-class SVM\\..\\..\\utils\\confusion_metrics.py:30: RuntimeWarning: invalid value encountered in double_scalars\n",
      "  f1 = 2 * ((precision * sensitivity) / (precision + sensitivity))\n"
     ]
    },
    {
     "name": "stdout",
     "output_type": "stream",
     "text": [
      "0.01 6\n"
     ]
    },
    {
     "name": "stderr",
     "output_type": "stream",
     "text": [
      "C:\\Users\\ecebo\\MyRepos\\AudioMalfunctionDetection\\Modeling\\One-class SVM\\..\\..\\utils\\confusion_metrics.py:30: RuntimeWarning: invalid value encountered in double_scalars\n",
      "  f1 = 2 * ((precision * sensitivity) / (precision + sensitivity))\n"
     ]
    },
    {
     "name": "stdout",
     "output_type": "stream",
     "text": [
      "0.01 7\n"
     ]
    },
    {
     "name": "stderr",
     "output_type": "stream",
     "text": [
      "C:\\Users\\ecebo\\MyRepos\\AudioMalfunctionDetection\\Modeling\\One-class SVM\\..\\..\\utils\\confusion_metrics.py:30: RuntimeWarning: invalid value encountered in double_scalars\n",
      "  f1 = 2 * ((precision * sensitivity) / (precision + sensitivity))\n"
     ]
    },
    {
     "name": "stdout",
     "output_type": "stream",
     "text": [
      "0.01 8\n"
     ]
    },
    {
     "name": "stderr",
     "output_type": "stream",
     "text": [
      "C:\\Users\\ecebo\\MyRepos\\AudioMalfunctionDetection\\Modeling\\One-class SVM\\..\\..\\utils\\confusion_metrics.py:30: RuntimeWarning: invalid value encountered in double_scalars\n",
      "  f1 = 2 * ((precision * sensitivity) / (precision + sensitivity))\n"
     ]
    },
    {
     "name": "stdout",
     "output_type": "stream",
     "text": [
      "0.01 9\n"
     ]
    },
    {
     "name": "stderr",
     "output_type": "stream",
     "text": [
      "C:\\Users\\ecebo\\MyRepos\\AudioMalfunctionDetection\\Modeling\\One-class SVM\\..\\..\\utils\\confusion_metrics.py:30: RuntimeWarning: invalid value encountered in double_scalars\n",
      "  f1 = 2 * ((precision * sensitivity) / (precision + sensitivity))\n"
     ]
    },
    {
     "name": "stdout",
     "output_type": "stream",
     "text": [
      "0.01 10\n"
     ]
    },
    {
     "name": "stderr",
     "output_type": "stream",
     "text": [
      "C:\\Users\\ecebo\\MyRepos\\AudioMalfunctionDetection\\Modeling\\One-class SVM\\..\\..\\utils\\confusion_metrics.py:30: RuntimeWarning: invalid value encountered in double_scalars\n",
      "  f1 = 2 * ((precision * sensitivity) / (precision + sensitivity))\n"
     ]
    },
    {
     "name": "stdout",
     "output_type": "stream",
     "text": [
      "0.01 11\n"
     ]
    },
    {
     "name": "stderr",
     "output_type": "stream",
     "text": [
      "C:\\Users\\ecebo\\MyRepos\\AudioMalfunctionDetection\\Modeling\\One-class SVM\\..\\..\\utils\\confusion_metrics.py:30: RuntimeWarning: invalid value encountered in double_scalars\n",
      "  f1 = 2 * ((precision * sensitivity) / (precision + sensitivity))\n"
     ]
    },
    {
     "name": "stdout",
     "output_type": "stream",
     "text": [
      "0.01 12\n"
     ]
    },
    {
     "name": "stderr",
     "output_type": "stream",
     "text": [
      "C:\\Users\\ecebo\\MyRepos\\AudioMalfunctionDetection\\Modeling\\One-class SVM\\..\\..\\utils\\confusion_metrics.py:30: RuntimeWarning: invalid value encountered in double_scalars\n",
      "  f1 = 2 * ((precision * sensitivity) / (precision + sensitivity))\n"
     ]
    },
    {
     "name": "stdout",
     "output_type": "stream",
     "text": [
      "0.01 13\n"
     ]
    },
    {
     "name": "stderr",
     "output_type": "stream",
     "text": [
      "C:\\Users\\ecebo\\MyRepos\\AudioMalfunctionDetection\\Modeling\\One-class SVM\\..\\..\\utils\\confusion_metrics.py:30: RuntimeWarning: invalid value encountered in double_scalars\n",
      "  f1 = 2 * ((precision * sensitivity) / (precision + sensitivity))\n"
     ]
    },
    {
     "name": "stdout",
     "output_type": "stream",
     "text": [
      "0.01 14\n"
     ]
    },
    {
     "name": "stderr",
     "output_type": "stream",
     "text": [
      "C:\\Users\\ecebo\\MyRepos\\AudioMalfunctionDetection\\Modeling\\One-class SVM\\..\\..\\utils\\confusion_metrics.py:30: RuntimeWarning: invalid value encountered in double_scalars\n",
      "  f1 = 2 * ((precision * sensitivity) / (precision + sensitivity))\n"
     ]
    },
    {
     "name": "stdout",
     "output_type": "stream",
     "text": [
      "0.05 1\n"
     ]
    },
    {
     "name": "stderr",
     "output_type": "stream",
     "text": [
      "C:\\Users\\ecebo\\MyRepos\\AudioMalfunctionDetection\\Modeling\\One-class SVM\\..\\..\\utils\\confusion_metrics.py:30: RuntimeWarning: invalid value encountered in double_scalars\n",
      "  f1 = 2 * ((precision * sensitivity) / (precision + sensitivity))\n"
     ]
    },
    {
     "name": "stdout",
     "output_type": "stream",
     "text": [
      "0.05 2\n"
     ]
    },
    {
     "name": "stderr",
     "output_type": "stream",
     "text": [
      "C:\\Users\\ecebo\\MyRepos\\AudioMalfunctionDetection\\Modeling\\One-class SVM\\..\\..\\utils\\confusion_metrics.py:30: RuntimeWarning: invalid value encountered in double_scalars\n",
      "  f1 = 2 * ((precision * sensitivity) / (precision + sensitivity))\n"
     ]
    },
    {
     "name": "stdout",
     "output_type": "stream",
     "text": [
      "0.05 3\n"
     ]
    },
    {
     "name": "stderr",
     "output_type": "stream",
     "text": [
      "C:\\Users\\ecebo\\MyRepos\\AudioMalfunctionDetection\\Modeling\\One-class SVM\\..\\..\\utils\\confusion_metrics.py:30: RuntimeWarning: invalid value encountered in double_scalars\n",
      "  f1 = 2 * ((precision * sensitivity) / (precision + sensitivity))\n"
     ]
    },
    {
     "name": "stdout",
     "output_type": "stream",
     "text": [
      "0.05 4\n"
     ]
    },
    {
     "name": "stderr",
     "output_type": "stream",
     "text": [
      "C:\\Users\\ecebo\\MyRepos\\AudioMalfunctionDetection\\Modeling\\One-class SVM\\..\\..\\utils\\confusion_metrics.py:30: RuntimeWarning: invalid value encountered in double_scalars\n",
      "  f1 = 2 * ((precision * sensitivity) / (precision + sensitivity))\n"
     ]
    },
    {
     "name": "stdout",
     "output_type": "stream",
     "text": [
      "0.05 5\n"
     ]
    },
    {
     "name": "stderr",
     "output_type": "stream",
     "text": [
      "C:\\Users\\ecebo\\MyRepos\\AudioMalfunctionDetection\\Modeling\\One-class SVM\\..\\..\\utils\\confusion_metrics.py:30: RuntimeWarning: invalid value encountered in double_scalars\n",
      "  f1 = 2 * ((precision * sensitivity) / (precision + sensitivity))\n"
     ]
    },
    {
     "name": "stdout",
     "output_type": "stream",
     "text": [
      "0.05 6\n"
     ]
    },
    {
     "name": "stderr",
     "output_type": "stream",
     "text": [
      "C:\\Users\\ecebo\\MyRepos\\AudioMalfunctionDetection\\Modeling\\One-class SVM\\..\\..\\utils\\confusion_metrics.py:30: RuntimeWarning: invalid value encountered in double_scalars\n",
      "  f1 = 2 * ((precision * sensitivity) / (precision + sensitivity))\n"
     ]
    },
    {
     "name": "stdout",
     "output_type": "stream",
     "text": [
      "0.05 7\n"
     ]
    },
    {
     "name": "stderr",
     "output_type": "stream",
     "text": [
      "C:\\Users\\ecebo\\MyRepos\\AudioMalfunctionDetection\\Modeling\\One-class SVM\\..\\..\\utils\\confusion_metrics.py:30: RuntimeWarning: invalid value encountered in double_scalars\n",
      "  f1 = 2 * ((precision * sensitivity) / (precision + sensitivity))\n"
     ]
    },
    {
     "name": "stdout",
     "output_type": "stream",
     "text": [
      "0.05 8\n"
     ]
    },
    {
     "name": "stderr",
     "output_type": "stream",
     "text": [
      "C:\\Users\\ecebo\\MyRepos\\AudioMalfunctionDetection\\Modeling\\One-class SVM\\..\\..\\utils\\confusion_metrics.py:30: RuntimeWarning: invalid value encountered in double_scalars\n",
      "  f1 = 2 * ((precision * sensitivity) / (precision + sensitivity))\n"
     ]
    },
    {
     "name": "stdout",
     "output_type": "stream",
     "text": [
      "0.05 9\n"
     ]
    },
    {
     "name": "stderr",
     "output_type": "stream",
     "text": [
      "C:\\Users\\ecebo\\MyRepos\\AudioMalfunctionDetection\\Modeling\\One-class SVM\\..\\..\\utils\\confusion_metrics.py:30: RuntimeWarning: invalid value encountered in double_scalars\n",
      "  f1 = 2 * ((precision * sensitivity) / (precision + sensitivity))\n"
     ]
    },
    {
     "name": "stdout",
     "output_type": "stream",
     "text": [
      "0.05 10\n"
     ]
    },
    {
     "name": "stderr",
     "output_type": "stream",
     "text": [
      "C:\\Users\\ecebo\\MyRepos\\AudioMalfunctionDetection\\Modeling\\One-class SVM\\..\\..\\utils\\confusion_metrics.py:30: RuntimeWarning: invalid value encountered in double_scalars\n",
      "  f1 = 2 * ((precision * sensitivity) / (precision + sensitivity))\n"
     ]
    },
    {
     "name": "stdout",
     "output_type": "stream",
     "text": [
      "0.05 11\n"
     ]
    },
    {
     "name": "stderr",
     "output_type": "stream",
     "text": [
      "C:\\Users\\ecebo\\MyRepos\\AudioMalfunctionDetection\\Modeling\\One-class SVM\\..\\..\\utils\\confusion_metrics.py:30: RuntimeWarning: invalid value encountered in double_scalars\n",
      "  f1 = 2 * ((precision * sensitivity) / (precision + sensitivity))\n"
     ]
    },
    {
     "name": "stdout",
     "output_type": "stream",
     "text": [
      "0.05 12\n"
     ]
    },
    {
     "name": "stderr",
     "output_type": "stream",
     "text": [
      "C:\\Users\\ecebo\\MyRepos\\AudioMalfunctionDetection\\Modeling\\One-class SVM\\..\\..\\utils\\confusion_metrics.py:30: RuntimeWarning: invalid value encountered in double_scalars\n",
      "  f1 = 2 * ((precision * sensitivity) / (precision + sensitivity))\n"
     ]
    },
    {
     "name": "stdout",
     "output_type": "stream",
     "text": [
      "0.05 13\n"
     ]
    },
    {
     "name": "stderr",
     "output_type": "stream",
     "text": [
      "C:\\Users\\ecebo\\MyRepos\\AudioMalfunctionDetection\\Modeling\\One-class SVM\\..\\..\\utils\\confusion_metrics.py:30: RuntimeWarning: invalid value encountered in double_scalars\n",
      "  f1 = 2 * ((precision * sensitivity) / (precision + sensitivity))\n"
     ]
    },
    {
     "name": "stdout",
     "output_type": "stream",
     "text": [
      "0.05 14\n"
     ]
    },
    {
     "name": "stderr",
     "output_type": "stream",
     "text": [
      "C:\\Users\\ecebo\\MyRepos\\AudioMalfunctionDetection\\Modeling\\One-class SVM\\..\\..\\utils\\confusion_metrics.py:30: RuntimeWarning: invalid value encountered in double_scalars\n",
      "  f1 = 2 * ((precision * sensitivity) / (precision + sensitivity))\n"
     ]
    },
    {
     "name": "stdout",
     "output_type": "stream",
     "text": [
      "0.1 1\n"
     ]
    },
    {
     "name": "stderr",
     "output_type": "stream",
     "text": [
      "C:\\Users\\ecebo\\MyRepos\\AudioMalfunctionDetection\\Modeling\\One-class SVM\\..\\..\\utils\\confusion_metrics.py:30: RuntimeWarning: invalid value encountered in double_scalars\n",
      "  f1 = 2 * ((precision * sensitivity) / (precision + sensitivity))\n"
     ]
    },
    {
     "name": "stdout",
     "output_type": "stream",
     "text": [
      "0.1 2\n"
     ]
    },
    {
     "name": "stderr",
     "output_type": "stream",
     "text": [
      "C:\\Users\\ecebo\\MyRepos\\AudioMalfunctionDetection\\Modeling\\One-class SVM\\..\\..\\utils\\confusion_metrics.py:30: RuntimeWarning: invalid value encountered in double_scalars\n",
      "  f1 = 2 * ((precision * sensitivity) / (precision + sensitivity))\n"
     ]
    },
    {
     "name": "stdout",
     "output_type": "stream",
     "text": [
      "0.1 3\n"
     ]
    },
    {
     "name": "stderr",
     "output_type": "stream",
     "text": [
      "C:\\Users\\ecebo\\MyRepos\\AudioMalfunctionDetection\\Modeling\\One-class SVM\\..\\..\\utils\\confusion_metrics.py:30: RuntimeWarning: invalid value encountered in double_scalars\n",
      "  f1 = 2 * ((precision * sensitivity) / (precision + sensitivity))\n"
     ]
    },
    {
     "name": "stdout",
     "output_type": "stream",
     "text": [
      "0.1 4\n"
     ]
    },
    {
     "name": "stderr",
     "output_type": "stream",
     "text": [
      "C:\\Users\\ecebo\\MyRepos\\AudioMalfunctionDetection\\Modeling\\One-class SVM\\..\\..\\utils\\confusion_metrics.py:30: RuntimeWarning: invalid value encountered in double_scalars\n",
      "  f1 = 2 * ((precision * sensitivity) / (precision + sensitivity))\n"
     ]
    },
    {
     "name": "stdout",
     "output_type": "stream",
     "text": [
      "0.1 5\n"
     ]
    },
    {
     "name": "stderr",
     "output_type": "stream",
     "text": [
      "C:\\Users\\ecebo\\MyRepos\\AudioMalfunctionDetection\\Modeling\\One-class SVM\\..\\..\\utils\\confusion_metrics.py:30: RuntimeWarning: invalid value encountered in double_scalars\n",
      "  f1 = 2 * ((precision * sensitivity) / (precision + sensitivity))\n"
     ]
    },
    {
     "name": "stdout",
     "output_type": "stream",
     "text": [
      "0.1 6\n"
     ]
    },
    {
     "name": "stderr",
     "output_type": "stream",
     "text": [
      "C:\\Users\\ecebo\\MyRepos\\AudioMalfunctionDetection\\Modeling\\One-class SVM\\..\\..\\utils\\confusion_metrics.py:30: RuntimeWarning: invalid value encountered in double_scalars\n",
      "  f1 = 2 * ((precision * sensitivity) / (precision + sensitivity))\n"
     ]
    },
    {
     "name": "stdout",
     "output_type": "stream",
     "text": [
      "0.1 7\n"
     ]
    },
    {
     "name": "stderr",
     "output_type": "stream",
     "text": [
      "C:\\Users\\ecebo\\MyRepos\\AudioMalfunctionDetection\\Modeling\\One-class SVM\\..\\..\\utils\\confusion_metrics.py:30: RuntimeWarning: invalid value encountered in double_scalars\n",
      "  f1 = 2 * ((precision * sensitivity) / (precision + sensitivity))\n"
     ]
    },
    {
     "name": "stdout",
     "output_type": "stream",
     "text": [
      "0.1 8\n"
     ]
    },
    {
     "name": "stderr",
     "output_type": "stream",
     "text": [
      "C:\\Users\\ecebo\\MyRepos\\AudioMalfunctionDetection\\Modeling\\One-class SVM\\..\\..\\utils\\confusion_metrics.py:30: RuntimeWarning: invalid value encountered in double_scalars\n",
      "  f1 = 2 * ((precision * sensitivity) / (precision + sensitivity))\n"
     ]
    },
    {
     "name": "stdout",
     "output_type": "stream",
     "text": [
      "0.1 9\n"
     ]
    },
    {
     "name": "stderr",
     "output_type": "stream",
     "text": [
      "C:\\Users\\ecebo\\MyRepos\\AudioMalfunctionDetection\\Modeling\\One-class SVM\\..\\..\\utils\\confusion_metrics.py:30: RuntimeWarning: invalid value encountered in double_scalars\n",
      "  f1 = 2 * ((precision * sensitivity) / (precision + sensitivity))\n"
     ]
    },
    {
     "name": "stdout",
     "output_type": "stream",
     "text": [
      "0.1 10\n"
     ]
    },
    {
     "name": "stderr",
     "output_type": "stream",
     "text": [
      "C:\\Users\\ecebo\\MyRepos\\AudioMalfunctionDetection\\Modeling\\One-class SVM\\..\\..\\utils\\confusion_metrics.py:30: RuntimeWarning: invalid value encountered in double_scalars\n",
      "  f1 = 2 * ((precision * sensitivity) / (precision + sensitivity))\n"
     ]
    },
    {
     "name": "stdout",
     "output_type": "stream",
     "text": [
      "0.1 11\n"
     ]
    },
    {
     "name": "stderr",
     "output_type": "stream",
     "text": [
      "C:\\Users\\ecebo\\MyRepos\\AudioMalfunctionDetection\\Modeling\\One-class SVM\\..\\..\\utils\\confusion_metrics.py:30: RuntimeWarning: invalid value encountered in double_scalars\n",
      "  f1 = 2 * ((precision * sensitivity) / (precision + sensitivity))\n"
     ]
    },
    {
     "name": "stdout",
     "output_type": "stream",
     "text": [
      "0.1 12\n"
     ]
    },
    {
     "name": "stderr",
     "output_type": "stream",
     "text": [
      "C:\\Users\\ecebo\\MyRepos\\AudioMalfunctionDetection\\Modeling\\One-class SVM\\..\\..\\utils\\confusion_metrics.py:30: RuntimeWarning: invalid value encountered in double_scalars\n",
      "  f1 = 2 * ((precision * sensitivity) / (precision + sensitivity))\n"
     ]
    },
    {
     "name": "stdout",
     "output_type": "stream",
     "text": [
      "0.1 13\n"
     ]
    },
    {
     "name": "stderr",
     "output_type": "stream",
     "text": [
      "C:\\Users\\ecebo\\MyRepos\\AudioMalfunctionDetection\\Modeling\\One-class SVM\\..\\..\\utils\\confusion_metrics.py:30: RuntimeWarning: invalid value encountered in double_scalars\n",
      "  f1 = 2 * ((precision * sensitivity) / (precision + sensitivity))\n"
     ]
    },
    {
     "name": "stdout",
     "output_type": "stream",
     "text": [
      "0.1 14\n"
     ]
    },
    {
     "name": "stderr",
     "output_type": "stream",
     "text": [
      "C:\\Users\\ecebo\\MyRepos\\AudioMalfunctionDetection\\Modeling\\One-class SVM\\..\\..\\utils\\confusion_metrics.py:30: RuntimeWarning: invalid value encountered in double_scalars\n",
      "  f1 = 2 * ((precision * sensitivity) / (precision + sensitivity))\n"
     ]
    },
    {
     "name": "stdout",
     "output_type": "stream",
     "text": [
      "0.5 1\n"
     ]
    },
    {
     "name": "stderr",
     "output_type": "stream",
     "text": [
      "C:\\Users\\ecebo\\MyRepos\\AudioMalfunctionDetection\\Modeling\\One-class SVM\\..\\..\\utils\\confusion_metrics.py:30: RuntimeWarning: invalid value encountered in double_scalars\n",
      "  f1 = 2 * ((precision * sensitivity) / (precision + sensitivity))\n"
     ]
    },
    {
     "name": "stdout",
     "output_type": "stream",
     "text": [
      "0.5 2\n"
     ]
    },
    {
     "name": "stderr",
     "output_type": "stream",
     "text": [
      "C:\\Users\\ecebo\\MyRepos\\AudioMalfunctionDetection\\Modeling\\One-class SVM\\..\\..\\utils\\confusion_metrics.py:30: RuntimeWarning: invalid value encountered in double_scalars\n",
      "  f1 = 2 * ((precision * sensitivity) / (precision + sensitivity))\n"
     ]
    },
    {
     "name": "stdout",
     "output_type": "stream",
     "text": [
      "0.5 3\n"
     ]
    },
    {
     "name": "stderr",
     "output_type": "stream",
     "text": [
      "C:\\Users\\ecebo\\MyRepos\\AudioMalfunctionDetection\\Modeling\\One-class SVM\\..\\..\\utils\\confusion_metrics.py:30: RuntimeWarning: invalid value encountered in double_scalars\n",
      "  f1 = 2 * ((precision * sensitivity) / (precision + sensitivity))\n"
     ]
    },
    {
     "name": "stdout",
     "output_type": "stream",
     "text": [
      "0.5 4\n"
     ]
    },
    {
     "name": "stderr",
     "output_type": "stream",
     "text": [
      "C:\\Users\\ecebo\\MyRepos\\AudioMalfunctionDetection\\Modeling\\One-class SVM\\..\\..\\utils\\confusion_metrics.py:30: RuntimeWarning: invalid value encountered in double_scalars\n",
      "  f1 = 2 * ((precision * sensitivity) / (precision + sensitivity))\n"
     ]
    },
    {
     "name": "stdout",
     "output_type": "stream",
     "text": [
      "0.5 5\n"
     ]
    },
    {
     "name": "stderr",
     "output_type": "stream",
     "text": [
      "C:\\Users\\ecebo\\MyRepos\\AudioMalfunctionDetection\\Modeling\\One-class SVM\\..\\..\\utils\\confusion_metrics.py:30: RuntimeWarning: invalid value encountered in double_scalars\n",
      "  f1 = 2 * ((precision * sensitivity) / (precision + sensitivity))\n"
     ]
    },
    {
     "name": "stdout",
     "output_type": "stream",
     "text": [
      "0.5 6\n"
     ]
    },
    {
     "name": "stderr",
     "output_type": "stream",
     "text": [
      "C:\\Users\\ecebo\\MyRepos\\AudioMalfunctionDetection\\Modeling\\One-class SVM\\..\\..\\utils\\confusion_metrics.py:30: RuntimeWarning: invalid value encountered in double_scalars\n",
      "  f1 = 2 * ((precision * sensitivity) / (precision + sensitivity))\n"
     ]
    },
    {
     "name": "stdout",
     "output_type": "stream",
     "text": [
      "0.5 7\n"
     ]
    },
    {
     "name": "stderr",
     "output_type": "stream",
     "text": [
      "C:\\Users\\ecebo\\MyRepos\\AudioMalfunctionDetection\\Modeling\\One-class SVM\\..\\..\\utils\\confusion_metrics.py:30: RuntimeWarning: invalid value encountered in double_scalars\n",
      "  f1 = 2 * ((precision * sensitivity) / (precision + sensitivity))\n"
     ]
    },
    {
     "name": "stdout",
     "output_type": "stream",
     "text": [
      "0.5 8\n"
     ]
    },
    {
     "name": "stderr",
     "output_type": "stream",
     "text": [
      "C:\\Users\\ecebo\\MyRepos\\AudioMalfunctionDetection\\Modeling\\One-class SVM\\..\\..\\utils\\confusion_metrics.py:30: RuntimeWarning: invalid value encountered in double_scalars\n",
      "  f1 = 2 * ((precision * sensitivity) / (precision + sensitivity))\n"
     ]
    },
    {
     "name": "stdout",
     "output_type": "stream",
     "text": [
      "0.5 9\n"
     ]
    }
   ],
   "source": [
    "ran_gamma = [0.0001, 0.0005, 0.001, 0.005, 0.01, 0.05, 0.1, 0.5]\n",
    "ran_prctl = range(1,15)\n",
    "nu = 0.5\n",
    "# Initialize arrays\n",
    "out_metrics_gn = {}\n",
    "out_metrics_gn['acc'] = np.zeros((len(ran_prctl), len(ran_gamma)))\n",
    "out_metrics_gn['precision']  = np.zeros((len(ran_prctl), len(ran_gamma)))\n",
    "out_metrics_gn['recall'] = np.zeros((len(ran_prctl), len(ran_gamma)))\n",
    "out_metrics_gn['TPR'] = np.zeros((len(ran_prctl), len(ran_gamma)))\n",
    "out_metrics_gn['FPR'] = np.zeros((len(ran_prctl), len(ran_gamma)))\n",
    "for id_g, gamma in enumerate(ran_gamma):\n",
    "    for id_p, prctle in enumerate(ran_prctl):\n",
    "        print(gamma, prctle)\n",
    "        \n",
    "        out_class = train_test_one_class_svm(X_train, X_test, y_train, y_test, \n",
    "                                     kernel='rbf', gamma=0.001, nu=0.5, prctle=2, normalize=\"min-max\")\n",
    "        # return OneClassSVM, report, cm_train, cm_test, out_metrics_train, out_metrics_test, params\n",
    "        \n",
    "        out_metrics = out_class[5]\n",
    "        out_metrics_gn['acc'][id_p, id_g] = out_metrics['acc']\n",
    "        out_metrics_gn['precision'][id_p, id_g] = out_metrics['precision']\n",
    "        out_metrics_gn['recall'][id_p, id_g] = out_metrics['recall']\n",
    "        out_metrics_gn['TPR'][id_p, id_g] = out_metrics['TPR']\n",
    "        out_metrics_gn['FPR'][id_p, id_g] = out_metrics['FPR']\n",
    "        "
   ]
  },
  {
   "cell_type": "code",
   "execution_count": 245,
   "id": "243c6e94",
   "metadata": {},
   "outputs": [
    {
     "name": "stdout",
     "output_type": "stream",
     "text": [
      "0.01\n"
     ]
    },
    {
     "data": {
      "image/png": "[encoded data removed]",
      "text/plain": [
       "<Figure size 432x288 with 1 Axes>"
      ]
     },
     "metadata": {},
     "output_type": "display_data"
    }
   ],
   "source": [
    "for id_g, gamma in enumerate(ran_gamma):\n",
    "    if(id_g==4):\n",
    "        print(gamma)\n",
    "        plt.plot(recall_gn[:, id_g], precision_gn[:, id_g])\n",
    "        plt.xlim([0, 1])\n",
    "        plt.ylim([0, 1])\n",
    "plt.show()"
   ]
  },
  {
   "cell_type": "code",
   "execution_count": 249,
   "id": "4b8c3c30",
   "metadata": {
    "scrolled": false
   },
   "outputs": [
    {
     "data": {
      "image/png": "[encoded data removed]",
      "text/plain": [
       "<Figure size 432x288 with 1 Axes>"
      ]
     },
     "metadata": {},
     "output_type": "display_data"
    }
   ],
   "source": [
    "for id_p, prctl in enumerate(ran_prctl):\n",
    "    if(id_p==4):\n",
    "        plt.plot(recall_gn[id_p, :], precision_gn[id_p, :])\n",
    "        plt.xlim([0, 1])\n",
    "        plt.ylim([0, 1])\n",
    "plt.show()"
   ]
  },
  {
   "cell_type": "code",
   "execution_count": 253,
   "id": "23723011",
   "metadata": {},
   "outputs": [
    {
     "name": "stdout",
     "output_type": "stream",
     "text": [
      "0.01\n"
     ]
    },
    {
     "data": {
      "image/png": "[encoded data removed]",
      "text/plain": [
       "<Figure size 432x288 with 1 Axes>"
      ]
     },
     "metadata": {},
     "output_type": "display_data"
    }
   ],
   "source": [
    "for id_g, gamma in enumerate(ran_gamma):\n",
    "    if(id_g==4):\n",
    "        print(gamma)\n",
    "        plt.plot(FPR_gn[:, id_g], TPR_gn[:, id_g])\n",
    "        plt.xlim([0, 1])\n",
    "        plt.ylim([0, 1])\n",
    "plt.show()"
   ]
  },
  {
   "cell_type": "code",
   "execution_count": 255,
   "id": "9baaa20e",
   "metadata": {},
   "outputs": [
    {
     "name": "stdout",
     "output_type": "stream",
     "text": [
      "precision:  0.8918918918918919\n",
      "recall:  0.7084745762711865\n"
     ]
    }
   ],
   "source": [
    "id_p = 9\n",
    "id_g = 4\n",
    "print(\"precision: \", precision_gn[id_p, id_g])\n",
    "print(\"recall: \", recall_gn[id_p, id_g])"
   ]
  },
  {
   "cell_type": "code",
   "execution_count": 19,
   "id": "a92401f4",
   "metadata": {},
   "outputs": [
    {
     "ename": "KeyboardInterrupt",
     "evalue": "",
     "output_type": "error",
     "traceback": [
      "\u001b[1;31m---------------------------------------------------------------------------\u001b[0m",
      "\u001b[1;31mKeyboardInterrupt\u001b[0m                         Traceback (most recent call last)",
      "\u001b[1;32m~\\AppData\\Local\\Temp/ipykernel_90304/2798980963.py\u001b[0m in \u001b[0;36m<module>\u001b[1;34m\u001b[0m\n\u001b[0;32m      6\u001b[0m \u001b[0moverlap\u001b[0m \u001b[1;33m=\u001b[0m \u001b[1;36m0.25\u001b[0m\u001b[1;33m\u001b[0m\u001b[1;33m\u001b[0m\u001b[0m\n\u001b[0;32m      7\u001b[0m \u001b[1;33m\u001b[0m\u001b[0m\n\u001b[1;32m----> 8\u001b[1;33m \u001b[0mX_all\u001b[0m\u001b[1;33m,\u001b[0m \u001b[0my_all\u001b[0m\u001b[1;33m,\u001b[0m \u001b[0mparams_all\u001b[0m \u001b[1;33m=\u001b[0m \u001b[0mget_melspec_features_from_files\u001b[0m\u001b[1;33m(\u001b[0m\u001b[0mdata_dir\u001b[0m\u001b[1;33m,\u001b[0m \u001b[0mdf_machine_all\u001b[0m\u001b[1;33m,\u001b[0m \u001b[0mwindow\u001b[0m\u001b[1;33m,\u001b[0m \u001b[0mn_mels\u001b[0m\u001b[1;33m,\u001b[0m \u001b[0moverlap\u001b[0m\u001b[1;33m)\u001b[0m\u001b[1;33m\u001b[0m\u001b[1;33m\u001b[0m\u001b[0m\n\u001b[0m\u001b[0;32m      9\u001b[0m \u001b[1;33m\u001b[0m\u001b[0m\n\u001b[0;32m     10\u001b[0m \u001b[1;31m# Add labels for training and test\u001b[0m\u001b[1;33m\u001b[0m\u001b[1;33m\u001b[0m\u001b[1;33m\u001b[0m\u001b[0m\n",
      "\u001b[1;32m~\\MyRepos\\AudioMalfunctionDetection\\Modeling\\One-class SVM\\..\\..\\utils\\get_melspec_features_from_files.py\u001b[0m in \u001b[0;36mget_melspec_features_from_files\u001b[1;34m(data_dir, df_input, window, n_mels, overlap, feature_type)\u001b[0m\n\u001b[0;32m     12\u001b[0m         \u001b[0mfs\u001b[0m \u001b[1;33m=\u001b[0m \u001b[0mrow\u001b[0m\u001b[1;33m.\u001b[0m\u001b[0mfs_Hz\u001b[0m\u001b[1;33m\u001b[0m\u001b[1;33m\u001b[0m\u001b[0m\n\u001b[0;32m     13\u001b[0m \u001b[1;33m\u001b[0m\u001b[0m\n\u001b[1;32m---> 14\u001b[1;33m         mel_spect, mel_spect_db, mfcc, params = get_mel_spectrogram(file_path, \n\u001b[0m\u001b[0;32m     15\u001b[0m                                                                     \u001b[0mwindow\u001b[0m\u001b[1;33m=\u001b[0m\u001b[0mwindow\u001b[0m\u001b[1;33m,\u001b[0m\u001b[1;33m\u001b[0m\u001b[1;33m\u001b[0m\u001b[0m\n\u001b[0;32m     16\u001b[0m                                                                     \u001b[0moverlap\u001b[0m\u001b[1;33m=\u001b[0m\u001b[0moverlap\u001b[0m\u001b[1;33m,\u001b[0m\u001b[1;33m\u001b[0m\u001b[1;33m\u001b[0m\u001b[0m\n",
      "\u001b[1;32m~\\MyRepos\\AudioMalfunctionDetection\\Modeling\\One-class SVM\\..\\..\\utils\\get_mel_spectrogram.py\u001b[0m in \u001b[0;36mget_mel_spectrogram\u001b[1;34m(file_path, window, overlap, n_fft, n_mels, fmin, fmax, no_channel, machine, normalize_signal)\u001b[0m\n\u001b[0;32m      7\u001b[0m \u001b[1;33m\u001b[0m\u001b[0m\n\u001b[0;32m      8\u001b[0m     \u001b[1;31m# Load the signal\u001b[0m\u001b[1;33m\u001b[0m\u001b[1;33m\u001b[0m\u001b[1;33m\u001b[0m\u001b[0m\n\u001b[1;32m----> 9\u001b[1;33m     \u001b[0msignal\u001b[0m\u001b[1;33m,\u001b[0m \u001b[0mfs\u001b[0m \u001b[1;33m=\u001b[0m \u001b[0mlibrosa\u001b[0m\u001b[1;33m.\u001b[0m\u001b[0mload\u001b[0m\u001b[1;33m(\u001b[0m\u001b[0mfile_path\u001b[0m\u001b[1;33m,\u001b[0m \u001b[0msr\u001b[0m\u001b[1;33m=\u001b[0m\u001b[1;32mNone\u001b[0m\u001b[1;33m,\u001b[0m \u001b[0mmono\u001b[0m\u001b[1;33m=\u001b[0m\u001b[1;32mFalse\u001b[0m\u001b[1;33m)\u001b[0m\u001b[1;33m\u001b[0m\u001b[1;33m\u001b[0m\u001b[0m\n\u001b[0m\u001b[0;32m     10\u001b[0m \u001b[1;33m\u001b[0m\u001b[0m\n\u001b[0;32m     11\u001b[0m     \u001b[1;31m# Default channel no selected based on machine\u001b[0m\u001b[1;33m\u001b[0m\u001b[1;33m\u001b[0m\u001b[1;33m\u001b[0m\u001b[0m\n",
      "\u001b[1;32m~\\anaconda3\\envs\\audio_malfunction_detection\\lib\\site-packages\\librosa\\core\\audio.py\u001b[0m in \u001b[0;36mload\u001b[1;34m(path, sr, mono, offset, duration, dtype, res_type)\u001b[0m\n\u001b[0;32m    158\u001b[0m \u001b[1;33m\u001b[0m\u001b[0m\n\u001b[0;32m    159\u001b[0m             \u001b[1;31m# Load the target number of frames, and transpose to match librosa form\u001b[0m\u001b[1;33m\u001b[0m\u001b[1;33m\u001b[0m\u001b[1;33m\u001b[0m\u001b[0m\n\u001b[1;32m--> 160\u001b[1;33m             \u001b[0my\u001b[0m \u001b[1;33m=\u001b[0m \u001b[0msf_desc\u001b[0m\u001b[1;33m.\u001b[0m\u001b[0mread\u001b[0m\u001b[1;33m(\u001b[0m\u001b[0mframes\u001b[0m\u001b[1;33m=\u001b[0m\u001b[0mframe_duration\u001b[0m\u001b[1;33m,\u001b[0m \u001b[0mdtype\u001b[0m\u001b[1;33m=\u001b[0m\u001b[0mdtype\u001b[0m\u001b[1;33m,\u001b[0m \u001b[0malways_2d\u001b[0m\u001b[1;33m=\u001b[0m\u001b[1;32mFalse\u001b[0m\u001b[1;33m)\u001b[0m\u001b[1;33m.\u001b[0m\u001b[0mT\u001b[0m\u001b[1;33m\u001b[0m\u001b[1;33m\u001b[0m\u001b[0m\n\u001b[0m\u001b[0;32m    161\u001b[0m \u001b[1;33m\u001b[0m\u001b[0m\n\u001b[0;32m    162\u001b[0m     \u001b[1;32mexcept\u001b[0m \u001b[0mRuntimeError\u001b[0m \u001b[1;32mas\u001b[0m \u001b[0mexc\u001b[0m\u001b[1;33m:\u001b[0m\u001b[1;33m\u001b[0m\u001b[1;33m\u001b[0m\u001b[0m\n",
      "\u001b[1;32m~\\anaconda3\\envs\\audio_malfunction_detection\\lib\\site-packages\\soundfile.py\u001b[0m in \u001b[0;36mread\u001b[1;34m(self, frames, dtype, always_2d, fill_value, out)\u001b[0m\n\u001b[0;32m    865\u001b[0m             \u001b[1;32mif\u001b[0m \u001b[0mframes\u001b[0m \u001b[1;33m<\u001b[0m \u001b[1;36m0\u001b[0m \u001b[1;32mor\u001b[0m \u001b[0mframes\u001b[0m \u001b[1;33m>\u001b[0m \u001b[0mlen\u001b[0m\u001b[1;33m(\u001b[0m\u001b[0mout\u001b[0m\u001b[1;33m)\u001b[0m\u001b[1;33m:\u001b[0m\u001b[1;33m\u001b[0m\u001b[1;33m\u001b[0m\u001b[0m\n\u001b[0;32m    866\u001b[0m                 \u001b[0mframes\u001b[0m \u001b[1;33m=\u001b[0m \u001b[0mlen\u001b[0m\u001b[1;33m(\u001b[0m\u001b[0mout\u001b[0m\u001b[1;33m)\u001b[0m\u001b[1;33m\u001b[0m\u001b[1;33m\u001b[0m\u001b[0m\n\u001b[1;32m--> 867\u001b[1;33m         \u001b[0mframes\u001b[0m \u001b[1;33m=\u001b[0m \u001b[0mself\u001b[0m\u001b[1;33m.\u001b[0m\u001b[0m_array_io\u001b[0m\u001b[1;33m(\u001b[0m\u001b[1;34m'read'\u001b[0m\u001b[1;33m,\u001b[0m \u001b[0mout\u001b[0m\u001b[1;33m,\u001b[0m \u001b[0mframes\u001b[0m\u001b[1;33m)\u001b[0m\u001b[1;33m\u001b[0m\u001b[1;33m\u001b[0m\u001b[0m\n\u001b[0m\u001b[0;32m    868\u001b[0m         \u001b[1;32mif\u001b[0m \u001b[0mlen\u001b[0m\u001b[1;33m(\u001b[0m\u001b[0mout\u001b[0m\u001b[1;33m)\u001b[0m \u001b[1;33m>\u001b[0m \u001b[0mframes\u001b[0m\u001b[1;33m:\u001b[0m\u001b[1;33m\u001b[0m\u001b[1;33m\u001b[0m\u001b[0m\n\u001b[0;32m    869\u001b[0m             \u001b[1;32mif\u001b[0m \u001b[0mfill_value\u001b[0m \u001b[1;32mis\u001b[0m \u001b[1;32mNone\u001b[0m\u001b[1;33m:\u001b[0m\u001b[1;33m\u001b[0m\u001b[1;33m\u001b[0m\u001b[0m\n",
      "\u001b[1;32m~\\anaconda3\\envs\\audio_malfunction_detection\\lib\\site-packages\\soundfile.py\u001b[0m in \u001b[0;36m_array_io\u001b[1;34m(self, action, array, frames)\u001b[0m\n\u001b[0;32m   1310\u001b[0m         \u001b[1;32massert\u001b[0m \u001b[0marray\u001b[0m\u001b[1;33m.\u001b[0m\u001b[0mdtype\u001b[0m\u001b[1;33m.\u001b[0m\u001b[0mitemsize\u001b[0m \u001b[1;33m==\u001b[0m \u001b[0m_ffi\u001b[0m\u001b[1;33m.\u001b[0m\u001b[0msizeof\u001b[0m\u001b[1;33m(\u001b[0m\u001b[0mctype\u001b[0m\u001b[1;33m)\u001b[0m\u001b[1;33m\u001b[0m\u001b[1;33m\u001b[0m\u001b[0m\n\u001b[0;32m   1311\u001b[0m         \u001b[0mcdata\u001b[0m \u001b[1;33m=\u001b[0m \u001b[0m_ffi\u001b[0m\u001b[1;33m.\u001b[0m\u001b[0mcast\u001b[0m\u001b[1;33m(\u001b[0m\u001b[0mctype\u001b[0m \u001b[1;33m+\u001b[0m \u001b[1;34m'*'\u001b[0m\u001b[1;33m,\u001b[0m \u001b[0marray\u001b[0m\u001b[1;33m.\u001b[0m\u001b[0m__array_interface__\u001b[0m\u001b[1;33m[\u001b[0m\u001b[1;34m'data'\u001b[0m\u001b[1;33m]\u001b[0m\u001b[1;33m[\u001b[0m\u001b[1;36m0\u001b[0m\u001b[1;33m]\u001b[0m\u001b[1;33m)\u001b[0m\u001b[1;33m\u001b[0m\u001b[1;33m\u001b[0m\u001b[0m\n\u001b[1;32m-> 1312\u001b[1;33m         \u001b[1;32mreturn\u001b[0m \u001b[0mself\u001b[0m\u001b[1;33m.\u001b[0m\u001b[0m_cdata_io\u001b[0m\u001b[1;33m(\u001b[0m\u001b[0maction\u001b[0m\u001b[1;33m,\u001b[0m \u001b[0mcdata\u001b[0m\u001b[1;33m,\u001b[0m \u001b[0mctype\u001b[0m\u001b[1;33m,\u001b[0m \u001b[0mframes\u001b[0m\u001b[1;33m)\u001b[0m\u001b[1;33m\u001b[0m\u001b[1;33m\u001b[0m\u001b[0m\n\u001b[0m\u001b[0;32m   1313\u001b[0m \u001b[1;33m\u001b[0m\u001b[0m\n\u001b[0;32m   1314\u001b[0m     \u001b[1;32mdef\u001b[0m \u001b[0m_cdata_io\u001b[0m\u001b[1;33m(\u001b[0m\u001b[0mself\u001b[0m\u001b[1;33m,\u001b[0m \u001b[0maction\u001b[0m\u001b[1;33m,\u001b[0m \u001b[0mdata\u001b[0m\u001b[1;33m,\u001b[0m \u001b[0mctype\u001b[0m\u001b[1;33m,\u001b[0m \u001b[0mframes\u001b[0m\u001b[1;33m)\u001b[0m\u001b[1;33m:\u001b[0m\u001b[1;33m\u001b[0m\u001b[1;33m\u001b[0m\u001b[0m\n",
      "\u001b[1;32m~\\anaconda3\\envs\\audio_malfunction_detection\\lib\\site-packages\\soundfile.py\u001b[0m in \u001b[0;36m_cdata_io\u001b[1;34m(self, action, data, ctype, frames)\u001b[0m\n\u001b[0;32m   1319\u001b[0m             \u001b[0mcurr\u001b[0m \u001b[1;33m=\u001b[0m \u001b[0mself\u001b[0m\u001b[1;33m.\u001b[0m\u001b[0mtell\u001b[0m\u001b[1;33m(\u001b[0m\u001b[1;33m)\u001b[0m\u001b[1;33m\u001b[0m\u001b[1;33m\u001b[0m\u001b[0m\n\u001b[0;32m   1320\u001b[0m         \u001b[0mfunc\u001b[0m \u001b[1;33m=\u001b[0m \u001b[0mgetattr\u001b[0m\u001b[1;33m(\u001b[0m\u001b[0m_snd\u001b[0m\u001b[1;33m,\u001b[0m \u001b[1;34m'sf_'\u001b[0m \u001b[1;33m+\u001b[0m \u001b[0maction\u001b[0m \u001b[1;33m+\u001b[0m \u001b[1;34m'f_'\u001b[0m \u001b[1;33m+\u001b[0m \u001b[0mctype\u001b[0m\u001b[1;33m)\u001b[0m\u001b[1;33m\u001b[0m\u001b[1;33m\u001b[0m\u001b[0m\n\u001b[1;32m-> 1321\u001b[1;33m         \u001b[0mframes\u001b[0m \u001b[1;33m=\u001b[0m \u001b[0mfunc\u001b[0m\u001b[1;33m(\u001b[0m\u001b[0mself\u001b[0m\u001b[1;33m.\u001b[0m\u001b[0m_file\u001b[0m\u001b[1;33m,\u001b[0m \u001b[0mdata\u001b[0m\u001b[1;33m,\u001b[0m \u001b[0mframes\u001b[0m\u001b[1;33m)\u001b[0m\u001b[1;33m\u001b[0m\u001b[1;33m\u001b[0m\u001b[0m\n\u001b[0m\u001b[0;32m   1322\u001b[0m         \u001b[0m_error_check\u001b[0m\u001b[1;33m(\u001b[0m\u001b[0mself\u001b[0m\u001b[1;33m.\u001b[0m\u001b[0m_errorcode\u001b[0m\u001b[1;33m)\u001b[0m\u001b[1;33m\u001b[0m\u001b[1;33m\u001b[0m\u001b[0m\n\u001b[0;32m   1323\u001b[0m         \u001b[1;32mif\u001b[0m \u001b[0mself\u001b[0m\u001b[1;33m.\u001b[0m\u001b[0mseekable\u001b[0m\u001b[1;33m(\u001b[0m\u001b[1;33m)\u001b[0m\u001b[1;33m:\u001b[0m\u001b[1;33m\u001b[0m\u001b[1;33m\u001b[0m\u001b[0m\n",
      "\u001b[1;31mKeyboardInterrupt\u001b[0m: "
     ]
    }
   ],
   "source": [
    "# Select all abnormal samples as test, equal number of normal also in test, rest in training\n",
    "df_machine_all = df[df.machine=='fan']\n",
    "\n",
    "window = 0.5\n",
    "n_mels = 64\n",
    "overlap = 0.25\n",
    "\n",
    "X_all, y_all, params_all = get_melspec_features_from_files(data_dir, df_machine_all, window, n_mels, overlap)\n",
    "\n",
    "# Add labels for training and test\n",
    "df_machine_all = add_train_test_labels_to_dataframe(df_machine_all, no_seed=30)\n",
    "\n",
    "# Get training and test samples\n",
    "X_train_all, X_test_all, y_train_all, y_test_all = get_train_test_data(X, y, df_machine_all)\n",
    "\n",
    "# One class svm \n",
    "id_p = 9\n",
    "# id_g = 4\n",
    "prctl = ran_prctl[id_p]\n",
    "# gamma = ran_gamma[id_g]\n",
    "nu = 0.5\n",
    "out_class = train_test_one_class_svm(X_train, X_test, y_train, y_test, \n",
    "                                     kernel='rbf', gamma=gamma, nu=nu, prctle=prctle, normalize=\"min-max\")\n",
    "# return OneClassSVM, report, cm_train, cm_test, out_metrics_train, out_metrics_test, params"
   ]
  },
  {
   "cell_type": "code",
   "execution_count": null,
   "id": "3e1f5dce",
   "metadata": {},
   "outputs": [],
   "source": [
    "ran_gamma = [0.0001, 0.0005, 0.001, 0.005, 0.01, 0.05, 0.1, 0.5]\n",
    "ran_prctl_selected = 7 # range(0,15)\n",
    "nu = 0.5\n",
    "# Initialize arrays\n",
    "out_metrics_all_gn = {}\n",
    "out_metrics_all_gn['acc'] = np.zeros((len(ran_prctl), len(ran_gamma)))\n",
    "out_metrics_all_gn['precision']  = np.zeros((len(ran_prctl), len(ran_gamma)))\n",
    "out_metrics_all_gn['recall'] = np.zeros((len(ran_prctl), len(ran_gamma)))\n",
    "out_metrics_all_gn['TPR'] = np.zeros((len(ran_prctl), len(ran_gamma)))\n",
    "out_metrics_all_gn['FPR'] = np.zeros((len(ran_prctl), len(ran_gamma)))\n",
    "for id_g, gamma in enumerate(ran_gamma):\n",
    "    for id_p, prctle in enumerate(ran_prctl_selected):\n",
    "        \n",
    "        out_class = train_test_one_class_svm(X_train_all, X_test_all, y_train_all, y_test_all, \n",
    "                                     kernel='rbf', gamma=0.001, nu=0.5, prctle=2, normalize=\"min-max\")\n",
    "        # return OneClassSVM, report, cm_train, cm_test, out_metrics_train, out_metrics_test, params\n",
    "        \n",
    "        out_metrics = out_class[5]\n",
    "        out_metrics_all_gn['acc'][id_p, id_g] = out_metrics['acc']\n",
    "        out_metrics_all_gn['precision'][id_p, id_g] = out_metrics['precision']\n",
    "        out_metrics_all_gn['recall'][id_p, id_g] = out_metrics['recall']\n",
    "        out_metrics_all_gn['TPR'][id_p, id_g] = out_metrics['TPR']\n",
    "        out_metrics_all_gn['FPR'][id_p, id_g] = out_metrics['FPR']\n",
    "        "
   ]
  },
  {
   "cell_type": "code",
   "execution_count": 313,
   "id": "c942c337",
   "metadata": {},
   "outputs": [
    {
     "data": {
      "image/png": "[encoded data removed]",
      "text/plain": [
       "<Figure size 432x288 with 1 Axes>"
      ]
     },
     "metadata": {},
     "output_type": "display_data"
    }
   ],
   "source": [
    "# Precision and recall\n",
    "plt.plot(recall_gamma_all, precision_gamma_all)\n",
    "plt.xlim([0, 1])\n",
    "plt.ylim([0, 1])\n",
    "plt.show()"
   ]
  },
  {
   "cell_type": "code",
   "execution_count": 320,
   "id": "36bbd698",
   "metadata": {},
   "outputs": [],
   "source": [
    "# Metrics for the previously chosen gamma and prctle\n",
    "prctl = 4\n",
    "gamma = 0.01\n",
    "out_class = train_test_one_class_svm(X_train_all, X_test_all, y_train_all, y_test_all, \n",
    "                                     kernel='rbf', gamma=gamma, nu=nu, prctle=prctle, normalize=\"min-max\")\n",
    "# return OneClassSVM, report, cm_train, cm_test, out_metrics_train, out_metrics_test, params"
   ]
  },
  {
   "cell_type": "code",
   "execution_count": 331,
   "id": "2b53851a",
   "metadata": {},
   "outputs": [
    {
     "data": {
      "text/plain": [
       "array([[1320,  155],\n",
       "       [ 426, 1049]], dtype=int64)"
      ]
     },
     "execution_count": 331,
     "metadata": {},
     "output_type": "execute_result"
    }
   ],
   "source": [
    "cm_test"
   ]
  },
  {
   "cell_type": "code",
   "execution_count": 332,
   "id": "fed96d17",
   "metadata": {},
   "outputs": [
    {
     "data": {
      "text/plain": [
       "{'acc': 0.8030508474576271,\n",
       " 'precision': 0.8712624584717608,\n",
       " 'recall': 0.7111864406779661,\n",
       " 'sensitivity': 0.7111864406779661,\n",
       " 'specificity': 0.8949152542372881,\n",
       " 'TPR': 0.7111864406779661,\n",
       " 'FPR': 0.10508474576271187,\n",
       " 'f1': 0.7831280328480776}"
      ]
     },
     "execution_count": 332,
     "metadata": {},
     "output_type": "execute_result"
    }
   ],
   "source": [
    "out_metrics_test_all"
   ]
  },
  {
   "cell_type": "code",
   "execution_count": 333,
   "id": "6d831393",
   "metadata": {},
   "outputs": [
    {
     "data": {
      "text/plain": [
       "array([[2366,  234],\n",
       "       [   0,    0]], dtype=int64)"
      ]
     },
     "execution_count": 333,
     "metadata": {},
     "output_type": "execute_result"
    }
   ],
   "source": [
    "cm_train"
   ]
  },
  {
   "cell_type": "code",
   "execution_count": 334,
   "id": "eb26d2c0",
   "metadata": {},
   "outputs": [
    {
     "data": {
      "text/plain": [
       "{'acc': 0.90999999965,\n",
       " 'precision': 0.0,\n",
       " 'recall': 0.0,\n",
       " 'sensitivity': 0.0,\n",
       " 'specificity': 0.91,\n",
       " 'TPR': 0.0,\n",
       " 'FPR': 0.08999999999999997,\n",
       " 'f1': nan}"
      ]
     },
     "execution_count": 334,
     "metadata": {},
     "output_type": "execute_result"
    }
   ],
   "source": [
    "out_metrics_train_all"
   ]
  }
 ],
 "metadata": {
  "kernelspec": {
   "display_name": "Python 3 (ipykernel)",
   "language": "python",
   "name": "python3"
  },
  "language_info": {
   "codemirror_mode": {
    "name": "ipython",
    "version": 3
   },
   "file_extension": ".py",
   "mimetype": "text/x-python",
   "name": "python",
   "nbconvert_exporter": "python",
   "pygments_lexer": "ipython3",
   "version": "3.8.12"
  }
 },
 "nbformat": 4,
 "nbformat_minor": 5
}
