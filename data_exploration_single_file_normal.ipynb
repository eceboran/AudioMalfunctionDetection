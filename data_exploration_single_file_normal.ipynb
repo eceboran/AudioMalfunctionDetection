{
 "cells": [
  {
   "cell_type": "code",
   "execution_count": null,
   "id": "f41f6fb4",
   "metadata": {},
   "outputs": [],
   "source": [
    "# Import necessary libraries\n",
    "import os\n",
    "import sys\n",
    "import numpy as np\n",
    "import librosa\n",
    "import librosa.display\n",
    "import matplotlib.pyplot as plt\n",
    "import plotly.express as px\n",
    "from plotly.subplots import make_subplots\n",
    "import plotly.graph_objects as go"
   ]
  },
  {
   "cell_type": "code",
   "execution_count": null,
   "id": "b7c662ec",
   "metadata": {
    "scrolled": true
   },
   "outputs": [],
   "source": [
    "# File path\n",
    "file_dir = '.\\\\data\\\\source\\\\6_dB_pump\\\\pump\\\\id_00\\\\normal\\\\'\n",
    "file_name = '00000156.wav'\n",
    "file_path = os.path.join(file_dir, file_name)"
   ]
  },
  {
   "cell_type": "code",
   "execution_count": null,
   "id": "b91c7294",
   "metadata": {
    "scrolled": true
   },
   "outputs": [],
   "source": [
    "# Load the audio file \n",
    "signal, fs = librosa.load(file_path, sr=None, mono=False)\n",
    "signal = signal[0, :]\n",
    "print(f\"File duration: {librosa.get_duration(filename=file_path)} s, fs={fs} Hz\")"
   ]
  },
  {
   "cell_type": "code",
   "execution_count": null,
   "id": "f1d9970a",
   "metadata": {},
   "outputs": [],
   "source": [
    "# Plot the signal\n",
    "plt.figure(figsize=(16,5))\n",
    "plt.subplot(111)\n",
    "librosa.display.waveplot(signal, sr=fs)\n",
    "plt.title(f\"Audio file {file_path} with fs={fs} Hz\")\n",
    "plt.xlabel(\"Time (s)\")\n",
    "plt.ylabel(\"Amplitude\")\n",
    "plt.show()"
   ]
  },
  {
   "cell_type": "code",
   "execution_count": null,
   "id": "37c2560c",
   "metadata": {},
   "outputs": [],
   "source": [
    "np.mean(signal)\n",
    "np.std(signal)\n"
   ]
  },
  {
   "cell_type": "code",
   "execution_count": null,
   "id": "7ff5469c",
   "metadata": {
    "scrolled": false
   },
   "outputs": [],
   "source": [
    "# Plot multiple signals\n",
    "signal_multi_ch, sr = librosa.load(file_path, sr=None, mono=False)\n",
    "fig = make_subplots(rows=4, cols=2)\n",
    "for no_sig in range(signal_multi_ch.shape[0]):\n",
    "    fig.add_trace(\n",
    "    go.Scatter(y=signal_multi_ch[no_sig, :]),\n",
    "    row=no_sig%4+1, col=(no_sig)//4+1)\n",
    "fig.show()"
   ]
  },
  {
   "cell_type": "code",
   "execution_count": null,
   "id": "a3b749b9",
   "metadata": {},
   "outputs": [],
   "source": [
    "# Compute and plot the FFT\n",
    "sig_fft = np.fft.fft(signal, n=1024)\n",
    "freq = np.linspace(0, fs, len(sig_fft))\n",
    "\n",
    "sig_fft_left = sig_fft[:len(freq)//2]\n",
    "freq_left = freq[:len(freq)//2]\n",
    "\n",
    "fig = px.line(x=freq_left, y=abs(sig_fft_left))\n",
    "fig.update_layout(title=\"FFT of the signal\",\n",
    "        yaxis_title=\"abs(fft)\",\n",
    "        xaxis_title=\"Frequency (Hz)\")"
   ]
  },
  {
   "cell_type": "code",
   "execution_count": null,
   "id": "f30bd962",
   "metadata": {
    "scrolled": false
   },
   "outputs": [],
   "source": [
    "# Compute and plot the FFT for multiple signals\n",
    "fig = go.Figure()\n",
    "for no_sig in range(signal_multi_ch.shape[0]):\n",
    "    \n",
    "    sig_fft = np.fft.fft(signal_multi_ch[no_sig, :], n=256)\n",
    "    freq = np.linspace(0, fs, len(sig_fft))\n",
    "\n",
    "    sig_fft_left = sig_fft[:len(freq)//2]\n",
    "    freq_left = freq[:len(freq)//2]\n",
    "    \n",
    "    fig.add_trace(\n",
    "    go.Scatter(x=freq_left, y=abs(sig_fft_left))\n",
    "    )\n",
    "\n",
    "fig.update_layout(title=\"FFT of all channels\",\n",
    "                  yaxis_title=\"abs(fft)\",\n",
    "                  xaxis_title=\"Frequency (Hz)\")\n",
    "\n",
    "\n",
    "fig.show()"
   ]
  },
  {
   "cell_type": "code",
   "execution_count": null,
   "id": "a964106c",
   "metadata": {
    "scrolled": true
   },
   "outputs": [],
   "source": [
    "help(librosa.filters.mel)"
   ]
  },
  {
   "cell_type": "code",
   "execution_count": null,
   "id": "dea54170",
   "metadata": {},
   "outputs": [],
   "source": [
    "# Mel filter banks\n",
    "n_fft = 1024\n",
    "filter_banks = librosa.filters.mel(n_fft=n_fft, sr=fs, n_mels=10)\n",
    "print(filter_banks.shape)\n",
    "\n",
    "plt.figure(figsize=(10,4))\n",
    "librosa.display.specshow(filter_banks, sr=fs, x_axis='linear')\n",
    "plt.colorbar(format=\"%.2e\")\n",
    "plt.show()"
   ]
  },
  {
   "cell_type": "code",
   "execution_count": null,
   "id": "ca14e61f",
   "metadata": {},
   "outputs": [],
   "source": [
    "def get_melspectogram(file_path, window, no_channel=None, overlap=None, n_fft=None, n_mels=32, machine=None):\n",
    "    \n",
    "    # Load the signal\n",
    "    signal, fs = librosa.load(file_path, sr=None, mono=False)\n",
    "    \n",
    "    # Default channel no selected based on machine\n",
    "    channel_dict = {'pump': 3, 'valve': 1, 'slider': 7, 'fan': 5}\n",
    "    if no_channel == None:\n",
    "        if machine == None:\n",
    "            no_channel = 1\n",
    "        else:\n",
    "            no_channel = channel_dict[machine]-1\n",
    "        signal = signal[no_channel, :]\n",
    "    else:\n",
    "        signal = signal.mean(axis=0)\n",
    "    \n",
    "    # Window length in samples\n",
    "    window_length = int(window*fs)\n",
    "    \n",
    "    # Default overlap is 50% of the window size\n",
    "    if overlap==None:\n",
    "        overlap = 0.5\n",
    "    \n",
    "    # Overlap in samples\n",
    "    overlap_length = int(window_length*overlap)\n",
    "    \n",
    "    # Hop length in samples\n",
    "    hop_length = window_length-overlap_length\n",
    "    \n",
    "    # Default n_fft is the smallest power of 2 larger than win_length\n",
    "    if n_fft==None:\n",
    "        n_fft = int(2**np.ceil(np.log2(window_length)))\n",
    "   \n",
    "    # Compute mel spectogram\n",
    "    mel_spect = librosa.feature.melspectrogram(y=signal, sr=fs, \n",
    "                                               win_length=window_length, \n",
    "                                               hop_length=hop_length,\n",
    "                                               n_fft=n_fft,\n",
    "                                               n_mels=n_mels)\n",
    "    # Mel spectogram in decibels\n",
    "    mel_spect_db = librosa.power_to_db(mel_spect, ref=1.0, amin=sys.float_info.epsilon, top_db=np.inf)\n",
    "\n",
    "    params = {}\n",
    "    params['window'] = window\n",
    "    params['window_length'] = window_length\n",
    "    params['overlap'] = overlap\n",
    "    params['overlap_length'] = overlap_length\n",
    "    params['hop_length'] = hop_length\n",
    "    params['n_fft'] = n_fft\n",
    "    \n",
    "    return mel_spect, mel_spect_db, params\n",
    "\n",
    "# Compute and plot mel spectogram\n",
    "window = 1024/fs # 2\n",
    "n_mels = 64\n",
    "mel_spect, mel_spect_db, params = get_melspectogram(file_path, window=window, overlap=0.5, n_mels=n_mels) \n",
    "\n",
    "print(params)\n",
    "\n",
    "print(f\"Size of mel_spect: {mel_spect.shape}, total number of points: {mel_spect.size}\")\n",
    "librosa.display.specshow(mel_spect_db, sr=fs, hop_length=params['overlap_length'], x_axis='time', y_axis='mel');\n",
    "# times = librosa.times_like(mel_spect, sr=fs, hop_length=params['overlap_length'])\n",
    "# librosa.display.specshow(mel_spect_db, sr=fs, hop_length=params['overlap_length'], x_coords = times, y_axis='mel');\n",
    "\n",
    "plt.title(f\"Mel Spectrogram, window size {params['window']} s\");\n",
    "plt.colorbar(format='%+2.0f dB');"
   ]
  },
  {
   "cell_type": "code",
   "execution_count": null,
   "id": "3e082cb3",
   "metadata": {},
   "outputs": [],
   "source": []
  },
  {
   "cell_type": "code",
   "execution_count": null,
   "id": "fdcc705c",
   "metadata": {
    "scrolled": true
   },
   "outputs": [],
   "source": [
    "n_frames = 5\n",
    "dims = n_mels * n_frames\n",
    "vectorarray_size = len(mel_spect_db[0, :]) - n_frames + 1\n",
    "\n",
    "print(\"vectorarray_size:\", vectorarray_size)\n",
    "\n",
    "vectorarray = np.zeros((vectorarray_size, dims), float)\n",
    "print(\"vectorarray: \", vectorarray.shape)\n",
    "\n",
    "for t in range(n_frames):\n",
    "    print(t, t + vectorarray_size)\n",
    "    print(n_mels*t, n_mels*(t + 1))\n",
    "    print(\"\\n\")\n",
    "    vectorarray[:, n_mels*t : n_mels*(t + 1)] = mel_spect_db[:, t: t + vectorarray_size].T\n",
    "\n",
    "\n",
    "vectorarray.shape"
   ]
  },
  {
   "cell_type": "code",
   "execution_count": null,
   "id": "5852766b",
   "metadata": {},
   "outputs": [],
   "source": [
    "librosa.display.specshow(vectorarray)"
   ]
  },
  {
   "cell_type": "code",
   "execution_count": null,
   "id": "c6437d22",
   "metadata": {},
   "outputs": [],
   "source": [
    "win_length = params['window_length']\n",
    "n_fft = params['n_fft']\n",
    "hop_length = params['hop_length']\n",
    "n_mfcc = 16\n",
    "mfcc = librosa.feature.mfcc(signal, n_fft=n_fft, win_length=win_length, hop_length=hop_length)\n",
    "\n",
    "librosa.display.specshow(np.log10(abs(mfcc)), sr=fs, hop_length=hop_length)\n",
    "plt.title(\"Spectogram of the signal\")\n",
    "plt.xlabel(\"Time (s)\")\n",
    "plt.ylabel(\"Frequency (Hz)\")\n",
    "plt.show()"
   ]
  },
  {
   "cell_type": "code",
   "execution_count": null,
   "id": "a40450ed",
   "metadata": {},
   "outputs": [],
   "source": [
    "def extract_features(file_path):    \n",
    "    audio, sample_rate = librosa.load(file_path) \n",
    "    mfccs = librosa.feature.mfcc(y=audio, sr=sample_rate, n_fft=n_fft, win_length=win_length, hop_length=hop_length, n_mfcc=64)\n",
    "    mfccs_processed = np.mean(mfccs.T,axis=0)\n",
    "     \n",
    "    return mfccs, mfccs_processed\n",
    "\n",
    "mfccs, mfccs_processed = extract_features(file_path)\n",
    "\n",
    "mfccs.shape"
   ]
  },
  {
   "cell_type": "code",
   "execution_count": null,
   "id": "18d60ce3",
   "metadata": {},
   "outputs": [],
   "source": [
    "mfccs_processed.shape"
   ]
  },
  {
   "cell_type": "code",
   "execution_count": null,
   "id": "40cef373",
   "metadata": {},
   "outputs": [],
   "source": []
  },
  {
   "cell_type": "code",
   "execution_count": null,
   "id": "e1fec364",
   "metadata": {},
   "outputs": [],
   "source": []
  },
  {
   "cell_type": "code",
   "execution_count": null,
   "id": "f301e250",
   "metadata": {},
   "outputs": [],
   "source": []
  }
 ],
 "metadata": {
  "kernelspec": {
   "display_name": "Python 3 (ipykernel)",
   "language": "python",
   "name": "python3"
  },
  "language_info": {
   "codemirror_mode": {
    "name": "ipython",
    "version": 3
   },
   "file_extension": ".py",
   "mimetype": "text/x-python",
   "name": "python",
   "nbconvert_exporter": "python",
   "pygments_lexer": "ipython3",
   "version": "3.8.12"
  }
 },
 "nbformat": 4,
 "nbformat_minor": 5
}
