{
 "cells": [
  {
   "cell_type": "code",
   "execution_count": 41,
   "id": "5bff5c64",
   "metadata": {},
   "outputs": [],
   "source": [
    "# Import necessary libraries\n",
    "import sys\n",
    "sys.path.insert(0, \"..\\\\..\\\\\")  # add the parent directory to path\n",
    "import os\n",
    "import numpy as np\n",
    "import pandas as pd\n",
    "import random\n",
    "import matplotlib.pyplot as plt\n",
    "import seaborn as sn\n",
    "import plotly.express as px\n",
    "from plotly.subplots import make_subplots\n",
    "import plotly.graph_objects as go\n",
    "import librosa\n",
    "import librosa.display\n",
    "from sklearn.svm import OneClassSVM\n",
    "from sklearn import metrics\n",
    "import plotly.express as px\n",
    "import pickle\n",
    "\n",
    "from utils.get_mel_spectrogram import get_mel_spectrogram\n",
    "from utils.get_melspec_features_from_files import get_melspec_features_from_files\n",
    "from utils.confusion_metrics import confusion_metrics\n",
    "from utils.train_test_one_class_svm import train_test_one_class_svm\n",
    "from utils.get_train_test_data import get_train_test_data\n",
    "from utils.add_train_test_labels_to_dataframe import add_train_test_labels_to_dataframe"
   ]
  },
  {
   "cell_type": "code",
   "execution_count": 42,
   "id": "e9f320dc",
   "metadata": {},
   "outputs": [],
   "source": [
    "# Directories\n",
    "parent_dir = os.path.abspath('..\\\\..\\\\..\\\\')  # main directory\n",
    "# Audio data directory\n",
    "data_dir = os.path.join(parent_dir, 'data', 'source')  # audio data directory\n",
    "# Metada directory\n",
    "metadata_dir = os.path.join(parent_dir, 'data', 'metadata')  # metadata directory"
   ]
  },
  {
   "cell_type": "code",
   "execution_count": 43,
   "id": "b334d6b5",
   "metadata": {},
   "outputs": [
    {
     "data": {
      "text/html": [
       "<div>\n",
       "<style scoped>\n",
       "    .dataframe tbody tr th:only-of-type {\n",
       "        vertical-align: middle;\n",
       "    }\n",
       "\n",
       "    .dataframe tbody tr th {\n",
       "        vertical-align: top;\n",
       "    }\n",
       "\n",
       "    .dataframe thead th {\n",
       "        text-align: right;\n",
       "    }\n",
       "</style>\n",
       "<table border=\"1\" class=\"dataframe\">\n",
       "  <thead>\n",
       "    <tr style=\"text-align: right;\">\n",
       "      <th></th>\n",
       "      <th>machine</th>\n",
       "      <th>model</th>\n",
       "      <th>anomaly</th>\n",
       "      <th>file_name</th>\n",
       "      <th>file_rel_path</th>\n",
       "      <th>duration_s</th>\n",
       "      <th>fs_Hz</th>\n",
       "      <th>SNR_dB</th>\n",
       "    </tr>\n",
       "    <tr>\n",
       "      <th>file_no</th>\n",
       "      <th></th>\n",
       "      <th></th>\n",
       "      <th></th>\n",
       "      <th></th>\n",
       "      <th></th>\n",
       "      <th></th>\n",
       "      <th></th>\n",
       "      <th></th>\n",
       "    </tr>\n",
       "  </thead>\n",
       "  <tbody>\n",
       "    <tr>\n",
       "      <th>0</th>\n",
       "      <td>fan</td>\n",
       "      <td>0</td>\n",
       "      <td>1</td>\n",
       "      <td>00000000.wav</td>\n",
       "      <td>6_dB_fan\\fan\\id_00\\abnormal\\00000000.wav</td>\n",
       "      <td>10.0</td>\n",
       "      <td>16000</td>\n",
       "      <td>6</td>\n",
       "    </tr>\n",
       "    <tr>\n",
       "      <th>1</th>\n",
       "      <td>fan</td>\n",
       "      <td>0</td>\n",
       "      <td>1</td>\n",
       "      <td>00000001.wav</td>\n",
       "      <td>6_dB_fan\\fan\\id_00\\abnormal\\00000001.wav</td>\n",
       "      <td>10.0</td>\n",
       "      <td>16000</td>\n",
       "      <td>6</td>\n",
       "    </tr>\n",
       "    <tr>\n",
       "      <th>2</th>\n",
       "      <td>fan</td>\n",
       "      <td>0</td>\n",
       "      <td>1</td>\n",
       "      <td>00000002.wav</td>\n",
       "      <td>6_dB_fan\\fan\\id_00\\abnormal\\00000002.wav</td>\n",
       "      <td>10.0</td>\n",
       "      <td>16000</td>\n",
       "      <td>6</td>\n",
       "    </tr>\n",
       "    <tr>\n",
       "      <th>3</th>\n",
       "      <td>fan</td>\n",
       "      <td>0</td>\n",
       "      <td>1</td>\n",
       "      <td>00000003.wav</td>\n",
       "      <td>6_dB_fan\\fan\\id_00\\abnormal\\00000003.wav</td>\n",
       "      <td>10.0</td>\n",
       "      <td>16000</td>\n",
       "      <td>6</td>\n",
       "    </tr>\n",
       "    <tr>\n",
       "      <th>4</th>\n",
       "      <td>fan</td>\n",
       "      <td>0</td>\n",
       "      <td>1</td>\n",
       "      <td>00000004.wav</td>\n",
       "      <td>6_dB_fan\\fan\\id_00\\abnormal\\00000004.wav</td>\n",
       "      <td>10.0</td>\n",
       "      <td>16000</td>\n",
       "      <td>6</td>\n",
       "    </tr>\n",
       "    <tr>\n",
       "      <th>...</th>\n",
       "      <td>...</td>\n",
       "      <td>...</td>\n",
       "      <td>...</td>\n",
       "      <td>...</td>\n",
       "      <td>...</td>\n",
       "      <td>...</td>\n",
       "      <td>...</td>\n",
       "      <td>...</td>\n",
       "    </tr>\n",
       "    <tr>\n",
       "      <th>18014</th>\n",
       "      <td>valve</td>\n",
       "      <td>6</td>\n",
       "      <td>0</td>\n",
       "      <td>00000987.wav</td>\n",
       "      <td>6_dB_valve\\valve\\id_06\\normal\\00000987.wav</td>\n",
       "      <td>10.0</td>\n",
       "      <td>16000</td>\n",
       "      <td>6</td>\n",
       "    </tr>\n",
       "    <tr>\n",
       "      <th>18015</th>\n",
       "      <td>valve</td>\n",
       "      <td>6</td>\n",
       "      <td>0</td>\n",
       "      <td>00000988.wav</td>\n",
       "      <td>6_dB_valve\\valve\\id_06\\normal\\00000988.wav</td>\n",
       "      <td>10.0</td>\n",
       "      <td>16000</td>\n",
       "      <td>6</td>\n",
       "    </tr>\n",
       "    <tr>\n",
       "      <th>18016</th>\n",
       "      <td>valve</td>\n",
       "      <td>6</td>\n",
       "      <td>0</td>\n",
       "      <td>00000989.wav</td>\n",
       "      <td>6_dB_valve\\valve\\id_06\\normal\\00000989.wav</td>\n",
       "      <td>10.0</td>\n",
       "      <td>16000</td>\n",
       "      <td>6</td>\n",
       "    </tr>\n",
       "    <tr>\n",
       "      <th>18017</th>\n",
       "      <td>valve</td>\n",
       "      <td>6</td>\n",
       "      <td>0</td>\n",
       "      <td>00000990.wav</td>\n",
       "      <td>6_dB_valve\\valve\\id_06\\normal\\00000990.wav</td>\n",
       "      <td>10.0</td>\n",
       "      <td>16000</td>\n",
       "      <td>6</td>\n",
       "    </tr>\n",
       "    <tr>\n",
       "      <th>18018</th>\n",
       "      <td>valve</td>\n",
       "      <td>6</td>\n",
       "      <td>0</td>\n",
       "      <td>00000991.wav</td>\n",
       "      <td>6_dB_valve\\valve\\id_06\\normal\\00000991.wav</td>\n",
       "      <td>10.0</td>\n",
       "      <td>16000</td>\n",
       "      <td>6</td>\n",
       "    </tr>\n",
       "  </tbody>\n",
       "</table>\n",
       "<p>18019 rows × 8 columns</p>\n",
       "</div>"
      ],
      "text/plain": [
       "        machine  model  anomaly     file_name  \\\n",
       "file_no                                         \n",
       "0           fan      0        1  00000000.wav   \n",
       "1           fan      0        1  00000001.wav   \n",
       "2           fan      0        1  00000002.wav   \n",
       "3           fan      0        1  00000003.wav   \n",
       "4           fan      0        1  00000004.wav   \n",
       "...         ...    ...      ...           ...   \n",
       "18014     valve      6        0  00000987.wav   \n",
       "18015     valve      6        0  00000988.wav   \n",
       "18016     valve      6        0  00000989.wav   \n",
       "18017     valve      6        0  00000990.wav   \n",
       "18018     valve      6        0  00000991.wav   \n",
       "\n",
       "                                      file_rel_path  duration_s  fs_Hz  SNR_dB  \n",
       "file_no                                                                         \n",
       "0          6_dB_fan\\fan\\id_00\\abnormal\\00000000.wav        10.0  16000       6  \n",
       "1          6_dB_fan\\fan\\id_00\\abnormal\\00000001.wav        10.0  16000       6  \n",
       "2          6_dB_fan\\fan\\id_00\\abnormal\\00000002.wav        10.0  16000       6  \n",
       "3          6_dB_fan\\fan\\id_00\\abnormal\\00000003.wav        10.0  16000       6  \n",
       "4          6_dB_fan\\fan\\id_00\\abnormal\\00000004.wav        10.0  16000       6  \n",
       "...                                             ...         ...    ...     ...  \n",
       "18014    6_dB_valve\\valve\\id_06\\normal\\00000987.wav        10.0  16000       6  \n",
       "18015    6_dB_valve\\valve\\id_06\\normal\\00000988.wav        10.0  16000       6  \n",
       "18016    6_dB_valve\\valve\\id_06\\normal\\00000989.wav        10.0  16000       6  \n",
       "18017    6_dB_valve\\valve\\id_06\\normal\\00000990.wav        10.0  16000       6  \n",
       "18018    6_dB_valve\\valve\\id_06\\normal\\00000991.wav        10.0  16000       6  \n",
       "\n",
       "[18019 rows x 8 columns]"
      ]
     },
     "execution_count": 43,
     "metadata": {},
     "output_type": "execute_result"
    }
   ],
   "source": [
    "# Read the metadata file\n",
    "df = pd.read_csv(os.path.join(metadata_dir, 'metadata.csv'), header=0, index_col=0)\n",
    "df"
   ]
  },
  {
   "cell_type": "code",
   "execution_count": 44,
   "id": "a848232f",
   "metadata": {
    "scrolled": false
   },
   "outputs": [
    {
     "data": {
      "text/html": [
       "<div>\n",
       "<style scoped>\n",
       "    .dataframe tbody tr th:only-of-type {\n",
       "        vertical-align: middle;\n",
       "    }\n",
       "\n",
       "    .dataframe tbody tr th {\n",
       "        vertical-align: top;\n",
       "    }\n",
       "\n",
       "    .dataframe thead th {\n",
       "        text-align: right;\n",
       "    }\n",
       "</style>\n",
       "<table border=\"1\" class=\"dataframe\">\n",
       "  <thead>\n",
       "    <tr style=\"text-align: right;\">\n",
       "      <th></th>\n",
       "      <th>model</th>\n",
       "      <th>anomaly</th>\n",
       "      <th>count</th>\n",
       "    </tr>\n",
       "  </thead>\n",
       "  <tbody>\n",
       "    <tr>\n",
       "      <th>0</th>\n",
       "      <td>0</td>\n",
       "      <td>0</td>\n",
       "      <td>708</td>\n",
       "    </tr>\n",
       "    <tr>\n",
       "      <th>1</th>\n",
       "      <td>0</td>\n",
       "      <td>1</td>\n",
       "      <td>285</td>\n",
       "    </tr>\n",
       "    <tr>\n",
       "      <th>2</th>\n",
       "      <td>2</td>\n",
       "      <td>0</td>\n",
       "      <td>711</td>\n",
       "    </tr>\n",
       "    <tr>\n",
       "      <th>3</th>\n",
       "      <td>2</td>\n",
       "      <td>1</td>\n",
       "      <td>251</td>\n",
       "    </tr>\n",
       "    <tr>\n",
       "      <th>4</th>\n",
       "      <td>4</td>\n",
       "      <td>0</td>\n",
       "      <td>723</td>\n",
       "    </tr>\n",
       "    <tr>\n",
       "      <th>5</th>\n",
       "      <td>4</td>\n",
       "      <td>1</td>\n",
       "      <td>244</td>\n",
       "    </tr>\n",
       "    <tr>\n",
       "      <th>6</th>\n",
       "      <td>6</td>\n",
       "      <td>0</td>\n",
       "      <td>710</td>\n",
       "    </tr>\n",
       "    <tr>\n",
       "      <th>7</th>\n",
       "      <td>6</td>\n",
       "      <td>1</td>\n",
       "      <td>253</td>\n",
       "    </tr>\n",
       "  </tbody>\n",
       "</table>\n",
       "</div>"
      ],
      "text/plain": [
       "   model  anomaly  count\n",
       "0      0        0    708\n",
       "1      0        1    285\n",
       "2      2        0    711\n",
       "3      2        1    251\n",
       "4      4        0    723\n",
       "5      4        1    244\n",
       "6      6        0    710\n",
       "7      6        1    253"
      ]
     },
     "execution_count": 44,
     "metadata": {},
     "output_type": "execute_result"
    }
   ],
   "source": [
    "# Randomly select a subset of samples for a single machine\n",
    "machine = 'fan'\n",
    "df_machine = df[df.machine=='fan']\n",
    "\n",
    "df_machine = df_machine.groupby([\"model\", \"anomaly\"]).sample(frac=0.7, random_state=13)\n",
    "df_machine.reset_index(inplace=True)\n",
    "df_machine.groupby([\"model\", \"anomaly\"])['file_name'].count().reset_index(name='count')"
   ]
  },
  {
   "cell_type": "code",
   "execution_count": 46,
   "id": "9f828ce4",
   "metadata": {
    "scrolled": false
   },
   "outputs": [
    {
     "name": "stdout",
     "output_type": "stream",
     "text": [
      "{'window': 1, 'window_length': 16000, 'no_windows': 21, 'overlap': 0.5, 'overlap_length': 8000, 'hop_length': 8000, 'n_fft': 16000, 'n_mels': 32, 'fs': 16000, 'fmin': 0, 'fmax': 8000.0, 'mel_center_freq': array([  91.,  183.,  274.,  366.,  457.,  548.,  640.,  731.,  823.,\n",
      "        914., 1006., 1105., 1214., 1334., 1466., 1611., 1770., 1945.,\n",
      "       2138., 2349., 2581., 2836., 3117., 3425., 3763., 4135., 4544.,\n",
      "       4993., 5487., 6029., 6625., 7280.]), 'ft_grid_names': array([['0_0', '0_1', '0_2', '0_3', '0_4', '0_5', '0_6', '0_7', '0_8',\n",
      "        '0_9', '0_10', '0_11', '0_12', '0_13', '0_14', '0_15', '0_16',\n",
      "        '0_17', '0_18', '0_19', '0_20'],\n",
      "       ['1_0', '1_1', '1_2', '1_3', '1_4', '1_5', '1_6', '1_7', '1_8',\n",
      "        '1_9', '1_10', '1_11', '1_12', '1_13', '1_14', '1_15', '1_16',\n",
      "        '1_17', '1_18', '1_19', '1_20'],\n",
      "       ['2_0', '2_1', '2_2', '2_3', '2_4', '2_5', '2_6', '2_7', '2_8',\n",
      "        '2_9', '2_10', '2_11', '2_12', '2_13', '2_14', '2_15', '2_16',\n",
      "        '2_17', '2_18', '2_19', '2_20'],\n",
      "       ['3_0', '3_1', '3_2', '3_3', '3_4', '3_5', '3_6', '3_7', '3_8',\n",
      "        '3_9', '3_10', '3_11', '3_12', '3_13', '3_14', '3_15', '3_16',\n",
      "        '3_17', '3_18', '3_19', '3_20'],\n",
      "       ['4_0', '4_1', '4_2', '4_3', '4_4', '4_5', '4_6', '4_7', '4_8',\n",
      "        '4_9', '4_10', '4_11', '4_12', '4_13', '4_14', '4_15', '4_16',\n",
      "        '4_17', '4_18', '4_19', '4_20'],\n",
      "       ['5_0', '5_1', '5_2', '5_3', '5_4', '5_5', '5_6', '5_7', '5_8',\n",
      "        '5_9', '5_10', '5_11', '5_12', '5_13', '5_14', '5_15', '5_16',\n",
      "        '5_17', '5_18', '5_19', '5_20'],\n",
      "       ['6_0', '6_1', '6_2', '6_3', '6_4', '6_5', '6_6', '6_7', '6_8',\n",
      "        '6_9', '6_10', '6_11', '6_12', '6_13', '6_14', '6_15', '6_16',\n",
      "        '6_17', '6_18', '6_19', '6_20'],\n",
      "       ['7_0', '7_1', '7_2', '7_3', '7_4', '7_5', '7_6', '7_7', '7_8',\n",
      "        '7_9', '7_10', '7_11', '7_12', '7_13', '7_14', '7_15', '7_16',\n",
      "        '7_17', '7_18', '7_19', '7_20'],\n",
      "       ['8_0', '8_1', '8_2', '8_3', '8_4', '8_5', '8_6', '8_7', '8_8',\n",
      "        '8_9', '8_10', '8_11', '8_12', '8_13', '8_14', '8_15', '8_16',\n",
      "        '8_17', '8_18', '8_19', '8_20'],\n",
      "       ['9_0', '9_1', '9_2', '9_3', '9_4', '9_5', '9_6', '9_7', '9_8',\n",
      "        '9_9', '9_10', '9_11', '9_12', '9_13', '9_14', '9_15', '9_16',\n",
      "        '9_17', '9_18', '9_19', '9_20'],\n",
      "       ['10_0', '10_1', '10_2', '10_3', '10_4', '10_5', '10_6', '10_7',\n",
      "        '10_8', '10_9', '10_10', '10_11', '10_12', '10_13', '10_14',\n",
      "        '10_15', '10_16', '10_17', '10_18', '10_19', '10_20'],\n",
      "       ['11_0', '11_1', '11_2', '11_3', '11_4', '11_5', '11_6', '11_7',\n",
      "        '11_8', '11_9', '11_10', '11_11', '11_12', '11_13', '11_14',\n",
      "        '11_15', '11_16', '11_17', '11_18', '11_19', '11_20'],\n",
      "       ['12_0', '12_1', '12_2', '12_3', '12_4', '12_5', '12_6', '12_7',\n",
      "        '12_8', '12_9', '12_10', '12_11', '12_12', '12_13', '12_14',\n",
      "        '12_15', '12_16', '12_17', '12_18', '12_19', '12_20'],\n",
      "       ['13_0', '13_1', '13_2', '13_3', '13_4', '13_5', '13_6', '13_7',\n",
      "        '13_8', '13_9', '13_10', '13_11', '13_12', '13_13', '13_14',\n",
      "        '13_15', '13_16', '13_17', '13_18', '13_19', '13_20'],\n",
      "       ['14_0', '14_1', '14_2', '14_3', '14_4', '14_5', '14_6', '14_7',\n",
      "        '14_8', '14_9', '14_10', '14_11', '14_12', '14_13', '14_14',\n",
      "        '14_15', '14_16', '14_17', '14_18', '14_19', '14_20'],\n",
      "       ['15_0', '15_1', '15_2', '15_3', '15_4', '15_5', '15_6', '15_7',\n",
      "        '15_8', '15_9', '15_10', '15_11', '15_12', '15_13', '15_14',\n",
      "        '15_15', '15_16', '15_17', '15_18', '15_19', '15_20'],\n",
      "       ['16_0', '16_1', '16_2', '16_3', '16_4', '16_5', '16_6', '16_7',\n",
      "        '16_8', '16_9', '16_10', '16_11', '16_12', '16_13', '16_14',\n",
      "        '16_15', '16_16', '16_17', '16_18', '16_19', '16_20'],\n",
      "       ['17_0', '17_1', '17_2', '17_3', '17_4', '17_5', '17_6', '17_7',\n",
      "        '17_8', '17_9', '17_10', '17_11', '17_12', '17_13', '17_14',\n",
      "        '17_15', '17_16', '17_17', '17_18', '17_19', '17_20'],\n",
      "       ['18_0', '18_1', '18_2', '18_3', '18_4', '18_5', '18_6', '18_7',\n",
      "        '18_8', '18_9', '18_10', '18_11', '18_12', '18_13', '18_14',\n",
      "        '18_15', '18_16', '18_17', '18_18', '18_19', '18_20'],\n",
      "       ['19_0', '19_1', '19_2', '19_3', '19_4', '19_5', '19_6', '19_7',\n",
      "        '19_8', '19_9', '19_10', '19_11', '19_12', '19_13', '19_14',\n",
      "        '19_15', '19_16', '19_17', '19_18', '19_19', '19_20'],\n",
      "       ['20_0', '20_1', '20_2', '20_3', '20_4', '20_5', '20_6', '20_7',\n",
      "        '20_8', '20_9', '20_10', '20_11', '20_12', '20_13', '20_14',\n",
      "        '20_15', '20_16', '20_17', '20_18', '20_19', '20_20'],\n",
      "       ['21_0', '21_1', '21_2', '21_3', '21_4', '21_5', '21_6', '21_7',\n",
      "        '21_8', '21_9', '21_10', '21_11', '21_12', '21_13', '21_14',\n",
      "        '21_15', '21_16', '21_17', '21_18', '21_19', '21_20'],\n",
      "       ['22_0', '22_1', '22_2', '22_3', '22_4', '22_5', '22_6', '22_7',\n",
      "        '22_8', '22_9', '22_10', '22_11', '22_12', '22_13', '22_14',\n",
      "        '22_15', '22_16', '22_17', '22_18', '22_19', '22_20'],\n",
      "       ['23_0', '23_1', '23_2', '23_3', '23_4', '23_5', '23_6', '23_7',\n",
      "        '23_8', '23_9', '23_10', '23_11', '23_12', '23_13', '23_14',\n",
      "        '23_15', '23_16', '23_17', '23_18', '23_19', '23_20'],\n",
      "       ['24_0', '24_1', '24_2', '24_3', '24_4', '24_5', '24_6', '24_7',\n",
      "        '24_8', '24_9', '24_10', '24_11', '24_12', '24_13', '24_14',\n",
      "        '24_15', '24_16', '24_17', '24_18', '24_19', '24_20'],\n",
      "       ['25_0', '25_1', '25_2', '25_3', '25_4', '25_5', '25_6', '25_7',\n",
      "        '25_8', '25_9', '25_10', '25_11', '25_12', '25_13', '25_14',\n",
      "        '25_15', '25_16', '25_17', '25_18', '25_19', '25_20'],\n",
      "       ['26_0', '26_1', '26_2', '26_3', '26_4', '26_5', '26_6', '26_7',\n",
      "        '26_8', '26_9', '26_10', '26_11', '26_12', '26_13', '26_14',\n",
      "        '26_15', '26_16', '26_17', '26_18', '26_19', '26_20'],\n",
      "       ['27_0', '27_1', '27_2', '27_3', '27_4', '27_5', '27_6', '27_7',\n",
      "        '27_8', '27_9', '27_10', '27_11', '27_12', '27_13', '27_14',\n",
      "        '27_15', '27_16', '27_17', '27_18', '27_19', '27_20'],\n",
      "       ['28_0', '28_1', '28_2', '28_3', '28_4', '28_5', '28_6', '28_7',\n",
      "        '28_8', '28_9', '28_10', '28_11', '28_12', '28_13', '28_14',\n",
      "        '28_15', '28_16', '28_17', '28_18', '28_19', '28_20'],\n",
      "       ['29_0', '29_1', '29_2', '29_3', '29_4', '29_5', '29_6', '29_7',\n",
      "        '29_8', '29_9', '29_10', '29_11', '29_12', '29_13', '29_14',\n",
      "        '29_15', '29_16', '29_17', '29_18', '29_19', '29_20'],\n",
      "       ['30_0', '30_1', '30_2', '30_3', '30_4', '30_5', '30_6', '30_7',\n",
      "        '30_8', '30_9', '30_10', '30_11', '30_12', '30_13', '30_14',\n",
      "        '30_15', '30_16', '30_17', '30_18', '30_19', '30_20'],\n",
      "       ['31_0', '31_1', '31_2', '31_3', '31_4', '31_5', '31_6', '31_7',\n",
      "        '31_8', '31_9', '31_10', '31_11', '31_12', '31_13', '31_14',\n",
      "        '31_15', '31_16', '31_17', '31_18', '31_19', '31_20']],\n",
      "      dtype='<U32')}\n",
      "Size of mel_spect: (32, 21), total number of points: 672\n"
     ]
    },
    {
     "name": "stderr",
     "output_type": "stream",
     "text": [
      "C:\\Users\\ecebo\\AppData\\Local\\Temp/ipykernel_10592/3357712515.py:15: MatplotlibDeprecationWarning: Auto-removal of grids by pcolor() and pcolormesh() is deprecated since 3.5 and will be removed two minor releases later; please call grid(False) first.\n",
      "  plt.colorbar(format='%+2.0f dB');\n"
     ]
    },
    {
     "data": {
      "image/png": "[encoded data removed]",
      "text/plain": [
       "<Figure size 432x288 with 2 Axes>"
      ]
     },
     "metadata": {},
     "output_type": "display_data"
    }
   ],
   "source": [
    "# Compute and plot mel spectrogram\n",
    "no_file = 2\n",
    "file_path = os.path.join(data_dir, df_machine.iloc[no_file].file_rel_path)\n",
    "fs = df_machine.iloc[no_file].fs_Hz\n",
    "window = 1\n",
    "n_mels = 32\n",
    "mel_spect, mel_spect_db, mfcc, params = get_mel_spectrogram(file_path, window=window, overlap=0.5, n_mels=n_mels, machine='pump') \n",
    "\n",
    "print(params)\n",
    "\n",
    "print(f\"Size of mel_spect: {mel_spect.shape}, total number of points: {mel_spect.size}\")\n",
    "librosa.display.specshow(mel_spect_db, sr=fs, hop_length=params['overlap_length'], x_axis='time', y_axis='mel');\n",
    "\n",
    "plt.title(f\"Mel Spectrogram, window size {params['window']} s, anomaly {df_machine.iloc[no_file].anomaly}\");\n",
    "plt.colorbar(format='%+2.0f dB');"
   ]
  },
  {
   "cell_type": "code",
   "execution_count": 47,
   "id": "4c2d1d27",
   "metadata": {},
   "outputs": [
    {
     "data": {
      "text/plain": [
       "[0.5,\n",
       " 1.0,\n",
       " 1.5,\n",
       " 2.0,\n",
       " 2.5,\n",
       " 3.0,\n",
       " 3.5,\n",
       " 4.0,\n",
       " 4.5,\n",
       " 5.0,\n",
       " 5.5,\n",
       " 6.0,\n",
       " 6.5,\n",
       " 7.0,\n",
       " 7.5,\n",
       " 8.0,\n",
       " 8.5,\n",
       " 9.0,\n",
       " 9.5,\n",
       " 10.0,\n",
       " 10.5]"
      ]
     },
     "execution_count": 47,
     "metadata": {},
     "output_type": "execute_result"
    }
   ],
   "source": [
    "no_windows = mel_spect.shape[1]\n",
    "n_mels = params['n_mels']\n",
    "window = params['window']\n",
    "overlap = params['overlap']\n",
    "[(n+0.5)*window - n*overlap*window for n in np.arange(0,no_windows)]"
   ]
  },
  {
   "cell_type": "code",
   "execution_count": 49,
   "id": "0addec10",
   "metadata": {},
   "outputs": [
    {
     "data": {
      "text/plain": [
       "array([  91.,  183.,  274.,  366.,  457.,  548.,  640.,  731.,  823.,\n",
       "        914., 1006., 1105., 1214., 1334., 1466., 1611., 1770., 1945.,\n",
       "       2138., 2349., 2581., 2836., 3117., 3425., 3763., 4135., 4544.,\n",
       "       4993., 5487., 6029., 6625., 7280.])"
      ]
     },
     "execution_count": 49,
     "metadata": {},
     "output_type": "execute_result"
    },
    {
     "data": {
      "image/png": "[encoded data removed]",
      "text/plain": [
       "<Figure size 432x288 with 1 Axes>"
      ]
     },
     "metadata": {},
     "output_type": "display_data"
    }
   ],
   "source": [
    "# Centers of mel frequency bands\n",
    "plt.scatter(range(len(params['mel_center_freq'])), params['mel_center_freq'])\n",
    "params['mel_center_freq']"
   ]
  },
  {
   "cell_type": "code",
   "execution_count": null,
   "id": "8293d641",
   "metadata": {
    "scrolled": true
   },
   "outputs": [],
   "source": [
    "window = 0.5\n",
    "n_mels = 64\n",
    "overlap = 0.25\n",
    "\n",
    "X, y, ft_grid_names, params = get_melspec_features_from_files(data_dir, df_machine, window, overlap=overlap, n_mels=n_mels)\n",
    "print(X.shape)\n",
    "print(y.shape)"
   ]
  },
  {
   "cell_type": "code",
   "execution_count": null,
   "id": "fa312296",
   "metadata": {},
   "outputs": [],
   "source": []
  },
  {
   "cell_type": "code",
   "execution_count": null,
   "id": "c9a178d2",
   "metadata": {},
   "outputs": [],
   "source": []
  },
  {
   "cell_type": "code",
   "execution_count": null,
   "id": "6072bc12",
   "metadata": {},
   "outputs": [],
   "source": []
  },
  {
   "cell_type": "code",
   "execution_count": null,
   "id": "ae165d6c",
   "metadata": {},
   "outputs": [],
   "source": []
  },
  {
   "cell_type": "code",
   "execution_count": null,
   "id": "df77622a",
   "metadata": {},
   "outputs": [],
   "source": []
  },
  {
   "cell_type": "code",
   "execution_count": null,
   "id": "2c95a181",
   "metadata": {},
   "outputs": [],
   "source": []
  },
  {
   "cell_type": "code",
   "execution_count": 31,
   "id": "6a619dee",
   "metadata": {},
   "outputs": [],
   "source": [
    "# Add labels for training and test\n",
    "df_machine = add_train_test_labels_to_dataframe(df_machine, no_seed=12)"
   ]
  },
  {
   "cell_type": "code",
   "execution_count": 32,
   "id": "7bb4b772",
   "metadata": {},
   "outputs": [],
   "source": [
    "# Get training and test samples\n",
    "X_train, X_test, y_train, y_test = get_train_test_data(X, y, df_machine)"
   ]
  },
  {
   "cell_type": "code",
   "execution_count": 33,
   "id": "4c490a01",
   "metadata": {},
   "outputs": [
    {
     "data": {
      "image/png": "[encoded data removed]",
      "text/plain": [
       "<Figure size 432x288 with 1 Axes>"
      ]
     },
     "metadata": {
      "needs_background": "light"
     },
     "output_type": "display_data"
    }
   ],
   "source": [
    "# Histogram of features\n",
    "plt.hist(X_train.iloc[:, 0])\n",
    "plt.show()"
   ]
  },
  {
   "cell_type": "code",
   "execution_count": 39,
   "id": "a52f2958",
   "metadata": {},
   "outputs": [
    {
     "name": "stderr",
     "output_type": "stream",
     "text": [
      "C:\\Users\\ecebo\\MyRepos\\AudioMalfunctionDetection\\Code\\Modeling\\One-class SVM\\..\\..\\utils\\confusion_metrics.py:30: RuntimeWarning: invalid value encountered in double_scalars\n",
      "  f1 = 2 * ((precision * sensitivity) / (precision + sensitivity))\n"
     ]
    }
   ],
   "source": [
    "# One class svm \n",
    "gamma = 0.01\n",
    "nu = 0.5\n",
    "prctle = 2\n",
    "out_class = train_test_one_class_svm(X_train.to_numpy(), X_test.to_numpy(), y_train.to_numpy(), y_test.to_numpy(), \n",
    "                                     kernel='rbf', gamma=gamma, nu=nu, prctle=prctle, normalize=\"min-max\")\n",
    "# return OneClassSVM, report, cm_train, cm_test, out_metrics_train, out_metrics_test, params"
   ]
  },
  {
   "cell_type": "code",
   "execution_count": 40,
   "id": "e8e9749a",
   "metadata": {},
   "outputs": [
    {
     "data": {
      "image/png": "[encoded data removed]",
      "text/plain": [
       "<Figure size 432x288 with 2 Axes>"
      ]
     },
     "metadata": {},
     "output_type": "display_data"
    },
    {
     "name": "stdout",
     "output_type": "stream",
     "text": [
      "              precision    recall  f1-score   support\n",
      "\n",
      "           0       0.89      0.53      0.67        15\n",
      "           1       0.67      0.93      0.78        15\n",
      "\n",
      "    accuracy                           0.73        30\n",
      "   macro avg       0.78      0.73      0.72        30\n",
      "weighted avg       0.78      0.73      0.72        30\n",
      "\n"
     ]
    }
   ],
   "source": [
    "cm_plot = out_class[3]\n",
    "df_cm = pd.DataFrame(cm_plot, range(cm_plot.shape[0]), range(cm_plot.shape[1]))\n",
    "sn.set(font_scale=1.4) # for label size\n",
    "sn.heatmap(df_cm, annot=True, annot_kws={\"size\": 16}) # font size\n",
    "\n",
    "plt.show()\n",
    "\n",
    "print(out_class[1])"
   ]
  },
  {
   "cell_type": "code",
   "execution_count": null,
   "id": "e47c72c1",
   "metadata": {
    "scrolled": true
   },
   "outputs": [],
   "source": [
    "ran_gamma = [0.0001, 0.0005, 0.001, 0.005, 0.01, 0.05, 0.1, 0.5]\n",
    "ran_prctl = range(1,15)\n",
    "nu = 0.5\n",
    "# Initialize arrays\n",
    "out_metrics_gn = {}\n",
    "out_metrics_gn['acc'] = np.zeros((len(ran_prctl), len(ran_gamma)))\n",
    "out_metrics_gn['precision']  = np.zeros((len(ran_prctl), len(ran_gamma)))\n",
    "out_metrics_gn['recall'] = np.zeros((len(ran_prctl), len(ran_gamma)))\n",
    "out_metrics_gn['TPR'] = np.zeros((len(ran_prctl), len(ran_gamma)))\n",
    "out_metrics_gn['FPR'] = np.zeros((len(ran_prctl), len(ran_gamma)))\n",
    "for id_g, gamma in enumerate(ran_gamma):\n",
    "    for id_p, prctle in enumerate(ran_prctl):\n",
    "        print(gamma, prctle)\n",
    "        \n",
    "        out_class = train_test_one_class_svm(X_train, X_test, y_train, y_test, \n",
    "                                     kernel='rbf', gamma=gamma, nu=nu, prctle=prctle, normalize=\"min-max\")\n",
    "        # return OneClassSVM, report, cm_train, cm_test, out_metrics_train, out_metrics_test, params\n",
    "        \n",
    "        out_metrics = out_class[5]\n",
    "        out_metrics_gn['acc'][id_p, id_g] = out_metrics['acc']\n",
    "        out_metrics_gn['precision'][id_p, id_g] = out_metrics['precision']\n",
    "        out_metrics_gn['recall'][id_p, id_g] = out_metrics['recall']\n",
    "        out_metrics_gn['TPR'][id_p, id_g] = out_metrics['TPR']\n",
    "        out_metrics_gn['FPR'][id_p, id_g] = out_metrics['FPR']\n",
    "        "
   ]
  },
  {
   "cell_type": "code",
   "execution_count": null,
   "id": "9cb13aa3",
   "metadata": {},
   "outputs": [],
   "source": [
    "len(ran_gamma)"
   ]
  },
  {
   "cell_type": "code",
   "execution_count": null,
   "id": "53700cc1",
   "metadata": {
    "scrolled": true
   },
   "outputs": [],
   "source": [
    "out_metrics_gn['recall'][:, 7]"
   ]
  },
  {
   "cell_type": "code",
   "execution_count": null,
   "id": "d0e94dec",
   "metadata": {},
   "outputs": [],
   "source": [
    "out_metrics_gn['precision'][:, 7]"
   ]
  },
  {
   "cell_type": "code",
   "execution_count": null,
   "id": "227efc2c",
   "metadata": {},
   "outputs": [],
   "source": [
    "out_metrics_gn['recall'].shape"
   ]
  },
  {
   "cell_type": "code",
   "execution_count": null,
   "id": "243c6e94",
   "metadata": {},
   "outputs": [],
   "source": [
    "for id_g, gamma in enumerate(ran_gamma):\n",
    "    if(id_g<8):\n",
    "        plt.plot(out_metrics_gn['recall'][:, id_g], out_metrics_gn['precision'][:, id_g])\n",
    "        plt.xlim([0, 1])\n",
    "        plt.ylim([0, 1])\n",
    "plt.xlabel('Recall')\n",
    "plt.ylabel('Precision')\n",
    "plt.show()"
   ]
  },
  {
   "cell_type": "code",
   "execution_count": null,
   "id": "b70cf9fe",
   "metadata": {},
   "outputs": [],
   "source": [
    "for id_g, gamma in enumerate(ran_gamma):\n",
    "    if(id_g==5):\n",
    "        print(gamma)\n",
    "        plt.plot(out_metrics_gn['recall'][:, id_g], out_metrics_gn['precision'][:, id_g])\n",
    "        plt.xlim([0, 1])\n",
    "        plt.ylim([0, 1])\n",
    "    plt.xlabel('Recall')\n",
    "    plt.ylabel('Precision')\n",
    "plt.show()"
   ]
  },
  {
   "cell_type": "code",
   "execution_count": null,
   "id": "26b98195",
   "metadata": {},
   "outputs": [],
   "source": [
    "out_metrics_gn['precision'].shape"
   ]
  },
  {
   "cell_type": "code",
   "execution_count": null,
   "id": "9baaa20e",
   "metadata": {},
   "outputs": [],
   "source": [
    "id_p = 12\n",
    "id_g = 5\n",
    "print(ran_prctl[id_p])\n",
    "print(\"precision: \", out_metrics_gn['precision'][id_p, id_g])\n",
    "print(\"recall: \", out_metrics_gn['recall'][id_p, id_g])"
   ]
  },
  {
   "cell_type": "code",
   "execution_count": null,
   "id": "a92401f4",
   "metadata": {
    "scrolled": true
   },
   "outputs": [],
   "source": [
    "# Select all abnormal samples as test, equal number of normal also in test, rest in training\n",
    "df_machine_all = df[df.machine=='fan']\n",
    "\n",
    "window = 0.5\n",
    "n_mels = 64\n",
    "overlap = 0.25\n",
    "\n",
    "X_all, y_all, params_all = get_melspec_features_from_files(data_dir, df_machine_all, window, n_mels, overlap)\n",
    "\n",
    "# Add labels for training and test\n",
    "df_machine_all = add_train_test_labels_to_dataframe(df_machine_all, no_seed=30)\n",
    "\n",
    "# Get training and test samples\n",
    "X_train_all, X_test_all, y_train_all, y_test_all = get_train_test_data(X_all, y_all, df_machine_all)\n",
    "\n",
    "# One class svm \n",
    "id_p = 12\n",
    "id_g = 5\n",
    "prctl = ran_prctl[id_p]\n",
    "gamma = ran_gamma[id_g]\n",
    "nu = 0.5\n",
    "out_class_selected = train_test_one_class_svm(X_train, X_test, y_train, y_test, \n",
    "                                     kernel='rbf', gamma=gamma, nu=nu, prctle=prctle, normalize=\"min-max\")\n",
    "# return OneClassSVM, report, cm_train, cm_test, out_metrics_train, out_metrics_test, params"
   ]
  },
  {
   "cell_type": "code",
   "execution_count": null,
   "id": "6e2f7f05",
   "metadata": {},
   "outputs": [],
   "source": [
    "id_g_selected = 5\n",
    "ran_gamma_selected = [ran_gamma[id_g_selected]]\n",
    "nu = 0.5\n",
    "# Initialize arrays\n",
    "out_metrics_all_gn = {}\n",
    "out_metrics_all_gn['acc'] = np.zeros((len(ran_prctl), len(ran_gamma)))\n",
    "out_metrics_all_gn['precision']  = np.zeros((len(ran_prctl), len(ran_gamma)))\n",
    "out_metrics_all_gn['recall'] = np.zeros((len(ran_prctl), len(ran_gamma)))\n",
    "out_metrics_all_gn['TPR'] = np.zeros((len(ran_prctl), len(ran_gamma)))\n",
    "out_metrics_all_gn['FPR'] = np.zeros((len(ran_prctl), len(ran_gamma)))\n",
    "for id_g, gamma in enumerate(ran_gamma_selected):\n",
    "    for id_p, prctle in enumerate(ran_prctl):\n",
    "        \n",
    "        out_class = train_test_one_class_svm(X_train_all, X_test_all, y_train_all, y_test_all, \n",
    "                                     kernel='rbf', gamma=0.001, nu=0.5, prctle=2, normalize=\"min-max\")\n",
    "        # return OneClassSVM, report, cm_train, cm_test, out_metrics_train, out_metrics_test, params\n",
    "        \n",
    "        out_metrics = out_class[5]\n",
    "        out_metrics_all_gn['acc'][id_p, id_g] = out_metrics['acc']\n",
    "        out_metrics_all_gn['precision'][id_p, id_g] = out_metrics['precision']\n",
    "        out_metrics_all_gn['recall'][id_p, id_g] = out_metrics['recall']\n",
    "        out_metrics_all_gn['TPR'][id_p, id_g] = out_metrics['TPR']\n",
    "        out_metrics_all_gn['FPR'][id_p, id_g] = out_metrics['FPR']\n",
    "        "
   ]
  },
  {
   "cell_type": "code",
   "execution_count": null,
   "id": "61a1c1df",
   "metadata": {},
   "outputs": [],
   "source": [
    "ran_gamma = [0.0001, 0.0005, 0.001, 0.005, 0.01, 0.05, 0.1, 0.5]\n",
    "ran_prctl_selected = 7 # range(0,15)\n",
    "nu = 0.5\n",
    "# Initialize arrays\n",
    "out_metrics_all_gn = {}\n",
    "out_metrics_all_gn['acc'] = np.zeros((len(ran_prctl), len(ran_gamma)))\n",
    "out_metrics_all_gn['precision']  = np.zeros((len(ran_prctl), len(ran_gamma)))\n",
    "out_metrics_all_gn['recall'] = np.zeros((len(ran_prctl), len(ran_gamma)))\n",
    "out_metrics_all_gn['TPR'] = np.zeros((len(ran_prctl), len(ran_gamma)))\n",
    "out_metrics_all_gn['FPR'] = np.zeros((len(ran_prctl), len(ran_gamma)))\n",
    "for id_g, gamma in enumerate(ran_gamma):\n",
    "    for id_p, prctle in enumerate(ran_prctl_selected):\n",
    "        \n",
    "        out_class = train_test_one_class_svm(X_train_all, X_test_all, y_train_all, y_test_all, \n",
    "                                     kernel='rbf', gamma=0.001, nu=0.5, prctle=2, normalize=\"min-max\")\n",
    "        # return OneClassSVM, report, cm_train, cm_test, out_metrics_train, out_metrics_test, params\n",
    "        \n",
    "        out_metrics = out_class[5]\n",
    "        out_metrics_all_gn['acc'][id_p, id_g] = out_metrics['acc']\n",
    "        out_metrics_all_gn['precision'][id_p, id_g] = out_metrics['precision']\n",
    "        out_metrics_all_gn['recall'][id_p, id_g] = out_metrics['recall']\n",
    "        out_metrics_all_gn['TPR'][id_p, id_g] = out_metrics['TPR']\n",
    "        out_metrics_all_gn['FPR'][id_p, id_g] = out_metrics['FPR']\n",
    "        "
   ]
  },
  {
   "cell_type": "code",
   "execution_count": null,
   "id": "c942c337",
   "metadata": {},
   "outputs": [],
   "source": [
    "for id_g, gamma in enumerate(ran_gamma):\n",
    "    for id_p, prctle in enumerate(ran_prctl_selected):\n",
    "        if(id_g==id_g_selected):\n",
    "            print(gamma)\n",
    "            plt.plot(out_metrics_all_gn['recall'][:, id_g], out_metrics_all_gn['precision'][:, id_g])\n",
    "            plt.xlim([0, 1])\n",
    "            plt.ylim([0, 1])\n",
    "plt.xlabel('Recall')\n",
    "plt.ylabel('Precision')\n",
    "plt.show()"
   ]
  },
  {
   "cell_type": "code",
   "execution_count": null,
   "id": "36bbd698",
   "metadata": {},
   "outputs": [],
   "source": [
    "# Metrics for the previously chosen gamma and prctle\n",
    "id_p_selected = 3\n",
    "prctl = ran_prctle[id_p_selected]\n",
    "gamma = ran_gamma[id_g_selected]\n",
    "out_class = train_test_one_class_svm(X_train_all, X_test_all, y_train_all, y_test_all, \n",
    "                                     kernel='rbf', gamma=gamma, nu=nu, prctle=prctle, normalize=\"min-max\")\n",
    "# return OneClassSVM, report, cm_train, cm_test, out_metrics_train, out_metrics_test, params"
   ]
  },
  {
   "cell_type": "code",
   "execution_count": null,
   "id": "2b53851a",
   "metadata": {},
   "outputs": [],
   "source": [
    "cm_test"
   ]
  },
  {
   "cell_type": "code",
   "execution_count": null,
   "id": "fed96d17",
   "metadata": {},
   "outputs": [],
   "source": [
    "out_metrics_test_all"
   ]
  },
  {
   "cell_type": "code",
   "execution_count": null,
   "id": "6d831393",
   "metadata": {},
   "outputs": [],
   "source": [
    "cm_train"
   ]
  },
  {
   "cell_type": "code",
   "execution_count": null,
   "id": "eb26d2c0",
   "metadata": {},
   "outputs": [],
   "source": [
    "out_metrics_train_all"
   ]
  }
 ],
 "metadata": {
  "kernelspec": {
   "display_name": "Python 3 (ipykernel)",
   "language": "python",
   "name": "python3"
  },
  "language_info": {
   "codemirror_mode": {
    "name": "ipython",
    "version": 3
   },
   "file_extension": ".py",
   "mimetype": "text/x-python",
   "name": "python",
   "nbconvert_exporter": "python",
   "pygments_lexer": "ipython3",
   "version": "3.8.12"
  }
 },
 "nbformat": 4,
 "nbformat_minor": 5
}
