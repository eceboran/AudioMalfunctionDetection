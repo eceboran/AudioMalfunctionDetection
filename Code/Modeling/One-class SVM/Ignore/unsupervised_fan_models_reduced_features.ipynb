{
 "cells": [
  {
   "cell_type": "code",
   "execution_count": 1,
   "id": "5bff5c64",
   "metadata": {},
   "outputs": [],
   "source": [
    "# Import necessary libraries\n",
    "import sys\n",
    "sys.path.insert(0, \"..\\\\..\\\\\")  # add the parent directory to path\n",
    "import os\n",
    "import numpy as np\n",
    "import pandas as pd\n",
    "import random\n",
    "import matplotlib.pyplot as plt\n",
    "import seaborn as sns\n",
    "import plotly.express as px\n",
    "from plotly.subplots import make_subplots\n",
    "import plotly.graph_objects as go\n",
    "import librosa\n",
    "import librosa.display\n",
    "from sklearn.svm import OneClassSVM\n",
    "from sklearn import metrics\n",
    "import plotly.express as px\n",
    "import pickle\n",
    "\n",
    "from utils.get_mel_spectrogram import get_mel_spectrogram\n",
    "from utils.get_melspec_features_from_files import get_melspec_features_from_files\n",
    "from utils.confusion_metrics import confusion_metrics\n",
    "from utils.train_test_one_class_svm import train_test_one_class_svm\n",
    "from utils.get_train_test_data import get_train_test_data\n",
    "from utils.add_train_test_labels_to_dataframe import add_train_test_labels_to_dataframe"
   ]
  },
  {
   "cell_type": "code",
   "execution_count": 2,
   "id": "e9f320dc",
   "metadata": {},
   "outputs": [],
   "source": [
    "# Directories\n",
    "parent_dir = os.path.abspath('..\\\\..\\\\..\\\\')  # main directory\n",
    "# Audio data directory\n",
    "data_dir = os.path.join(parent_dir, 'data', 'source')  # audio data directory\n",
    "# Metada directory\n",
    "metadata_dir = os.path.join(parent_dir, 'data', 'metadata')  # metadata directory"
   ]
  },
  {
   "cell_type": "code",
   "execution_count": 3,
   "id": "b334d6b5",
   "metadata": {},
   "outputs": [
    {
     "data": {
      "text/html": [
       "<div>\n",
       "<style scoped>\n",
       "    .dataframe tbody tr th:only-of-type {\n",
       "        vertical-align: middle;\n",
       "    }\n",
       "\n",
       "    .dataframe tbody tr th {\n",
       "        vertical-align: top;\n",
       "    }\n",
       "\n",
       "    .dataframe thead th {\n",
       "        text-align: right;\n",
       "    }\n",
       "</style>\n",
       "<table border=\"1\" class=\"dataframe\">\n",
       "  <thead>\n",
       "    <tr style=\"text-align: right;\">\n",
       "      <th></th>\n",
       "      <th>machine</th>\n",
       "      <th>model</th>\n",
       "      <th>anomaly</th>\n",
       "      <th>file_name</th>\n",
       "      <th>file_rel_path</th>\n",
       "      <th>duration_s</th>\n",
       "      <th>fs_Hz</th>\n",
       "      <th>SNR_dB</th>\n",
       "    </tr>\n",
       "    <tr>\n",
       "      <th>file_no</th>\n",
       "      <th></th>\n",
       "      <th></th>\n",
       "      <th></th>\n",
       "      <th></th>\n",
       "      <th></th>\n",
       "      <th></th>\n",
       "      <th></th>\n",
       "      <th></th>\n",
       "    </tr>\n",
       "  </thead>\n",
       "  <tbody>\n",
       "    <tr>\n",
       "      <th>0</th>\n",
       "      <td>fan</td>\n",
       "      <td>0</td>\n",
       "      <td>1</td>\n",
       "      <td>00000000.wav</td>\n",
       "      <td>6_dB_fan\\fan\\id_00\\abnormal\\00000000.wav</td>\n",
       "      <td>10.0</td>\n",
       "      <td>16000</td>\n",
       "      <td>6</td>\n",
       "    </tr>\n",
       "    <tr>\n",
       "      <th>1</th>\n",
       "      <td>fan</td>\n",
       "      <td>0</td>\n",
       "      <td>1</td>\n",
       "      <td>00000001.wav</td>\n",
       "      <td>6_dB_fan\\fan\\id_00\\abnormal\\00000001.wav</td>\n",
       "      <td>10.0</td>\n",
       "      <td>16000</td>\n",
       "      <td>6</td>\n",
       "    </tr>\n",
       "    <tr>\n",
       "      <th>2</th>\n",
       "      <td>fan</td>\n",
       "      <td>0</td>\n",
       "      <td>1</td>\n",
       "      <td>00000002.wav</td>\n",
       "      <td>6_dB_fan\\fan\\id_00\\abnormal\\00000002.wav</td>\n",
       "      <td>10.0</td>\n",
       "      <td>16000</td>\n",
       "      <td>6</td>\n",
       "    </tr>\n",
       "    <tr>\n",
       "      <th>3</th>\n",
       "      <td>fan</td>\n",
       "      <td>0</td>\n",
       "      <td>1</td>\n",
       "      <td>00000003.wav</td>\n",
       "      <td>6_dB_fan\\fan\\id_00\\abnormal\\00000003.wav</td>\n",
       "      <td>10.0</td>\n",
       "      <td>16000</td>\n",
       "      <td>6</td>\n",
       "    </tr>\n",
       "    <tr>\n",
       "      <th>4</th>\n",
       "      <td>fan</td>\n",
       "      <td>0</td>\n",
       "      <td>1</td>\n",
       "      <td>00000004.wav</td>\n",
       "      <td>6_dB_fan\\fan\\id_00\\abnormal\\00000004.wav</td>\n",
       "      <td>10.0</td>\n",
       "      <td>16000</td>\n",
       "      <td>6</td>\n",
       "    </tr>\n",
       "    <tr>\n",
       "      <th>...</th>\n",
       "      <td>...</td>\n",
       "      <td>...</td>\n",
       "      <td>...</td>\n",
       "      <td>...</td>\n",
       "      <td>...</td>\n",
       "      <td>...</td>\n",
       "      <td>...</td>\n",
       "      <td>...</td>\n",
       "    </tr>\n",
       "    <tr>\n",
       "      <th>18014</th>\n",
       "      <td>valve</td>\n",
       "      <td>6</td>\n",
       "      <td>0</td>\n",
       "      <td>00000987.wav</td>\n",
       "      <td>6_dB_valve\\valve\\id_06\\normal\\00000987.wav</td>\n",
       "      <td>10.0</td>\n",
       "      <td>16000</td>\n",
       "      <td>6</td>\n",
       "    </tr>\n",
       "    <tr>\n",
       "      <th>18015</th>\n",
       "      <td>valve</td>\n",
       "      <td>6</td>\n",
       "      <td>0</td>\n",
       "      <td>00000988.wav</td>\n",
       "      <td>6_dB_valve\\valve\\id_06\\normal\\00000988.wav</td>\n",
       "      <td>10.0</td>\n",
       "      <td>16000</td>\n",
       "      <td>6</td>\n",
       "    </tr>\n",
       "    <tr>\n",
       "      <th>18016</th>\n",
       "      <td>valve</td>\n",
       "      <td>6</td>\n",
       "      <td>0</td>\n",
       "      <td>00000989.wav</td>\n",
       "      <td>6_dB_valve\\valve\\id_06\\normal\\00000989.wav</td>\n",
       "      <td>10.0</td>\n",
       "      <td>16000</td>\n",
       "      <td>6</td>\n",
       "    </tr>\n",
       "    <tr>\n",
       "      <th>18017</th>\n",
       "      <td>valve</td>\n",
       "      <td>6</td>\n",
       "      <td>0</td>\n",
       "      <td>00000990.wav</td>\n",
       "      <td>6_dB_valve\\valve\\id_06\\normal\\00000990.wav</td>\n",
       "      <td>10.0</td>\n",
       "      <td>16000</td>\n",
       "      <td>6</td>\n",
       "    </tr>\n",
       "    <tr>\n",
       "      <th>18018</th>\n",
       "      <td>valve</td>\n",
       "      <td>6</td>\n",
       "      <td>0</td>\n",
       "      <td>00000991.wav</td>\n",
       "      <td>6_dB_valve\\valve\\id_06\\normal\\00000991.wav</td>\n",
       "      <td>10.0</td>\n",
       "      <td>16000</td>\n",
       "      <td>6</td>\n",
       "    </tr>\n",
       "  </tbody>\n",
       "</table>\n",
       "<p>18019 rows × 8 columns</p>\n",
       "</div>"
      ],
      "text/plain": [
       "        machine  model  anomaly     file_name  \\\n",
       "file_no                                         \n",
       "0           fan      0        1  00000000.wav   \n",
       "1           fan      0        1  00000001.wav   \n",
       "2           fan      0        1  00000002.wav   \n",
       "3           fan      0        1  00000003.wav   \n",
       "4           fan      0        1  00000004.wav   \n",
       "...         ...    ...      ...           ...   \n",
       "18014     valve      6        0  00000987.wav   \n",
       "18015     valve      6        0  00000988.wav   \n",
       "18016     valve      6        0  00000989.wav   \n",
       "18017     valve      6        0  00000990.wav   \n",
       "18018     valve      6        0  00000991.wav   \n",
       "\n",
       "                                      file_rel_path  duration_s  fs_Hz  SNR_dB  \n",
       "file_no                                                                         \n",
       "0          6_dB_fan\\fan\\id_00\\abnormal\\00000000.wav        10.0  16000       6  \n",
       "1          6_dB_fan\\fan\\id_00\\abnormal\\00000001.wav        10.0  16000       6  \n",
       "2          6_dB_fan\\fan\\id_00\\abnormal\\00000002.wav        10.0  16000       6  \n",
       "3          6_dB_fan\\fan\\id_00\\abnormal\\00000003.wav        10.0  16000       6  \n",
       "4          6_dB_fan\\fan\\id_00\\abnormal\\00000004.wav        10.0  16000       6  \n",
       "...                                             ...         ...    ...     ...  \n",
       "18014    6_dB_valve\\valve\\id_06\\normal\\00000987.wav        10.0  16000       6  \n",
       "18015    6_dB_valve\\valve\\id_06\\normal\\00000988.wav        10.0  16000       6  \n",
       "18016    6_dB_valve\\valve\\id_06\\normal\\00000989.wav        10.0  16000       6  \n",
       "18017    6_dB_valve\\valve\\id_06\\normal\\00000990.wav        10.0  16000       6  \n",
       "18018    6_dB_valve\\valve\\id_06\\normal\\00000991.wav        10.0  16000       6  \n",
       "\n",
       "[18019 rows x 8 columns]"
      ]
     },
     "execution_count": 3,
     "metadata": {},
     "output_type": "execute_result"
    }
   ],
   "source": [
    "# Read the metadata file\n",
    "df = pd.read_csv(os.path.join(metadata_dir, 'metadata.csv'), header=0, index_col=0)\n",
    "df"
   ]
  },
  {
   "cell_type": "code",
   "execution_count": 4,
   "id": "a848232f",
   "metadata": {
    "scrolled": false
   },
   "outputs": [
    {
     "data": {
      "text/html": [
       "<div>\n",
       "<style scoped>\n",
       "    .dataframe tbody tr th:only-of-type {\n",
       "        vertical-align: middle;\n",
       "    }\n",
       "\n",
       "    .dataframe tbody tr th {\n",
       "        vertical-align: top;\n",
       "    }\n",
       "\n",
       "    .dataframe thead th {\n",
       "        text-align: right;\n",
       "    }\n",
       "</style>\n",
       "<table border=\"1\" class=\"dataframe\">\n",
       "  <thead>\n",
       "    <tr style=\"text-align: right;\">\n",
       "      <th></th>\n",
       "      <th>model</th>\n",
       "      <th>anomaly</th>\n",
       "      <th>count</th>\n",
       "    </tr>\n",
       "  </thead>\n",
       "  <tbody>\n",
       "    <tr>\n",
       "      <th>0</th>\n",
       "      <td>0</td>\n",
       "      <td>0</td>\n",
       "      <td>809</td>\n",
       "    </tr>\n",
       "    <tr>\n",
       "      <th>1</th>\n",
       "      <td>0</td>\n",
       "      <td>1</td>\n",
       "      <td>326</td>\n",
       "    </tr>\n",
       "  </tbody>\n",
       "</table>\n",
       "</div>"
      ],
      "text/plain": [
       "   model  anomaly  count\n",
       "0      0        0    809\n",
       "1      0        1    326"
      ]
     },
     "execution_count": 4,
     "metadata": {},
     "output_type": "execute_result"
    }
   ],
   "source": [
    "# Randomly select a subset of samples for a single machine and a single model\n",
    "machine = 'fan'\n",
    "df_machine = df[df.machine=='fan']\n",
    "df_model_all = df_machine[df_machine.model==0]\n",
    "\n",
    "df_model = df_model_all.groupby([\"anomaly\"]).sample(frac=0.8, random_state=13)\n",
    "df_model_test = df_model_all.drop(df_model.index)\n",
    "df_model = df_model.reset_index(inplace=False, drop=False)\n",
    "df_model = df_model.sample(frac=1, random_state=25).reset_index(inplace=False, drop=True)  # shuffle data\n",
    "df_model_test = df_model_test.reset_index(inplace=False, drop=False)\n",
    "df_model.groupby([\"model\", \"anomaly\"])['file_name'].count().reset_index(name='count')"
   ]
  },
  {
   "cell_type": "code",
   "execution_count": 58,
   "id": "9f828ce4",
   "metadata": {
    "scrolled": false
   },
   "outputs": [
    {
     "name": "stdout",
     "output_type": "stream",
     "text": [
      "Size of mel_spect: (32, 26), total number of points: 832\n"
     ]
    },
    {
     "data": {
      "image/png": "[encoded data removed]",
      "text/plain": [
       "<Figure size 432x288 with 2 Axes>"
      ]
     },
     "metadata": {
      "needs_background": "light"
     },
     "output_type": "display_data"
    }
   ],
   "source": [
    "# Compute and plot mel spectrogram\n",
    "no_file = 2\n",
    "file_path = os.path.join(data_dir, df_model.iloc[no_file].file_rel_path)\n",
    "fs = df_model.iloc[no_file].fs_Hz\n",
    "window = 0.5\n",
    "n_mels = 32\n",
    "overlap = 0.2\n",
    "mel_spect, mel_spect_db, mfcc, params = get_mel_spectrogram(file_path, window=window, overlap=overlap, \n",
    "                                                            n_mels=n_mels, machine=df_model['machine'][0]) \n",
    "\n",
    "# print(params)\n",
    "\n",
    "print(f\"Size of mel_spect: {mel_spect.shape}, total number of points: {mel_spect.size}\")\n",
    "librosa.display.specshow(mel_spect_db, sr=fs, hop_length=params['hop_length'], x_axis='time', y_axis='mel');\n",
    "\n",
    "plt.title(f\"Mel Spectrogram, window size {params['window']} s, anomaly {df_machine.iloc[no_file].anomaly}\");\n",
    "plt.colorbar(format='%+2.0f dB');"
   ]
  },
  {
   "cell_type": "code",
   "execution_count": 52,
   "id": "234322e6",
   "metadata": {},
   "outputs": [
    {
     "data": {
      "text/plain": [
       "(64, 2)"
      ]
     },
     "execution_count": 52,
     "metadata": {},
     "output_type": "execute_result"
    }
   ],
   "source": [
    "np.concatenate((\n",
    "    mel_spect_db.mean(axis=1).reshape(-1, 1), \n",
    "    mel_spect_db.min(axis=1).reshape(-1, 1),\n",
    "    mel_spect_db.max(axis=1).reshape(-1, 1),\n",
    "    mel_spect_db.std(axis=1).reshape(-1, 1)\n",
    "), axis=1).shape"
   ]
  },
  {
   "cell_type": "code",
   "execution_count": null,
   "id": "f4b0bce6",
   "metadata": {},
   "outputs": [],
   "source": [
    "no_windows = mel_spect.shape[1]\n",
    "n_mels = params['n_mels']\n",
    "window = params['window']\n",
    "overlap = params['overlap']\n",
    "[(n+0.5)*window - n*overlap*window for n in np.arange(0,no_windows)]"
   ]
  },
  {
   "cell_type": "code",
   "execution_count": null,
   "id": "0addec10",
   "metadata": {},
   "outputs": [],
   "source": [
    "# Centers of mel frequency bands\n",
    "plt.scatter(range(len(params['mel_center_freq'])), params['mel_center_freq'])\n",
    "params['mel_center_freq']"
   ]
  },
  {
   "cell_type": "code",
   "execution_count": null,
   "id": "8293d641",
   "metadata": {
    "scrolled": true
   },
   "outputs": [],
   "source": [
    "window = 1\n",
    "n_mels = 64\n",
    "overlap = 0.2\n",
    "\n",
    "X, y, Xy, ft_grid_names, params = get_melspec_features_from_files(data_dir, df_model, window, overlap=overlap, n_mels=n_mels)"
   ]
  },
  {
   "cell_type": "code",
   "execution_count": null,
   "id": "a3d31eb6",
   "metadata": {},
   "outputs": [],
   "source": [
    "params"
   ]
  },
  {
   "cell_type": "code",
   "execution_count": null,
   "id": "fc8b250d",
   "metadata": {},
   "outputs": [],
   "source": [
    "# Normalization\n",
    "minval = X.min()\n",
    "maxval = X.max()\n",
    "X = (X-minval)/(maxval-minval)"
   ]
  },
  {
   "cell_type": "code",
   "execution_count": null,
   "id": "1108d2cf",
   "metadata": {},
   "outputs": [],
   "source": [
    "no_sample = 20\n",
    "sample = Xy.iloc[no_sample, :-1].to_numpy().reshape((params['n_mels'], params['no_windows']))\n",
    "plt.plot(sample)\n",
    "plt.show()"
   ]
  },
  {
   "cell_type": "code",
   "execution_count": null,
   "id": "7532a7d2",
   "metadata": {
    "scrolled": false
   },
   "outputs": [],
   "source": [
    "# Visualize data\n",
    "plot_columns = {'x': '0_0',\n",
    "                'y': '16_4'}\n",
    "df_toplot = X.copy()\n",
    "df_toplot = df_toplot.join(y)\n",
    "df_toplot = df_toplot.join(df_model.anomaly)\n",
    "ind_x = list(df_toplot.columns.values).index(plot_columns['x'])\n",
    "ind_y = list(df_toplot.columns.values).index(plot_columns['y'])\n",
    "\n",
    "plt.figure(figsize=(16,10))\n",
    "s = sns.scatterplot(x=plot_columns['x'], y=plot_columns['y'], data=df_toplot,\n",
    "                    hue='anomaly',\n",
    "                   palette='viridis')\n",
    "plt.show()"
   ]
  },
  {
   "cell_type": "code",
   "execution_count": null,
   "id": "72356ee7",
   "metadata": {},
   "outputs": [],
   "source": [
    "from sklearn.cluster import KMeans\n",
    "from sklearn import metrics\n",
    "from scipy.spatial.distance import cdist\n",
    "import numpy as np\n",
    "import matplotlib.pyplot as plt"
   ]
  },
  {
   "cell_type": "code",
   "execution_count": null,
   "id": "22685fac",
   "metadata": {},
   "outputs": [],
   "source": [
    "distortions = []\n",
    "inertias = []\n",
    "mapping1 = {}\n",
    "mapping2 = {}\n",
    "K = range(1, 15)\n",
    "for k in K:\n",
    "    # Building and fitting the model\n",
    "    kmeanModel = KMeans(n_clusters=k).fit(X)\n",
    "    kmeanModel.fit(X)\n",
    " \n",
    "    distortions.append(sum(np.min(cdist(X, kmeanModel.cluster_centers_,\n",
    "                                        'euclidean'), axis=1)) / X.shape[0])\n",
    "    inertias.append(kmeanModel.inertia_)\n",
    " \n",
    "    mapping1[k] = sum(np.min(cdist(X, kmeanModel.cluster_centers_,\n",
    "                                   'euclidean'), axis=1)) / X.shape[0]\n",
    "    mapping2[k] = kmeanModel.inertia_"
   ]
  },
  {
   "cell_type": "code",
   "execution_count": null,
   "id": "35dee52b",
   "metadata": {
    "scrolled": false
   },
   "outputs": [],
   "source": [
    "plt.plot(K, distortions, 'bx-')\n",
    "#plt.plot(K, inertias, 'rx-')\n",
    "plt.xlabel('Values of K')\n",
    "plt.ylabel('Distortion')\n",
    "plt.title('The Elbow Method using Distortion and Inertia')\n",
    "plt.show()"
   ]
  },
  {
   "cell_type": "code",
   "execution_count": null,
   "id": "e52fdf99",
   "metadata": {},
   "outputs": [],
   "source": [
    "# fit a kmeans object to the dataset\n",
    "no_clusters = 4\n",
    "kmeans = KMeans(n_clusters=no_clusters, init='k-means++').fit(X)\n",
    "\n",
    "# clusters is an attribute of the object\n",
    "cluster_centers = kmeans.cluster_centers_\n",
    "\n",
    "# add cluster index to dataframe\n",
    "cluster_labels = pd.Series(kmeans.labels_, name='cluster')\n",
    "try:\n",
    "    df_model = df_model.join(cluster_labels)\n",
    "except:\n",
    "    df_model['cluster'] = cluster_labels"
   ]
  },
  {
   "cell_type": "code",
   "execution_count": null,
   "id": "5092549f",
   "metadata": {},
   "outputs": [],
   "source": [
    "# visualise your clusters here (take a look at the pandas scatter_matrix or seaborn's pairplot method)\n",
    "plot_columns = {'x': '0_0',\n",
    "                'y': '7_1'}\n",
    "df_toplot = X.copy()\n",
    "df_toplot = df_toplot.join(y)\n",
    "df_toplot = df_toplot.join(df_model.cluster)\n",
    "df_toplot = df_toplot.join(df_model.anomaly)\n",
    "ind_x = list(df_toplot.columns.values).index(plot_columns['x'])\n",
    "ind_y = list(df_toplot.columns.values).index(plot_columns['y'])\n",
    "\n",
    "plt.figure(figsize=(16,10))\n",
    "s = sns.scatterplot(x=plot_columns['x'], y=plot_columns['y'], data=df_toplot,\n",
    "                    hue='cluster', style='anomaly',\n",
    "                   palette='viridis')\n",
    "#p = plt.scatter(cluster_centers[:,ind_x], cluster_centers[:,ind_y], s=250, marker='s', edgecolors='k',\n",
    "#            c=s._colors)\n",
    "#p = plt.scatter(df_toplot[plot_columns['x']], df_toplot[plot_columns['y']], s=250, marker='*', edgecolors='k',\n",
    "#            c=s._colors)\n",
    "plt.show()"
   ]
  },
  {
   "cell_type": "code",
   "execution_count": null,
   "id": "ced440e2",
   "metadata": {},
   "outputs": [],
   "source": [
    "plt.figure(figsize=(16,10))\n",
    "s = sns.pairplot(data=df_model[['cluster','anomaly']],\n",
    "                   palette='viridis', kind=\"kde\")"
   ]
  },
  {
   "cell_type": "code",
   "execution_count": null,
   "id": "e76890f8",
   "metadata": {},
   "outputs": [],
   "source": [
    "X"
   ]
  },
  {
   "cell_type": "code",
   "execution_count": null,
   "id": "2c8b65fb",
   "metadata": {},
   "outputs": [],
   "source": []
  },
  {
   "cell_type": "code",
   "execution_count": null,
   "id": "7b44eeea",
   "metadata": {},
   "outputs": [],
   "source": [
    "from sklearn.cluster import DBSCAN\n",
    "from sklearn import metrics\n",
    "from sklearn.preprocessing import StandardScaler\n",
    "\n",
    "# Compute DBSCAN\n",
    "db = DBSCAN(eps=0.5, min_samples=5, metric='euclidean', ).fit(X.to_numpy())\n",
    "core_samples_mask = np.zeros_like(db.labels_, dtype=bool)\n",
    "core_samples_mask[db.core_sample_indices_] = True\n",
    "labels = db.labels_\n",
    "labels"
   ]
  },
  {
   "cell_type": "code",
   "execution_count": null,
   "id": "e8832ea9",
   "metadata": {},
   "outputs": [],
   "source": [
    "np.unique(labels)"
   ]
  },
  {
   "cell_type": "code",
   "execution_count": null,
   "id": "260f5d2b",
   "metadata": {},
   "outputs": [],
   "source": [
    "# fit a kmeans object to the dataset\n",
    "kmeans = KMeans(n_clusters=8, init='k-means++').fit(X)\n",
    "\n",
    "# clusters is an attribute of the object\n",
    "cluster_centers = kmeans.cluster_centers_\n",
    "\n",
    "# add cluster index to dataframe\n",
    "cluster_labels = pd.Series(kmeans.labels_, name='cluster')\n",
    "df_machine['cluster'] = cluster_labels\n"
   ]
  },
  {
   "cell_type": "code",
   "execution_count": null,
   "id": "d641e0e1",
   "metadata": {},
   "outputs": [],
   "source": [
    "# visualise your clusters here (take a look at the pandas scatter_matrix or seaborn's pairplot method)\n",
    "plot_columns = {'x': '10_0',\n",
    "                'y': '16_4'}\n",
    "df_toplot = X.copy()\n",
    "df_toplot = df_toplot.join(y)\n",
    "df_toplot = df_toplot.join(df_machine.model)\n",
    "df_toplot = df_toplot.join(df_machine.cluster)\n",
    "df_toplot = df_toplot.join(df_machine.anomaly)\n",
    "ind_x = list(df_toplot.columns.values).index(plot_columns['x'])\n",
    "ind_y = list(df_toplot.columns.values).index(plot_columns['y'])\n",
    "\n",
    "plt.figure(figsize=(16,10))\n",
    "s = sns.scatterplot(x=plot_columns['x'], y=plot_columns['y'], data=df_toplot,\n",
    "                    hue='cluster', style='anomaly',\n",
    "                   palette='viridis')\n",
    "#p = plt.scatter(cluster_centers[:,ind_x], cluster_centers[:,ind_y], s=250, marker='s', edgecolors='k',\n",
    "#            c=s._colors)\n",
    "#p = plt.scatter(df_toplot[plot_columns['x']], df_toplot[plot_columns['y']], s=250, marker='*', edgecolors='k',\n",
    "#            c=s._colors)\n",
    "plt.show()"
   ]
  },
  {
   "cell_type": "code",
   "execution_count": null,
   "id": "581fe07a",
   "metadata": {},
   "outputs": [],
   "source": [
    "plt.figure(figsize=(16,10))\n",
    "s = sns.pairplot(data=df_machine[['model','cluster','anomaly']],\n",
    "                   palette='viridis', kind=\"kde\")"
   ]
  },
  {
   "cell_type": "code",
   "execution_count": null,
   "id": "6a619dee",
   "metadata": {},
   "outputs": [],
   "source": [
    "# Add labels for training and test\n",
    "df_machine = add_train_test_labels_to_dataframe(df_machine, no_seed=12)"
   ]
  },
  {
   "cell_type": "code",
   "execution_count": null,
   "id": "7bb4b772",
   "metadata": {},
   "outputs": [],
   "source": [
    "# Get training and test samples\n",
    "X_train, X_test, y_train, y_test = get_train_test_data(X, y, df_machine)"
   ]
  },
  {
   "cell_type": "code",
   "execution_count": null,
   "id": "4c490a01",
   "metadata": {},
   "outputs": [],
   "source": [
    "# Histogram of features\n",
    "plt.hist(X_train.iloc[:, 0])\n",
    "plt.show()"
   ]
  },
  {
   "cell_type": "code",
   "execution_count": null,
   "id": "a52f2958",
   "metadata": {},
   "outputs": [],
   "source": [
    "# One class svm \n",
    "gamma = 0.01\n",
    "nu = 0.5\n",
    "prctle = 2\n",
    "out_class = train_test_one_class_svm(X_train.to_numpy(), X_test.to_numpy(), y_train.to_numpy(), y_test.to_numpy(), \n",
    "                                     kernel='rbf', gamma=gamma, nu=nu, prctle=prctle, normalize=\"min-max\")\n",
    "# return OneClassSVM, report, cm_train, cm_test, out_metrics_train, out_metrics_test, params"
   ]
  },
  {
   "cell_type": "code",
   "execution_count": null,
   "id": "e8e9749a",
   "metadata": {},
   "outputs": [],
   "source": [
    "cm_plot = out_class[3]\n",
    "df_cm = pd.DataFrame(cm_plot, range(cm_plot.shape[0]), range(cm_plot.shape[1]))\n",
    "sns.set(font_scale=1.4) # for label size\n",
    "sns.heatmap(df_cm, annot=True, annot_kws={\"size\": 16}) # font size\n",
    "\n",
    "plt.show()\n",
    "\n",
    "print(out_class[1])"
   ]
  },
  {
   "cell_type": "code",
   "execution_count": null,
   "id": "e47c72c1",
   "metadata": {
    "scrolled": true
   },
   "outputs": [],
   "source": [
    "ran_gamma = [0.0001, 0.0005, 0.001, 0.005, 0.01, 0.05, 0.1, 0.5]\n",
    "ran_prctl = range(1,15)\n",
    "nu = 0.5\n",
    "# Initialize arrays\n",
    "out_metrics_gn = {}\n",
    "out_metrics_gn['acc'] = np.zeros((len(ran_prctl), len(ran_gamma)))\n",
    "out_metrics_gn['precision']  = np.zeros((len(ran_prctl), len(ran_gamma)))\n",
    "out_metrics_gn['recall'] = np.zeros((len(ran_prctl), len(ran_gamma)))\n",
    "out_metrics_gn['TPR'] = np.zeros((len(ran_prctl), len(ran_gamma)))\n",
    "out_metrics_gn['FPR'] = np.zeros((len(ran_prctl), len(ran_gamma)))\n",
    "for id_g, gamma in enumerate(ran_gamma):\n",
    "    for id_p, prctle in enumerate(ran_prctl):\n",
    "        print(gamma, prctle)\n",
    "        \n",
    "        out_class = train_test_one_class_svm(X_train, X_test, y_train, y_test, \n",
    "                                     kernel='rbf', gamma=gamma, nu=nu, prctle=prctle, normalize=\"min-max\")\n",
    "        # return OneClassSVM, report, cm_train, cm_test, out_metrics_train, out_metrics_test, params\n",
    "        \n",
    "        out_metrics = out_class[5]\n",
    "        out_metrics_gn['acc'][id_p, id_g] = out_metrics['acc']\n",
    "        out_metrics_gn['precision'][id_p, id_g] = out_metrics['precision']\n",
    "        out_metrics_gn['recall'][id_p, id_g] = out_metrics['recall']\n",
    "        out_metrics_gn['TPR'][id_p, id_g] = out_metrics['TPR']\n",
    "        out_metrics_gn['FPR'][id_p, id_g] = out_metrics['FPR']\n",
    "        "
   ]
  },
  {
   "cell_type": "code",
   "execution_count": null,
   "id": "9cb13aa3",
   "metadata": {},
   "outputs": [],
   "source": [
    "len(ran_gamma)"
   ]
  },
  {
   "cell_type": "code",
   "execution_count": null,
   "id": "53700cc1",
   "metadata": {
    "scrolled": true
   },
   "outputs": [],
   "source": [
    "out_metrics_gn['recall'][:, 7]"
   ]
  },
  {
   "cell_type": "code",
   "execution_count": null,
   "id": "d0e94dec",
   "metadata": {},
   "outputs": [],
   "source": [
    "out_metrics_gn['precision'][:, 7]"
   ]
  },
  {
   "cell_type": "code",
   "execution_count": null,
   "id": "227efc2c",
   "metadata": {},
   "outputs": [],
   "source": [
    "out_metrics_gn['recall'].shape"
   ]
  },
  {
   "cell_type": "code",
   "execution_count": null,
   "id": "243c6e94",
   "metadata": {},
   "outputs": [],
   "source": [
    "for id_g, gamma in enumerate(ran_gamma):\n",
    "    if(id_g<8):\n",
    "        plt.plot(out_metrics_gn['recall'][:, id_g], out_metrics_gn['precision'][:, id_g])\n",
    "        plt.xlim([0, 1])\n",
    "        plt.ylim([0, 1])\n",
    "plt.xlabel('Recall')\n",
    "plt.ylabel('Precision')\n",
    "plt.show()"
   ]
  },
  {
   "cell_type": "code",
   "execution_count": null,
   "id": "b70cf9fe",
   "metadata": {},
   "outputs": [],
   "source": [
    "for id_g, gamma in enumerate(ran_gamma):\n",
    "    if(id_g==5):\n",
    "        print(gamma)\n",
    "        plt.plot(out_metrics_gn['recall'][:, id_g], out_metrics_gn['precision'][:, id_g])\n",
    "        plt.xlim([0, 1])\n",
    "        plt.ylim([0, 1])\n",
    "    plt.xlabel('Recall')\n",
    "    plt.ylabel('Precision')\n",
    "plt.show()"
   ]
  },
  {
   "cell_type": "code",
   "execution_count": null,
   "id": "26b98195",
   "metadata": {},
   "outputs": [],
   "source": [
    "out_metrics_gn['precision'].shape"
   ]
  },
  {
   "cell_type": "code",
   "execution_count": null,
   "id": "9baaa20e",
   "metadata": {},
   "outputs": [],
   "source": [
    "id_p = 12\n",
    "id_g = 5\n",
    "print(ran_prctl[id_p])\n",
    "print(\"precision: \", out_metrics_gn['precision'][id_p, id_g])\n",
    "print(\"recall: \", out_metrics_gn['recall'][id_p, id_g])"
   ]
  },
  {
   "cell_type": "code",
   "execution_count": null,
   "id": "a92401f4",
   "metadata": {
    "scrolled": true
   },
   "outputs": [],
   "source": [
    "# Select all abnormal samples as test, equal number of normal also in test, rest in training\n",
    "df_machine_all = df[df.machine=='fan']\n",
    "\n",
    "window = 0.5\n",
    "n_mels = 64\n",
    "overlap = 0.25\n",
    "\n",
    "X_all, y_all, params_all = get_melspec_features_from_files(data_dir, df_machine_all, window, n_mels, overlap)\n",
    "\n",
    "# Add labels for training and test\n",
    "df_machine_all = add_train_test_labels_to_dataframe(df_machine_all, no_seed=30)\n",
    "\n",
    "# Get training and test samples\n",
    "X_train_all, X_test_all, y_train_all, y_test_all = get_train_test_data(X_all, y_all, df_machine_all)\n",
    "\n",
    "# One class svm \n",
    "id_p = 12\n",
    "id_g = 5\n",
    "prctl = ran_prctl[id_p]\n",
    "gamma = ran_gamma[id_g]\n",
    "nu = 0.5\n",
    "out_class_selected = train_test_one_class_svm(X_train, X_test, y_train, y_test, \n",
    "                                     kernel='rbf', gamma=gamma, nu=nu, prctle=prctle, normalize=\"min-max\")\n",
    "# return OneClassSVM, report, cm_train, cm_test, out_metrics_train, out_metrics_test, params"
   ]
  },
  {
   "cell_type": "code",
   "execution_count": null,
   "id": "6e2f7f05",
   "metadata": {},
   "outputs": [],
   "source": [
    "id_g_selected = 5\n",
    "ran_gamma_selected = [ran_gamma[id_g_selected]]\n",
    "nu = 0.5\n",
    "# Initialize arrays\n",
    "out_metrics_all_gn = {}\n",
    "out_metrics_all_gn['acc'] = np.zeros((len(ran_prctl), len(ran_gamma)))\n",
    "out_metrics_all_gn['precision']  = np.zeros((len(ran_prctl), len(ran_gamma)))\n",
    "out_metrics_all_gn['recall'] = np.zeros((len(ran_prctl), len(ran_gamma)))\n",
    "out_metrics_all_gn['TPR'] = np.zeros((len(ran_prctl), len(ran_gamma)))\n",
    "out_metrics_all_gn['FPR'] = np.zeros((len(ran_prctl), len(ran_gamma)))\n",
    "for id_g, gamma in enumerate(ran_gamma_selected):\n",
    "    for id_p, prctle in enumerate(ran_prctl):\n",
    "        \n",
    "        out_class = train_test_one_class_svm(X_train_all, X_test_all, y_train_all, y_test_all, \n",
    "                                     kernel='rbf', gamma=0.001, nu=0.5, prctle=2, normalize=\"min-max\")\n",
    "        # return OneClassSVM, report, cm_train, cm_test, out_metrics_train, out_metrics_test, params\n",
    "        \n",
    "        out_metrics = out_class[5]\n",
    "        out_metrics_all_gn['acc'][id_p, id_g] = out_metrics['acc']\n",
    "        out_metrics_all_gn['precision'][id_p, id_g] = out_metrics['precision']\n",
    "        out_metrics_all_gn['recall'][id_p, id_g] = out_metrics['recall']\n",
    "        out_metrics_all_gn['TPR'][id_p, id_g] = out_metrics['TPR']\n",
    "        out_metrics_all_gn['FPR'][id_p, id_g] = out_metrics['FPR']\n",
    "        "
   ]
  },
  {
   "cell_type": "code",
   "execution_count": null,
   "id": "61a1c1df",
   "metadata": {},
   "outputs": [],
   "source": [
    "ran_gamma = [0.0001, 0.0005, 0.001, 0.005, 0.01, 0.05, 0.1, 0.5]\n",
    "ran_prctl_selected = 7 # range(0,15)\n",
    "nu = 0.5\n",
    "# Initialize arrays\n",
    "out_metrics_all_gn = {}\n",
    "out_metrics_all_gn['acc'] = np.zeros((len(ran_prctl), len(ran_gamma)))\n",
    "out_metrics_all_gn['precision']  = np.zeros((len(ran_prctl), len(ran_gamma)))\n",
    "out_metrics_all_gn['recall'] = np.zeros((len(ran_prctl), len(ran_gamma)))\n",
    "out_metrics_all_gn['TPR'] = np.zeros((len(ran_prctl), len(ran_gamma)))\n",
    "out_metrics_all_gn['FPR'] = np.zeros((len(ran_prctl), len(ran_gamma)))\n",
    "for id_g, gamma in enumerate(ran_gamma):\n",
    "    for id_p, prctle in enumerate(ran_prctl_selected):\n",
    "        \n",
    "        out_class = train_test_one_class_svm(X_train_all, X_test_all, y_train_all, y_test_all, \n",
    "                                     kernel='rbf', gamma=0.001, nu=0.5, prctle=2, normalize=\"min-max\")\n",
    "        # return OneClassSVM, report, cm_train, cm_test, out_metrics_train, out_metrics_test, params\n",
    "        \n",
    "        out_metrics = out_class[5]\n",
    "        out_metrics_all_gn['acc'][id_p, id_g] = out_metrics['acc']\n",
    "        out_metrics_all_gn['precision'][id_p, id_g] = out_metrics['precision']\n",
    "        out_metrics_all_gn['recall'][id_p, id_g] = out_metrics['recall']\n",
    "        out_metrics_all_gn['TPR'][id_p, id_g] = out_metrics['TPR']\n",
    "        out_metrics_all_gn['FPR'][id_p, id_g] = out_metrics['FPR']\n",
    "        "
   ]
  },
  {
   "cell_type": "code",
   "execution_count": null,
   "id": "c942c337",
   "metadata": {},
   "outputs": [],
   "source": [
    "for id_g, gamma in enumerate(ran_gamma):\n",
    "    for id_p, prctle in enumerate(ran_prctl_selected):\n",
    "        if(id_g==id_g_selected):\n",
    "            print(gamma)\n",
    "            plt.plot(out_metrics_all_gn['recall'][:, id_g], out_metrics_all_gn['precision'][:, id_g])\n",
    "            plt.xlim([0, 1])\n",
    "            plt.ylim([0, 1])\n",
    "plt.xlabel('Recall')\n",
    "plt.ylabel('Precision')\n",
    "plt.show()"
   ]
  },
  {
   "cell_type": "code",
   "execution_count": null,
   "id": "36bbd698",
   "metadata": {},
   "outputs": [],
   "source": [
    "# Metrics for the previously chosen gamma and prctle\n",
    "id_p_selected = 3\n",
    "prctl = ran_prctle[id_p_selected]\n",
    "gamma = ran_gamma[id_g_selected]\n",
    "out_class = train_test_one_class_svm(X_train_all, X_test_all, y_train_all, y_test_all, \n",
    "                                     kernel='rbf', gamma=gamma, nu=nu, prctle=prctle, normalize=\"min-max\")\n",
    "# return OneClassSVM, report, cm_train, cm_test, out_metrics_train, out_metrics_test, params"
   ]
  },
  {
   "cell_type": "code",
   "execution_count": null,
   "id": "2b53851a",
   "metadata": {},
   "outputs": [],
   "source": [
    "cm_test"
   ]
  },
  {
   "cell_type": "code",
   "execution_count": null,
   "id": "fed96d17",
   "metadata": {},
   "outputs": [],
   "source": [
    "out_metrics_test_all"
   ]
  },
  {
   "cell_type": "code",
   "execution_count": null,
   "id": "6d831393",
   "metadata": {},
   "outputs": [],
   "source": [
    "cm_train"
   ]
  },
  {
   "cell_type": "code",
   "execution_count": null,
   "id": "eb26d2c0",
   "metadata": {},
   "outputs": [],
   "source": [
    "out_metrics_train_all"
   ]
  }
 ],
 "metadata": {
  "kernelspec": {
   "display_name": "Python 3 (ipykernel)",
   "language": "python",
   "name": "python3"
  },
  "language_info": {
   "codemirror_mode": {
    "name": "ipython",
    "version": 3
   },
   "file_extension": ".py",
   "mimetype": "text/x-python",
   "name": "python",
   "nbconvert_exporter": "python",
   "pygments_lexer": "ipython3",
   "version": "3.8.12"
  }
 },
 "nbformat": 4,
 "nbformat_minor": 5
}
