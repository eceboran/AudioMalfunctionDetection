{
 "cells": [
  {
   "cell_type": "code",
   "execution_count": 1,
   "id": "5c0c7af5",
   "metadata": {},
   "outputs": [],
   "source": [
    "# Import necessary libraries\n",
    "import os\n",
    "import re\n",
    "import pandas as pd\n",
    "import librosa"
   ]
  },
  {
   "cell_type": "code",
   "execution_count": 2,
   "id": "4ea44741",
   "metadata": {},
   "outputs": [],
   "source": [
    "# Directories\n",
    "parent_dir = os.path.abspath('..')  # parent directory\n",
    "# Audio data directory\n",
    "data_dir = os.path.join(parent_dir, 'data', 'source')  # audio data directory\n",
    "# Metada directory\n",
    "metadata_dir = os.path.join(parent_dir, 'data', 'metadata')  # metadata directory"
   ]
  },
  {
   "cell_type": "code",
   "execution_count": 3,
   "id": "219cfa86",
   "metadata": {},
   "outputs": [],
   "source": [
    "# List of paths for all audio files (with extension .wav) in the data directory\n",
    "compiled = re.compile('[\\w\\d()]+.wav$')  # naming format for the audio file\n",
    "\n",
    "audio_files_paths = []\n",
    "for path, dirs, files in os.walk(data_dir):  # search all the directories and subdirectories\n",
    "    for filename in files:\n",
    "        if compiled.search(filename) is not None:\n",
    "            audio_files_paths.append(os.path.join(path,filename))  # file path\n",
    "            \n",
    "# Relative paths for audio files\n",
    "audio_files_paths = [elem.replace(data_dir + \"\\\\\", \"\") for elem in audio_files_paths]"
   ]
  },
  {
   "cell_type": "code",
   "execution_count": 4,
   "id": "42b67c43",
   "metadata": {},
   "outputs": [],
   "source": [
    "# Extract metadata from list of file paths\n",
    "metadata_list = []\n",
    "for audio_file_path in audio_files_paths:\n",
    "    # File name and path\n",
    "    file_rel_path = audio_file_path\n",
    "    file_dir_path = os.path.dirname(audio_file_path)\n",
    "    file_name = os.path.basename(audio_file_path)\n",
    "    \n",
    "    # File information from the directory name\n",
    "    file_info = re.findall(\"^(\\d+|-\\d+)_dB_(\\w+)\\\\\\\\(\\w+)\\\\\\\\id_(\\w+)\\\\\\\\(\\w+)\", file_dir_path)\n",
    "    file_info = list(file_info[0])\n",
    "    # SNR\n",
    "    SNR_dB = int(file_info[0])\n",
    "    if file_info[1] == file_info[2]:  # check directory name consistency\n",
    "        del file_info[2]\n",
    "    else:\n",
    "        print(\"Directory name is not consistent\")\n",
    "        continue\n",
    "    # Machine name and type\n",
    "    machine = file_info[1]\n",
    "    model = int(file_info[2])\n",
    "    # Anomaly (0 if the sound is normal, 1 if it is abnormal)\n",
    "    if file_info[3] == 'normal':\n",
    "        anomaly = 0\n",
    "    else:\n",
    "        anomaly = 1\n",
    "    \n",
    "    metadata_list.append([machine, model, anomaly, file_name, file_rel_path, None, None, SNR_dB])\n",
    "\n",
    "# Create a DataFrame from the list\n",
    "metadata_df = pd.DataFrame(metadata_list, \n",
    "                  columns=['machine', 'model', 'anomaly', 'file_name', 'file_rel_path', 'duration_s', 'fs_Hz', 'SNR_dB'])\n",
    "metadata_df.index.name = 'file_no'  # index name, unique file number"
   ]
  },
  {
   "cell_type": "code",
   "execution_count": 5,
   "id": "825b036e",
   "metadata": {},
   "outputs": [],
   "source": [
    "# Extract audio-related information for each file\n",
    "for n_row in range(metadata_df.shape[0]):\n",
    "    file_path = os.path.join(data_dir, metadata_df.iloc[n_row].file_rel_path)\n",
    "    # Duration and sampling frequency\n",
    "    fs_Hz = librosa.get_samplerate(path=file_path)\n",
    "    duration_s = librosa.get_duration(filename=file_path)  # in seconds\n",
    "    # Add data to the DataFrame\n",
    "    metadata_df.loc[n_row, 'duration_s'] = duration_s\n",
    "    metadata_df.loc[n_row, 'fs_Hz'] = fs_Hz"
   ]
  },
  {
   "cell_type": "code",
   "execution_count": 6,
   "id": "2f52a670",
   "metadata": {},
   "outputs": [],
   "source": [
    "# Export the metadata DataFrame to a csv file\n",
    "metadata_df.to_csv(os.path.join(metadata_dir, 'metadata.csv'), header=True, index=True)"
   ]
  }
 ],
 "metadata": {
  "kernelspec": {
   "display_name": "Python 3 (ipykernel)",
   "language": "python",
   "name": "python3"
  },
  "language_info": {
   "codemirror_mode": {
    "name": "ipython",
    "version": 3
   },
   "file_extension": ".py",
   "mimetype": "text/x-python",
   "name": "python",
   "nbconvert_exporter": "python",
   "pygments_lexer": "ipython3",
   "version": "3.8.12"
  }
 },
 "nbformat": 4,
 "nbformat_minor": 5
}
