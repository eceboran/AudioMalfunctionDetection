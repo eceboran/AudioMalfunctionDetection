{
 "cells": [
  {
   "cell_type": "code",
   "execution_count": 1,
   "id": "87905a85",
   "metadata": {},
   "outputs": [],
   "source": [
    "# because the valve samples are not continous, but rather they click with an interval between it makes \n",
    "# sense to look at a different type of modeling.\n",
    "# first idea is to check if peaks occur at regular intervals. If not it might be an anomaly.\n",
    "# second is to split the files by peak\n",
    "\n",
    "# both need some form of peak detection.\n"
   ]
  },
  {
   "cell_type": "code",
   "execution_count": 2,
   "id": "2a50377e",
   "metadata": {},
   "outputs": [],
   "source": [
    "import os\n",
    "import librosa"
   ]
  },
  {
   "cell_type": "code",
   "execution_count": 3,
   "id": "b6c74006",
   "metadata": {},
   "outputs": [],
   "source": [
    "# get the parent directory\n",
    "parent_dir = os.path.abspath('..')\n",
    "test_dir = os.path.join(parent_dir, 'Testing')\n",
    "data_dir = os.path.join(parent_dir, 'Data')\n",
    "meta_dir = os.path.join(data_dir, 'metadata')\n",
    "sour_dir = os.path.join(data_dir, 'source')\n",
    "data_dir = os.path.join(parent_dir, 'EDA')"
   ]
  },
  {
   "cell_type": "code",
   "execution_count": 4,
   "id": "5c59d1ba",
   "metadata": {},
   "outputs": [
    {
     "data": {
      "text/plain": [
       "'C:\\\\Users\\\\aubin\\\\beCode\\\\anomaly\\\\AudioMalfunctionDetection\\\\Data\\\\source'"
      ]
     },
     "execution_count": 4,
     "metadata": {},
     "output_type": "execute_result"
    }
   ],
   "source": []
  },
  {
   "cell_type": "code",
   "execution_count": null,
   "id": "365797ee",
   "metadata": {},
   "outputs": [],
   "source": []
  }
 ],
 "metadata": {
  "kernelspec": {
   "display_name": "Python 3 (ipykernel)",
   "language": "python",
   "name": "python3"
  },
  "language_info": {
   "codemirror_mode": {
    "name": "ipython",
    "version": 3
   },
   "file_extension": ".py",
   "mimetype": "text/x-python",
   "name": "python",
   "nbconvert_exporter": "python",
   "pygments_lexer": "ipython3",
   "version": "3.8.12"
  }
 },
 "nbformat": 4,
 "nbformat_minor": 5
}
