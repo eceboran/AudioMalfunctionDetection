{
 "cells": [
  {
   "cell_type": "code",
   "execution_count": 3,
   "id": "4bb011f5",
   "metadata": {},
   "outputs": [],
   "source": [
    "import pandas as pd\n",
    "import os"
   ]
  },
  {
   "cell_type": "code",
   "execution_count": 6,
   "id": "a54ea946",
   "metadata": {},
   "outputs": [],
   "source": [
    "# get the parent directory\n",
    "parent_dir = os.path.abspath('..')\n",
    "test_dir = os.path.join(parent_dir, 'Test')\n",
    "data_dir = os.path.join(parent_dir, 'Data')\n",
    "data_dir = os.path.join(parent_dir, 'EDA')"
   ]
  },
  {
   "cell_type": "code",
   "execution_count": 79,
   "id": "856477f1",
   "metadata": {},
   "outputs": [],
   "source": [
    "metadata = pd.read_csv(os.path.join(data_dir, 'metadata.csv'), index_col=0)"
   ]
  },
  {
   "cell_type": "code",
   "execution_count": 80,
   "id": "6fe2d67a",
   "metadata": {},
   "outputs": [],
   "source": [
    "def subsetGenerator(machine_type, sample_size_normal, sample_size_abnormal, random_state = None):\n",
    "    fan_data = metadata.loc[metadata['machine_type'] == machine_type]\n",
    "    \n",
    "    model_1 = fan_data.loc[fan_data['model_type'] == 'id_00']\n",
    "    model_2 = fan_data.loc[fan_data['model_type'] == 'id_02']\n",
    "    model_3 = fan_data.loc[fan_data['model_type'] == 'id_04']\n",
    "    model_4 = fan_data.loc[fan_data['model_type'] == 'id_06']\n",
    "    \n",
    "    model_1_a = model_1.loc[model_1['anomaly'] == 1]\n",
    "    model_1_n = model_1.loc[model_1['anomaly'] == 0]\n",
    "    model_2_a = model_2.loc[model_2['anomaly'] == 1]\n",
    "    model_2_n = model_2.loc[model_2['anomaly'] == 0]\n",
    "    model_3_a = model_3.loc[model_3['anomaly'] == 1]\n",
    "    model_3_n = model_3.loc[model_3['anomaly'] == 0]\n",
    "    model_4_a = model_4.loc[model_4['anomaly'] == 1]\n",
    "    model_4_n = model_4.loc[model_4['anomaly'] == 0]\n",
    "    \n",
    "    s_1 = model_1_a.sample(sample_size_abnormal, random_state = random_state)\n",
    "    s_2 = model_1_n.sample(sample_size_normal, random_state = random_state)\n",
    "    s_3 = model_2_a.sample(sample_size_abnormal, random_state = random_state)\n",
    "    s_4 = model_2_n.sample(sample_size_normal, random_state = random_state)\n",
    "    s_5 = model_3_a.sample(sample_size_abnormal, random_state = random_state)\n",
    "    s_6 = model_3_n.sample(sample_size_normal, random_state = random_state)\n",
    "    s_7 = model_4_a.sample(sample_size_abnormal, random_state = random_state)\n",
    "    s_8 = model_4_n.sample(sample_size_normal, random_state = random_state)\n",
    "    \n",
    "    return pd.concat([s_1, s_2, s_3, s_4, s_5, s_6, s_7, s_8])"
   ]
  },
  {
   "cell_type": "code",
   "execution_count": 81,
   "id": "fed5021c",
   "metadata": {},
   "outputs": [],
   "source": [
    "fan_subset = subsetGenerator('fan', 300, 100, random_state = 2)"
   ]
  },
  {
   "cell_type": "code",
   "execution_count": 82,
   "id": "65ec75a9",
   "metadata": {},
   "outputs": [
    {
     "data": {
      "text/plain": [
       "False"
      ]
     },
     "execution_count": 82,
     "metadata": {},
     "output_type": "execute_result"
    }
   ],
   "source": [
    "fan_subset.duplicated().any()"
   ]
  },
  {
   "cell_type": "code",
   "execution_count": 83,
   "id": "20b948cd",
   "metadata": {},
   "outputs": [],
   "source": [
    "fan_subset.to_csv('fan_subset.csv')"
   ]
  },
  {
   "cell_type": "code",
   "execution_count": null,
   "id": "1430cdab",
   "metadata": {},
   "outputs": [],
   "source": []
  }
 ],
 "metadata": {
  "kernelspec": {
   "display_name": "Python 3 (ipykernel)",
   "language": "python",
   "name": "python3"
  },
  "language_info": {
   "codemirror_mode": {
    "name": "ipython",
    "version": 3
   },
   "file_extension": ".py",
   "mimetype": "text/x-python",
   "name": "python",
   "nbconvert_exporter": "python",
   "pygments_lexer": "ipython3",
   "version": "3.8.12"
  }
 },
 "nbformat": 4,
 "nbformat_minor": 5
}
