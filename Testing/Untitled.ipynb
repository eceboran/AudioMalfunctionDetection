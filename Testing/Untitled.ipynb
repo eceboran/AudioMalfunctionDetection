{
 "cells": [
  {
   "cell_type": "code",
   "execution_count": null,
   "id": "5ec4e738",
   "metadata": {},
   "outputs": [],
   "source": [
    "import os"
   ]
  },
  {
   "cell_type": "code",
   "execution_count": 1,
   "id": "3a8d0a32",
   "metadata": {},
   "outputs": [],
   "source": [
    "def get_melspectogram(file_path, window, overlap=None, n_fft=None):\n",
    "    # Load the signal\n",
    "    signal, fs = librosa.load(file_path, sr=None)\n",
    "    \n",
    "    # Window length in samples\n",
    "    window_length = int(window*fs)\n",
    "    \n",
    "    # Default overlap is 50% of the window size\n",
    "    if overlap==None:\n",
    "        overlap = 0.5\n",
    "    \n",
    "    # Overlap in samples\n",
    "    overlap_length = int(window_length*overlap)\n",
    "    \n",
    "    # Hop length in samples\n",
    "    hop_length = window_length-overlap_length\n",
    "    \n",
    "    # Default n_fft is the smallest power of 2 larger than win_length\n",
    "    if n_fft==None:\n",
    "        n_fft = int(2**np.ceil(np.log2(window_length)))\n",
    "   \n",
    "    # Compute mel spectogram\n",
    "    mel_spect = librosa.feature.melspectrogram(y=signal, sr=fs, \n",
    "                                               win_length=window_length, \n",
    "                                               hop_length=overlap_length,\n",
    "                                               n_fft=n_fft)\n",
    "    # Mel spectogram in decibels\n",
    "    mel_spect_db = librosa.power_to_db(mel_spect, ref=np.max)\n",
    "\n",
    "    params = {}\n",
    "    params['window'] = window\n",
    "    params['window_length'] = window_length\n",
    "    params['overlap'] = overlap\n",
    "    params['overlap_length'] = overlap_length\n",
    "    params['n_fft'] = n_fft\n",
    "    \n",
    "    return mel_spect, mel_spect_db, params"
   ]
  },
  {
   "cell_type": "code",
   "execution_count": null,
   "id": "a97ab0fe",
   "metadata": {},
   "outputs": [],
   "source": []
  }
 ],
 "metadata": {
  "kernelspec": {
   "display_name": "Python 3 (ipykernel)",
   "language": "python",
   "name": "python3"
  },
  "language_info": {
   "codemirror_mode": {
    "name": "ipython",
    "version": 3
   },
   "file_extension": ".py",
   "mimetype": "text/x-python",
   "name": "python",
   "nbconvert_exporter": "python",
   "pygments_lexer": "ipython3",
   "version": "3.8.12"
  }
 },
 "nbformat": 4,
 "nbformat_minor": 5
}
