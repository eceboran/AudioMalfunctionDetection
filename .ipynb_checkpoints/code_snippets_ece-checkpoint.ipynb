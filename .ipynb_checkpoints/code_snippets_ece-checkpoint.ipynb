{
 "cells": [
  {
   "cell_type": "code",
   "execution_count": null,
   "id": "82b9b896",
   "metadata": {},
   "outputs": [],
   "source": [
    "# Reading from within a zip file\n",
    "import zipfile as zf\n",
    "import soundfile as sf\n",
    "import io\n",
    "\n",
    "with zf.ZipFile('test.zip') as myzip:\n",
    "    with myzip.open('stereo_file.wav') as myfile:\n",
    "        tmp = io.BytesIO(myfile.read())\n",
    "        data, samplerate = sf.read(tmp)\n",
    "\n",
    "        \n",
    "z = zf.ZipFile(\"zipfile.zip\", \"r\")\n",
    "\n",
    "for filename in z.namelist():\n",
    "    print 'File:', filename,\n",
    "    bytes = z.read(filename)\n",
    "print 'has', len(bytes), 'bytes'"
   ]
  }
 ],
 "metadata": {
  "kernelspec": {
   "display_name": "Python 3 (ipykernel)",
   "language": "python",
   "name": "python3"
  },
  "language_info": {
   "codemirror_mode": {
    "name": "ipython",
    "version": 3
   },
   "file_extension": ".py",
   "mimetype": "text/x-python",
   "name": "python",
   "nbconvert_exporter": "python",
   "pygments_lexer": "ipython3",
   "version": "3.8.12"
  }
 },
 "nbformat": 4,
 "nbformat_minor": 5
}
