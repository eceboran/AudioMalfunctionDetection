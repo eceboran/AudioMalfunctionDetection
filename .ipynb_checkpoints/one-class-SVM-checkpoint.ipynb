{
 "cells": [
  {
   "cell_type": "code",
   "execution_count": 1,
   "id": "8e26bae9",
   "metadata": {},
   "outputs": [],
   "source": [
    "from sklearn.svm import OneClassSVM\n",
    "# from sklearn.datasets import make_blobs\n",
    "# from numpy import quantile, where, random\n",
    "import matplotlib.pyplot as plt"
   ]
  },
  {
   "cell_type": "code",
   "execution_count": null,
   "id": "f3b030a7",
   "metadata": {},
   "outputs": [],
   "source": [
    "# Classifying with classifier output\n",
    "svm = OneClassSVM(kernel='rbf', gamma=0.001, nu=0.01)\n",
    "\n",
    "svm.fit(X_training)\n",
    "pred = svm.predict(X_training)\n",
    "\n",
    "anom_index = where(pred==-1)\n",
    "X_anomaly = X_training[anom_index]\n",
    "\n",
    "plt.scatter(X_training[:,0], X_training[:,1])\n",
    "plt.scatter(X_anomaly[:,0], X_anomaly[:,1], color='r')\n",
    "plt.show()"
   ]
  },
  {
   "cell_type": "code",
   "execution_count": null,
   "id": "759e1e31",
   "metadata": {},
   "outputs": [],
   "source": [
    "# Classifiying with a threshold\n",
    "svm = OneClassSVM(kernel='rbf', gamma=0.001, nu=0.02)\n",
    "\n",
    "pred = svm.fit_predict(x)\n",
    "scores = svm.score_samples(x)\n",
    "\n",
    "thresh = quantile(scores, 0.03)\n",
    "print(thresh)\n",
    "index = where(scores<=thresh)\n",
    "X_anomaly = x[index]\n",
    "\n",
    "plt.scatter(x[:,0], x[:,1])\n",
    "plt.scatter(X_anomaly[:,0], X_anomaly[:,1], color='r')\n",
    "plt.show()"
   ]
  },
  {
   "cell_type": "code",
   "execution_count": null,
   "id": "6a041494",
   "metadata": {},
   "outputs": [],
   "source": []
  },
  {
   "cell_type": "code",
   "execution_count": null,
   "id": "3ebcf70b",
   "metadata": {},
   "outputs": [],
   "source": []
  },
  {
   "cell_type": "code",
   "execution_count": null,
   "id": "a5005381",
   "metadata": {},
   "outputs": [],
   "source": []
  }
 ],
 "metadata": {
  "kernelspec": {
   "display_name": "Python 3 (ipykernel)",
   "language": "python",
   "name": "python3"
  },
  "language_info": {
   "codemirror_mode": {
    "name": "ipython",
    "version": 3
   },
   "file_extension": ".py",
   "mimetype": "text/x-python",
   "name": "python",
   "nbconvert_exporter": "python",
   "pygments_lexer": "ipython3",
   "version": "3.8.12"
  }
 },
 "nbformat": 4,
 "nbformat_minor": 5
}
