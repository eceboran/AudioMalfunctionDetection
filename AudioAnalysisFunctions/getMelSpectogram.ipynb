{
 "cells": [
  {
   "cell_type": "code",
   "execution_count": 27,
   "id": "434170b2",
   "metadata": {},
   "outputs": [],
   "source": [
    "import os\n",
    "import librosa\n",
    "import pandas as pd\n",
    "import numpy as np\n",
    "from matplotlib import pyplot as plt\n",
    "import librosa.display"
   ]
  },
  {
   "cell_type": "code",
   "execution_count": 17,
   "id": "7c0059ca",
   "metadata": {},
   "outputs": [],
   "source": [
    "# get the parent directory\n",
    "parent_dir = os.path.abspath('..')\n",
    "test_dir = os.path.join(parent_dir, 'Testing')\n",
    "data_dir = os.path.join(parent_dir, 'Data')\n",
    "EDA_dir = os.path.join(parent_dir, 'EDA')\n",
    "audioAnalysis_dir = os.path.join(parent_dir, 'AudioAnalysisFunctions')"
   ]
  },
  {
   "cell_type": "code",
   "execution_count": 22,
   "id": "45191118",
   "metadata": {},
   "outputs": [],
   "source": [
    "def get_melspectogram(file_path, window, overlap=None, n_fft=None):\n",
    "    # Load the signal\n",
    "    signal, fs = librosa.load(file_path, sr=None)\n",
    "    \n",
    "    # Window length in samples\n",
    "    window_length = int(window*fs)\n",
    "    \n",
    "    # Default overlap is 50% of the window size\n",
    "    if overlap==None:\n",
    "        overlap = 0.5\n",
    "    \n",
    "    # Overlap in samples\n",
    "    overlap_length = int(window_length*overlap)\n",
    "    \n",
    "    # Hop length in samples\n",
    "    hop_length = window_length-overlap_length\n",
    "    \n",
    "    # Default n_fft is the smallest power of 2 larger than win_length\n",
    "    if n_fft==None:\n",
    "        n_fft = int(2**np.ceil(np.log2(window_length)))\n",
    "   \n",
    "    # Compute mel spectogram\n",
    "    mel_spect = librosa.feature.melspectrogram(y=signal, sr=fs, \n",
    "                                               win_length=window_length, \n",
    "                                               hop_length=overlap_length,\n",
    "                                               n_fft=n_fft)\n",
    "    # Mel spectogram in decibels\n",
    "    mel_spect_db = librosa.power_to_db(mel_spect, ref=np.max)\n",
    "\n",
    "    params = {}\n",
    "    params['window'] = window\n",
    "    params['window_length'] = window_length\n",
    "    params['overlap'] = overlap\n",
    "    params['overlap_length'] = overlap_length\n",
    "    params['n_fft'] = n_fft\n",
    "    \n",
    "    return mel_spect, mel_spect_db, params"
   ]
  },
  {
   "cell_type": "code",
   "execution_count": 19,
   "id": "92f2112f",
   "metadata": {},
   "outputs": [],
   "source": [
    "fan_test_set = pd.read_csv(os.path.join(test_dir, 'fan_subset.csv'))"
   ]
  },
  {
   "cell_type": "code",
   "execution_count": 20,
   "id": "44e75baf",
   "metadata": {},
   "outputs": [
    {
     "data": {
      "text/plain": [
       "'C:\\\\Users\\\\aubin\\\\beCode\\\\anomalyDetection\\\\AudioMalfunctionDetection\\\\Data\\\\fan\\\\id_00\\\\abnormal\\\\00000020.wav'"
      ]
     },
     "execution_count": 20,
     "metadata": {},
     "output_type": "execute_result"
    }
   ],
   "source": [
    "fan_test_set.iloc[0]['file_path']"
   ]
  },
  {
   "cell_type": "code",
   "execution_count": 49,
   "id": "dda2683e",
   "metadata": {},
   "outputs": [],
   "source": [
    "mel_spect, mel_spect_db, params = get_melspectogram(fan_test_set.iloc[0]['file_path'], window = 1)"
   ]
  },
  {
   "cell_type": "code",
   "execution_count": 55,
   "id": "b992d53b",
   "metadata": {},
   "outputs": [],
   "source": [
    "all_mel_spect = []\n",
    "all_mel_spect_db = []\n",
    "all_params = []\n",
    "\n",
    "for idx, row in fan_test_set.iterrows():\n",
    "    mel_spect, mel_spect_db, params = get_melspectogram(row['file_path'], window = 1)\n",
    "    all_mel_spect.append(mel_spect)\n",
    "    all_mel_spect_db.append(mel_spect_db)\n",
    "    all_params.append(params)"
   ]
  },
  {
   "cell_type": "code",
   "execution_count": 59,
   "id": "3f9d77fc",
   "metadata": {},
   "outputs": [],
   "source": [
    "fan_test_set['mel_spect'] = all_mel_spect\n",
    "fan_test_set['mel_spect_db'] = all_mel_spect_db\n",
    "fan_test_set['all_params'] = all_params"
   ]
  },
  {
   "cell_type": "code",
   "execution_count": 60,
   "id": "bb13dd78",
   "metadata": {},
   "outputs": [
    {
     "data": {
      "text/html": [
       "<div>\n",
       "<style scoped>\n",
       "    .dataframe tbody tr th:only-of-type {\n",
       "        vertical-align: middle;\n",
       "    }\n",
       "\n",
       "    .dataframe tbody tr th {\n",
       "        vertical-align: top;\n",
       "    }\n",
       "\n",
       "    .dataframe thead th {\n",
       "        text-align: right;\n",
       "    }\n",
       "</style>\n",
       "<table border=\"1\" class=\"dataframe\">\n",
       "  <thead>\n",
       "    <tr style=\"text-align: right;\">\n",
       "      <th></th>\n",
       "      <th>Unnamed: 0</th>\n",
       "      <th>anomaly</th>\n",
       "      <th>machine_type</th>\n",
       "      <th>model_type</th>\n",
       "      <th>length</th>\n",
       "      <th>filename</th>\n",
       "      <th>file_path</th>\n",
       "      <th>mel_spect</th>\n",
       "      <th>mel_spect_db</th>\n",
       "      <th>all_params</th>\n",
       "    </tr>\n",
       "  </thead>\n",
       "  <tbody>\n",
       "    <tr>\n",
       "      <th>0</th>\n",
       "      <td>20</td>\n",
       "      <td>1</td>\n",
       "      <td>fan</td>\n",
       "      <td>id_00</td>\n",
       "      <td>10.0</td>\n",
       "      <td>00000020.wav</td>\n",
       "      <td>C:\\Users\\aubin\\beCode\\anomalyDetection\\AudioMa...</td>\n",
       "      <td>[[5.618998, 3.2998428, 5.666052, 4.8847017, 5....</td>\n",
       "      <td>[[-14.090825, -16.402481, -14.054608, -14.6990...</td>\n",
       "      <td>{'window': 1, 'window_length': 16000, 'overlap...</td>\n",
       "    </tr>\n",
       "    <tr>\n",
       "      <th>1</th>\n",
       "      <td>194</td>\n",
       "      <td>1</td>\n",
       "      <td>fan</td>\n",
       "      <td>id_00</td>\n",
       "      <td>10.0</td>\n",
       "      <td>00000194.wav</td>\n",
       "      <td>C:\\Users\\aubin\\beCode\\anomalyDetection\\AudioMa...</td>\n",
       "      <td>[[4.580413, 2.4774358, 3.927845, 2.3824515, 2....</td>\n",
       "      <td>[[-6.4593463, -9.128368, -7.126849, -9.298152,...</td>\n",
       "      <td>{'window': 1, 'window_length': 16000, 'overlap...</td>\n",
       "    </tr>\n",
       "    <tr>\n",
       "      <th>2</th>\n",
       "      <td>55</td>\n",
       "      <td>1</td>\n",
       "      <td>fan</td>\n",
       "      <td>id_00</td>\n",
       "      <td>10.0</td>\n",
       "      <td>00000055.wav</td>\n",
       "      <td>C:\\Users\\aubin\\beCode\\anomalyDetection\\AudioMa...</td>\n",
       "      <td>[[4.183343, 4.457312, 4.135027, 4.5470915, 4.7...</td>\n",
       "      <td>[[-15.383171, -15.107676, -15.433622, -15.0210...</td>\n",
       "      <td>{'window': 1, 'window_length': 16000, 'overlap...</td>\n",
       "    </tr>\n",
       "    <tr>\n",
       "      <th>3</th>\n",
       "      <td>204</td>\n",
       "      <td>1</td>\n",
       "      <td>fan</td>\n",
       "      <td>id_00</td>\n",
       "      <td>10.0</td>\n",
       "      <td>00000204.wav</td>\n",
       "      <td>C:\\Users\\aubin\\beCode\\anomalyDetection\\AudioMa...</td>\n",
       "      <td>[[4.1052003, 4.671229, 4.3043075, 2.7643504, 4...</td>\n",
       "      <td>[[-8.204632, -7.643664, -7.998943, -9.922045, ...</td>\n",
       "      <td>{'window': 1, 'window_length': 16000, 'overlap...</td>\n",
       "    </tr>\n",
       "    <tr>\n",
       "      <th>4</th>\n",
       "      <td>173</td>\n",
       "      <td>1</td>\n",
       "      <td>fan</td>\n",
       "      <td>id_00</td>\n",
       "      <td>10.0</td>\n",
       "      <td>00000173.wav</td>\n",
       "      <td>C:\\Users\\aubin\\beCode\\anomalyDetection\\AudioMa...</td>\n",
       "      <td>[[2.533962, 2.141419, 2.2395484, 2.5685048, 2....</td>\n",
       "      <td>[[-10.122735, -10.85372, -10.659132, -10.06393...</td>\n",
       "      <td>{'window': 1, 'window_length': 16000, 'overlap...</td>\n",
       "    </tr>\n",
       "    <tr>\n",
       "      <th>...</th>\n",
       "      <td>...</td>\n",
       "      <td>...</td>\n",
       "      <td>...</td>\n",
       "      <td>...</td>\n",
       "      <td>...</td>\n",
       "      <td>...</td>\n",
       "      <td>...</td>\n",
       "      <td>...</td>\n",
       "      <td>...</td>\n",
       "      <td>...</td>\n",
       "    </tr>\n",
       "    <tr>\n",
       "      <th>1595</th>\n",
       "      <td>4712</td>\n",
       "      <td>0</td>\n",
       "      <td>fan</td>\n",
       "      <td>id_06</td>\n",
       "      <td>10.0</td>\n",
       "      <td>00000177.wav</td>\n",
       "      <td>C:\\Users\\aubin\\beCode\\anomalyDetection\\AudioMa...</td>\n",
       "      <td>[[0.11784176, 0.17334014, 0.27341798, 0.161433...</td>\n",
       "      <td>[[-24.063358, -22.387358, -20.408077, -22.6964...</td>\n",
       "      <td>{'window': 1, 'window_length': 16000, 'overlap...</td>\n",
       "    </tr>\n",
       "    <tr>\n",
       "      <th>1596</th>\n",
       "      <td>4810</td>\n",
       "      <td>0</td>\n",
       "      <td>fan</td>\n",
       "      <td>id_06</td>\n",
       "      <td>10.0</td>\n",
       "      <td>00000275.wav</td>\n",
       "      <td>C:\\Users\\aubin\\beCode\\anomalyDetection\\AudioMa...</td>\n",
       "      <td>[[0.09672496, 0.067297466, 0.043961555, 0.0370...</td>\n",
       "      <td>[[-24.887087, -26.462486, -28.31174, -29.05730...</td>\n",
       "      <td>{'window': 1, 'window_length': 16000, 'overlap...</td>\n",
       "    </tr>\n",
       "    <tr>\n",
       "      <th>1597</th>\n",
       "      <td>5100</td>\n",
       "      <td>0</td>\n",
       "      <td>fan</td>\n",
       "      <td>id_06</td>\n",
       "      <td>10.0</td>\n",
       "      <td>00000565.wav</td>\n",
       "      <td>C:\\Users\\aubin\\beCode\\anomalyDetection\\AudioMa...</td>\n",
       "      <td>[[1.2709379, 1.165696, 0.40480444, 0.26515284,...</td>\n",
       "      <td>[[-13.81316, -14.18855, -18.781952, -20.61944,...</td>\n",
       "      <td>{'window': 1, 'window_length': 16000, 'overlap...</td>\n",
       "    </tr>\n",
       "    <tr>\n",
       "      <th>1598</th>\n",
       "      <td>4548</td>\n",
       "      <td>0</td>\n",
       "      <td>fan</td>\n",
       "      <td>id_06</td>\n",
       "      <td>10.0</td>\n",
       "      <td>00000013.wav</td>\n",
       "      <td>C:\\Users\\aubin\\beCode\\anomalyDetection\\AudioMa...</td>\n",
       "      <td>[[0.23120412, 0.15911241, 0.24410091, 0.200400...</td>\n",
       "      <td>[[-22.021666, -23.64458, -21.785927, -22.64262...</td>\n",
       "      <td>{'window': 1, 'window_length': 16000, 'overlap...</td>\n",
       "    </tr>\n",
       "    <tr>\n",
       "      <th>1599</th>\n",
       "      <td>4783</td>\n",
       "      <td>0</td>\n",
       "      <td>fan</td>\n",
       "      <td>id_06</td>\n",
       "      <td>10.0</td>\n",
       "      <td>00000248.wav</td>\n",
       "      <td>C:\\Users\\aubin\\beCode\\anomalyDetection\\AudioMa...</td>\n",
       "      <td>[[1.0238054, 0.95445174, 0.44169697, 0.9558111...</td>\n",
       "      <td>[[-14.98827, -15.292904, -18.639198, -15.28672...</td>\n",
       "      <td>{'window': 1, 'window_length': 16000, 'overlap...</td>\n",
       "    </tr>\n",
       "  </tbody>\n",
       "</table>\n",
       "<p>1600 rows × 10 columns</p>\n",
       "</div>"
      ],
      "text/plain": [
       "      Unnamed: 0  anomaly machine_type model_type  length      filename  \\\n",
       "0             20        1          fan      id_00    10.0  00000020.wav   \n",
       "1            194        1          fan      id_00    10.0  00000194.wav   \n",
       "2             55        1          fan      id_00    10.0  00000055.wav   \n",
       "3            204        1          fan      id_00    10.0  00000204.wav   \n",
       "4            173        1          fan      id_00    10.0  00000173.wav   \n",
       "...          ...      ...          ...        ...     ...           ...   \n",
       "1595        4712        0          fan      id_06    10.0  00000177.wav   \n",
       "1596        4810        0          fan      id_06    10.0  00000275.wav   \n",
       "1597        5100        0          fan      id_06    10.0  00000565.wav   \n",
       "1598        4548        0          fan      id_06    10.0  00000013.wav   \n",
       "1599        4783        0          fan      id_06    10.0  00000248.wav   \n",
       "\n",
       "                                              file_path  \\\n",
       "0     C:\\Users\\aubin\\beCode\\anomalyDetection\\AudioMa...   \n",
       "1     C:\\Users\\aubin\\beCode\\anomalyDetection\\AudioMa...   \n",
       "2     C:\\Users\\aubin\\beCode\\anomalyDetection\\AudioMa...   \n",
       "3     C:\\Users\\aubin\\beCode\\anomalyDetection\\AudioMa...   \n",
       "4     C:\\Users\\aubin\\beCode\\anomalyDetection\\AudioMa...   \n",
       "...                                                 ...   \n",
       "1595  C:\\Users\\aubin\\beCode\\anomalyDetection\\AudioMa...   \n",
       "1596  C:\\Users\\aubin\\beCode\\anomalyDetection\\AudioMa...   \n",
       "1597  C:\\Users\\aubin\\beCode\\anomalyDetection\\AudioMa...   \n",
       "1598  C:\\Users\\aubin\\beCode\\anomalyDetection\\AudioMa...   \n",
       "1599  C:\\Users\\aubin\\beCode\\anomalyDetection\\AudioMa...   \n",
       "\n",
       "                                              mel_spect  \\\n",
       "0     [[5.618998, 3.2998428, 5.666052, 4.8847017, 5....   \n",
       "1     [[4.580413, 2.4774358, 3.927845, 2.3824515, 2....   \n",
       "2     [[4.183343, 4.457312, 4.135027, 4.5470915, 4.7...   \n",
       "3     [[4.1052003, 4.671229, 4.3043075, 2.7643504, 4...   \n",
       "4     [[2.533962, 2.141419, 2.2395484, 2.5685048, 2....   \n",
       "...                                                 ...   \n",
       "1595  [[0.11784176, 0.17334014, 0.27341798, 0.161433...   \n",
       "1596  [[0.09672496, 0.067297466, 0.043961555, 0.0370...   \n",
       "1597  [[1.2709379, 1.165696, 0.40480444, 0.26515284,...   \n",
       "1598  [[0.23120412, 0.15911241, 0.24410091, 0.200400...   \n",
       "1599  [[1.0238054, 0.95445174, 0.44169697, 0.9558111...   \n",
       "\n",
       "                                           mel_spect_db  \\\n",
       "0     [[-14.090825, -16.402481, -14.054608, -14.6990...   \n",
       "1     [[-6.4593463, -9.128368, -7.126849, -9.298152,...   \n",
       "2     [[-15.383171, -15.107676, -15.433622, -15.0210...   \n",
       "3     [[-8.204632, -7.643664, -7.998943, -9.922045, ...   \n",
       "4     [[-10.122735, -10.85372, -10.659132, -10.06393...   \n",
       "...                                                 ...   \n",
       "1595  [[-24.063358, -22.387358, -20.408077, -22.6964...   \n",
       "1596  [[-24.887087, -26.462486, -28.31174, -29.05730...   \n",
       "1597  [[-13.81316, -14.18855, -18.781952, -20.61944,...   \n",
       "1598  [[-22.021666, -23.64458, -21.785927, -22.64262...   \n",
       "1599  [[-14.98827, -15.292904, -18.639198, -15.28672...   \n",
       "\n",
       "                                             all_params  \n",
       "0     {'window': 1, 'window_length': 16000, 'overlap...  \n",
       "1     {'window': 1, 'window_length': 16000, 'overlap...  \n",
       "2     {'window': 1, 'window_length': 16000, 'overlap...  \n",
       "3     {'window': 1, 'window_length': 16000, 'overlap...  \n",
       "4     {'window': 1, 'window_length': 16000, 'overlap...  \n",
       "...                                                 ...  \n",
       "1595  {'window': 1, 'window_length': 16000, 'overlap...  \n",
       "1596  {'window': 1, 'window_length': 16000, 'overlap...  \n",
       "1597  {'window': 1, 'window_length': 16000, 'overlap...  \n",
       "1598  {'window': 1, 'window_length': 16000, 'overlap...  \n",
       "1599  {'window': 1, 'window_length': 16000, 'overlap...  \n",
       "\n",
       "[1600 rows x 10 columns]"
      ]
     },
     "execution_count": 60,
     "metadata": {},
     "output_type": "execute_result"
    }
   ],
   "source": [
    "fan_test_set"
   ]
  },
  {
   "cell_type": "code",
   "execution_count": 68,
   "id": "617984de",
   "metadata": {},
   "outputs": [],
   "source": [
    "total_size = fan_test_set.iloc[0]['mel_spect_db'].shape[0] * fan_test_set.iloc[0]['mel_spect_db'].shape[1]"
   ]
  },
  {
   "cell_type": "code",
   "execution_count": 101,
   "id": "f533616f",
   "metadata": {},
   "outputs": [],
   "source": [
    "X = []\n",
    "\n",
    "for idx, row in fan_test_set.iterrows():\n",
    "    #X.append(row['mel_spect_db'].reshape(1, total_size))\n",
    "    X.append(np.array(row['mel_spect_db']).flatten())"
   ]
  },
  {
   "cell_type": "code",
   "execution_count": 125,
   "id": "becfcd5d",
   "metadata": {},
   "outputs": [
    {
     "data": {
      "text/plain": [
       "320"
      ]
     },
     "execution_count": 125,
     "metadata": {},
     "output_type": "execute_result"
    }
   ],
   "source": [
    "len(y_train)"
   ]
  },
  {
   "cell_type": "code",
   "execution_count": 115,
   "id": "f6c602f0",
   "metadata": {},
   "outputs": [],
   "source": [
    "y = fan_test_set['anomaly']"
   ]
  },
  {
   "cell_type": "code",
   "execution_count": 126,
   "id": "591d1de5",
   "metadata": {},
   "outputs": [],
   "source": [
    "from sklearn.model_selection import train_test_split\n",
    "\n",
    "X_train, X_test, y_train, y_test = train_test_split(X, y, test_size = 0.2, random_state = 2)"
   ]
  },
  {
   "cell_type": "code",
   "execution_count": 127,
   "id": "c0baa8c7",
   "metadata": {},
   "outputs": [],
   "source": [
    "from sklearn.svm import OneClassSVM\n",
    "from sklearn.datasets import make_blobs\n",
    "from numpy import quantile, where, random\n",
    "import matplotlib.pyplot as plt"
   ]
  },
  {
   "cell_type": "code",
   "execution_count": 129,
   "id": "4b54daf3",
   "metadata": {},
   "outputs": [
    {
     "name": "stdout",
     "output_type": "stream",
     "text": [
      "[1 0 1 0 0 0 0 1 0 0 1 0 0 1 1 0 0 1 1 0 0 1 0 1 1 0 0 0 0 1 0 1 0 0 0 0 1\n",
      " 0 0 0 1 0 1 1 0 0 0 0 0 1 0 0 0 0 0 1 1 0 1 0 0 0 1 0 0 1 0 0 0 1 0 0 1 0\n",
      " 0 0 0 0 0 1 1 0 1 0 0 0 0 0 0 0 0 0 0 0 1 0 1 0 0 0 0 0 0 0 0 0 0 0 0 0 1\n",
      " 0 0 0 0 0 1 0 1 1 0 0 0 1 0 1 0 0 1 0 0 0 0 0 0 1 0 0 1 0 0 1 0 0 0 0 0 0\n",
      " 1 1 0 1 0 0 0 0 0 0 0 0 0 0 1 1 0 0 1 0 0 0 0 0 1 0 0 0 1 1 0 0 0 1 0 0 1\n",
      " 0 0 0 1 0 1 1 0 0 0 0 0 0 0 0 0 0 0 0 0 0 0 0 0 0 0 1 0 1 0 0 1 0 1 0 0 1\n",
      " 1 0 0 0 1 0 0 1 0 0 0 0 0 0 1 0 0 0 0 0 0 1 0 0 0 0 1 1 0 0 1 1 0 0 0 0 0\n",
      " 0 1 0 1 0 0 1 0 0 1 0 1 0 0 1 0 0 0 0 1 0 0 1 0 0 1 0 0 1 0 1 0 1 0 1 0 1\n",
      " 1 0 1 1 0 0 0 0 0 0 0 0 1 0 0 0 1 0 0 0 0 0 0 0]\n"
     ]
    }
   ],
   "source": [
    "from sklearn.neighbors import KNeighborsClassifier\n",
    "\n",
    "model = KNeighborsClassifier(n_neighbors=3)\n",
    "model.fit(X_train,y_train)\n",
    "\n",
    "predicted= model.predict(X_test) \n"
   ]
  },
  {
   "cell_type": "code",
   "execution_count": 130,
   "id": "847f21c1",
   "metadata": {},
   "outputs": [
    {
     "name": "stdout",
     "output_type": "stream",
     "text": [
      "Accuracy: 0.975\n"
     ]
    }
   ],
   "source": [
    "from sklearn import metrics\n",
    "# Model Accuracy, how often is the classifier correct?\n",
    "print(\"Accuracy:\",metrics.accuracy_score(y_test, predicted))"
   ]
  },
  {
   "cell_type": "code",
   "execution_count": 133,
   "id": "3df3a2ae",
   "metadata": {},
   "outputs": [],
   "source": [
    "svm = OneClassSVM(kernel='rbf', gamma=0.001, nu=0.01)\n",
    "\n",
    "svm.fit(X_train)\n",
    "pred = svm.predict(X_train)"
   ]
  },
  {
   "cell_type": "code",
   "execution_count": 139,
   "id": "4ebed65d",
   "metadata": {},
   "outputs": [
    {
     "name": "stdout",
     "output_type": "stream",
     "text": [
      "Counter({-1: 799, 1: 481})\n"
     ]
    }
   ],
   "source": [
    "from collections import Counter\n",
    "print(Counter(pred))"
   ]
  },
  {
   "cell_type": "code",
   "execution_count": null,
   "id": "814d45d6",
   "metadata": {},
   "outputs": [],
   "source": []
  },
  {
   "cell_type": "code",
   "execution_count": null,
   "id": "a9965856",
   "metadata": {},
   "outputs": [],
   "source": []
  },
  {
   "cell_type": "code",
   "execution_count": null,
   "id": "30a55c4e",
   "metadata": {},
   "outputs": [],
   "source": [
    "X_anomaly = X_train[anom_index]\n",
    "\n",
    "plt.scatter(X_train[:,0], X_train[:,1])\n",
    "plt.scatter(X_anomaly[:,0], X_anomaly[:,1], color='r')\n",
    "plt.show()"
   ]
  }
 ],
 "metadata": {
  "kernelspec": {
   "display_name": "Python 3 (ipykernel)",
   "language": "python",
   "name": "python3"
  },
  "language_info": {
   "codemirror_mode": {
    "name": "ipython",
    "version": 3
   },
   "file_extension": ".py",
   "mimetype": "text/x-python",
   "name": "python",
   "nbconvert_exporter": "python",
   "pygments_lexer": "ipython3",
   "version": "3.8.12"
  }
 },
 "nbformat": 4,
 "nbformat_minor": 5
}
