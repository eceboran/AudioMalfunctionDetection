{
 "cells": [
  {
   "cell_type": "code",
   "execution_count": 14,
   "id": "f41f6fb4",
   "metadata": {},
   "outputs": [],
   "source": [
    "# Import necessary libraries\n",
    "import os\n",
    "import numpy as np\n",
    "import librosa\n",
    "import librosa.display\n",
    "import matplotlib.pyplot as plt"
   ]
  },
  {
   "cell_type": "code",
   "execution_count": 2,
   "id": "fc824fb9",
   "metadata": {},
   "outputs": [],
   "source": [
    "# from urllib.request import urlopen\n",
    "# import librosa\n",
    "\n",
    "# with urlopen(song_url) as response:\n",
    "#     y, sr = librosa.load(response)"
   ]
  },
  {
   "cell_type": "code",
   "execution_count": 3,
   "id": "5d0c4e12",
   "metadata": {},
   "outputs": [],
   "source": [
    "# import zipfile\n",
    "\n",
    "# z = zipfile.ZipFile(\"zipfile.zip\", \"r\")\n",
    "\n",
    "# for filename in z.namelist():\n",
    "#    print 'File:', filename,\n",
    "#    bytes = z.read(filename)\n",
    "# print 'has', len(bytes), 'bytes'"
   ]
  },
  {
   "cell_type": "code",
   "execution_count": 4,
   "id": "b7c662ec",
   "metadata": {
    "scrolled": true
   },
   "outputs": [],
   "source": [
    "# File path\n",
    "file_dir = '.\\\\data\\\\source\\\\6_dB_slider\\\\slider\\\\id_00\\\\normal\\\\'\n",
    "file_name = '00000000.wav'\n",
    "file_path = os.path.join(file_dir, file_name)\n",
    "# print(os.listdir(file_dir))"
   ]
  },
  {
   "cell_type": "code",
   "execution_count": 5,
   "id": "b5253e2e",
   "metadata": {},
   "outputs": [
    {
     "name": "stdout",
     "output_type": "stream",
     "text": [
      "Help on function load in module librosa.core.audio:\n",
      "\n",
      "load(path, sr=22050, mono=True, offset=0.0, duration=None, dtype=<class 'numpy.float32'>, res_type='kaiser_best')\n",
      "    Load an audio file as a floating point time series.\n",
      "    \n",
      "    Audio will be automatically resampled to the given rate\n",
      "    (default ``sr=22050``).\n",
      "    \n",
      "    To preserve the native sampling rate of the file, use ``sr=None``.\n",
      "    \n",
      "    Parameters\n",
      "    ----------\n",
      "    path : string, int, pathlib.Path or file-like object\n",
      "        path to the input file.\n",
      "    \n",
      "        Any codec supported by `soundfile` or `audioread` will work.\n",
      "    \n",
      "        Any string file paths, or any object implementing Python's\n",
      "        file interface (e.g. `pathlib.Path`) are supported as `path`.\n",
      "    \n",
      "        If the codec is supported by `soundfile`, then `path` can also be\n",
      "        an open file descriptor (int).\n",
      "    \n",
      "        On the contrary, if the codec is not supported by `soundfile`\n",
      "        (for example, MP3), then `path` must be a file path (string or `pathlib.Path`).\n",
      "    \n",
      "    sr   : number > 0 [scalar]\n",
      "        target sampling rate\n",
      "    \n",
      "        'None' uses the native sampling rate\n",
      "    \n",
      "    mono : bool\n",
      "        convert signal to mono\n",
      "    \n",
      "    offset : float\n",
      "        start reading after this time (in seconds)\n",
      "    \n",
      "    duration : float\n",
      "        only load up to this much audio (in seconds)\n",
      "    \n",
      "    dtype : numeric type\n",
      "        data type of ``y``\n",
      "    \n",
      "    res_type : str\n",
      "        resample type (see note)\n",
      "    \n",
      "        .. note::\n",
      "            By default, this uses `resampy`'s high-quality mode ('kaiser_best').\n",
      "    \n",
      "            For alternative resampling modes, see `resample`\n",
      "    \n",
      "        .. note::\n",
      "           `audioread` may truncate the precision of the audio data to 16 bits.\n",
      "    \n",
      "           See :ref:`ioformats` for alternate loading methods.\n",
      "    \n",
      "    \n",
      "    Returns\n",
      "    -------\n",
      "    y    : np.ndarray [shape=(n,) or (2, n)]\n",
      "        audio time series\n",
      "    \n",
      "    sr   : number > 0 [scalar]\n",
      "        sampling rate of ``y``\n",
      "    \n",
      "    \n",
      "    Examples\n",
      "    --------\n",
      "    >>> # Load an ogg vorbis file\n",
      "    >>> filename = librosa.ex('trumpet')\n",
      "    >>> y, sr = librosa.load(filename)\n",
      "    >>> y\n",
      "    array([-1.407e-03, -4.461e-04, ..., -3.042e-05,  1.277e-05],\n",
      "          dtype=float32)\n",
      "    >>> sr\n",
      "    22050\n",
      "    \n",
      "    >>> # Load a file and resample to 11 KHz\n",
      "    >>> filename = librosa.ex('trumpet')\n",
      "    >>> y, sr = librosa.load(filename, sr=11025)\n",
      "    >>> y\n",
      "    array([-8.746e-04, -3.363e-04, ..., -1.301e-05,  0.000e+00],\n",
      "          dtype=float32)\n",
      "    >>> sr\n",
      "    11025\n",
      "    \n",
      "    >>> # Load 5 seconds of a file, starting 15 seconds in\n",
      "    >>> filename = librosa.ex('brahms')\n",
      "    >>> y, sr = librosa.load(filename, offset=15.0, duration=5.0)\n",
      "    >>> y\n",
      "    array([0.146, 0.144, ..., 0.128, 0.015], dtype=float32)\n",
      "    >>> sr\n",
      "    22050\n",
      "\n"
     ]
    }
   ],
   "source": [
    "help(librosa.load)"
   ]
  },
  {
   "cell_type": "code",
   "execution_count": 6,
   "id": "b91c7294",
   "metadata": {},
   "outputs": [],
   "source": [
    "# Load the audio file \n",
    "signal, fs = librosa.load(file_path, sr=None)"
   ]
  },
  {
   "cell_type": "code",
   "execution_count": 11,
   "id": "f1d9970a",
   "metadata": {},
   "outputs": [
    {
     "data": {
      "text/plain": [
       "Text(0, 0.5, 'Amplitude')"
      ]
     },
     "execution_count": 11,
     "metadata": {},
     "output_type": "execute_result"
    },
    {
     "data": {
      "image/png": "[encoded data removed]",
      "text/plain": [
       "<Figure size 432x288 with 1 Axes>"
      ]
     },
     "metadata": {
      "needs_background": "light"
     },
     "output_type": "display_data"
    }
   ],
   "source": [
    "# Plot the signal\n",
    "librosa.display.waveplot(signal, sr=fs)\n",
    "plt.title(f\"Audio file {file_path} with fs={fs}\")\n",
    "plt.xlabel(\"Time (s)\")\n",
    "plt.ylabel(\"Amplitude\")\n",
    "plt.show()"
   ]
  },
  {
   "cell_type": "code",
   "execution_count": 15,
   "id": "a3b749b9",
   "metadata": {},
   "outputs": [],
   "source": [
    "#Compute the FFT\n",
    "sig_fft = np.fft.fft(signal)"
   ]
  },
  {
   "cell_type": "code",
   "execution_count": 17,
   "id": "3a766958",
   "metadata": {},
   "outputs": [
    {
     "data": {
      "image/png": "[encoded data removed]",
      "text/plain": [
       "<Figure size 432x288 with 1 Axes>"
      ]
     },
     "metadata": {
      "needs_background": "light"
     },
     "output_type": "display_data"
    }
   ],
   "source": [
    "# Plot the FFT\n",
    "frequency = np.linspace(0, fs, len(sig_fft))\n",
    "plt.plot(frequency, abs(sig_fft))\n",
    "plt.title(\"FFT of the signal\")\n",
    "plt.xlabel(\"Frequency (Hz)\")\n",
    "plt.ylabel(\"abs(Fs)\")\n",
    "plt.show()"
   ]
  },
  {
   "cell_type": "code",
   "execution_count": 25,
   "id": "a9056c01",
   "metadata": {},
   "outputs": [
    {
     "name": "stdout",
     "output_type": "stream",
     "text": [
      "Help on function stft in module librosa.core.spectrum:\n",
      "\n",
      "stft(y, n_fft=2048, hop_length=None, win_length=None, window='hann', center=True, dtype=None, pad_mode='reflect')\n",
      "    Short-time Fourier transform (STFT).\n",
      "    \n",
      "    The STFT represents a signal in the time-frequency domain by\n",
      "    computing discrete Fourier transforms (DFT) over short overlapping\n",
      "    windows.\n",
      "    \n",
      "    This function returns a complex-valued matrix D such that\n",
      "    \n",
      "    - ``np.abs(D[f, t])`` is the magnitude of frequency bin ``f``\n",
      "      at frame ``t``, and\n",
      "    \n",
      "    - ``np.angle(D[f, t])`` is the phase of frequency bin ``f``\n",
      "      at frame ``t``.\n",
      "    \n",
      "    The integers ``t`` and ``f`` can be converted to physical units by means\n",
      "    of the utility functions `frames_to_sample` and `fft_frequencies`.\n",
      "    \n",
      "    \n",
      "    Parameters\n",
      "    ----------\n",
      "    y : np.ndarray [shape=(n,)], real-valued\n",
      "        input signal\n",
      "    \n",
      "    n_fft : int > 0 [scalar]\n",
      "        length of the windowed signal after padding with zeros.\n",
      "        The number of rows in the STFT matrix ``D`` is ``(1 + n_fft/2)``.\n",
      "        The default value, ``n_fft=2048`` samples, corresponds to a physical\n",
      "        duration of 93 milliseconds at a sample rate of 22050 Hz, i.e. the\n",
      "        default sample rate in librosa. This value is well adapted for music\n",
      "        signals. However, in speech processing, the recommended value is 512,\n",
      "        corresponding to 23 milliseconds at a sample rate of 22050 Hz.\n",
      "        In any case, we recommend setting ``n_fft`` to a power of two for\n",
      "        optimizing the speed of the fast Fourier transform (FFT) algorithm.\n",
      "    \n",
      "    hop_length : int > 0 [scalar]\n",
      "        number of audio samples between adjacent STFT columns.\n",
      "    \n",
      "        Smaller values increase the number of columns in ``D`` without\n",
      "        affecting the frequency resolution of the STFT.\n",
      "    \n",
      "        If unspecified, defaults to ``win_length // 4`` (see below).\n",
      "    \n",
      "    win_length : int <= n_fft [scalar]\n",
      "        Each frame of audio is windowed by ``window`` of length ``win_length``\n",
      "        and then padded with zeros to match ``n_fft``.\n",
      "    \n",
      "        Smaller values improve the temporal resolution of the STFT (i.e. the\n",
      "        ability to discriminate impulses that are closely spaced in time)\n",
      "        at the expense of frequency resolution (i.e. the ability to discriminate\n",
      "        pure tones that are closely spaced in frequency). This effect is known\n",
      "        as the time-frequency localization trade-off and needs to be adjusted\n",
      "        according to the properties of the input signal ``y``.\n",
      "    \n",
      "        If unspecified, defaults to ``win_length = n_fft``.\n",
      "    \n",
      "    window : string, tuple, number, function, or np.ndarray [shape=(n_fft,)]\n",
      "        Either:\n",
      "    \n",
      "        - a window specification (string, tuple, or number);\n",
      "          see `scipy.signal.get_window`\n",
      "        - a window function, such as `scipy.signal.windows.hann`\n",
      "        - a vector or array of length ``n_fft``\n",
      "    \n",
      "        Defaults to a raised cosine window (`'hann'`), which is adequate for\n",
      "        most applications in audio signal processing.\n",
      "    \n",
      "        .. see also:: `filters.get_window`\n",
      "    \n",
      "    center : boolean\n",
      "        If ``True``, the signal ``y`` is padded so that frame\n",
      "        ``D[:, t]`` is centered at ``y[t * hop_length]``.\n",
      "    \n",
      "        If ``False``, then ``D[:, t]`` begins at ``y[t * hop_length]``.\n",
      "    \n",
      "        Defaults to ``True``,  which simplifies the alignment of ``D`` onto a\n",
      "        time grid by means of `librosa.frames_to_samples`.\n",
      "        Note, however, that ``center`` must be set to `False` when analyzing\n",
      "        signals with `librosa.stream`.\n",
      "    \n",
      "        .. see also:: `librosa.stream`\n",
      "    \n",
      "    dtype : np.dtype, optional\n",
      "        Complex numeric type for ``D``.  Default is inferred to match the\n",
      "        precision of the input signal.\n",
      "    \n",
      "    pad_mode : string or function\n",
      "        If ``center=True``, this argument is passed to `np.pad` for padding\n",
      "        the edges of the signal ``y``. By default (``pad_mode=\"reflect\"``),\n",
      "        ``y`` is padded on both sides with its own reflection, mirrored around\n",
      "        its first and last sample respectively.\n",
      "        If ``center=False``,  this argument is ignored.\n",
      "    \n",
      "        .. see also:: `numpy.pad`\n",
      "    \n",
      "    \n",
      "    Returns\n",
      "    -------\n",
      "    D : np.ndarray [shape=(1 + n_fft/2, n_frames), dtype=dtype]\n",
      "        Complex-valued matrix of short-term Fourier transform\n",
      "        coefficients.\n",
      "    \n",
      "    \n",
      "    See Also\n",
      "    --------\n",
      "    istft : Inverse STFT\n",
      "    \n",
      "    reassigned_spectrogram : Time-frequency reassigned spectrogram\n",
      "    \n",
      "    \n",
      "    Notes\n",
      "    -----\n",
      "    This function caches at level 20.\n",
      "    \n",
      "    \n",
      "    Examples\n",
      "    --------\n",
      "    \n",
      "    >>> y, sr = librosa.load(librosa.ex('trumpet'))\n",
      "    >>> S = np.abs(librosa.stft(y))\n",
      "    >>> S\n",
      "    array([[5.395e-03, 3.332e-03, ..., 9.862e-07, 1.201e-05],\n",
      "           [3.244e-03, 2.690e-03, ..., 9.536e-07, 1.201e-05],\n",
      "           ...,\n",
      "           [7.523e-05, 3.722e-05, ..., 1.188e-04, 1.031e-03],\n",
      "           [7.640e-05, 3.944e-05, ..., 5.180e-04, 1.346e-03]],\n",
      "          dtype=float32)\n",
      "    \n",
      "    Use left-aligned frames, instead of centered frames\n",
      "    \n",
      "    >>> S_left = librosa.stft(y, center=False)\n",
      "    \n",
      "    \n",
      "    Use a shorter hop length\n",
      "    \n",
      "    >>> D_short = librosa.stft(y, hop_length=64)\n",
      "    \n",
      "    \n",
      "    Display a spectrogram\n",
      "    \n",
      "    >>> import matplotlib.pyplot as plt\n",
      "    >>> fig, ax = plt.subplots()\n",
      "    >>> img = librosa.display.specshow(librosa.amplitude_to_db(S,\n",
      "    ...                                                        ref=np.max),\n",
      "    ...                                y_axis='log', x_axis='time', ax=ax)\n",
      "    >>> ax.set_title('Power spectrogram')\n",
      "    >>> fig.colorbar(img, ax=ax, format=\"%+2.0f dB\")\n",
      "\n"
     ]
    }
   ],
   "source": [
    "help(librosa.core.stft)"
   ]
  },
  {
   "cell_type": "code",
   "execution_count": 33,
   "id": "de6823ea",
   "metadata": {},
   "outputs": [
    {
     "data": {
      "image/png": "[encoded data removed]",
      "text/plain": [
       "<Figure size 432x288 with 1 Axes>"
      ]
     },
     "metadata": {},
     "output_type": "display_data"
    }
   ],
   "source": [
    "n_fft = 1*fs \n",
    "win_length = n_fft \n",
    "stft = librosa.core.stft(signal, win_length=win_length , n_fft=n_fft)   \n",
    "signal_spect = abs(stft)\n",
    "\n",
    "librosa.display.specshow(10*np.log10(signal_spect), sr=fs, hop_length=hop_length)\n",
    "plt.title(\"Spectogram of the signal\")\n",
    "plt.xlabel(\"Time (s)\")\n",
    "plt.ylabel(\"Frequency (Hz)\")\n",
    "plt.show()"
   ]
  },
  {
   "cell_type": "code",
   "execution_count": null,
   "id": "9a597729",
   "metadata": {},
   "outputs": [],
   "source": [
    "mel_spect = librosa.feature.melspectrogram(y=signal, sr=fs, n_fft=2048, hop_length=1024)\n",
    "mel_spect = librosa.power_to_db(spect, ref=np.max)\n",
    "librosa.display.specshow(mel_spect, y_axis='mel', fmax=8000, x_axis='time');\n",
    "plt.title('Mel Spectrogram');\n",
    "plt.colorbar(format='%+2.0f dB');"
   ]
  },
  {
   "cell_type": "code",
   "execution_count": null,
   "id": "de237220",
   "metadata": {},
   "outputs": [],
   "source": []
  },
  {
   "cell_type": "code",
   "execution_count": 36,
   "id": "47e22642",
   "metadata": {},
   "outputs": [
    {
     "name": "stdout",
     "output_type": "stream",
     "text": [
      "Help on function mfcc in module librosa.feature.spectral:\n",
      "\n",
      "mfcc(y=None, sr=22050, S=None, n_mfcc=20, dct_type=2, norm='ortho', lifter=0, **kwargs)\n",
      "    Mel-frequency cepstral coefficients (MFCCs)\n",
      "    \n",
      "    Parameters\n",
      "    ----------\n",
      "    y : np.ndarray [shape=(n,)] or None\n",
      "        audio time series\n",
      "    \n",
      "    sr : number > 0 [scalar]\n",
      "        sampling rate of ``y``\n",
      "    \n",
      "    S : np.ndarray [shape=(d, t)] or None\n",
      "        log-power Mel spectrogram\n",
      "    \n",
      "    n_mfcc: int > 0 [scalar]\n",
      "        number of MFCCs to return\n",
      "    \n",
      "    dct_type : {1, 2, 3}\n",
      "        Discrete cosine transform (DCT) type.\n",
      "        By default, DCT type-2 is used.\n",
      "    \n",
      "    norm : None or 'ortho'\n",
      "        If ``dct_type`` is `2 or 3`, setting ``norm='ortho'`` uses an ortho-normal\n",
      "        DCT basis.\n",
      "    \n",
      "        Normalization is not supported for ``dct_type=1``.\n",
      "    \n",
      "    lifter : number >= 0\n",
      "        If ``lifter>0``, apply *liftering* (cepstral filtering) to the MFCCs::\n",
      "    \n",
      "            M[n, :] <- M[n, :] * (1 + sin(pi * (n + 1) / lifter) * lifter / 2)\n",
      "    \n",
      "        Setting ``lifter >= 2 * n_mfcc`` emphasizes the higher-order coefficients.\n",
      "        As ``lifter`` increases, the coefficient weighting becomes approximately linear.\n",
      "    \n",
      "    kwargs : additional keyword arguments\n",
      "        Arguments to `melspectrogram`, if operating\n",
      "        on time series input\n",
      "    \n",
      "    Returns\n",
      "    -------\n",
      "    M : np.ndarray [shape=(n_mfcc, t)]\n",
      "        MFCC sequence\n",
      "    \n",
      "    See Also\n",
      "    --------\n",
      "    melspectrogram\n",
      "    scipy.fftpack.dct\n",
      "    \n",
      "    Examples\n",
      "    --------\n",
      "    Generate mfccs from a time series\n",
      "    \n",
      "    >>> y, sr = librosa.load(librosa.ex('trumpet'))\n",
      "    >>> librosa.feature.mfcc(y=y, sr=sr)\n",
      "    array([[-249.124, -236.652, ..., -619.714, -619.714],\n",
      "           [  73.787,   51.215, ...,    0.   ,    0.   ],\n",
      "           ...,\n",
      "           [ -10.144,   -9.091, ...,    0.   ,    0.   ],\n",
      "           [ -13.994,  -21.184, ...,    0.   ,    0.   ]],\n",
      "          dtype=float32)\n",
      "    \n",
      "    Using a different hop length and HTK-style Mel frequencies\n",
      "    \n",
      "    >>> librosa.feature.mfcc(y=y, sr=sr, hop_length=1024, htk=True)\n",
      "    array([[-274.064, -296.403, ..., -643.958, -643.958],\n",
      "           [  63.888,    0.907, ...,    0.   ,    0.   ],\n",
      "           ...,\n",
      "           [  13.069,   36.896, ...,    0.   ,    0.   ],\n",
      "           [  -2.986,  -13.714, ...,    0.   ,    0.   ]],\n",
      "          dtype=float32)\n",
      "    \n",
      "    Use a pre-computed log-power Mel spectrogram\n",
      "    \n",
      "    >>> S = librosa.feature.melspectrogram(y=y, sr=sr, n_mels=128,\n",
      "    ...                                    fmax=8000)\n",
      "    >>> librosa.feature.mfcc(S=librosa.power_to_db(S))\n",
      "    array([[-222.66 , -209.08 , ..., -627.181, -627.181],\n",
      "           [  32.214,    2.315, ...,    0.   ,    0.   ],\n",
      "           ...,\n",
      "           [   0.872,   -4.195, ...,    0.   ,    0.   ],\n",
      "           [  29.123,   33.193, ...,    0.   ,    0.   ]],\n",
      "          dtype=float32)\n",
      "    \n",
      "    Get more components\n",
      "    \n",
      "    >>> mfccs = librosa.feature.mfcc(y=y, sr=sr, n_mfcc=40)\n",
      "    \n",
      "    Visualize the MFCC series\n",
      "    \n",
      "    >>> import matplotlib.pyplot as plt\n",
      "    >>> fig, ax = plt.subplots()\n",
      "    >>> img = librosa.display.specshow(mfccs, x_axis='time', ax=ax)\n",
      "    >>> fig.colorbar(img, ax=ax)\n",
      "    >>> ax.set(title='MFCC')\n",
      "    \n",
      "    Compare different DCT bases\n",
      "    \n",
      "    >>> m_slaney = librosa.feature.mfcc(y=y, sr=sr, dct_type=2)\n",
      "    >>> m_htk = librosa.feature.mfcc(y=y, sr=sr, dct_type=3)\n",
      "    >>> fig, ax = plt.subplots(nrows=2, sharex=True, sharey=True)\n",
      "    >>> img1 = librosa.display.specshow(m_slaney, x_axis='time', ax=ax[0])\n",
      "    >>> ax[0].set(title='RASTAMAT / Auditory toolbox (dct_type=2)')\n",
      "    >>> fig.colorbar(img, ax=[ax[0]])\n",
      "    >>> img2 = librosa.display.specshow(m_htk, x_axis='time', ax=ax[1])\n",
      "    >>> ax[1].set(title='HTK-style (dct_type=3)')\n",
      "    >>> fig.colorbar(img2, ax=[ax[1]])\n",
      "\n"
     ]
    }
   ],
   "source": [
    "help(librosa.feature.mfcc)"
   ]
  },
  {
   "cell_type": "code",
   "execution_count": 35,
   "id": "c6437d22",
   "metadata": {},
   "outputs": [
    {
     "data": {
      "image/png": "[encoded data removed]",
      "text/plain": [
       "<Figure size 432x288 with 1 Axes>"
      ]
     },
     "metadata": {},
     "output_type": "display_data"
    }
   ],
   "source": [
    "n_fft = 1*fs \n",
    "win_length = n_fft \n",
    "mfcc = librosa.feature.mfcc(signal, n_fft=n_fft, win_length=win_length, n_mfcc=10)\n",
    "\n",
    "librosa.display.specshow(mfcc, sr=fs, hop_length=hop_length)\n",
    "plt.title(\"Spectogram of the signal\")\n",
    "plt.xlabel(\"Time (s)\")\n",
    "plt.ylabel(\"Frequency (Hz)\")\n",
    "plt.show()"
   ]
  },
  {
   "cell_type": "code",
   "execution_count": null,
   "id": "18d60ce3",
   "metadata": {},
   "outputs": [],
   "source": []
  },
  {
   "cell_type": "code",
   "execution_count": null,
   "id": "b0cf2c57",
   "metadata": {},
   "outputs": [],
   "source": []
  },
  {
   "cell_type": "code",
   "execution_count": null,
   "id": "40cef373",
   "metadata": {},
   "outputs": [],
   "source": []
  },
  {
   "cell_type": "code",
   "execution_count": null,
   "id": "e1fec364",
   "metadata": {},
   "outputs": [],
   "source": []
  },
  {
   "cell_type": "code",
   "execution_count": null,
   "id": "f301e250",
   "metadata": {},
   "outputs": [],
   "source": []
  }
 ],
 "metadata": {
  "kernelspec": {
   "display_name": "Python 3 (ipykernel)",
   "language": "python",
   "name": "python3"
  },
  "language_info": {
   "codemirror_mode": {
    "name": "ipython",
    "version": 3
   },
   "file_extension": ".py",
   "mimetype": "text/x-python",
   "name": "python",
   "nbconvert_exporter": "python",
   "pygments_lexer": "ipython3",
   "version": "3.8.12"
  }
 },
 "nbformat": 4,
 "nbformat_minor": 5
}
