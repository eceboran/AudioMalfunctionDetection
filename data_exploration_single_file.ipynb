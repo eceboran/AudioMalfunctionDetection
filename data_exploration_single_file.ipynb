{
 "cells": [
  {
   "cell_type": "code",
   "execution_count": 42,
   "id": "f41f6fb4",
   "metadata": {},
   "outputs": [],
   "source": [
    "# Import necessary libraries\n",
    "import os\n",
    "import sys\n",
    "import numpy as np\n",
    "import librosa\n",
    "import librosa.display\n",
    "import matplotlib.pyplot as plt"
   ]
  },
  {
   "cell_type": "code",
   "execution_count": 2,
   "id": "b7c662ec",
   "metadata": {
    "scrolled": true
   },
   "outputs": [],
   "source": [
    "# File path\n",
    "file_dir = '.\\\\data\\\\source\\\\6_dB_slider\\\\slider\\\\id_00\\\\abnormal\\\\'\n",
    "file_name = '00000000.wav'\n",
    "file_path = os.path.join(file_dir, file_name)"
   ]
  },
  {
   "cell_type": "code",
   "execution_count": 3,
   "id": "b5253e2e",
   "metadata": {
    "scrolled": true
   },
   "outputs": [
    {
     "name": "stdout",
     "output_type": "stream",
     "text": [
      "Help on function load in module librosa.core.audio:\n",
      "\n",
      "load(path, sr=22050, mono=True, offset=0.0, duration=None, dtype=<class 'numpy.float32'>, res_type='kaiser_best')\n",
      "    Load an audio file as a floating point time series.\n",
      "    \n",
      "    Audio will be automatically resampled to the given rate\n",
      "    (default ``sr=22050``).\n",
      "    \n",
      "    To preserve the native sampling rate of the file, use ``sr=None``.\n",
      "    \n",
      "    Parameters\n",
      "    ----------\n",
      "    path : string, int, pathlib.Path or file-like object\n",
      "        path to the input file.\n",
      "    \n",
      "        Any codec supported by `soundfile` or `audioread` will work.\n",
      "    \n",
      "        Any string file paths, or any object implementing Python's\n",
      "        file interface (e.g. `pathlib.Path`) are supported as `path`.\n",
      "    \n",
      "        If the codec is supported by `soundfile`, then `path` can also be\n",
      "        an open file descriptor (int).\n",
      "    \n",
      "        On the contrary, if the codec is not supported by `soundfile`\n",
      "        (for example, MP3), then `path` must be a file path (string or `pathlib.Path`).\n",
      "    \n",
      "    sr   : number > 0 [scalar]\n",
      "        target sampling rate\n",
      "    \n",
      "        'None' uses the native sampling rate\n",
      "    \n",
      "    mono : bool\n",
      "        convert signal to mono\n",
      "    \n",
      "    offset : float\n",
      "        start reading after this time (in seconds)\n",
      "    \n",
      "    duration : float\n",
      "        only load up to this much audio (in seconds)\n",
      "    \n",
      "    dtype : numeric type\n",
      "        data type of ``y``\n",
      "    \n",
      "    res_type : str\n",
      "        resample type (see note)\n",
      "    \n",
      "        .. note::\n",
      "            By default, this uses `resampy`'s high-quality mode ('kaiser_best').\n",
      "    \n",
      "            For alternative resampling modes, see `resample`\n",
      "    \n",
      "        .. note::\n",
      "           `audioread` may truncate the precision of the audio data to 16 bits.\n",
      "    \n",
      "           See :ref:`ioformats` for alternate loading methods.\n",
      "    \n",
      "    \n",
      "    Returns\n",
      "    -------\n",
      "    y    : np.ndarray [shape=(n,) or (2, n)]\n",
      "        audio time series\n",
      "    \n",
      "    sr   : number > 0 [scalar]\n",
      "        sampling rate of ``y``\n",
      "    \n",
      "    \n",
      "    Examples\n",
      "    --------\n",
      "    >>> # Load an ogg vorbis file\n",
      "    >>> filename = librosa.ex('trumpet')\n",
      "    >>> y, sr = librosa.load(filename)\n",
      "    >>> y\n",
      "    array([-1.407e-03, -4.461e-04, ..., -3.042e-05,  1.277e-05],\n",
      "          dtype=float32)\n",
      "    >>> sr\n",
      "    22050\n",
      "    \n",
      "    >>> # Load a file and resample to 11 KHz\n",
      "    >>> filename = librosa.ex('trumpet')\n",
      "    >>> y, sr = librosa.load(filename, sr=11025)\n",
      "    >>> y\n",
      "    array([-8.746e-04, -3.363e-04, ..., -1.301e-05,  0.000e+00],\n",
      "          dtype=float32)\n",
      "    >>> sr\n",
      "    11025\n",
      "    \n",
      "    >>> # Load 5 seconds of a file, starting 15 seconds in\n",
      "    >>> filename = librosa.ex('brahms')\n",
      "    >>> y, sr = librosa.load(filename, offset=15.0, duration=5.0)\n",
      "    >>> y\n",
      "    array([0.146, 0.144, ..., 0.128, 0.015], dtype=float32)\n",
      "    >>> sr\n",
      "    22050\n",
      "\n"
     ]
    }
   ],
   "source": [
    "help(librosa.load)"
   ]
  },
  {
   "cell_type": "code",
   "execution_count": 4,
   "id": "b91c7294",
   "metadata": {
    "scrolled": true
   },
   "outputs": [
    {
     "name": "stdout",
     "output_type": "stream",
     "text": [
      "File duration: 10.0 s, fs=16000 Hz\n"
     ]
    }
   ],
   "source": [
    "# Load the audio file \n",
    "signal, fs = librosa.load(file_path, sr=None, mono=False)\n",
    "signal = signal[0, :]\n",
    "print(f\"File duration: {librosa.get_duration(filename=file_path)} s, fs={fs} Hz\")"
   ]
  },
  {
   "cell_type": "code",
   "execution_count": 5,
   "id": "d644f5ee",
   "metadata": {},
   "outputs": [
    {
     "name": "stdout",
     "output_type": "stream",
     "text": [
      "Help on function axes in module matplotlib.pyplot:\n",
      "\n",
      "axes(arg=None, **kwargs)\n",
      "    Add an axes to the current figure and make it the current axes.\n",
      "    \n",
      "    Call signatures::\n",
      "    \n",
      "        plt.axes()\n",
      "        plt.axes(rect, projection=None, polar=False, **kwargs)\n",
      "        plt.axes(ax)\n",
      "    \n",
      "    Parameters\n",
      "    ----------\n",
      "    arg : None or 4-tuple\n",
      "        The exact behavior of this function depends on the type:\n",
      "    \n",
      "        - *None*: A new full window axes is added using\n",
      "          ``subplot(**kwargs)``.\n",
      "        - 4-tuple of floats *rect* = ``[left, bottom, width, height]``.\n",
      "          A new axes is added with dimensions *rect* in normalized\n",
      "          (0, 1) units using `~.Figure.add_axes` on the current figure.\n",
      "    \n",
      "    projection : {None, 'aitoff', 'hammer', 'lambert', 'mollweide', 'polar', 'rectilinear', str}, optional\n",
      "        The projection type of the `~.axes.Axes`. *str* is the name of\n",
      "        a custom projection, see `~matplotlib.projections`. The default\n",
      "        None results in a 'rectilinear' projection.\n",
      "    \n",
      "    polar : bool, default: False\n",
      "        If True, equivalent to projection='polar'.\n",
      "    \n",
      "    sharex, sharey : `~.axes.Axes`, optional\n",
      "        Share the x or y `~matplotlib.axis` with sharex and/or sharey.\n",
      "        The axis will have the same limits, ticks, and scale as the axis\n",
      "        of the shared axes.\n",
      "    \n",
      "    label : str\n",
      "        A label for the returned axes.\n",
      "    \n",
      "    Returns\n",
      "    -------\n",
      "    `~.axes.Axes`, or a subclass of `~.axes.Axes`\n",
      "        The returned axes class depends on the projection used. It is\n",
      "        `~.axes.Axes` if rectilinear projection is used and\n",
      "        `.projections.polar.PolarAxes` if polar projection is used.\n",
      "    \n",
      "    Other Parameters\n",
      "    ----------------\n",
      "    **kwargs\n",
      "        This method also takes the keyword arguments for\n",
      "        the returned axes class. The keyword arguments for the\n",
      "        rectilinear axes class `~.axes.Axes` can be found in\n",
      "        the following table but there might also be other keyword\n",
      "        arguments if another projection is used, see the actual axes\n",
      "        class.\n",
      "    \n",
      "        Properties:\n",
      "        adjustable: {'box', 'datalim'}\n",
      "        agg_filter: a filter function, which takes a (m, n, 3) float array and a dpi value, and returns a (m, n, 3) array\n",
      "        alpha: scalar or None\n",
      "        anchor: (float, float) or {'C', 'SW', 'S', 'SE', 'E', 'NE', ...}\n",
      "        animated: bool\n",
      "        aspect: {'auto', 'equal'} or float\n",
      "        autoscale_on: bool\n",
      "        autoscalex_on: bool\n",
      "        autoscaley_on: bool\n",
      "        axes_locator: Callable[[Axes, Renderer], Bbox]\n",
      "        axisbelow: bool or 'line'\n",
      "        box_aspect: float or None\n",
      "        clip_box: `.Bbox`\n",
      "        clip_on: bool\n",
      "        clip_path: Patch or (Path, Transform) or None\n",
      "        facecolor or fc: color\n",
      "        figure: `.Figure`\n",
      "        frame_on: bool\n",
      "        gid: str\n",
      "        in_layout: bool\n",
      "        label: object\n",
      "        navigate: bool\n",
      "        navigate_mode: unknown\n",
      "        path_effects: `.AbstractPathEffect`\n",
      "        picker: None or bool or float or callable\n",
      "        position: [left, bottom, width, height] or `~matplotlib.transforms.Bbox`\n",
      "        prop_cycle: unknown\n",
      "        rasterization_zorder: float or None\n",
      "        rasterized: bool\n",
      "        sketch_params: (scale: float, length: float, randomness: float)\n",
      "        snap: bool or None\n",
      "        title: str\n",
      "        transform: `.Transform`\n",
      "        url: str\n",
      "        visible: bool\n",
      "        xbound: unknown\n",
      "        xlabel: str\n",
      "        xlim: (bottom: float, top: float)\n",
      "        xmargin: float greater than -0.5\n",
      "        xscale: {\"linear\", \"log\", \"symlog\", \"logit\", ...} or `.ScaleBase`\n",
      "        xticklabels: unknown\n",
      "        xticks: unknown\n",
      "        ybound: unknown\n",
      "        ylabel: str\n",
      "        ylim: (bottom: float, top: float)\n",
      "        ymargin: float greater than -0.5\n",
      "        yscale: {\"linear\", \"log\", \"symlog\", \"logit\", ...} or `.ScaleBase`\n",
      "        yticklabels: unknown\n",
      "        yticks: unknown\n",
      "        zorder: float\n",
      "    \n",
      "    Notes\n",
      "    -----\n",
      "    If the figure already has a axes with key (*args*,\n",
      "    *kwargs*) then it will simply make that axes current and\n",
      "    return it.  This behavior is deprecated. Meanwhile, if you do\n",
      "    not want this behavior (i.e., you want to force the creation of a\n",
      "    new axes), you must use a unique set of args and kwargs.  The axes\n",
      "    *label* attribute has been exposed for this purpose: if you want\n",
      "    two axes that are otherwise identical to be added to the figure,\n",
      "    make sure you give them unique labels.\n",
      "    \n",
      "    See Also\n",
      "    --------\n",
      "    .Figure.add_axes\n",
      "    .pyplot.subplot\n",
      "    .Figure.add_subplot\n",
      "    .Figure.subplots\n",
      "    .pyplot.subplots\n",
      "    \n",
      "    Examples\n",
      "    --------\n",
      "    ::\n",
      "    \n",
      "        # Creating a new full window axes\n",
      "        plt.axes()\n",
      "    \n",
      "        # Creating a new axes with specified dimensions and some kwargs\n",
      "        plt.axes((left, bottom, width, height), facecolor='w')\n",
      "\n"
     ]
    }
   ],
   "source": [
    "help(plt.axes)"
   ]
  },
  {
   "cell_type": "code",
   "execution_count": 6,
   "id": "f1d9970a",
   "metadata": {},
   "outputs": [
    {
     "name": "stderr",
     "output_type": "stream",
     "text": [
      "C:\\Users\\ecebo\\anaconda3\\envs\\audio_malfunction_detection\\lib\\site-packages\\librosa\\util\\utils.py:198: UserWarning: librosa.util.frame called with axis=-1 on a non-contiguous input. This will result in a copy.\n",
      "  warnings.warn(\n"
     ]
    },
    {
     "data": {
      "image/png": "[encoded data removed]",
      "text/plain": [
       "<Figure size 1152x360 with 1 Axes>"
      ]
     },
     "metadata": {
      "needs_background": "light"
     },
     "output_type": "display_data"
    }
   ],
   "source": [
    "# Plot the signal\n",
    "plt.figure(figsize=(16,5))\n",
    "plt.subplot(111)\n",
    "librosa.display.waveplot(signal, sr=fs)\n",
    "plt.title(f\"Audio file {file_path} with fs={fs} Hz\")\n",
    "plt.xlabel(\"Time (s)\")\n",
    "plt.ylabel(\"Amplitude\")\n",
    "plt.show()"
   ]
  },
  {
   "cell_type": "code",
   "execution_count": 7,
   "id": "a3b749b9",
   "metadata": {},
   "outputs": [
    {
     "data": {
      "image/png": "[encoded data removed]",
      "text/plain": [
       "<Figure size 432x288 with 1 Axes>"
      ]
     },
     "metadata": {
      "needs_background": "light"
     },
     "output_type": "display_data"
    }
   ],
   "source": [
    "# Compute and plot the FFT\n",
    "sig_fft = np.fft.fft(signal)\n",
    "freq = np.linspace(0, fs, len(sig_fft))\n",
    "\n",
    "sig_fft_left = sig_fft[:len(freq)//2]\n",
    "freq_left = freq[:len(freq)//2]\n",
    "\n",
    "plt.plot(freq_left, abs(sig_fft_left))\n",
    "plt.title(\"FFT of the signal\")\n",
    "plt.xlabel(\"Frequency (Hz)\")\n",
    "plt.ylabel(\"abs(Fs)\")\n",
    "plt.show()"
   ]
  },
  {
   "cell_type": "code",
   "execution_count": 15,
   "id": "fa48b276",
   "metadata": {},
   "outputs": [
    {
     "name": "stdout",
     "output_type": "stream",
     "text": [
      "Help on function mel in module librosa.filters:\n",
      "\n",
      "mel(sr, n_fft, n_mels=128, fmin=0.0, fmax=None, htk=False, norm='slaney', dtype=<class 'numpy.float32'>)\n",
      "    Create a Mel filter-bank.\n",
      "    \n",
      "    This produces a linear transformation matrix to project\n",
      "    FFT bins onto Mel-frequency bins.\n",
      "    \n",
      "    Parameters\n",
      "    ----------\n",
      "    sr        : number > 0 [scalar]\n",
      "        sampling rate of the incoming signal\n",
      "    \n",
      "    n_fft     : int > 0 [scalar]\n",
      "        number of FFT components\n",
      "    \n",
      "    n_mels    : int > 0 [scalar]\n",
      "        number of Mel bands to generate\n",
      "    \n",
      "    fmin      : float >= 0 [scalar]\n",
      "        lowest frequency (in Hz)\n",
      "    \n",
      "    fmax      : float >= 0 [scalar]\n",
      "        highest frequency (in Hz).\n",
      "        If `None`, use ``fmax = sr / 2.0``\n",
      "    \n",
      "    htk       : bool [scalar]\n",
      "        use HTK formula instead of Slaney\n",
      "    \n",
      "    norm : {None, 'slaney', or number} [scalar]\n",
      "        If 'slaney', divide the triangular mel weights by the width of the mel band\n",
      "        (area normalization).\n",
      "    \n",
      "        If numeric, use `librosa.util.normalize` to normalize each filter by to unit l_p norm.\n",
      "        See `librosa.util.normalize` for a full description of supported norm values\n",
      "        (including `+-np.inf`).\n",
      "    \n",
      "        Otherwise, leave all the triangles aiming for a peak value of 1.0\n",
      "    \n",
      "    dtype : np.dtype\n",
      "        The data type of the output basis.\n",
      "        By default, uses 32-bit (single-precision) floating point.\n",
      "    \n",
      "    Returns\n",
      "    -------\n",
      "    M         : np.ndarray [shape=(n_mels, 1 + n_fft/2)]\n",
      "        Mel transform matrix\n",
      "    \n",
      "    See also\n",
      "    --------\n",
      "    librosa.util.normalize\n",
      "    \n",
      "    Notes\n",
      "    -----\n",
      "    This function caches at level 10.\n",
      "    \n",
      "    Examples\n",
      "    --------\n",
      "    >>> melfb = librosa.filters.mel(22050, 2048)\n",
      "    >>> melfb\n",
      "    array([[ 0.   ,  0.016, ...,  0.   ,  0.   ],\n",
      "           [ 0.   ,  0.   , ...,  0.   ,  0.   ],\n",
      "           ...,\n",
      "           [ 0.   ,  0.   , ...,  0.   ,  0.   ],\n",
      "           [ 0.   ,  0.   , ...,  0.   ,  0.   ]])\n",
      "    \n",
      "    \n",
      "    Clip the maximum frequency to 8KHz\n",
      "    \n",
      "    >>> librosa.filters.mel(22050, 2048, fmax=8000)\n",
      "    array([[ 0.  ,  0.02, ...,  0.  ,  0.  ],\n",
      "           [ 0.  ,  0.  , ...,  0.  ,  0.  ],\n",
      "           ...,\n",
      "           [ 0.  ,  0.  , ...,  0.  ,  0.  ],\n",
      "           [ 0.  ,  0.  , ...,  0.  ,  0.  ]])\n",
      "    \n",
      "    \n",
      "    >>> import matplotlib.pyplot as plt\n",
      "    >>> fig, ax = plt.subplots()\n",
      "    >>> img = librosa.display.specshow(melfb, x_axis='linear', ax=ax)\n",
      "    >>> ax.set(ylabel='Mel filter', title='Mel filter bank')\n",
      "    >>> fig.colorbar(img, ax=ax)\n",
      "\n"
     ]
    }
   ],
   "source": [
    "help(librosa.filters.mel)"
   ]
  },
  {
   "cell_type": "code",
   "execution_count": 23,
   "id": "f47996c3",
   "metadata": {},
   "outputs": [
    {
     "name": "stdout",
     "output_type": "stream",
     "text": [
      "(10, 513)\n"
     ]
    },
    {
     "data": {
      "image/png": "[encoded data removed]",
      "text/plain": [
       "<Figure size 720x288 with 2 Axes>"
      ]
     },
     "metadata": {
      "needs_background": "light"
     },
     "output_type": "display_data"
    }
   ],
   "source": [
    "# Mel filter banks\n",
    "n_fft = 1024\n",
    "filter_banks = librosa.filters.mel(n_fft=n_fft, sr=fs, n_mels=10)\n",
    "print(filter_banks.shape)\n",
    "\n",
    "plt.figure(figsize=(10,4))\n",
    "librosa.display.specshow(filter_banks, sr=fs, x_axis='linear')\n",
    "plt.colorbar(format=\"%.2e\")\n",
    "plt.show()"
   ]
  },
  {
   "cell_type": "code",
   "execution_count": 28,
   "id": "90303af6",
   "metadata": {},
   "outputs": [
    {
     "name": "stdout",
     "output_type": "stream",
     "text": [
      "Help on function mel in module librosa.filters:\n",
      "\n",
      "mel(sr, n_fft, n_mels=128, fmin=0.0, fmax=None, htk=False, norm='slaney', dtype=<class 'numpy.float32'>)\n",
      "    Create a Mel filter-bank.\n",
      "    \n",
      "    This produces a linear transformation matrix to project\n",
      "    FFT bins onto Mel-frequency bins.\n",
      "    \n",
      "    Parameters\n",
      "    ----------\n",
      "    sr        : number > 0 [scalar]\n",
      "        sampling rate of the incoming signal\n",
      "    \n",
      "    n_fft     : int > 0 [scalar]\n",
      "        number of FFT components\n",
      "    \n",
      "    n_mels    : int > 0 [scalar]\n",
      "        number of Mel bands to generate\n",
      "    \n",
      "    fmin      : float >= 0 [scalar]\n",
      "        lowest frequency (in Hz)\n",
      "    \n",
      "    fmax      : float >= 0 [scalar]\n",
      "        highest frequency (in Hz).\n",
      "        If `None`, use ``fmax = sr / 2.0``\n",
      "    \n",
      "    htk       : bool [scalar]\n",
      "        use HTK formula instead of Slaney\n",
      "    \n",
      "    norm : {None, 'slaney', or number} [scalar]\n",
      "        If 'slaney', divide the triangular mel weights by the width of the mel band\n",
      "        (area normalization).\n",
      "    \n",
      "        If numeric, use `librosa.util.normalize` to normalize each filter by to unit l_p norm.\n",
      "        See `librosa.util.normalize` for a full description of supported norm values\n",
      "        (including `+-np.inf`).\n",
      "    \n",
      "        Otherwise, leave all the triangles aiming for a peak value of 1.0\n",
      "    \n",
      "    dtype : np.dtype\n",
      "        The data type of the output basis.\n",
      "        By default, uses 32-bit (single-precision) floating point.\n",
      "    \n",
      "    Returns\n",
      "    -------\n",
      "    M         : np.ndarray [shape=(n_mels, 1 + n_fft/2)]\n",
      "        Mel transform matrix\n",
      "    \n",
      "    See also\n",
      "    --------\n",
      "    librosa.util.normalize\n",
      "    \n",
      "    Notes\n",
      "    -----\n",
      "    This function caches at level 10.\n",
      "    \n",
      "    Examples\n",
      "    --------\n",
      "    >>> melfb = librosa.filters.mel(22050, 2048)\n",
      "    >>> melfb\n",
      "    array([[ 0.   ,  0.016, ...,  0.   ,  0.   ],\n",
      "           [ 0.   ,  0.   , ...,  0.   ,  0.   ],\n",
      "           ...,\n",
      "           [ 0.   ,  0.   , ...,  0.   ,  0.   ],\n",
      "           [ 0.   ,  0.   , ...,  0.   ,  0.   ]])\n",
      "    \n",
      "    \n",
      "    Clip the maximum frequency to 8KHz\n",
      "    \n",
      "    >>> librosa.filters.mel(22050, 2048, fmax=8000)\n",
      "    array([[ 0.  ,  0.02, ...,  0.  ,  0.  ],\n",
      "           [ 0.  ,  0.  , ...,  0.  ,  0.  ],\n",
      "           ...,\n",
      "           [ 0.  ,  0.  , ...,  0.  ,  0.  ],\n",
      "           [ 0.  ,  0.  , ...,  0.  ,  0.  ]])\n",
      "    \n",
      "    \n",
      "    >>> import matplotlib.pyplot as plt\n",
      "    >>> fig, ax = plt.subplots()\n",
      "    >>> img = librosa.display.specshow(melfb, x_axis='linear', ax=ax)\n",
      "    >>> ax.set(ylabel='Mel filter', title='Mel filter bank')\n",
      "    >>> fig.colorbar(img, ax=ax)\n",
      "\n"
     ]
    }
   ],
   "source": [
    "help(librosa.filters.mel)"
   ]
  },
  {
   "cell_type": "code",
   "execution_count": 8,
   "id": "59a9ae01",
   "metadata": {},
   "outputs": [
    {
     "name": "stdout",
     "output_type": "stream",
     "text": [
      "Help on function melspectrogram in module librosa.feature.spectral:\n",
      "\n",
      "melspectrogram(y=None, sr=22050, S=None, n_fft=2048, hop_length=512, win_length=None, window='hann', center=True, pad_mode='reflect', power=2.0, **kwargs)\n",
      "    Compute a mel-scaled spectrogram.\n",
      "    \n",
      "    If a spectrogram input ``S`` is provided, then it is mapped directly onto\n",
      "    the mel basis by ``mel_f.dot(S)``.\n",
      "    \n",
      "    If a time-series input ``y, sr`` is provided, then its magnitude spectrogram\n",
      "    ``S`` is first computed, and then mapped onto the mel scale by\n",
      "    ``mel_f.dot(S**power)``.\n",
      "    \n",
      "    By default, ``power=2`` operates on a power spectrum.\n",
      "    \n",
      "    Parameters\n",
      "    ----------\n",
      "    y : np.ndarray [shape=(n,)] or None\n",
      "        audio time-series\n",
      "    \n",
      "    sr : number > 0 [scalar]\n",
      "        sampling rate of ``y``\n",
      "    \n",
      "    S : np.ndarray [shape=(d, t)]\n",
      "        spectrogram\n",
      "    \n",
      "    n_fft : int > 0 [scalar]\n",
      "        length of the FFT window\n",
      "    \n",
      "    hop_length : int > 0 [scalar]\n",
      "        number of samples between successive frames.\n",
      "        See `librosa.stft`\n",
      "    \n",
      "    win_length : int <= n_fft [scalar]\n",
      "        Each frame of audio is windowed by `window()`.\n",
      "        The window will be of length `win_length` and then padded\n",
      "        with zeros to match ``n_fft``.\n",
      "    \n",
      "        If unspecified, defaults to ``win_length = n_fft``.\n",
      "    \n",
      "    window : string, tuple, number, function, or np.ndarray [shape=(n_fft,)]\n",
      "        - a window specification (string, tuple, or number);\n",
      "          see `scipy.signal.get_window`\n",
      "        - a window function, such as `scipy.signal.windows.hann`\n",
      "        - a vector or array of length ``n_fft``\n",
      "    \n",
      "        .. see also:: `librosa.filters.get_window`\n",
      "    \n",
      "    center : boolean\n",
      "        - If `True`, the signal ``y`` is padded so that frame\n",
      "          ``t`` is centered at ``y[t * hop_length]``.\n",
      "        - If `False`, then frame ``t`` begins at ``y[t * hop_length]``\n",
      "    \n",
      "    pad_mode : string\n",
      "        If ``center=True``, the padding mode to use at the edges of the signal.\n",
      "    \n",
      "        By default, STFT uses reflection padding.\n",
      "    \n",
      "    power : float > 0 [scalar]\n",
      "        Exponent for the magnitude melspectrogram.\n",
      "        e.g., 1 for energy, 2 for power, etc.\n",
      "    \n",
      "    kwargs : additional keyword arguments\n",
      "        Mel filter bank parameters.\n",
      "    \n",
      "        See `librosa.filters.mel` for details.\n",
      "    \n",
      "    Returns\n",
      "    -------\n",
      "    S : np.ndarray [shape=(n_mels, t)]\n",
      "        Mel spectrogram\n",
      "    \n",
      "    See Also\n",
      "    --------\n",
      "    librosa.filters.mel\n",
      "        Mel filter bank construction\n",
      "    \n",
      "    librosa.stft\n",
      "        Short-time Fourier Transform\n",
      "    \n",
      "    \n",
      "    Examples\n",
      "    --------\n",
      "    >>> y, sr = librosa.load(librosa.ex('trumpet'))\n",
      "    >>> librosa.feature.melspectrogram(y=y, sr=sr)\n",
      "    array([[3.837e-06, 1.451e-06, ..., 8.352e-14, 1.296e-11],\n",
      "           [2.213e-05, 7.866e-06, ..., 8.532e-14, 1.329e-11],\n",
      "           ...,\n",
      "           [1.115e-05, 5.192e-06, ..., 3.675e-08, 2.470e-08],\n",
      "           [6.473e-07, 4.402e-07, ..., 1.794e-08, 2.908e-08]],\n",
      "          dtype=float32)\n",
      "    \n",
      "    Using a pre-computed power spectrogram would give the same result:\n",
      "    \n",
      "    >>> D = np.abs(librosa.stft(y))**2\n",
      "    >>> S = librosa.feature.melspectrogram(S=D, sr=sr)\n",
      "    \n",
      "    Display of mel-frequency spectrogram coefficients, with custom\n",
      "    arguments for mel filterbank construction (default is fmax=sr/2):\n",
      "    \n",
      "    >>> # Passing through arguments to the Mel filters\n",
      "    >>> S = librosa.feature.melspectrogram(y=y, sr=sr, n_mels=128,\n",
      "    ...                                     fmax=8000)\n",
      "    \n",
      "    >>> import matplotlib.pyplot as plt\n",
      "    >>> fig, ax = plt.subplots()\n",
      "    >>> S_dB = librosa.power_to_db(S, ref=np.max)\n",
      "    >>> img = librosa.display.specshow(S_dB, x_axis='time',\n",
      "    ...                          y_axis='mel', sr=sr,\n",
      "    ...                          fmax=8000, ax=ax)\n",
      "    >>> fig.colorbar(img, ax=ax, format='%+2.0f dB')\n",
      "    >>> ax.set(title='Mel-frequency spectrogram')\n",
      "\n"
     ]
    }
   ],
   "source": [
    "help(librosa.feature.melspectrogram)"
   ]
  },
  {
   "cell_type": "code",
   "execution_count": 43,
   "id": "b3a7f638",
   "metadata": {},
   "outputs": [
    {
     "data": {
      "text/plain": [
       "2.220446049250313e-16"
      ]
     },
     "execution_count": 43,
     "metadata": {},
     "output_type": "execute_result"
    }
   ],
   "source": []
  },
  {
   "cell_type": "code",
   "execution_count": 29,
   "id": "d8b08eae",
   "metadata": {},
   "outputs": [
    {
     "name": "stdout",
     "output_type": "stream",
     "text": [
      "Help on function power_to_db in module librosa.core.spectrum:\n",
      "\n",
      "power_to_db(S, ref=1.0, amin=1e-10, top_db=80.0)\n",
      "    Convert a power spectrogram (amplitude squared) to decibel (dB) units\n",
      "    \n",
      "    This computes the scaling ``10 * log10(S / ref)`` in a numerically\n",
      "    stable way.\n",
      "    \n",
      "    Parameters\n",
      "    ----------\n",
      "    S : np.ndarray\n",
      "        input power\n",
      "    \n",
      "    ref : scalar or callable\n",
      "        If scalar, the amplitude ``abs(S)`` is scaled relative to ``ref``::\n",
      "    \n",
      "            10 * log10(S / ref)\n",
      "    \n",
      "        Zeros in the output correspond to positions where ``S == ref``.\n",
      "    \n",
      "        If callable, the reference value is computed as ``ref(S)``.\n",
      "    \n",
      "    amin : float > 0 [scalar]\n",
      "        minimum threshold for ``abs(S)`` and ``ref``\n",
      "    \n",
      "    top_db : float >= 0 [scalar]\n",
      "        threshold the output at ``top_db`` below the peak:\n",
      "        ``max(10 * log10(S)) - top_db``\n",
      "    \n",
      "    Returns\n",
      "    -------\n",
      "    S_db : np.ndarray\n",
      "        ``S_db ~= 10 * log10(S) - 10 * log10(ref)``\n",
      "    \n",
      "    See Also\n",
      "    --------\n",
      "    perceptual_weighting\n",
      "    db_to_power\n",
      "    amplitude_to_db\n",
      "    db_to_amplitude\n",
      "    \n",
      "    Notes\n",
      "    -----\n",
      "    This function caches at level 30.\n",
      "    \n",
      "    \n",
      "    Examples\n",
      "    --------\n",
      "    Get a power spectrogram from a waveform ``y``\n",
      "    \n",
      "    >>> y, sr = librosa.load(librosa.ex('trumpet'))\n",
      "    >>> S = np.abs(librosa.stft(y))\n",
      "    >>> librosa.power_to_db(S**2)\n",
      "    array([[-41.809, -41.809, ..., -41.809, -41.809],\n",
      "           [-41.809, -41.809, ..., -41.809, -41.809],\n",
      "           ...,\n",
      "           [-41.809, -41.809, ..., -41.809, -41.809],\n",
      "           [-41.809, -41.809, ..., -41.809, -41.809]], dtype=float32)\n",
      "    \n",
      "    Compute dB relative to peak power\n",
      "    \n",
      "    >>> librosa.power_to_db(S**2, ref=np.max)\n",
      "    array([[-80., -80., ..., -80., -80.],\n",
      "           [-80., -80., ..., -80., -80.],\n",
      "           ...,\n",
      "           [-80., -80., ..., -80., -80.],\n",
      "           [-80., -80., ..., -80., -80.]], dtype=float32)\n",
      "    \n",
      "    Or compare to median power\n",
      "    \n",
      "    >>> librosa.power_to_db(S**2, ref=np.median)\n",
      "    array([[16.578, 16.578, ..., 16.578, 16.578],\n",
      "           [16.578, 16.578, ..., 16.578, 16.578],\n",
      "           ...,\n",
      "           [16.578, 16.578, ..., 16.578, 16.578],\n",
      "           [16.578, 16.578, ..., 16.578, 16.578]], dtype=float32)\n",
      "    \n",
      "    \n",
      "    And plot the results\n",
      "    \n",
      "    >>> import matplotlib.pyplot as plt\n",
      "    >>> fig, ax = plt.subplots(nrows=2, sharex=True, sharey=True)\n",
      "    >>> imgpow = librosa.display.specshow(S**2, sr=sr, y_axis='log', x_axis='time',\n",
      "    ...                                   ax=ax[0])\n",
      "    >>> ax[0].set(title='Power spectrogram')\n",
      "    >>> ax[0].label_outer()\n",
      "    >>> imgdb = librosa.display.specshow(librosa.power_to_db(S**2, ref=np.max),\n",
      "    ...                                  sr=sr, y_axis='log', x_axis='time', ax=ax[1])\n",
      "    >>> ax[1].set(title='Log-Power spectrogram')\n",
      "    >>> fig.colorbar(imgpow, ax=ax[0])\n",
      "    >>> fig.colorbar(imgdb, ax=ax[1], format=\"%+2.0f dB\")\n",
      "\n"
     ]
    }
   ],
   "source": [
    "help(librosa.power_to_db)"
   ]
  },
  {
   "cell_type": "code",
   "execution_count": 40,
   "id": "e4b05acb",
   "metadata": {},
   "outputs": [
    {
     "data": {
      "text/plain": [
       "inf"
      ]
     },
     "execution_count": 40,
     "metadata": {},
     "output_type": "execute_result"
    }
   ],
   "source": []
  },
  {
   "cell_type": "code",
   "execution_count": 55,
   "id": "e602e5f6",
   "metadata": {},
   "outputs": [
    {
     "name": "stdout",
     "output_type": "stream",
     "text": [
      "{'window': 0.064, 'window_length': 1024, 'overlap': 0.5, 'overlap_length': 512, 'hop_length': 512, 'n_fft': 1024}\n",
      "Size of mel_spect: (64, 313), total number of points: 20032\n"
     ]
    },
    {
     "data": {
      "image/png": "[encoded data removed]",
      "text/plain": [
       "<Figure size 432x288 with 2 Axes>"
      ]
     },
     "metadata": {
      "needs_background": "light"
     },
     "output_type": "display_data"
    }
   ],
   "source": [
    "def get_melspectogram(file_path, window, overlap=None, n_fft=None, n_mels=32):\n",
    "    # Load the signal\n",
    "    signal, fs = librosa.load(file_path, sr=None)\n",
    "    \n",
    "    # Window length in samples\n",
    "    window_length = int(window*fs)\n",
    "    \n",
    "    # Default overlap is 50% of the window size\n",
    "    if overlap==None:\n",
    "        overlap = 0.5\n",
    "    \n",
    "    # Overlap in samples\n",
    "    overlap_length = int(window_length*overlap)\n",
    "    \n",
    "    # Hop length in samples\n",
    "    hop_length = window_length-overlap_length\n",
    "    \n",
    "    # Default n_fft is the smallest power of 2 larger than win_length\n",
    "    if n_fft==None:\n",
    "        n_fft = int(2**np.ceil(np.log2(window_length)))\n",
    "   \n",
    "    # Compute mel spectogram\n",
    "    mel_spect = librosa.feature.melspectrogram(y=signal, sr=fs, \n",
    "                                               win_length=window_length, \n",
    "                                               hop_length=hop_length,\n",
    "                                               n_fft=n_fft,\n",
    "                                               n_mels=n_mels)\n",
    "    # Mel spectogram in decibels\n",
    "    mel_spect_db = librosa.power_to_db(mel_spect, ref=1.0, amin=sys.float_info.epsilon, top_db=np.inf)\n",
    "\n",
    "    params = {}\n",
    "    params['window'] = window\n",
    "    params['window_length'] = window_length\n",
    "    params['overlap'] = overlap\n",
    "    params['overlap_length'] = overlap_length\n",
    "    params['hop_length'] = hop_length\n",
    "    params['n_fft'] = n_fft\n",
    "    \n",
    "    return mel_spect, mel_spect_db, params\n",
    "\n",
    "# Compute and plot mel spectogram\n",
    "window = 1024/fs # 2\n",
    "n_mels = 64\n",
    "mel_spect, mel_spect_db, params = get_melspectogram(file_path, window=window, overlap=0.5, n_mels=n_mels) \n",
    "\n",
    "print(params)\n",
    "\n",
    "print(f\"Size of mel_spect: {mel_spect.shape}, total number of points: {mel_spect.size}\")\n",
    "librosa.display.specshow(mel_spect_db, sr=fs, hop_length=params['overlap_length'], x_axis='time', y_axis='mel');\n",
    "# times = librosa.times_like(mel_spect, sr=fs, hop_length=params['overlap_length'])\n",
    "# librosa.display.specshow(mel_spect_db, sr=fs, hop_length=params['overlap_length'], x_coords = times, y_axis='mel');\n",
    "\n",
    "plt.title(f\"Mel Spectrogram, window size {params['window']} s\");\n",
    "plt.colorbar(format='%+2.0f dB');"
   ]
  },
  {
   "cell_type": "code",
   "execution_count": 67,
   "id": "9f619eac",
   "metadata": {},
   "outputs": [
    {
     "data": {
      "text/plain": [
       "(309, 320)"
      ]
     },
     "execution_count": 67,
     "metadata": {},
     "output_type": "execute_result"
    }
   ],
   "source": [
    "n_frames = 5\n",
    "dims = n_mels * n_frames\n",
    "vectorarray_size = len(mel_spect_db[0, :]) - n_frames + 1\n",
    "\n",
    "vectorarray = np.zeros((vectorarray_size, dims), float)\n",
    "for t in range(n_frames):\n",
    "    vectorarray[:, n_mels * t: n_mels * (t + 1)] = mel_spect_db[:, t: t + vectorarray_size].T\n",
    "\n",
    "\n",
    "vectorarray.shape\n"
   ]
  },
  {
   "cell_type": "code",
   "execution_count": null,
   "id": "ef348018",
   "metadata": {},
   "outputs": [],
   "source": []
  },
  {
   "cell_type": "code",
   "execution_count": null,
   "id": "ed79fd01",
   "metadata": {},
   "outputs": [],
   "source": []
  },
  {
   "cell_type": "code",
   "execution_count": 11,
   "id": "c6437d22",
   "metadata": {},
   "outputs": [
    {
     "data": {
      "image/png": "[encoded data removed]",
      "text/plain": [
       "<Figure size 432x288 with 1 Axes>"
      ]
     },
     "metadata": {},
     "output_type": "display_data"
    }
   ],
   "source": [
    "win_length = int(1*fs)\n",
    "n_fft = win_length\n",
    "hop_length = win_length//2\n",
    "mfcc = librosa.feature.mfcc(signal, n_fft=n_fft, win_length=win_length, hop_length=hop_length, n_mfcc=10)\n",
    "\n",
    "librosa.display.specshow(mfcc, sr=fs, hop_length=hop_length)\n",
    "plt.title(\"Spectogram of the signal\")\n",
    "plt.xlabel(\"Time (s)\")\n",
    "plt.ylabel(\"Frequency (Hz)\")\n",
    "plt.show()"
   ]
  },
  {
   "cell_type": "code",
   "execution_count": 12,
   "id": "d6883057",
   "metadata": {},
   "outputs": [
    {
     "data": {
      "text/plain": [
       "(10, 21)"
      ]
     },
     "execution_count": 12,
     "metadata": {},
     "output_type": "execute_result"
    }
   ],
   "source": [
    "mfcc.shape"
   ]
  },
  {
   "cell_type": "code",
   "execution_count": null,
   "id": "18d60ce3",
   "metadata": {},
   "outputs": [],
   "source": []
  },
  {
   "cell_type": "code",
   "execution_count": null,
   "id": "b0cf2c57",
   "metadata": {},
   "outputs": [],
   "source": []
  },
  {
   "cell_type": "code",
   "execution_count": null,
   "id": "40cef373",
   "metadata": {},
   "outputs": [],
   "source": []
  },
  {
   "cell_type": "code",
   "execution_count": null,
   "id": "e1fec364",
   "metadata": {},
   "outputs": [],
   "source": []
  },
  {
   "cell_type": "code",
   "execution_count": null,
   "id": "f301e250",
   "metadata": {},
   "outputs": [],
   "source": []
  }
 ],
 "metadata": {
  "kernelspec": {
   "display_name": "Python 3 (ipykernel)",
   "language": "python",
   "name": "python3"
  },
  "language_info": {
   "codemirror_mode": {
    "name": "ipython",
    "version": 3
   },
   "file_extension": ".py",
   "mimetype": "text/x-python",
   "name": "python",
   "nbconvert_exporter": "python",
   "pygments_lexer": "ipython3",
   "version": "3.8.12"
  }
 },
 "nbformat": 4,
 "nbformat_minor": 5
}
